{
 "metadata": {
  "language": "Julia",
  "name": "",
  "signature": "sha256:c7b83f3f4992b1e2da4eb17f5d3790586496e0233b4bff4bb95f089b5d3a6baa"
 },
 "nbformat": 3,
 "nbformat_minor": 0,
 "worksheets": [
  {
   "cells": [
    {
     "cell_type": "code",
     "collapsed": false,
     "input": [
      "include(\"CTMDP.jl\")"
     ],
     "language": "python",
     "metadata": {},
     "outputs": [
      {
       "metadata": {},
       "output_type": "pyout",
       "prompt_number": 1,
       "text": [
        "gaussSeidel! (generic function with 1 method)"
       ]
      }
     ],
     "prompt_number": 1
    },
    {
     "cell_type": "code",
     "collapsed": false,
     "input": [
      "function uniformize(Q)\n",
      "    T = copy(Q)\n",
      "    dQ = diag(Q);\n",
      "    \u03ba = -minimum(dQ)\n",
      "    Isp = spdiagm(ones(size(Q,1)))\n",
      "    T = Q/\u03ba + Isp\n",
      "    #p = T * ones(size(T,1))\n",
      "    #T = T * spdiagm(1./p) #normalize to 1\n",
      "end"
     ],
     "language": "python",
     "metadata": {},
     "outputs": [
      {
       "metadata": {},
       "output_type": "pyout",
       "prompt_number": 4,
       "text": [
        "uniformize (generic function with 1 method)"
       ]
      }
     ],
     "prompt_number": 4
    },
    {
     "cell_type": "code",
     "collapsed": false,
     "input": [
      "function sample(Q, dt)\n",
      "    Isp = spdiagm(ones(size(Q,1)))\n",
      "    M = Isp + Q * dt\n",
      "end"
     ],
     "language": "python",
     "metadata": {},
     "outputs": [
      {
       "metadata": {},
       "output_type": "pyout",
       "prompt_number": 5,
       "text": [
        "sample (generic function with 1 method)"
       ]
      }
     ],
     "prompt_number": 5
    },
    {
     "cell_type": "code",
     "collapsed": false,
     "input": [
      "\u03b1 = 0.95; \u03b2 = 1;"
     ],
     "language": "python",
     "metadata": {},
     "outputs": [],
     "prompt_number": 2
    },
    {
     "cell_type": "code",
     "collapsed": false,
     "input": [
      "P0 = spzeros(5,5);\n",
      "P0[4,1] = P0[5,1] = P0[3,4] = P0[2,5] = 1;"
     ],
     "language": "python",
     "metadata": {},
     "outputs": [],
     "prompt_number": 3
    },
    {
     "cell_type": "code",
     "collapsed": false,
     "input": [
      "A = Symbol[:\u2205, :L, :R, :S];"
     ],
     "language": "python",
     "metadata": {},
     "outputs": [],
     "prompt_number": 4
    },
    {
     "cell_type": "code",
     "collapsed": false,
     "input": [
      "P = (Symbol => typeof(P0))[a => copy(P0) for a in A];"
     ],
     "language": "python",
     "metadata": {},
     "outputs": [],
     "prompt_number": 5
    },
    {
     "cell_type": "code",
     "collapsed": false,
     "input": [
      "P[:\u2205][1,2] = 0.5; P[:\u2205][1,3] = 0.5;\n",
      "P[:S][1,2] = 0.5; P[:S][1,3] = 0.5;\n",
      "P[:R][1,2] = 1-\u03b1; P[:R][1,3] = \u03b1;\n",
      "P[:L][1,2] = \u03b1;   P[:L][1,3] = 1-\u03b1;\n"
     ],
     "language": "python",
     "metadata": {},
     "outputs": [],
     "prompt_number": 6
    },
    {
     "cell_type": "code",
     "collapsed": false,
     "input": [
      "M0 = spdiagm([0.5,1.,1.,1.,1.]);\n",
      "M = (Symbol => typeof(M0))[a => copy(M0) for a in A];\n",
      "M[:S] = spdiagm(0.5*ones(5));"
     ],
     "language": "python",
     "metadata": {},
     "outputs": [],
     "prompt_number": 7
    },
    {
     "cell_type": "code",
     "collapsed": false,
     "input": [
      "Isp = spdiagm(ones(5));"
     ],
     "language": "python",
     "metadata": {},
     "outputs": [],
     "prompt_number": 8
    },
    {
     "cell_type": "code",
     "collapsed": false,
     "input": [
      "#Note that we are using the TRANSPOSE!!\n",
      "Qt = (Symbol => typeof(M0))[ a => (M[a]*(P[a] - Isp))' for a in A];"
     ],
     "language": "python",
     "metadata": {},
     "outputs": [],
     "prompt_number": 9
    },
    {
     "cell_type": "code",
     "collapsed": false,
     "input": [
      "Aj = Vector{Symbol}[ [a, :\u2205] for a in A ];"
     ],
     "language": "python",
     "metadata": {},
     "outputs": [],
     "prompt_number": 10
    },
    {
     "cell_type": "code",
     "collapsed": false,
     "input": [
      "Qt_joint = (Vector{Symbol} => typeof(M0))[ a => kronSum(Qt[a[1]], Qt[a[2]]) for a in Aj]"
     ],
     "language": "python",
     "metadata": {},
     "outputs": [
      {
       "metadata": {},
       "output_type": "pyout",
       "prompt_number": 11,
       "text": [
        "Dict{Array{Symbol,1},SparseMatrixCSC{Float64,Int64}} with 4 entries:\n",
        "  [:L,:\u2205] => \u2026\n",
        "  [:\u2205,:\u2205] => \u2026\n",
        "  [:S,:\u2205] => \u2026\n",
        "  [:R,:\u2205] => \u2026"
       ]
      }
     ],
     "prompt_number": 11
    },
    {
     "cell_type": "code",
     "collapsed": false,
     "input": [
      "Qt_joint[[:R, :\u2205]][1,:]"
     ],
     "language": "python",
     "metadata": {},
     "outputs": [
      {
       "metadata": {},
       "output_type": "pyout",
       "prompt_number": 12,
       "text": [
        "1x25 sparse matrix with 5 Float64 entries:\n",
        "\t[1 ,  1]  =  -1.0\n",
        "\t[1 ,  4]  =  1.0\n",
        "\t[1 ,  5]  =  1.0\n",
        "\t[1 , 16]  =  1.0\n",
        "\t[1 , 21]  =  1.0"
       ]
      }
     ],
     "prompt_number": 12
    },
    {
     "cell_type": "code",
     "collapsed": false,
     "input": [
      "include(\"CTMDP.jl\")"
     ],
     "language": "python",
     "metadata": {},
     "outputs": [
      {
       "output_type": "stream",
       "stream": "stderr",
       "text": [
        "Warning: redefining constant g_Sshort\n",
        "Warning: redefining constant g_s2shortidx_dict\n"
       ]
      },
      {
       "metadata": {},
       "output_type": "pyout",
       "prompt_number": 16,
       "text": [
        "gaussSeidel! (generic function with 1 method)"
       ]
      }
     ],
     "prompt_number": 16
    },
    {
     "cell_type": "code",
     "collapsed": false,
     "input": [
      "Vshort = ones(length(g_Sshort));\n",
      "Aopt = [g_noaction for i in 1:length(g_Sshort)];"
     ],
     "language": "python",
     "metadata": {},
     "outputs": [],
     "prompt_number": 30
    },
    {
     "cell_type": "code",
     "collapsed": false,
     "input": [
      "Aopt = gaussSeidel!(Vshort);\n",
      "Vshort"
     ],
     "language": "python",
     "metadata": {},
     "outputs": [
      {
       "output_type": "stream",
       "stream": "stdout",
       "text": [
        "stopping after 1"
       ]
      },
      {
       "output_type": "stream",
       "stream": "stdout",
       "text": [
        "\n",
        "elapsed time: 0.002962936 seconds (451000 bytes allocated)\n"
       ]
      },
      {
       "metadata": {},
       "output_type": "pyout",
       "prompt_number": 39,
       "text": [
        "15-element Array{Float64,1}:\n",
        " -5198.4  \n",
        "  -670.424\n",
        "  -670.424\n",
        " -1462.23 \n",
        " -1462.23 \n",
        " -4016.94 \n",
        "  -313.03 \n",
        "  -477.796\n",
        " -1131.13 \n",
        " -4016.94 \n",
        " -1131.13 \n",
        "  -477.796\n",
        " -4233.88 \n",
        "  -898.425\n",
        " -4233.88 "
       ]
      }
     ],
     "prompt_number": 39
    },
    {
     "cell_type": "code",
     "collapsed": false,
     "input": [
      "Aopt"
     ],
     "language": "python",
     "metadata": {},
     "outputs": [
      {
       "metadata": {},
       "output_type": "pyout",
       "prompt_number": 40,
       "text": [
        "15-element Array{Any,1}:\n",
        " (0,:\u2205)\n",
        " (1,:R)\n",
        " (1,:L)\n",
        " (2,:S)\n",
        " (2,:S)\n",
        " (0,:\u2205)\n",
        " (0,:\u2205)\n",
        " (1,:S)\n",
        " (1,:S)\n",
        " (0,:\u2205)\n",
        " (1,:S)\n",
        " (1,:S)\n",
        " (0,:\u2205)\n",
        " (1,:S)\n",
        " (0,:\u2205)"
       ]
      }
     ],
     "prompt_number": 40
    },
    {
     "cell_type": "code",
     "collapsed": false,
     "input": [
      "V = ones(25)\n",
      "@time for i in 1:100\n",
      "    maxVchange = 0.\n",
      "    for (si, s) in enumerate(g_Sshort)\n",
      "        \u03b2 = 1./0.95\n",
      "        aopt = g_noaction\n",
      "        Qmax = QVeval(s, g_noaction, Qt_joint, V, \u03b2)\n",
      "        for a in product([1,2], [:L, :R, :S])\n",
      "            Qa = QVeval(s, a, Qt_joint, V, \u03b2)\n",
      "            if Qa > Qmax\n",
      "                Qmax = Qa\n",
      "                aopt = a\n",
      "            end\n",
      "        end\n",
      "\n",
      "        maxVchange = max(maxVchange, abs(V[s2longidx(s)] - Qmax))\n",
      "        #this is hacky for now ...\n",
      "        #Ideally V should only be the size of g_S!\n",
      "        for s_same in permutations(s)\n",
      "            si_same = s2longidx(s_same)\n",
      "            V[si_same] = Qmax \n",
      "        end\n",
      "        Aopt[si] = aopt\n",
      "    end\n",
      "    if(maxVchange < 1)\n",
      "        println(\"stopping after \", i)\n",
      "        break\n",
      "    end\n",
      "end\n",
      "V"
     ],
     "language": "python",
     "metadata": {},
     "outputs": [
      {
       "output_type": "stream",
       "stream": "stdout",
       "text": [
        "stopping after 9"
       ]
      },
      {
       "output_type": "stream",
       "stream": "stdout",
       "text": [
        "\n",
        "elapsed time: 0.022731843 seconds (4152464 bytes allocated)\n"
       ]
      },
      {
       "metadata": {},
       "output_type": "pyout",
       "prompt_number": 34,
       "text": [
        "25-element Array{Float64,1}:\n",
        " -5190.48     \n",
        "  -681.235    \n",
        "  -627.746    \n",
        " -1340.8      \n",
        " -1325.62     \n",
        "  -681.235    \n",
        " -3605.47     \n",
        "     0.0222434\n",
        "  -503.334    \n",
        "  -361.545    \n",
        "  -627.746    \n",
        "     0.0222434\n",
        " -3687.14     \n",
        " -1007.32     \n",
        "  -482.406    \n",
        " -1340.8      \n",
        "  -503.334    \n",
        " -1007.32     \n",
        " -4154.32     \n",
        "  -821.121    \n",
        " -1325.62     \n",
        "  -361.545    \n",
        "  -482.406    \n",
        "  -821.121    \n",
        " -4144.37     "
       ]
      }
     ],
     "prompt_number": 34
    },
    {
     "cell_type": "code",
     "collapsed": false,
     "input": [
      "Aopt"
     ],
     "language": "python",
     "metadata": {},
     "outputs": [
      {
       "metadata": {},
       "output_type": "pyout",
       "prompt_number": 35,
       "text": [
        "15-element Array{Any,1}:\n",
        " (0,:\u2205)\n",
        " (1,:L)\n",
        " (1,:R)\n",
        " (2,:S)\n",
        " (2,:S)\n",
        " (0,:\u2205)\n",
        " (0,:\u2205)\n",
        " (1,:S)\n",
        " (2,:S)\n",
        " (0,:\u2205)\n",
        " (1,:S)\n",
        " (1,:S)\n",
        " (0,:\u2205)\n",
        " (2,:S)\n",
        " (0,:\u2205)"
       ]
      }
     ],
     "prompt_number": 35
    },
    {
     "cell_type": "code",
     "collapsed": false,
     "input": [
      "g_S"
     ],
     "language": "python",
     "metadata": {},
     "outputs": [
      {
       "metadata": {},
       "output_type": "pyout",
       "prompt_number": 247,
       "text": [
        "15-element Array{Array{Int64,1},1}:\n",
        " [1,1]\n",
        " [1,2]\n",
        " [1,3]\n",
        " [1,4]\n",
        " [1,5]\n",
        " [2,2]\n",
        " [2,3]\n",
        " [2,4]\n",
        " [2,5]\n",
        " [3,3]\n",
        " [3,4]\n",
        " [3,5]\n",
        " [4,4]\n",
        " [4,5]\n",
        " [5,5]"
       ]
      }
     ],
     "prompt_number": 247
    },
    {
     "cell_type": "code",
     "collapsed": false,
     "input": [
      "r([3,4], (1,:S))"
     ],
     "language": "python",
     "metadata": {},
     "outputs": [
      {
       "metadata": {},
       "output_type": "pyout",
       "prompt_number": 252,
       "text": [
        "-100.0"
       ]
      }
     ],
     "prompt_number": 252
    },
    {
     "cell_type": "code",
     "collapsed": false,
     "input": [
      "QVeval([3, 4],(2,:S),Qt_joint,V, 1./0.95)"
     ],
     "language": "python",
     "metadata": {},
     "outputs": [
      {
       "metadata": {},
       "output_type": "pyout",
       "prompt_number": 250,
       "text": [
        "-1125.920897867571"
       ]
      }
     ],
     "prompt_number": 250
    },
    {
     "cell_type": "code",
     "collapsed": false,
     "input": [
      "@time for s in product(1:5,1:5)\n",
      "    s = [s[1],s[2]]\n",
      "    @show QVeval([1, 3],(1, :L),Qt_joint,V, 0.)\n",
      "end"
     ],
     "language": "python",
     "metadata": {},
     "outputs": [
      {
       "output_type": "stream",
       "stream": "stdout",
       "text": [
        "QVeval([1,3],(1,:L),Qt_joint,V,0.0) => 1.0"
       ]
      },
      {
       "output_type": "stream",
       "stream": "stdout",
       "text": [
        "\n",
        "QVeval([1,3],(1,:L),Qt_joint,V,0.0) => 1.0\n",
        "QVeval([1,3],(1,:L),Qt_joint,V,0.0) => 1.0\n",
        "QVeval([1,3],(1,:L),Qt_joint,V,0.0) => 1.0\n",
        "QVeval([1,3],(1,:L),Qt_joint,V,0.0) => 1.0\n",
        "QVeval([1,3],(1,:L),Qt_joint,V,0.0) => 1.0\n",
        "QVeval([1,3],(1,:L),Qt_joint,V,0.0) => 1.0\n",
        "QVeval([1,3],(1,:L),Qt_joint,V,0.0) => 1.0\n",
        "QVeval([1,3],(1,:L),Qt_joint,V,0.0) => 1.0\n",
        "QVeval([1,3],(1,:L),Qt_joint,V,0.0) => 1.0\n",
        "QVeval([1,3],(1,:L),Qt_joint,V,0.0) => 1.0\n",
        "QVeval([1,3],(1,:L),Qt_joint,V,0.0) => 1.0\n",
        "QVeval([1,3],(1,:L),Qt_joint,V,0.0) => 1.0\n",
        "QVeval([1,3],(1,:L),Qt_joint,V,0.0) => 1.0\n",
        "QVeval([1,3],(1,:L),Qt_joint,V,0.0) => 1.0\n",
        "QVeval([1,3],(1,:L),Qt_joint,V,0.0) => 1.0\n",
        "QVeval([1,3],(1,:L),Qt_joint,V,0.0) => 1.0\n",
        "QVeval([1,3],(1,:L),Qt_joint,V,0.0) => 1.0\n",
        "QVeval([1,3],(1,:L),Qt_joint,V,0.0) => 1.0\n",
        "QVeval([1,3],(1,:L),Qt_joint,V,0.0) => 1.0\n",
        "QVeval([1,3],(1,:L),Qt_joint,V,0.0) => 1.0\n",
        "QVeval([1,3],(1,:L),Qt_joint,V,0.0) => 1.0\n",
        "QVeval([1,3],(1,:L),Qt_joint,V,0.0) => 1.0\n",
        "QVeval([1,3],(1,:L),Qt_joint,V,0.0) => 1.0\n",
        "QVeval([1,3],(1,:L),Qt_joint,V,0.0) => 1.0\n",
        "elapsed time: 0.032538052 seconds (371036 bytes allocated)\n"
       ]
      }
     ],
     "prompt_number": 47
    },
    {
     "cell_type": "code",
     "collapsed": false,
     "input": [
      "# N = 30;\n",
      "# nA = 5\n",
      "# Pbig = sprandn(N,N, 4/N);\n",
      "# Pbig[diagind(Pbig)] = 0;\n",
      "# Mbig = spdiagm(rand(N))\n",
      "# Qb =  Mbig * (Pbig - spdiagm(ones(N)));\n",
      "# QQb = kronSum(Qb, Qb); println(sizeof(QQb.nzval)/1e6 * nA, \"MBytes\")\n",
      "# QQQb = kronSum(QQb, Qb); println(sizeof(QQQb.nzval)/1e6 * nA, \"MBytes\")\n",
      "# QQQQb = kronSum(QQQb, Qb); println(sizeof(QQQQb.nzval)/1e6 * nA, \"MBytes\")\n",
      "#5 is too much :(\n",
      "# QQQQQb = kronSum(QQQQb, Qb); println(sizeof(QQQQQb.nzval)/1e6, \"MBytes\")"
     ],
     "language": "python",
     "metadata": {},
     "outputs": [],
     "prompt_number": 15
    }
   ],
   "metadata": {}
  }
 ]
}