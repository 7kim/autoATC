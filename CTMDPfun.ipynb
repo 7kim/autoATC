{
 "metadata": {
  "language": "Julia",
  "name": "",
  "signature": "sha256:8157d987a6c774f718a4a30500649190aba7439ae20f451246143f357666abfc"
 },
 "nbformat": 3,
 "nbformat_minor": 0,
 "worksheets": [
  {
   "cells": [
    {
     "cell_type": "code",
     "collapsed": false,
     "input": [
      "include(\"CTMDP.jl\")"
     ],
     "language": "python",
     "metadata": {},
     "outputs": [
      {
       "output_type": "stream",
       "stream": "stderr",
       "text": [
        "Warning: redefining constant g_S\n",
        "Warning: redefining constant g_S2i_dict\n"
       ]
      },
      {
       "metadata": {},
       "output_type": "pyout",
       "prompt_number": 25,
       "text": [
        "QVeval (generic function with 1 method)"
       ]
      }
     ],
     "prompt_number": 25
    },
    {
     "cell_type": "code",
     "collapsed": false,
     "input": [
      "function uniformize(Q)\n",
      "    T = copy(Q)\n",
      "    dQ = diag(Q);\n",
      "    \u03ba = -minimum(dQ)\n",
      "    Isp = spdiagm(ones(size(Q,1)))\n",
      "    T = Q/\u03ba + Isp\n",
      "    #p = T * ones(size(T,1))\n",
      "    #T = T * spdiagm(1./p) #normalize to 1\n",
      "end"
     ],
     "language": "python",
     "metadata": {},
     "outputs": [
      {
       "metadata": {},
       "output_type": "pyout",
       "prompt_number": 4,
       "text": [
        "uniformize (generic function with 1 method)"
       ]
      }
     ],
     "prompt_number": 4
    },
    {
     "cell_type": "code",
     "collapsed": false,
     "input": [
      "function sample(Q, dt)\n",
      "    Isp = spdiagm(ones(size(Q,1)))\n",
      "    M = Isp + Q * dt\n",
      "end"
     ],
     "language": "python",
     "metadata": {},
     "outputs": [
      {
       "metadata": {},
       "output_type": "pyout",
       "prompt_number": 5,
       "text": [
        "sample (generic function with 1 method)"
       ]
      }
     ],
     "prompt_number": 5
    },
    {
     "cell_type": "code",
     "collapsed": false,
     "input": [
      "\u03b1 = 0.95; \u03b2 = 1;"
     ],
     "language": "python",
     "metadata": {},
     "outputs": [],
     "prompt_number": 6
    },
    {
     "cell_type": "code",
     "collapsed": false,
     "input": [
      "P0 = spzeros(5,5);\n",
      "P0[4,1] = P0[5,1] = P0[3,4] = P0[2,5] = 1;"
     ],
     "language": "python",
     "metadata": {},
     "outputs": [],
     "prompt_number": 7
    },
    {
     "cell_type": "code",
     "collapsed": false,
     "input": [
      "A = Symbol[:\u2205, :L, :R, :S];"
     ],
     "language": "python",
     "metadata": {},
     "outputs": [],
     "prompt_number": 8
    },
    {
     "cell_type": "code",
     "collapsed": false,
     "input": [
      "P = (Symbol => typeof(P0))[a => copy(P0) for a in A];"
     ],
     "language": "python",
     "metadata": {},
     "outputs": [],
     "prompt_number": 9
    },
    {
     "cell_type": "code",
     "collapsed": false,
     "input": [
      "P[:\u2205][1,2] = 0.5; P[:\u2205][1,3] = 0.5;\n",
      "P[:S][1,2] = 0.5; P[:S][1,3] = 0.5;\n",
      "P[:R][1,2] = 1-\u03b1; P[:R][1,3] = \u03b1;\n",
      "P[:L][1,2] = \u03b1;   P[:L][1,3] = 1-\u03b1;\n"
     ],
     "language": "python",
     "metadata": {},
     "outputs": [],
     "prompt_number": 10
    },
    {
     "cell_type": "code",
     "collapsed": false,
     "input": [
      "M0 = spdiagm([0.5,1.,1.,1.,1.]);\n",
      "M = (Symbol => typeof(M0))[a => copy(M0) for a in A];\n",
      "M[:S] = spdiagm(2*ones(5));"
     ],
     "language": "python",
     "metadata": {},
     "outputs": [],
     "prompt_number": 11
    },
    {
     "cell_type": "code",
     "collapsed": false,
     "input": [
      "Isp = spdiagm(ones(5));"
     ],
     "language": "python",
     "metadata": {},
     "outputs": [],
     "prompt_number": 12
    },
    {
     "cell_type": "code",
     "collapsed": false,
     "input": [
      "#Note that we are using the TRANSPOSE!!\n",
      "Qt = (Symbol => typeof(M0))[ a => (M[a]*(P[a] - Isp))' for a in A];"
     ],
     "language": "python",
     "metadata": {},
     "outputs": [],
     "prompt_number": 13
    },
    {
     "cell_type": "code",
     "collapsed": false,
     "input": [
      "Aj = Vector{Symbol}[ [a, :\u2205] for a in A ];"
     ],
     "language": "python",
     "metadata": {},
     "outputs": [],
     "prompt_number": 14
    },
    {
     "cell_type": "code",
     "collapsed": false,
     "input": [
      "Qt_joint = (Vector{Symbol} => typeof(M0))[ a => kronSum(Qt[a[1]], Qt[a[2]]) for a in Aj]"
     ],
     "language": "python",
     "metadata": {},
     "outputs": [
      {
       "metadata": {},
       "output_type": "pyout",
       "prompt_number": 16,
       "text": [
        "Dict{Array{Symbol,1},SparseMatrixCSC{Float64,Int64}} with 4 entries:\n",
        "  [:L,:\u2205] => \u2026\n",
        "  [:\u2205,:\u2205] => \u2026\n",
        "  [:S,:\u2205] => \u2026\n",
        "  [:R,:\u2205] => \u2026"
       ]
      }
     ],
     "prompt_number": 16
    },
    {
     "cell_type": "code",
     "collapsed": false,
     "input": [
      "Qt_joint[[:R, :\u2205]][1,:]"
     ],
     "language": "python",
     "metadata": {},
     "outputs": [
      {
       "metadata": {},
       "output_type": "pyout",
       "prompt_number": 18,
       "text": [
        "1x25 sparse matrix with 5 Float64 entries:\n",
        "\t[1 ,  1]  =  -1.0\n",
        "\t[1 ,  4]  =  1.0\n",
        "\t[1 ,  5]  =  1.0\n",
        "\t[1 , 16]  =  1.0\n",
        "\t[1 , 21]  =  1.0"
       ]
      }
     ],
     "prompt_number": 18
    },
    {
     "cell_type": "code",
     "collapsed": false,
     "input": [
      "V = ones(25);"
     ],
     "language": "python",
     "metadata": {},
     "outputs": [],
     "prompt_number": 19
    },
    {
     "cell_type": "code",
     "collapsed": false,
     "input": [
      "include(\"CTMDP.jl\")"
     ],
     "language": "python",
     "metadata": {},
     "outputs": [
      {
       "output_type": "stream",
       "stream": "stderr",
       "text": [
        "Warning: redefining constant g_S\n",
        "Warning: redefining constant g_S2i_dict\n"
       ]
      },
      {
       "metadata": {},
       "output_type": "pyout",
       "prompt_number": 38,
       "text": [
        "QVeval (generic function with 2 methods)"
       ]
      }
     ],
     "prompt_number": 38
    },
    {
     "cell_type": "code",
     "collapsed": false,
     "input": [
      "typeof(Qt_joint)"
     ],
     "language": "python",
     "metadata": {},
     "outputs": [
      {
       "metadata": {},
       "output_type": "pyout",
       "prompt_number": 39,
       "text": [
        "Dict{Array{Symbol,1},SparseMatrixCSC{Float64,Int64}} (constructor with 3 methods)"
       ]
      }
     ],
     "prompt_number": 39
    },
    {
     "cell_type": "code",
     "collapsed": false,
     "input": [
      "QVeval([1, 3],(1, :L),Qt_joint,V, 0.)"
     ],
     "language": "python",
     "metadata": {},
     "outputs": [
      {
       "metadata": {},
       "output_type": "pyout",
       "prompt_number": 43,
       "text": [
        "1.0"
       ]
      }
     ],
     "prompt_number": 43
    },
    {
     "cell_type": "code",
     "collapsed": false,
     "input": [
      "@time for s in product(1:5,1:5)\n",
      "    s = [s[1],s[2]]\n",
      "    @show QVeval([1, 3],(1, :L),Qt_joint,V, 0.)\n",
      "end"
     ],
     "language": "python",
     "metadata": {},
     "outputs": [
      {
       "output_type": "stream",
       "stream": "stdout",
       "text": [
        "QVeval([1,3],(1,:L),Qt_joint,V,0.0) => 1.0"
       ]
      },
      {
       "output_type": "stream",
       "stream": "stdout",
       "text": [
        "\n",
        "QVeval([1,3],(1,:L),Qt_joint,V,0.0) => 1.0\n",
        "QVeval([1,3],(1,:L),Qt_joint,V,0.0) => 1.0\n",
        "QVeval([1,3],(1,:L),Qt_joint,V,0.0) => 1.0\n",
        "QVeval([1,3],(1,:L),Qt_joint,V,0.0) => 1.0\n",
        "QVeval([1,3],(1,:L),Qt_joint,V,0.0) => 1.0\n",
        "QVeval([1,3],(1,:L),Qt_joint,V,0.0) => 1.0\n",
        "QVeval([1,3],(1,:L),Qt_joint,V,0.0) => 1.0\n",
        "QVeval([1,3],(1,:L),Qt_joint,V,0.0) => 1.0\n",
        "QVeval([1,3],(1,:L),Qt_joint,V,0.0) => 1.0\n",
        "QVeval([1,3],(1,:L),Qt_joint,V,0.0) => 1.0\n",
        "QVeval([1,3],(1,:L),Qt_joint,V,0.0) => 1.0\n",
        "QVeval([1,3],(1,:L),Qt_joint,V,0.0) => 1.0\n",
        "QVeval([1,3],(1,:L),Qt_joint,V,0.0) => 1.0\n",
        "QVeval([1,3],(1,:L),Qt_joint,V,0.0) => 1.0\n",
        "QVeval([1,3],(1,:L),Qt_joint,V,0.0) => 1.0\n",
        "QVeval([1,3],(1,:L),Qt_joint,V,0.0) => 1.0\n",
        "QVeval([1,3],(1,:L),Qt_joint,V,0.0) => 1.0\n",
        "QVeval([1,3],(1,:L),Qt_joint,V,0.0) => 1.0\n",
        "QVeval([1,3],(1,:L),Qt_joint,V,0.0) => 1.0\n",
        "QVeval([1,3],(1,:L),Qt_joint,V,0.0) => 1.0\n",
        "QVeval([1,3],(1,:L),Qt_joint,V,0.0) => 1.0\n",
        "QVeval([1,3],(1,:L),Qt_joint,V,0.0) => 1.0\n",
        "QVeval([1,3],(1,:L),Qt_joint,V,0.0) => 1.0\n",
        "QVeval([1,3],(1,:L),Qt_joint,V,0.0) => 1.0\n",
        "elapsed time: 0.032538052 seconds (371036 bytes allocated)\n"
       ]
      }
     ],
     "prompt_number": 47
    },
    {
     "cell_type": "code",
     "collapsed": false,
     "input": [
      "# N = 30;\n",
      "# nA = 5\n",
      "# Pbig = sprandn(N,N, 4/N);\n",
      "# Pbig[diagind(Pbig)] = 0;\n",
      "# Mbig = spdiagm(rand(N))\n",
      "# Qb =  Mbig * (Pbig - spdiagm(ones(N)));\n",
      "# QQb = kronSum(Qb, Qb); println(sizeof(QQb.nzval)/1e6 * nA, \"MBytes\")\n",
      "# QQQb = kronSum(QQb, Qb); println(sizeof(QQQb.nzval)/1e6 * nA, \"MBytes\")\n",
      "# QQQQb = kronSum(QQQb, Qb); println(sizeof(QQQQb.nzval)/1e6 * nA, \"MBytes\")\n",
      "#5 is too much :(\n",
      "# QQQQQb = kronSum(QQQQb, Qb); println(sizeof(QQQQQb.nzval)/1e6, \"MBytes\")"
     ],
     "language": "python",
     "metadata": {},
     "outputs": [],
     "prompt_number": 15
    }
   ],
   "metadata": {}
  }
 ]
}