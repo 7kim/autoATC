{
 "metadata": {
  "language": "Julia",
  "name": "",
  "signature": "sha256:08045bc4a6a31cc7ee060d1fb554acefa726052d7b10c820a79316e7464c7acf"
 },
 "nbformat": 3,
 "nbformat_minor": 0,
 "worksheets": [
  {
   "cells": [
    {
     "cell_type": "code",
     "collapsed": false,
     "input": [
      "function kronSum(A,B)\n",
      "    b = size(B,1)\n",
      "    a = size(A,2)\n",
      "    Ib = spdiagm(ones(b))\n",
      "    Ia = spdiagm(ones(a))\n",
      "    \n",
      "    return kron(A,Ib) + kron(Ia,B)\n",
      "end"
     ],
     "language": "python",
     "metadata": {},
     "outputs": [
      {
       "metadata": {},
       "output_type": "pyout",
       "prompt_number": 1,
       "text": [
        "kronSum (generic function with 1 method)"
       ]
      }
     ],
     "prompt_number": 1
    },
    {
     "cell_type": "code",
     "collapsed": false,
     "input": [
      "function uniformize(Q)\n",
      "    T = copy(Q)\n",
      "    dQ = diag(Q);\n",
      "    \u03ba = -minimum(dQ)\n",
      "    Isp = spdiagm(ones(size(Q,1)))\n",
      "    T = Q/\u03ba + Isp\n",
      "    #p = T * ones(size(T,1))\n",
      "    #T = T * spdiagm(1./p) #normalize to 1\n",
      "end"
     ],
     "language": "python",
     "metadata": {},
     "outputs": [
      {
       "metadata": {},
       "output_type": "pyout",
       "prompt_number": 2,
       "text": [
        "uniformize (generic function with 1 method)"
       ]
      }
     ],
     "prompt_number": 2
    },
    {
     "cell_type": "code",
     "collapsed": false,
     "input": [
      "function sample(Q, dt)\n",
      "    Isp = spdiagm(ones(size(Q,1)))\n",
      "    M = Isp + Q * dt\n",
      "end"
     ],
     "language": "python",
     "metadata": {},
     "outputs": [
      {
       "metadata": {},
       "output_type": "pyout",
       "prompt_number": 3,
       "text": [
        "sample (generic function with 1 method)"
       ]
      }
     ],
     "prompt_number": 3
    },
    {
     "cell_type": "code",
     "collapsed": false,
     "input": [
      "\u03b1 = 0.95; \u03b2 = 1;"
     ],
     "language": "python",
     "metadata": {},
     "outputs": [],
     "prompt_number": 4
    },
    {
     "cell_type": "code",
     "collapsed": false,
     "input": [
      "P0 = spzeros(5,5);\n",
      "P0[4,1] = P0[5,1] = P0[3,4] = P0[2,5] = 1;"
     ],
     "language": "python",
     "metadata": {},
     "outputs": [],
     "prompt_number": 5
    },
    {
     "cell_type": "code",
     "collapsed": false,
     "input": [
      "A = Symbol[:\u2205, :L, :R, :S];"
     ],
     "language": "python",
     "metadata": {},
     "outputs": [],
     "prompt_number": 6
    },
    {
     "cell_type": "code",
     "collapsed": false,
     "input": [
      "P = (Symbol => typeof(P0))[a => copy(P0) for a in A];"
     ],
     "language": "python",
     "metadata": {},
     "outputs": [],
     "prompt_number": 7
    },
    {
     "cell_type": "code",
     "collapsed": false,
     "input": [
      "P[:\u2205][1,2] = 0.5; P[:\u2205][1,3] = 0.5;\n",
      "P[:S][1,2] = 0.5; P[:S][1,3] = 0.5;\n",
      "P[:R][1,2] = 1-\u03b1; P[:R][1,3] = \u03b1;\n",
      "P[:L][1,2] = \u03b1;   P[:L][1,3] = 1-\u03b1;\n"
     ],
     "language": "python",
     "metadata": {},
     "outputs": [],
     "prompt_number": 8
    },
    {
     "cell_type": "code",
     "collapsed": false,
     "input": [
      "M0 = spdiagm([0.5,1.,1.,1.,1.]);\n",
      "M = (Symbol => typeof(M0))[a => copy(M0) for a in A];\n",
      "M[:S] = spdiagm(2*ones(5));"
     ],
     "language": "python",
     "metadata": {},
     "outputs": [],
     "prompt_number": 9
    },
    {
     "cell_type": "code",
     "collapsed": false,
     "input": [
      "Isp = spdiagm(ones(5));"
     ],
     "language": "python",
     "metadata": {},
     "outputs": [],
     "prompt_number": 10
    },
    {
     "cell_type": "code",
     "collapsed": false,
     "input": [
      "Q = (Symbol => typeof(M0))[ a => M[a]*(P[a] - Isp) for a in A];"
     ],
     "language": "python",
     "metadata": {},
     "outputs": [],
     "prompt_number": 11
    },
    {
     "cell_type": "code",
     "collapsed": false,
     "input": [
      "Aj = (Symbol, Symbol)[ (a, :\u2205) for a in A ];"
     ],
     "language": "python",
     "metadata": {},
     "outputs": [],
     "prompt_number": 12
    },
    {
     "cell_type": "code",
     "collapsed": false,
     "input": [
      "Qj = ( (Symbol, Symbol) => typeof(M0))[ a => kronSum(Q[a[1]], Q[a[2]]) for a in Aj]"
     ],
     "language": "python",
     "metadata": {},
     "outputs": [
      {
       "metadata": {},
       "output_type": "pyout",
       "prompt_number": 13,
       "text": [
        "Dict{(Symbol,Symbol),SparseMatrixCSC{Float64,Int64}} with 4 entries:\n",
        "  (:S,:\u2205) => \u2026\n",
        "  (:R,:\u2205) => \u2026\n",
        "  (:\u2205,:\u2205) => \u2026\n",
        "  (:L,:\u2205) => \u2026"
       ]
      }
     ],
     "prompt_number": 13
    },
    {
     "cell_type": "code",
     "collapsed": false,
     "input": [],
     "language": "python",
     "metadata": {},
     "outputs": [],
     "prompt_number": 14
    },
    {
     "cell_type": "code",
     "collapsed": false,
     "input": [
      "# N = 30;\n",
      "# nA = 5\n",
      "# Pbig = sprandn(N,N, 4/N);\n",
      "# Pbig[diagind(Pbig)] = 0;\n",
      "# Mbig = spdiagm(rand(N))\n",
      "# Qb =  Mbig * (Pbig - spdiagm(ones(N)));\n",
      "# QQb = kronSum(Qb, Qb); println(sizeof(QQb.nzval)/1e6 * nA, \"MBytes\")\n",
      "# QQQb = kronSum(QQb, Qb); println(sizeof(QQQb.nzval)/1e6 * nA, \"MBytes\")\n",
      "# QQQQb = kronSum(QQQb, Qb); println(sizeof(QQQQb.nzval)/1e6 * nA, \"MBytes\")\n",
      "#5 is too much :(\n",
      "# QQQQQb = kronSum(QQQQb, Qb); println(sizeof(QQQQQb.nzval)/1e6, \"MBytes\")"
     ],
     "language": "python",
     "metadata": {},
     "outputs": [],
     "prompt_number": 15
    }
   ],
   "metadata": {}
  }
 ]
}