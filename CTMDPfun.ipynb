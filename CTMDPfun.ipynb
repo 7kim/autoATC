{
 "metadata": {
  "language": "Julia",
  "name": "",
  "signature": "sha256:1cd31f9ab5d465522e840325e7115d27a39687f8240bae21a1751b60b4b67150"
 },
 "nbformat": 3,
 "nbformat_minor": 0,
 "worksheets": [
  {
   "cells": [
    {
     "cell_type": "code",
     "collapsed": false,
     "input": [
      "using Iterators"
     ],
     "language": "python",
     "metadata": {},
     "outputs": [],
     "prompt_number": 1
    },
    {
     "cell_type": "code",
     "collapsed": false,
     "input": [
      "const g_noaction = (0, :\u2205);\n",
      "const g_allstates = (Symbol)[:R, :LX, :RX, :RD, :LD];\n",
      "const g_sn = (Symbol => Int64)[g_allstates[idx] => idx for idx in 1:length(g_allstates)]\n",
      "\n",
      "\n",
      "#TODO: Implement this properly for\n",
      "#autoATC\n",
      "#Consider precomputing r ?\n",
      "function r(X::XType, a::typeof(g_noaction))\n",
      "  #rate in state 1 is the best\n",
      "  #unless two things are in the same state!\n",
      "\n",
      "  Ns = length(X)\n",
      "  Ns_u = length(unique(X))\n",
      "\n",
      "  R = 0.\n",
      "\n",
      "  if(Ns != Ns_u)\n",
      "    R = -10000.\n",
      "  elseif 1 in X\n",
      "    R = 100.\n",
      "  end\n",
      "\n",
      "  if(a != g_noaction)\n",
      "    R -= 100.\n",
      "  end\n",
      "\n",
      "  return R;\n",
      "end\n"
     ],
     "language": "python",
     "metadata": {},
     "outputs": [
      {
       "metadata": {},
       "output_type": "pyout",
       "prompt_number": 2,
       "text": [
        "Dict{Symbol,Int64} with 5 entries:\n",
        "  :LD => 5\n",
        "  :RD => 4\n",
        "  :LX => 2\n",
        "  :RX => 3\n",
        "  :R  => 1"
       ]
      }
     ],
     "prompt_number": 2
    },
    {
     "cell_type": "code",
     "collapsed": false,
     "input": [
      "include(\"CTMDP.jl\")"
     ],
     "language": "python",
     "metadata": {},
     "outputs": [
      {
       "metadata": {},
       "output_type": "pyout",
       "prompt_number": 3,
       "text": [
        "sample (generic function with 1 method)"
       ]
      }
     ],
     "prompt_number": 3
    },
    {
     "cell_type": "code",
     "collapsed": false,
     "input": [
      "\u03b1 = 0.95;"
     ],
     "language": "python",
     "metadata": {},
     "outputs": [],
     "prompt_number": 4
    },
    {
     "cell_type": "code",
     "collapsed": false,
     "input": [
      "P0 = spzeros(5,5);\n",
      "P0[4,1] = P0[5,1] = P0[3,4] = P0[2,5] = 1;"
     ],
     "language": "python",
     "metadata": {},
     "outputs": [],
     "prompt_number": 5
    },
    {
     "cell_type": "code",
     "collapsed": false,
     "input": [
      "A = Symbol[:\u2205, :L, :R, :S];\n",
      "function validActions(s)\n",
      "    return [g_noaction, collect(product([1,2], [:L, :R, :S]))]   \n",
      "end\n",
      "validActs = validActions(1);"
     ],
     "language": "python",
     "metadata": {},
     "outputs": [],
     "prompt_number": 6
    },
    {
     "cell_type": "code",
     "collapsed": false,
     "input": [
      "P = (Symbol => typeof(P0))[a => copy(P0) for a in A];"
     ],
     "language": "python",
     "metadata": {},
     "outputs": [],
     "prompt_number": 7
    },
    {
     "cell_type": "code",
     "collapsed": false,
     "input": [
      "P[:\u2205][1,2] = 0.5; P[:\u2205][1,3] = 0.5;\n",
      "P[:S][1,2] = 0.5; P[:S][1,3] = 0.5;\n",
      "P[:R][1,2] = 1-\u03b1; P[:R][1,3] = \u03b1;\n",
      "P[:L][1,2] = \u03b1;   P[:L][1,3] = 1-\u03b1;\n"
     ],
     "language": "python",
     "metadata": {},
     "outputs": [],
     "prompt_number": 8
    },
    {
     "cell_type": "code",
     "collapsed": false,
     "input": [
      "M0 = spdiagm([0.5,1.,1.,1.,1.]);\n",
      "M = (Symbol => typeof(M0))[a => copy(M0) for a in A];\n",
      "M[:S] = spdiagm(0.5*ones(5));"
     ],
     "language": "python",
     "metadata": {},
     "outputs": [],
     "prompt_number": 9
    },
    {
     "cell_type": "code",
     "collapsed": false,
     "input": [
      "Isp = spdiagm(ones(g_nNodes));"
     ],
     "language": "python",
     "metadata": {},
     "outputs": [],
     "prompt_number": 10
    },
    {
     "cell_type": "code",
     "collapsed": false,
     "input": [
      "#Note that we are using the TRANSPOSE!!\n",
      "Qt = (Symbol => typeof(M0))[ a => (M[a]*(P[a] - Isp))' for a in A];"
     ],
     "language": "python",
     "metadata": {},
     "outputs": [],
     "prompt_number": 11
    },
    {
     "cell_type": "code",
     "collapsed": false,
     "input": [
      "Aj = Vector{Symbol}[ [a, :\u2205] for a in A ];"
     ],
     "language": "python",
     "metadata": {},
     "outputs": [],
     "prompt_number": 12
    },
    {
     "cell_type": "code",
     "collapsed": false,
     "input": [
      "Qt_joint = (Vector{Symbol} => typeof(M0))[ a => kronSum(Qt[a[1]], Qt[a[2]]) for a in Aj]"
     ],
     "language": "python",
     "metadata": {},
     "outputs": [
      {
       "metadata": {},
       "output_type": "pyout",
       "prompt_number": 13,
       "text": [
        "Dict{Array{Symbol,1},SparseMatrixCSC{Float64,Int64}} with 4 entries:\n",
        "  [:L,:\u2205] => \u2026\n",
        "  [:\u2205,:\u2205] => \u2026\n",
        "  [:S,:\u2205] => \u2026\n",
        "  [:R,:\u2205] => \u2026"
       ]
      }
     ],
     "prompt_number": 13
    },
    {
     "cell_type": "code",
     "collapsed": false,
     "input": [
      "Qt_joint[[:R, :\u2205]][1,:]"
     ],
     "language": "python",
     "metadata": {},
     "outputs": [
      {
       "metadata": {},
       "output_type": "pyout",
       "prompt_number": 14,
       "text": [
        "1x25 sparse matrix with 5 Float64 entries:\n",
        "\t[1 ,  1]  =  -1.0\n",
        "\t[1 ,  4]  =  1.0\n",
        "\t[1 ,  5]  =  1.0\n",
        "\t[1 , 16]  =  1.0\n",
        "\t[1 , 21]  =  1.0"
       ]
      }
     ],
     "prompt_number": 14
    },
    {
     "cell_type": "code",
     "collapsed": false,
     "input": [
      "include(\"CTMDP.jl\")"
     ],
     "language": "python",
     "metadata": {},
     "outputs": [
      {
       "output_type": "stream",
       "stream": "stderr",
       "text": [
        "Warning: redefining constant g_Scomp\n",
        "Warning: redefining constant g_Xcomp\n",
        "Warning: redefining constant g_X2CIDX_dict\n"
       ]
      },
      {
       "metadata": {},
       "output_type": "pyout",
       "prompt_number": 20,
       "text": [
        "sample (generic function with 1 method)"
       ]
      }
     ],
     "prompt_number": 20
    },
    {
     "cell_type": "code",
     "collapsed": false,
     "input": [
      "Vshort = ones(length(g_Scomp));"
     ],
     "language": "python",
     "metadata": {},
     "outputs": [],
     "prompt_number": 21
    },
    {
     "cell_type": "code",
     "collapsed": false,
     "input": [
      "Aopt = gaussSeidel!(Vshort,0.95)# at /home/zouhair/Dropbox/Research/autoATC/CTMDP.jl:268\n",
      "Vshort"
     ],
     "language": "python",
     "metadata": {},
     "outputs": [
      {
       "output_type": "stream",
       "stream": "stdout",
       "text": [
        "Stopping after 10"
       ]
      },
      {
       "output_type": "stream",
       "stream": "stdout",
       "text": [
        " iterations (maxVchange = 0.79)\n",
        "elapsed time: 0.128598894 seconds (6373044 bytes allocated)\n"
       ]
      },
      {
       "metadata": {},
       "output_type": "pyout",
       "prompt_number": 22,
       "text": [
        "15-element Array{Float64,1}:\n",
        " -5197.95 \n",
        "  -670.269\n",
        "  -670.269\n",
        " -1462.0  \n",
        " -1462.0  \n",
        " -4016.59 \n",
        "  -312.692\n",
        "  -477.709\n",
        " -1131.04 \n",
        " -4016.59 \n",
        " -1131.04 \n",
        "  -477.709\n",
        " -4233.72 \n",
        "  -898.286\n",
        " -4233.72 "
       ]
      }
     ],
     "prompt_number": 22
    },
    {
     "cell_type": "code",
     "collapsed": false,
     "input": [
      "Aopt"
     ],
     "language": "python",
     "metadata": {},
     "outputs": [
      {
       "metadata": {},
       "output_type": "pyout",
       "prompt_number": 23,
       "text": [
        "15-element Array{(Int64,Symbol),1}:\n",
        " (0,:\u2205)\n",
        " (1,:R)\n",
        " (1,:L)\n",
        " (2,:S)\n",
        " (2,:S)\n",
        " (0,:\u2205)\n",
        " (0,:\u2205)\n",
        " (1,:S)\n",
        " (1,:S)\n",
        " (0,:\u2205)\n",
        " (1,:S)\n",
        " (1,:S)\n",
        " (0,:\u2205)\n",
        " (1,:S)\n",
        " (0,:\u2205)"
       ]
      }
     ],
     "prompt_number": 23
    },
    {
     "cell_type": "code",
     "collapsed": false,
     "input": [
      "policy_S2a([:R, :LX], Aopt)"
     ],
     "language": "python",
     "metadata": {},
     "outputs": [
      {
       "metadata": {},
       "output_type": "pyout",
       "prompt_number": 28,
       "text": [
        "(1,:R)"
       ]
      }
     ],
     "prompt_number": 28
    },
    {
     "cell_type": "code",
     "collapsed": false,
     "input": [
      "Aopt"
     ],
     "language": "python",
     "metadata": {},
     "outputs": [
      {
       "metadata": {},
       "output_type": "pyout",
       "prompt_number": 35,
       "text": [
        "15-element Array{Any,1}:\n",
        " (0,:\u2205)\n",
        " (1,:L)\n",
        " (1,:R)\n",
        " (2,:S)\n",
        " (2,:S)\n",
        " (0,:\u2205)\n",
        " (0,:\u2205)\n",
        " (1,:S)\n",
        " (2,:S)\n",
        " (0,:\u2205)\n",
        " (1,:S)\n",
        " (1,:S)\n",
        " (0,:\u2205)\n",
        " (2,:S)\n",
        " (0,:\u2205)"
       ]
      }
     ],
     "prompt_number": 35
    },
    {
     "cell_type": "code",
     "collapsed": false,
     "input": [
      "g_S"
     ],
     "language": "python",
     "metadata": {},
     "outputs": [
      {
       "metadata": {},
       "output_type": "pyout",
       "prompt_number": 247,
       "text": [
        "15-element Array{Array{Int64,1},1}:\n",
        " [1,1]\n",
        " [1,2]\n",
        " [1,3]\n",
        " [1,4]\n",
        " [1,5]\n",
        " [2,2]\n",
        " [2,3]\n",
        " [2,4]\n",
        " [2,5]\n",
        " [3,3]\n",
        " [3,4]\n",
        " [3,5]\n",
        " [4,4]\n",
        " [4,5]\n",
        " [5,5]"
       ]
      }
     ],
     "prompt_number": 247
    },
    {
     "cell_type": "code",
     "collapsed": false,
     "input": [
      "r([3,4], (1,:S))"
     ],
     "language": "python",
     "metadata": {},
     "outputs": [
      {
       "metadata": {},
       "output_type": "pyout",
       "prompt_number": 252,
       "text": [
        "-100.0"
       ]
      }
     ],
     "prompt_number": 252
    },
    {
     "cell_type": "code",
     "collapsed": false,
     "input": [
      "QVeval([3, 4],(2,:S),Qt_joint,V, 1./0.95)"
     ],
     "language": "python",
     "metadata": {},
     "outputs": [
      {
       "metadata": {},
       "output_type": "pyout",
       "prompt_number": 250,
       "text": [
        "-1125.920897867571"
       ]
      }
     ],
     "prompt_number": 250
    },
    {
     "cell_type": "code",
     "collapsed": false,
     "input": [
      "@time for s in product(1:5,1:5)\n",
      "    s = [s[1],s[2]]\n",
      "    @show QVeval([1, 3],(1, :L),Qt_joint,V, 0.)\n",
      "end"
     ],
     "language": "python",
     "metadata": {},
     "outputs": [
      {
       "output_type": "stream",
       "stream": "stdout",
       "text": [
        "QVeval([1,3],(1,:L),Qt_joint,V,0.0) => 1.0"
       ]
      },
      {
       "output_type": "stream",
       "stream": "stdout",
       "text": [
        "\n",
        "QVeval([1,3],(1,:L),Qt_joint,V,0.0) => 1.0\n",
        "QVeval([1,3],(1,:L),Qt_joint,V,0.0) => 1.0\n",
        "QVeval([1,3],(1,:L),Qt_joint,V,0.0) => 1.0\n",
        "QVeval([1,3],(1,:L),Qt_joint,V,0.0) => 1.0\n",
        "QVeval([1,3],(1,:L),Qt_joint,V,0.0) => 1.0\n",
        "QVeval([1,3],(1,:L),Qt_joint,V,0.0) => 1.0\n",
        "QVeval([1,3],(1,:L),Qt_joint,V,0.0) => 1.0\n",
        "QVeval([1,3],(1,:L),Qt_joint,V,0.0) => 1.0\n",
        "QVeval([1,3],(1,:L),Qt_joint,V,0.0) => 1.0\n",
        "QVeval([1,3],(1,:L),Qt_joint,V,0.0) => 1.0\n",
        "QVeval([1,3],(1,:L),Qt_joint,V,0.0) => 1.0\n",
        "QVeval([1,3],(1,:L),Qt_joint,V,0.0) => 1.0\n",
        "QVeval([1,3],(1,:L),Qt_joint,V,0.0) => 1.0\n",
        "QVeval([1,3],(1,:L),Qt_joint,V,0.0) => 1.0\n",
        "QVeval([1,3],(1,:L),Qt_joint,V,0.0) => 1.0\n",
        "QVeval([1,3],(1,:L),Qt_joint,V,0.0) => 1.0\n",
        "QVeval([1,3],(1,:L),Qt_joint,V,0.0) => 1.0\n",
        "QVeval([1,3],(1,:L),Qt_joint,V,0.0) => 1.0\n",
        "QVeval([1,3],(1,:L),Qt_joint,V,0.0) => 1.0\n",
        "QVeval([1,3],(1,:L),Qt_joint,V,0.0) => 1.0\n",
        "QVeval([1,3],(1,:L),Qt_joint,V,0.0) => 1.0\n",
        "QVeval([1,3],(1,:L),Qt_joint,V,0.0) => 1.0\n",
        "QVeval([1,3],(1,:L),Qt_joint,V,0.0) => 1.0\n",
        "QVeval([1,3],(1,:L),Qt_joint,V,0.0) => 1.0\n",
        "elapsed time: 0.032538052 seconds (371036 bytes allocated)\n"
       ]
      }
     ],
     "prompt_number": 47
    },
    {
     "cell_type": "code",
     "collapsed": false,
     "input": [
      "# N = 30;\n",
      "# nA = 5\n",
      "# Pbig = sprandn(N,N, 4/N);\n",
      "# Pbig[diagind(Pbig)] = 0;\n",
      "# Mbig = spdiagm(rand(N))\n",
      "# Qb =  Mbig * (Pbig - spdiagm(ones(N)));\n",
      "# QQb = kronSum(Qb, Qb); println(sizeof(QQb.nzval)/1e6 * nA, \"MBytes\")\n",
      "# QQQb = kronSum(QQb, Qb); println(sizeof(QQQb.nzval)/1e6 * nA, \"MBytes\")\n",
      "# QQQQb = kronSum(QQQb, Qb); println(sizeof(QQQQb.nzval)/1e6 * nA, \"MBytes\")\n",
      "#5 is too much :(\n",
      "# QQQQQb = kronSum(QQQQb, Qb); println(sizeof(QQQQQb.nzval)/1e6, \"MBytes\")"
     ],
     "language": "python",
     "metadata": {},
     "outputs": [],
     "prompt_number": 15
    }
   ],
   "metadata": {}
  }
 ]
}