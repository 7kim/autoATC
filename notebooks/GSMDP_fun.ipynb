{
 "metadata": {
  "language": "Julia",
  "name": "",
  "signature": "sha256:07a29eda8d9f471f548d98a95583080c91db6ae98364545741d6e073f8495243"
 },
 "nbformat": 3,
 "nbformat_minor": 0,
 "worksheets": [
  {
   "cells": [
    {
     "cell_type": "code",
     "collapsed": false,
     "input": [
      "using CTMDP_mcts"
     ],
     "language": "python",
     "metadata": {},
     "outputs": [],
     "prompt_number": 1
    },
    {
     "cell_type": "code",
     "collapsed": false,
     "input": [
      "using GSMDP_mcts\n"
     ],
     "language": "python",
     "metadata": {},
     "outputs": [],
     "prompt_number": 1
    },
    {
     "cell_type": "code",
     "collapsed": false,
     "input": [
      "rng = MersenneTwister()"
     ],
     "language": "python",
     "metadata": {},
     "outputs": [
      {
       "metadata": {},
       "output_type": "pyout",
       "prompt_number": 2,
       "text": [
        "MersenneTwister(DSFMT_state(Int32[748398797,1073523691,-1738140313,1073664641,-1492392947,1073490074,-1625281839,1073254801,1875112882,1073717145  \u2026  943540191,1073626624,1091647724,1073372234,-1273625233,-823628301,835224507,991807863,382,0]),Uint32[0x00000000])"
       ]
      }
     ],
     "prompt_number": 2
    },
    {
     "cell_type": "code",
     "collapsed": false,
     "input": [
      "S = [:U1, :R, :LD1, :LArr]; E = Float32[0., 0., 20., 120.]; ST = (S,E,pattern.g_nullAct);\n",
      "STp = deepcopy(ST)\n",
      "GSMDP_mcts.mcts.pars.w = 50;"
     ],
     "language": "python",
     "metadata": {},
     "outputs": [],
     "prompt_number": 12
    },
    {
     "cell_type": "code",
     "collapsed": false,
     "input": [
      "@time GSMDP_mcts.mctsPolicy_gsmdp(S, E, [false, false, false, true])"
     ],
     "language": "python",
     "metadata": {},
     "outputs": [
      {
       "output_type": "stream",
       "stream": "stdout",
       "text": [
        "elapsed time: 0."
       ]
      },
      {
       "output_type": "stream",
       "stream": "stdout",
       "text": [
        "868006673 seconds (208187416 bytes allocated, 11.07% gc time)\n"
       ]
      },
      {
       "metadata": {},
       "output_type": "pyout",
       "prompt_number": 13,
       "text": [
        "(4,:LArrD1)"
       ]
      }
     ],
     "prompt_number": 13
    },
    {
     "cell_type": "code",
     "collapsed": false,
     "input": [
      "println(\"\\t\",ST)\n",
      "for i in 1:10\n",
      "    t = GSMDP_mcts.getNextState!(STp, ST, (int8(0),:T), rng)\n",
      "    ST  = deepcopy(STp)\n",
      "    @printf(\"%.2f->\\t \",t) ; println(STp)\n",
      "end"
     ],
     "language": "python",
     "metadata": {},
     "outputs": [
      {
       "output_type": "stream",
       "stream": "stdout",
       "text": [
        "\t("
       ]
      },
      {
       "output_type": "stream",
       "stream": "stdout",
       "text": [
        "[:LD0,:U1,:F1,:LD1],Float32[6.858425,62.70367,0.0,41.67921],Int8[0,0])\n",
        "11.31->\t ([:LD0,:U2,:F1,:LD1],Float32[18.166054,0.0,11.307629,52.98684],Int8[0,0])\n",
        "15.55->\t ([:LD1,:U2,:F1,:LD1],Float32[0.0,15.549469,26.857098,68.53631],Int8[0,0])\n",
        "23.77->\t ([:LD1,:U2,:F1,:LD2],Float32[23.768204,39.317673,50.6253,0.0],Int8[0,0])\n",
        "7.47->\t ([:LD1,:U2,:R,:LD2],Float32[31.236183,46.785652,0.0,7.4679794],Int8[0,0])\n",
        "4.16->\t ([:LD1,:LDep,:R,:LD2],Float32[35.3996,0.0,4.163418,11.631397],Int8[0,0])\n",
        "26.80->\t ([:LD1,:LDep,:U1,:LD2],Float32[62.19745,26.797848,0.0,38.429245],Int8[0,0])\n",
        "31.48->\t ([:LD2,:LDep,:U1,:LD2],Float32[0.0,58.27969,31.481842,69.91109],Int8[0,0])\n",
        "4.79->\t ([:LD2,:LDep,:U1,:LD3],Float32[4.79084,63.07053,36.272682,0.0],Int8[0,0])\n",
        "32.77->\t ([:LD2,:LDep,:U2,:LD3],Float32[37.565773,95.84546,0.0,32.774933],Int8[0,0])\n",
        "9.86->\t ([:LD2,:LDep,:U2,:LB2],Float32[47.42347,105.703156,9.857697,0.0],Int8[0,0])\n"
       ]
      }
     ],
     "prompt_number": 7
    },
    {
     "cell_type": "code",
     "collapsed": false,
     "input": [
      "acts = typeof(pattern.g_noaction)[]\n",
      "for i in 1:100 \n",
      "    push!(acts, GSMDP_mcts.mctsPolicy_gsmdp(S, E,[false, false, false, true]))\n",
      "end"
     ],
     "language": "python",
     "metadata": {},
     "outputs": [],
     "prompt_number": 14
    },
    {
     "cell_type": "code",
     "collapsed": false,
     "input": [
      "for a in unique(acts)\n",
      "    idx = find(x -> x == a, acts)\n",
      "    println(a, \": \", length(idx) / length(acts))\n",
      "end"
     ],
     "language": "python",
     "metadata": {},
     "outputs": [
      {
       "output_type": "stream",
       "stream": "stdout",
       "text": [
        "(4"
       ]
      },
      {
       "output_type": "stream",
       "stream": "stdout",
       "text": [
        ",:LArrD1): 0.9\n",
        "(4,:LArrD3): 0.08\n",
        "(0,:\u2205): 0.02\n"
       ]
      }
     ],
     "prompt_number": 15
    },
    {
     "cell_type": "code",
     "collapsed": false,
     "input": [
      "GSMDP_mcts.mcts.stats[(S, E)]"
     ],
     "language": "python",
     "metadata": {},
     "outputs": [
      {
       "metadata": {},
       "output_type": "pyout",
       "prompt_number": 11,
       "text": [
        "StateStat(Float32[102.0,370.0,386.0,357.0,372.0,107.0,306.0],Float32[-819.123,-171.185,-156.251,-184.038,-169.601,-789.591,-244.868],7x50 Array{Float32,2}:\n",
        " 31.2204  12.0488  29.3443  30.6167  \u2026  28.7511   30.5318  29.5839  12.3636\n",
        " 73.9447  73.9585  74.828   80.8848     71.5941   77.4006  72.4518  74.3011\n",
        " 74.28    74.0173  74.0252  73.1199     74.5089   75.0334  75.059   73.1806\n",
        " 74.533   74.0487  76.6014  70.3768     71.7353   73.9591  73.752   75.531 \n",
        " 19.175   10.7227  49.4516  64.7768      9.53682  58.8703  49.4078  53.4457\n",
        " 58.5161  37.5015  44.7035  52.8745  \u2026  22.2216   80.2986  62.5299  63.2595\n",
        " 35.4851  69.7222  79.9699  30.324      60.1405   37.7402  63.5497  50.8794,7x50 Array{(Array{Symbol,1},Array{Float32,1}),2}:\n",
        " ([:U1,:U1,:LD1,:LArr],Float32[31.2204,0.0,51.2204,231.22])    \u2026  ([:U1,:R,:LD1,:LArrD3],Float32[12.3636,12.3636,32.3636,0.0])\n",
        " ([:LX1,:R,:LD1,:LArr],Float32[0.0,73.9447,93.9447,273.945])      ([:LX1,:R,:LD1,:LArr],Float32[0.0,74.3011,94.3011,274.301]) \n",
        " ([:RX1,:R,:LD1,:LArr],Float32[0.0,74.28,94.28,274.28])           ([:RX1,:R,:LD1,:LArr],Float32[0.0,73.1806,93.1806,273.181]) \n",
        " ([:U2,:R,:LD1,:LArr],Float32[0.0,74.533,94.533,274.533])         ([:U2,:R,:LD1,:LArr],Float32[0.0,75.531,95.531,275.531])    \n",
        " ([:U1,:R,:LD1,:LArrD1],Float32[19.175,19.175,39.175,0.0])        ([:U1,:R,:LD1,:LArrD1],Float32[53.4457,53.4457,73.4457,0.0])\n",
        " ([:U1,:R,:LD1,:LArrD2],Float32[58.5161,58.5161,78.5161,0.0])  \u2026  ([:U1,:R,:LD1,:LArrD2],Float32[63.2595,63.2595,83.2595,0.0])\n",
        " ([:U1,:R,:LD1,:LArrD3],Float32[35.4851,35.4851,55.4851,0.0])     ([:U1,:R,:LD1,:LArrD3],Float32[50.8794,50.8794,70.8794,0.0]))"
       ]
      }
     ],
     "prompt_number": 11
    },
    {
     "cell_type": "code",
     "collapsed": false,
     "input": [
      "acts_ctmdp = typeof(pattern.g_noaction)[]\n",
      "for i in 1:100 \n",
      "    push!(acts_ctmdp, CTMDP_mcts.mctsPolicy(S))\n",
      "end"
     ],
     "language": "python",
     "metadata": {},
     "outputs": [],
     "prompt_number": 8
    },
    {
     "cell_type": "code",
     "collapsed": false,
     "input": [
      "for a in unique(acts_ctmdp)\n",
      "    idx = find(x -> x == a, acts_ctmdp)\n",
      "    println(a, \": \", length(idx) / length(acts_ctmdp))\n",
      "end"
     ],
     "language": "python",
     "metadata": {},
     "outputs": [
      {
       "output_type": "stream",
       "stream": "stdout",
       "text": [
        "(4"
       ]
      },
      {
       "output_type": "stream",
       "stream": "stdout",
       "text": [
        ",:LArrD1): 0.72\n",
        "(1,:RX1): 0.09\n",
        "(4,:LArrD3): 0.19\n"
       ]
      }
     ],
     "prompt_number": 9
    }
   ],
   "metadata": {}
  }
 ]
}