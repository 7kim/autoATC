{
 "metadata": {
  "language": "Julia",
  "name": "",
  "signature": "sha256:2fdc8c7a1a5bc2c77dde9171b3e4571d2bfa607f219ca066329a600ba4b57579"
 },
 "nbformat": 3,
 "nbformat_minor": 0,
 "worksheets": [
  {
   "cells": [
    {
     "cell_type": "code",
     "collapsed": false,
     "input": [
      "workspace()\n",
      "using LastMain.DataStructures\n",
      "using LastMain.IJulia\n",
      "using LastMain.IPythonDisplay\n",
      "using LastMain.JSON\n",
      "using LastMain.Nettle\n",
      "using LastMain.ZMQ\n",
      "\n",
      "if isdefined(current_module(),:LastMain) && isdefined(LastMain,:Pistar)\n",
      "    Pistar = LastMain.Pistar\n",
      "else\n",
      "    using HDF5, JLD;\n",
      "    Pistar = load(\"Pistar-4.jld\", \"Pistar\");\n",
      "end\n",
      "PiStar = s -> Pistar[s];\n",
      "\n",
      "defineAll = false; include(\"pattern.jl\")\n"
     ],
     "language": "python",
     "metadata": {},
     "outputs": [
      {
       "output_type": "stream",
       "stream": "stderr",
       "text": [
        "INFO: Loading help data...\n"
       ]
      }
     ],
     "prompt_number": 1
    },
    {
     "cell_type": "code",
     "collapsed": false,
     "input": [
      "function PiSimple(ss, perm = [])\n",
      "    a = noaction\n",
      "    if perm == []\n",
      "        perm = [1:length(ss)]\n",
      "    end\n",
      "    ss_perm = sortperm([sn[s] for s in ss])\n",
      "    ss_sorted = ss[ss_perm]\n",
      "    if(ss_sorted != ss)\n",
      "        return PiSimple(ss_sorted, ss_perm)\n",
      "    else\n",
      "        AC1 = ss[1]\n",
      "        AC1n = NextStates[AC1];\n",
      "        if AC1 == :T\n",
      "            noconflict = true\n",
      "            for s2 in ss[2:end]\n",
      "                noconflict = (s2 == :T) || !(:R in NextStates[s2])\n",
      "                if !noconflict \n",
      "                    break\n",
      "                end\n",
      "            end\n",
      "            if noconflict\n",
      "                a = (perm[1], :R)\n",
      "            end\n",
      "        elseif AC1 == :R\n",
      "            a = (perm[1], :U1)\n",
      "        else\n",
      "            amax = noaction\n",
      "            rmax = Reward(ss, amax)\n",
      "            for av in validActions(ss)\n",
      "                if av != noaction\n",
      "                    ssnext = deepcopy(ss)\n",
      "                    for i in 1:length(ssnext)\n",
      "                        ssnext[i] = NextStates[ssnext[i]][1]\n",
      "                    end\n",
      "                    ssnext[av[1]] = av[2]\n",
      "                    r = Reward(ss, av) + Reward(ssnext, noaction)\n",
      "                    if r > rmax\n",
      "                       rmax = r\n",
      "                       amax = av\n",
      "                    end\n",
      "                end\n",
      "            end\n",
      "            if amax != noaction\n",
      "                a = (perm[amax[1]] , amax[2])\n",
      "            end            \n",
      "        end\n",
      "    end\n",
      "    \n",
      "    return a\n",
      "end"
     ],
     "language": "python",
     "metadata": {},
     "outputs": [
      {
       "metadata": {},
       "output_type": "pyout",
       "prompt_number": 2,
       "text": [
        "PiSimple (generic function with 2 methods)"
       ]
      }
     ],
     "prompt_number": 2
    },
    {
     "cell_type": "code",
     "collapsed": false,
     "input": [
      "function tomovie(S0, policy, dr)\n",
      "    \n",
      "    if(isdir(dr))\n",
      "        rm(dr, recursive=true)\n",
      "    end\n",
      "    mkdir(dr)\n",
      "    Satc = {S0}\n",
      "    ncoll = 0\n",
      "    restart = false;\n",
      "    coll = 0\n",
      "    for k=1:120\n",
      "        if(!restart)\n",
      "            (Satc, Aatc, natc, ratc) = simulate(Satc[end], policy, N = 1);\n",
      "        end\n",
      "            \n",
      "        plotSim(Satc, Aatc, natc, ratc, animation=true, Ncolprev = ncoll-coll);\n",
      "        \n",
      "        if(restart)\n",
      "            rstart = ()-> allstates[rand(3:length(allstates), length(S0))];\n",
      "            newS0 = rstart()\n",
      "            \n",
      "            while(NcolNtaxi(newS0)[1] != 0)\n",
      "                newS0 = rstart()\n",
      "            end\n",
      "            Satc = {newS0}\n",
      "            restart = false;\n",
      "            coll = 0;\n",
      "        else\n",
      "            coll = cumsum(natc[2:end])[end];\n",
      "            ncoll += coll;\n",
      "        end\n",
      "        \n",
      "        #Random Restart after collisions...\n",
      "        if(coll > 0)           \n",
      "           restart = true;\n",
      "        end\n",
      "        \n",
      "        savefig(dr * \"/\" * string(k) * \".png\")    \n",
      "        clf()\n",
      "    end\n",
      "\n",
      "    run(`ffmpeg -r 2 -i $dr/%d.png $dr/out.avi`)\n",
      "end"
     ],
     "language": "python",
     "metadata": {},
     "outputs": [
      {
       "metadata": {},
       "output_type": "pyout",
       "prompt_number": 18,
       "text": [
        "tomovie (generic function with 1 method)"
       ]
      }
     ],
     "prompt_number": 18
    },
    {
     "cell_type": "code",
     "collapsed": false,
     "input": [
      "tomovie([:T, :T, :T, :T], PiSimple, \"./tmp-simple\");\n",
      "#tomovie([:T, :T, :T, :T], PiStar, \"./tmp-mdp\");"
     ],
     "language": "python",
     "metadata": {},
     "outputs": [
      {
       "output_type": "stream",
       "stream": "stderr",
       "text": [
        "ffmpeg version 2.4.3 Copyright (c) 2000-2014 the FFmpeg developers\n",
        "  built on Nov  9 2014 17:21:35 with gcc 4.8 (Ubuntu 4.8.2-19ubuntu1)\n",
        "  configuration: --extra-libs=-ldl --prefix=/opt/ffmpeg --enable-avresample --disable-debug --enable-nonfree --enable-gpl --enable-version3 --enable-x11grab --enable-libpulse --enable-libopencore-amrnb --enable-libopencore-amrwb --disable-decoder=amrnb --disable-decoder=amrwb --enable-libx264 --enable-libx265 --enable-libfdk-aac --enable-libvorbis --enable-libmp3lame --enable-libopus --enable-libvpx --enable-libspeex --enable-libass --enable-avisynth --enable-libsoxr --enable-libxvid\n",
        "  libavutil      54.  7.100 / 54.  7.100\n",
        "  libavcodec     56.  1.100 / 56.  1.100\n",
        "  libavformat    56.  4.101 / 56.  4.101\n"
       ]
      },
      {
       "output_type": "stream",
       "stream": "stderr",
       "text": [
        "  libavdevice    56.  0.100 / 56.  0.100\n",
        "  libavfilter     5.  1.100 /  5.  1.100\n",
        "  libavresample   2.  1.  0 /  2.  1.  0\n",
        "  libswscale      3.  0.100 /  3.  0.100\n",
        "  libswresample   1.  1.100 /  1.  1.100\n",
        "  libpostproc    53.  0.100 / 53.  0.100\n",
        "Input #0, image2, from './tmp-simple/%d.png':\n",
        "  Duration: 00:00:04.80, start: 0.000000, bitrate: N/A\n",
        "    Stream #0:0: Video: png, rgba, 800x600 [SAR 3937:3937 DAR 4:3], 25 fps, 25 tbr, 25 tbn, 25 tbc\n",
        "Output #0, avi, to './tmp-simple/out.avi':\n",
        "  Metadata:\n",
        "    ISFT            : Lavf56.4.101\n",
        "    Stream #0:0: Video: mpeg4 (FMP4 / 0x34504D46), yuv420p, 800x600 [SAR 1:1 DAR 4:3], q=2-31, 200 kb/s, 2 fps, 2 tbn, 2 tbc\n",
        "    Metadata:\n",
        "      encoder         : Lavc56.1.100 mpeg4\n",
        "Stream mapping:\n",
        "  Stream #0:0 -> #0:0 (png (native) -> mpeg4 (native))\n",
        "Press [q] to stop, [?] for help\n"
       ]
      },
      {
       "output_type": "stream",
       "stream": "stderr",
       "text": [
        "frame=   59 fps=0.0 q=2.0 size=     604kB time=00:00:29.50 bitrate= 167.8kbits/s    \r"
       ]
      },
      {
       "output_type": "stream",
       "stream": "stderr",
       "text": [
        "frame=  120 fps=0.0 q=2.0 Lsize=    1258kB time=00:01:00.00 bitrate= 171.7kbits/s    \r\n",
        "video:1249kB audio:0kB subtitle:0kB other streams:0kB global headers:0kB muxing overhead: 0.679522%\n"
       ]
      },
      {
       "metadata": {},
       "output_type": "display_data",
       "text": [
        "Figure(PyObject <matplotlib.figure.Figure object at 0x7fdeb25cc710>)"
       ]
      }
     ],
     "prompt_number": 19
    },
    {
     "cell_type": "code",
     "collapsed": false,
     "input": [],
     "language": "python",
     "metadata": {},
     "outputs": []
    }
   ],
   "metadata": {}
  }
 ]
}