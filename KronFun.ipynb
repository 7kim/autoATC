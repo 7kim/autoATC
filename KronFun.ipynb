{
 "metadata": {
  "language": "Julia",
  "name": "",
  "signature": "sha256:c1f3bd4af73b0baa555440bd39ff87f778377f654eda39fc23092f5d03db0097"
 },
 "nbformat": 3,
 "nbformat_minor": 0,
 "worksheets": [
  {
   "cells": [
    {
     "cell_type": "code",
     "collapsed": false,
     "input": [
      "include(\"kronfun.jl\")"
     ],
     "language": "python",
     "metadata": {},
     "outputs": [
      {
       "metadata": {},
       "output_type": "pyout",
       "prompt_number": 1,
       "text": [
        "kronSum (generic function with 2 methods)"
       ]
      }
     ],
     "prompt_number": 1
    },
    {
     "cell_type": "code",
     "collapsed": false,
     "input": [
      "function E(i,j,m,n)\n",
      "    Emn = spzeros(m,n)\n",
      "    Emn[i,j] = 1.\n",
      "    return Emn\n",
      "end"
     ],
     "language": "python",
     "metadata": {},
     "outputs": [
      {
       "metadata": {},
       "output_type": "pyout",
       "prompt_number": 7,
       "text": [
        "E (generic function with 1 method)"
       ]
      }
     ],
     "prompt_number": 7
    },
    {
     "cell_type": "code",
     "collapsed": false,
     "input": [
      "function P(m,n)\n",
      "    Pmn = spzeros(m*n,m*n)\n",
      "    for i in 1:m\n",
      "        for j in 1:n\n",
      "            Eij = E(i,j,m,n)\n",
      "            Pmn = Pmn + kron(Eij, Eij')\n",
      "        end\n",
      "    end\n",
      "    return Pmn\n",
      "end"
     ],
     "language": "python",
     "metadata": {},
     "outputs": [
      {
       "metadata": {},
       "output_type": "pyout",
       "prompt_number": 15,
       "text": [
        "P (generic function with 1 method)"
       ]
      }
     ],
     "prompt_number": 15
    },
    {
     "cell_type": "code",
     "collapsed": false,
     "input": [
      "function kronSum2(B)\n",
      "    m = size(B,1)\n",
      "    n = size(B,2)\n",
      "    assert(m==n)\n",
      "    In = spdiagm(ones(n))\n",
      "    BxI = kron(B, In)\n",
      "    Pn = P(n,n)\n",
      "    return BxI + Pn*BxI*(Pn')\n",
      "end"
     ],
     "language": "python",
     "metadata": {},
     "outputs": []
    },
    {
     "cell_type": "code",
     "collapsed": false,
     "input": [
      "function kronSum3(B)\n",
      "    m = size(B,1)\n",
      "    n = size(B,2)\n",
      "    assert(m==n)\n",
      "    In2 = spdiagm(ones(n*n))\n",
      "    IxB = kron(In2, B)\n",
      "    Pnn2 = P(n,n*n)\n",
      "    Pn2n = P(n*n,n)\n",
      "    return IxB + Pnn2*IxB*(Pnn2') + Pn2n*IxB*(Pn2n') \n",
      "end"
     ],
     "language": "python",
     "metadata": {},
     "outputs": [
      {
       "metadata": {},
       "output_type": "pyout",
       "prompt_number": 88,
       "text": [
        "kronSum3 (generic function with 1 method)"
       ]
      }
     ],
     "prompt_number": 88
    },
    {
     "cell_type": "code",
     "collapsed": false,
     "input": [
      "A = rand(2,2);\n",
      "B = rand(3,3);"
     ],
     "language": "python",
     "metadata": {},
     "outputs": [],
     "prompt_number": 25
    },
    {
     "cell_type": "code",
     "collapsed": false,
     "input": [
      "A3 = kronSum(kronSum(A,A),A)"
     ],
     "language": "python",
     "metadata": {},
     "outputs": [
      {
       "metadata": {},
       "output_type": "pyout",
       "prompt_number": 78,
       "text": [
        "64x64 sparse matrix with 640 Float64 entries:\n",
        "\t[1 ,  1]  =  3.0\n",
        "\t[2 ,  1]  =  2.0\n",
        "\t[3 ,  1]  =  3.0\n",
        "\t[4 ,  1]  =  4.0\n",
        "\t[5 ,  1]  =  2.0\n",
        "\t[9 ,  1]  =  3.0\n",
        "\t[13,  1]  =  4.0\n",
        "\t[17,  1]  =  2.0\n",
        "\t[33,  1]  =  3.0\n",
        "\t[49,  1]  =  4.0\n",
        "\t\u22ee\n",
        "\t[64, 63]  =  12.0\n",
        "\t[16, 64]  =  13.0\n",
        "\t[32, 64]  =  14.0\n",
        "\t[48, 64]  =  15.0\n",
        "\t[52, 64]  =  13.0\n",
        "\t[56, 64]  =  14.0\n",
        "\t[60, 64]  =  15.0\n",
        "\t[61, 64]  =  13.0\n",
        "\t[62, 64]  =  14.0\n",
        "\t[63, 64]  =  15.0\n",
        "\t[64, 64]  =  48.0"
       ]
      }
     ],
     "prompt_number": 78
    },
    {
     "cell_type": "code",
     "collapsed": false,
     "input": [
      "kronSum3(A) - A3"
     ],
     "language": "python",
     "metadata": {},
     "outputs": [
      {
       "metadata": {},
       "output_type": "pyout",
       "prompt_number": 90,
       "text": [
        "64x64 sparse matrix with 0 Float64 entries:"
       ]
      }
     ],
     "prompt_number": 90
    },
    {
     "cell_type": "code",
     "collapsed": false,
     "input": [
      "m=n=2; p=q=3;"
     ],
     "language": "python",
     "metadata": {},
     "outputs": [],
     "prompt_number": 29
    },
    {
     "cell_type": "code",
     "collapsed": false,
     "input": [
      "P_m_p = P(m,p); P_n_q = P(n,q);"
     ],
     "language": "python",
     "metadata": {},
     "outputs": [],
     "prompt_number": 30
    },
    {
     "cell_type": "code",
     "collapsed": false,
     "input": [
      "P_m_p * BA * P_n_q' - AB"
     ],
     "language": "python",
     "metadata": {},
     "outputs": [
      {
       "metadata": {},
       "output_type": "pyout",
       "prompt_number": 32,
       "text": [
        "6x6 Array{Float64,2}:\n",
        " 0.0  0.0  0.0  0.0  0.0  0.0\n",
        " 0.0  0.0  0.0  0.0  0.0  0.0\n",
        " 0.0  0.0  0.0  0.0  0.0  0.0\n",
        " 0.0  0.0  0.0  0.0  0.0  0.0\n",
        " 0.0  0.0  0.0  0.0  0.0  0.0\n",
        " 0.0  0.0  0.0  0.0  0.0  0.0"
       ]
      }
     ],
     "prompt_number": 32
    },
    {
     "cell_type": "code",
     "collapsed": false,
     "input": [
      "kron(randn(2,2),eye(2))"
     ],
     "language": "python",
     "metadata": {},
     "outputs": [
      {
       "metadata": {},
       "output_type": "pyout",
       "prompt_number": 43,
       "text": [
        "4x4 Array{Float64,2}:\n",
        "  0.357312   0.0        0.911455   0.0     \n",
        "  0.0        0.357312   0.0        0.911455\n",
        " -1.85487   -0.0       -0.604254  -0.0     \n",
        " -0.0       -1.85487   -0.0       -0.604254"
       ]
      }
     ],
     "prompt_number": 43
    },
    {
     "cell_type": "code",
     "collapsed": false,
     "input": [
      "full(P(1,4))"
     ],
     "language": "python",
     "metadata": {},
     "outputs": [
      {
       "metadata": {},
       "output_type": "pyout",
       "prompt_number": 54,
       "text": [
        "4x4 Array{Float64,2}:\n",
        " 1.0  0.0  0.0  0.0\n",
        " 0.0  1.0  0.0  0.0\n",
        " 0.0  0.0  1.0  0.0\n",
        " 0.0  0.0  0.0  1.0"
       ]
      }
     ],
     "prompt_number": 54
    },
    {
     "cell_type": "code",
     "collapsed": false,
     "input": [
      "A = reshape(1:16,4,4)"
     ],
     "language": "python",
     "metadata": {},
     "outputs": [
      {
       "metadata": {},
       "output_type": "pyout",
       "prompt_number": 69,
       "text": [
        "4x4 Array{Int64,2}:\n",
        " 1  5   9  13\n",
        " 2  6  10  14\n",
        " 3  7  11  15\n",
        " 4  8  12  16"
       ]
      }
     ],
     "prompt_number": 69
    },
    {
     "cell_type": "code",
     "collapsed": false,
     "input": [
      "P_4_4 = P(2,2); full(P_4_4)"
     ],
     "language": "python",
     "metadata": {},
     "outputs": [
      {
       "metadata": {},
       "output_type": "pyout",
       "prompt_number": 70,
       "text": [
        "4x4 Array{Float64,2}:\n",
        " 1.0  0.0  0.0  0.0\n",
        " 0.0  0.0  1.0  0.0\n",
        " 0.0  1.0  0.0  0.0\n",
        " 0.0  0.0  0.0  1.0"
       ]
      }
     ],
     "prompt_number": 70
    },
    {
     "cell_type": "code",
     "collapsed": false,
     "input": [
      "P_4_4 * A"
     ],
     "language": "python",
     "metadata": {},
     "outputs": [
      {
       "metadata": {},
       "output_type": "pyout",
       "prompt_number": 71,
       "text": [
        "4x4 Array{Float64,2}:\n",
        " 1.0  5.0   9.0  13.0\n",
        " 3.0  7.0  11.0  15.0\n",
        " 2.0  6.0  10.0  14.0\n",
        " 4.0  8.0  12.0  16.0"
       ]
      }
     ],
     "prompt_number": 71
    },
    {
     "cell_type": "code",
     "collapsed": false,
     "input": [
      "A * P_4_4'"
     ],
     "language": "python",
     "metadata": {},
     "outputs": [
      {
       "metadata": {},
       "output_type": "pyout",
       "prompt_number": 72,
       "text": [
        "4x4 Array{Float64,2}:\n",
        " 1.0   9.0  5.0  13.0\n",
        " 2.0  10.0  6.0  14.0\n",
        " 3.0  11.0  7.0  15.0\n",
        " 4.0  12.0  8.0  16.0"
       ]
      }
     ],
     "prompt_number": 72
    },
    {
     "cell_type": "code",
     "collapsed": false,
     "input": [
      "kron([1:5]', [1, 0, 0, 0, 0]')"
     ],
     "language": "python",
     "metadata": {},
     "outputs": [
      {
       "metadata": {},
       "output_type": "pyout",
       "prompt_number": 76,
       "text": [
        "1x25 Array{Int64,2}:\n",
        " 1  0  0  0  0  2  0  0  0  0  3  0  0  0  0  4  0  0  0  0  5  0  0  0  0"
       ]
      }
     ],
     "prompt_number": 76
    },
    {
     "cell_type": "code",
     "collapsed": false,
     "input": [],
     "language": "python",
     "metadata": {},
     "outputs": []
    }
   ],
   "metadata": {}
  }
 ]
}