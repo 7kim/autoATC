{
 "metadata": {
  "name": "",
  "signature": "sha256:aa809b68da7b447e0e9e2284687d4af2a2d594007ed4046fce8938459daf263d"
 },
 "nbformat": 3,
 "nbformat_minor": 0,
 "worksheets": [
  {
   "cells": [
    {
     "cell_type": "code",
     "collapsed": false,
     "input": [
      "%matplotlib inline\n",
      "import pymc.Matplot as pymcPlt\n",
      "import pymc\n",
      "import matplotlib.pyplot as plt\n",
      "import matplotlib\n",
      "import numpy as np\n",
      "import scipy\n",
      "matplotlib.rcParams['figure.figsize'] = (10,10)\n"
     ],
     "language": "python",
     "metadata": {},
     "outputs": [],
     "prompt_number": 1
    },
    {
     "cell_type": "code",
     "collapsed": false,
     "input": [
      "np.set_printoptions(formatter={'float': '{: 0.3f}'.format})"
     ],
     "language": "python",
     "metadata": {},
     "outputs": [],
     "prompt_number": 2
    },
    {
     "cell_type": "code",
     "collapsed": false,
     "input": [
      "import toy"
     ],
     "language": "python",
     "metadata": {},
     "outputs": [],
     "prompt_number": 3
    },
    {
     "cell_type": "code",
     "collapsed": false,
     "input": [
      "# Mmap = pymc.MAP(toy)\n",
      "# Mmap.fit()\n",
      "# Mmap.logp_at_max, Mmap.logp"
     ],
     "language": "python",
     "metadata": {},
     "outputs": [],
     "prompt_number": 4
    },
    {
     "cell_type": "code",
     "collapsed": false,
     "input": [
      "# plt.plot(Mmap.x_meas, Mmap.y_meas, linestyle='', marker='.')\n",
      "\n",
      "# D = Mmap.xy_points.value\n",
      "# plt.plot(D[:,0], D[:,1], linestyle='', marker='.', color='r')\n",
      "\n",
      "# _x_nodes = np.array([n.value for n in Mmap.x_nodes])\n",
      "# _y_nodes = np.array([n.value for n in Mmap.y_nodes])\n",
      "# plt.plot(_x_nodes, _y_nodes, linestyle='', marker='x', color='g', markersize=8, markeredgewidth=3)\n",
      "# for (idx, (xt,yt)) in enumerate(zip(_x_nodes, _y_nodes)):\n",
      "#     plt.text(xt+.1,yt+.1,idx,size=15)\n",
      "\n",
      "# plt.grid(\"on\")\n",
      "# #plt.axis(\"equal\")\n",
      "# plt.xlim([-20, 20])\n",
      "# plt.ylim([-20, 20])"
     ],
     "language": "python",
     "metadata": {},
     "outputs": [],
     "prompt_number": 5
    },
    {
     "cell_type": "code",
     "collapsed": false,
     "input": [
      "M = pymc.MCMC(toy)"
     ],
     "language": "python",
     "metadata": {},
     "outputs": [],
     "prompt_number": 6
    },
    {
     "cell_type": "code",
     "collapsed": false,
     "input": [
      "M.sample(iter=10000, thin=50)#,burn=500,thin=50)#, burn=500, thin=50)"
     ],
     "language": "python",
     "metadata": {},
     "outputs": [
      {
       "output_type": "stream",
       "stream": "stdout",
       "text": [
        "\r",
        " [                  0%                  ] 3 of 10000 complete in 0.6 sec"
       ]
      },
      {
       "output_type": "stream",
       "stream": "stdout",
       "text": [
        "\r",
        " [                  0%                  ] 5 of 10000 complete in 1.1 sec"
       ]
      },
      {
       "output_type": "stream",
       "stream": "stdout",
       "text": [
        "\r",
        " [                  0%                  ] 7 of 10000 complete in 1.6 sec"
       ]
      },
      {
       "output_type": "stream",
       "stream": "stdout",
       "text": [
        "\r",
        " [                  0%                  ] 9 of 10000 complete in 2.2 sec"
       ]
      },
      {
       "output_type": "stream",
       "stream": "stdout",
       "text": [
        "\r",
        " [                  0%                  ] 11 of 10000 complete in 2.7 sec"
       ]
      },
      {
       "output_type": "stream",
       "stream": "stdout",
       "text": [
        "\r",
        " [                  0%                  ] 13 of 10000 complete in 3.3 sec"
       ]
      },
      {
       "output_type": "stream",
       "stream": "stdout",
       "text": [
        "\r",
        " [                  0%                  ] 15 of 10000 complete in 3.8 sec"
       ]
      },
      {
       "output_type": "stream",
       "stream": "stdout",
       "text": [
        "\r",
        " [                  0%                  ] 17 of 10000 complete in 4.4 sec"
       ]
      },
      {
       "output_type": "stream",
       "stream": "stdout",
       "text": [
        "\r",
        " [                  0%                  ] 19 of 10000 complete in 5.0 sec"
       ]
      },
      {
       "output_type": "stream",
       "stream": "stdout",
       "text": [
        "\r",
        " [                  0%                  ] 21 of 10000 complete in 5.5 sec"
       ]
      },
      {
       "output_type": "stream",
       "stream": "stdout",
       "text": [
        "\r",
        " [                  0%                  ] 23 of 10000 complete in 6.0 sec"
       ]
      },
      {
       "output_type": "stream",
       "stream": "stdout",
       "text": [
        "\r",
        " [                  0%                  ] 25 of 10000 complete in 6.5 sec"
       ]
      },
      {
       "output_type": "stream",
       "stream": "stdout",
       "text": [
        "\r",
        " [                  0%                  ] 28 of 10000 complete in 7.3 sec"
       ]
      },
      {
       "output_type": "stream",
       "stream": "stdout",
       "text": [
        "\r",
        " [                  0%                  ] 30 of 10000 complete in 7.8 sec"
       ]
      },
      {
       "output_type": "stream",
       "stream": "stdout",
       "text": [
        "\r",
        " [                  0%                  ] 33 of 10000 complete in 8.5 sec"
       ]
      },
      {
       "output_type": "stream",
       "stream": "stdout",
       "text": [
        "\r",
        " [                  0%                  ] 35 of 10000 complete in 9.0 sec"
       ]
      },
      {
       "output_type": "stream",
       "stream": "stdout",
       "text": [
        "\r",
        " [                  0%                  ] 38 of 10000 complete in 9.8 sec"
       ]
      },
      {
       "output_type": "stream",
       "stream": "stdout",
       "text": [
        "\r",
        " [                  0%                  ] 41 of 10000 complete in 10.5 sec"
       ]
      },
      {
       "output_type": "stream",
       "stream": "stdout",
       "text": [
        "\r",
        " [                  0%                  ] 44 of 10000 complete in 11.3 sec"
       ]
      },
      {
       "output_type": "stream",
       "stream": "stdout",
       "text": [
        "\r",
        " [                  0%                  ] 47 of 10000 complete in 12.0 sec"
       ]
      },
      {
       "output_type": "stream",
       "stream": "stdout",
       "text": [
        "\r",
        " [                  0%                  ] 49 of 10000 complete in 12.5 sec"
       ]
      },
      {
       "output_type": "stream",
       "stream": "stdout",
       "text": [
        "\r",
        " [                  0%                  ] 51 of 10000 complete in 13.1 sec"
       ]
      },
      {
       "output_type": "stream",
       "stream": "stdout",
       "text": [
        "\r",
        " [                  0%                  ] 54 of 10000 complete in 13.8 sec"
       ]
      },
      {
       "output_type": "stream",
       "stream": "stdout",
       "text": [
        "\r",
        " [                  0%                  ] 57 of 10000 complete in 14.5 sec"
       ]
      },
      {
       "output_type": "stream",
       "stream": "stdout",
       "text": [
        "\r",
        " [                  0%                  ] 60 of 10000 complete in 15.2 sec"
       ]
      },
      {
       "output_type": "stream",
       "stream": "stdout",
       "text": [
        "\r",
        " [                  0%                  ] 62 of 10000 complete in 15.8 sec"
       ]
      },
      {
       "output_type": "stream",
       "stream": "stdout",
       "text": [
        "\r",
        " [                  0%                  ] 64 of 10000 complete in 16.3 sec"
       ]
      },
      {
       "output_type": "stream",
       "stream": "stdout",
       "text": [
        "\r",
        " [                  0%                  ] 67 of 10000 complete in 17.0 sec"
       ]
      },
      {
       "output_type": "stream",
       "stream": "stdout",
       "text": [
        "\r",
        " [                  0%                  ] 69 of 10000 complete in 17.5 sec"
       ]
      },
      {
       "output_type": "stream",
       "stream": "stdout",
       "text": [
        "\r",
        " [                  0%                  ] 72 of 10000 complete in 18.2 sec"
       ]
      },
      {
       "output_type": "stream",
       "stream": "stdout",
       "text": [
        "\r",
        " [                  0%                  ] 74 of 10000 complete in 18.8 sec"
       ]
      },
      {
       "output_type": "stream",
       "stream": "stdout",
       "text": [
        "\r",
        " [                  0%                  ] 77 of 10000 complete in 19.5 sec"
       ]
      },
      {
       "output_type": "stream",
       "stream": "stdout",
       "text": [
        "\r",
        " [                  0%                  ] 79 of 10000 complete in 20.0 sec"
       ]
      },
      {
       "output_type": "stream",
       "stream": "stdout",
       "text": [
        "\r",
        " [                  0%                  ] 82 of 10000 complete in 20.8 sec"
       ]
      },
      {
       "output_type": "stream",
       "stream": "stdout",
       "text": [
        "\r",
        " [                  0%                  ] 84 of 10000 complete in 21.3 sec"
       ]
      },
      {
       "output_type": "stream",
       "stream": "stdout",
       "text": [
        "\r",
        " [                  0%                  ] 87 of 10000 complete in 22.0 sec"
       ]
      },
      {
       "output_type": "stream",
       "stream": "stdout",
       "text": [
        "\r",
        " [                  0%                  ] 89 of 10000 complete in 22.5 sec"
       ]
      },
      {
       "output_type": "stream",
       "stream": "stdout",
       "text": [
        "\r",
        " [                  0%                  ] 91 of 10000 complete in 23.0 sec"
       ]
      },
      {
       "output_type": "stream",
       "stream": "stdout",
       "text": [
        "\r",
        " [                  0%                  ] 93 of 10000 complete in 23.5 sec"
       ]
      },
      {
       "output_type": "stream",
       "stream": "stdout",
       "text": [
        "\r",
        " [                  0%                  ] 95 of 10000 complete in 24.1 sec"
       ]
      },
      {
       "output_type": "stream",
       "stream": "stdout",
       "text": [
        "\r",
        " [                  0%                  ] 98 of 10000 complete in 24.8 sec"
       ]
      },
      {
       "output_type": "stream",
       "stream": "stdout",
       "text": [
        "\r",
        " [                  1%                  ] 101 of 10000 complete in 25.5 sec"
       ]
      },
      {
       "output_type": "stream",
       "stream": "stdout",
       "text": [
        "\r",
        " [                  1%                  ] 103 of 10000 complete in 26.0 sec"
       ]
      },
      {
       "output_type": "stream",
       "stream": "stdout",
       "text": [
        "\r",
        " [                  1%                  ] 106 of 10000 complete in 26.8 sec"
       ]
      },
      {
       "output_type": "stream",
       "stream": "stdout",
       "text": [
        "\r",
        " [                  1%                  ] 108 of 10000 complete in 27.3 sec"
       ]
      },
      {
       "output_type": "stream",
       "stream": "stdout",
       "text": [
        "\r",
        " [                  1%                  ] 110 of 10000 complete in 27.8 sec"
       ]
      },
      {
       "output_type": "stream",
       "stream": "stdout",
       "text": [
        "\r",
        " [                  1%                  ] 113 of 10000 complete in 28.5 sec"
       ]
      },
      {
       "output_type": "stream",
       "stream": "stdout",
       "text": [
        "\r",
        " [                  1%                  ] 115 of 10000 complete in 29.1 sec"
       ]
      },
      {
       "output_type": "stream",
       "stream": "stdout",
       "text": [
        "\r",
        " [                  1%                  ] 117 of 10000 complete in 29.6 sec"
       ]
      },
      {
       "output_type": "stream",
       "stream": "stdout",
       "text": [
        "\r",
        " [                  1%                  ] 119 of 10000 complete in 30.1 sec"
       ]
      },
      {
       "output_type": "stream",
       "stream": "stdout",
       "text": [
        "\r",
        " [                  1%                  ] 122 of 10000 complete in 30.9 sec"
       ]
      },
      {
       "output_type": "stream",
       "stream": "stdout",
       "text": [
        "\r",
        " [                  1%                  ] 124 of 10000 complete in 31.4 sec"
       ]
      },
      {
       "output_type": "stream",
       "stream": "stdout",
       "text": [
        "\r",
        " [                  1%                  ] 127 of 10000 complete in 32.2 sec"
       ]
      },
      {
       "output_type": "stream",
       "stream": "stdout",
       "text": [
        "\r",
        " [                  1%                  ] 130 of 10000 complete in 32.9 sec"
       ]
      },
      {
       "output_type": "stream",
       "stream": "stdout",
       "text": [
        "\r",
        " [                  1%                  ] 132 of 10000 complete in 33.4 sec"
       ]
      },
      {
       "output_type": "stream",
       "stream": "stdout",
       "text": [
        "\r",
        " [                  1%                  ] 134 of 10000 complete in 34.0 sec"
       ]
      },
      {
       "output_type": "stream",
       "stream": "stdout",
       "text": [
        "\r",
        " [                  1%                  ] 137 of 10000 complete in 34.7 sec"
       ]
      },
      {
       "output_type": "stream",
       "stream": "stdout",
       "text": [
        "\r",
        " [                  1%                  ] 140 of 10000 complete in 35.4 sec"
       ]
      },
      {
       "output_type": "stream",
       "stream": "stdout",
       "text": [
        "\r",
        " [                  1%                  ] 142 of 10000 complete in 35.9 sec"
       ]
      },
      {
       "output_type": "stream",
       "stream": "stdout",
       "text": [
        "\r",
        " [                  1%                  ] 145 of 10000 complete in 36.6 sec"
       ]
      },
      {
       "output_type": "stream",
       "stream": "stdout",
       "text": [
        "\r",
        " [                  1%                  ] 147 of 10000 complete in 37.1 sec"
       ]
      },
      {
       "output_type": "stream",
       "stream": "stdout",
       "text": [
        "\r",
        " [                  1%                  ] 150 of 10000 complete in 37.9 sec"
       ]
      },
      {
       "output_type": "stream",
       "stream": "stdout",
       "text": [
        "\r",
        " [                  1%                  ] 153 of 10000 complete in 38.6 sec"
       ]
      },
      {
       "output_type": "stream",
       "stream": "stdout",
       "text": [
        "\r",
        " [                  1%                  ] 156 of 10000 complete in 39.4 sec"
       ]
      },
      {
       "output_type": "stream",
       "stream": "stdout",
       "text": [
        "\r",
        " [                  1%                  ] 158 of 10000 complete in 39.9 sec"
       ]
      },
      {
       "output_type": "stream",
       "stream": "stdout",
       "text": [
        "\r",
        " [                  1%                  ] 161 of 10000 complete in 40.7 sec"
       ]
      },
      {
       "output_type": "stream",
       "stream": "stdout",
       "text": [
        "\r",
        " [                  1%                  ] 164 of 10000 complete in 41.4 sec"
       ]
      },
      {
       "output_type": "stream",
       "stream": "stdout",
       "text": [
        "\r",
        " [                  1%                  ] 166 of 10000 complete in 41.9 sec"
       ]
      },
      {
       "output_type": "stream",
       "stream": "stdout",
       "text": [
        "\r",
        " [                  1%                  ] 168 of 10000 complete in 42.5 sec"
       ]
      },
      {
       "output_type": "stream",
       "stream": "stdout",
       "text": [
        "\r",
        " [                  1%                  ] 170 of 10000 complete in 43.2 sec"
       ]
      },
      {
       "output_type": "stream",
       "stream": "stdout",
       "text": [
        "\r",
        " [                  1%                  ] 172 of 10000 complete in 43.7 sec"
       ]
      },
      {
       "output_type": "stream",
       "stream": "stdout",
       "text": [
        "\r",
        " [                  1%                  ] 174 of 10000 complete in 44.2 sec"
       ]
      },
      {
       "output_type": "stream",
       "stream": "stdout",
       "text": [
        "\r",
        " [                  1%                  ] 176 of 10000 complete in 44.8 sec"
       ]
      },
      {
       "output_type": "stream",
       "stream": "stdout",
       "text": [
        "\r",
        " [                  1%                  ] 178 of 10000 complete in 45.3 sec"
       ]
      },
      {
       "output_type": "stream",
       "stream": "stdout",
       "text": [
        "\r",
        " [                  1%                  ] 180 of 10000 complete in 45.8 sec"
       ]
      },
      {
       "output_type": "stream",
       "stream": "stdout",
       "text": [
        "\r",
        " [                  1%                  ] 182 of 10000 complete in 46.4 sec"
       ]
      },
      {
       "output_type": "stream",
       "stream": "stdout",
       "text": [
        "\r",
        " [                  1%                  ] 185 of 10000 complete in 47.2 sec"
       ]
      },
      {
       "output_type": "stream",
       "stream": "stdout",
       "text": [
        "\r",
        " [                  1%                  ] 187 of 10000 complete in 47.7 sec"
       ]
      },
      {
       "output_type": "stream",
       "stream": "stdout",
       "text": [
        "\r",
        " [                  1%                  ] 189 of 10000 complete in 48.3 sec"
       ]
      },
      {
       "output_type": "stream",
       "stream": "stdout",
       "text": [
        "\r",
        " [                  1%                  ] 191 of 10000 complete in 48.9 sec"
       ]
      },
      {
       "output_type": "stream",
       "stream": "stdout",
       "text": [
        "\r",
        " [                  1%                  ] 193 of 10000 complete in 49.4 sec"
       ]
      },
      {
       "output_type": "stream",
       "stream": "stdout",
       "text": [
        "\r",
        " [                  1%                  ] 195 of 10000 complete in 49.9 sec"
       ]
      },
      {
       "output_type": "stream",
       "stream": "stdout",
       "text": [
        "\r",
        " [                  1%                  ] 197 of 10000 complete in 50.5 sec"
       ]
      },
      {
       "output_type": "stream",
       "stream": "stdout",
       "text": [
        "\r",
        " [                  1%                  ] 199 of 10000 complete in 51.0 sec"
       ]
      },
      {
       "output_type": "stream",
       "stream": "stdout",
       "text": [
        "\r",
        " [                  2%                  ] 202 of 10000 complete in 51.7 sec"
       ]
      },
      {
       "output_type": "stream",
       "stream": "stdout",
       "text": [
        "\r",
        " [                  2%                  ] 205 of 10000 complete in 52.5 sec"
       ]
      },
      {
       "output_type": "stream",
       "stream": "stdout",
       "text": [
        "\r",
        " [                  2%                  ] 208 of 10000 complete in 53.2 sec"
       ]
      },
      {
       "output_type": "stream",
       "stream": "stdout",
       "text": [
        "\r",
        " [                  2%                  ] 211 of 10000 complete in 54.0 sec"
       ]
      },
      {
       "output_type": "stream",
       "stream": "stdout",
       "text": [
        "\r",
        " [                  2%                  ] 214 of 10000 complete in 54.7 sec"
       ]
      },
      {
       "output_type": "stream",
       "stream": "stdout",
       "text": [
        "\r",
        " [                  2%                  ] 217 of 10000 complete in 55.4 sec"
       ]
      },
      {
       "output_type": "stream",
       "stream": "stdout",
       "text": [
        "\r",
        " [                  2%                  ] 219 of 10000 complete in 55.9 sec"
       ]
      },
      {
       "output_type": "stream",
       "stream": "stdout",
       "text": [
        "\r",
        " [                  2%                  ] 221 of 10000 complete in 56.5 sec"
       ]
      },
      {
       "output_type": "stream",
       "stream": "stdout",
       "text": [
        "\r",
        " [                  2%                  ] 224 of 10000 complete in 57.2 sec"
       ]
      },
      {
       "output_type": "stream",
       "stream": "stdout",
       "text": [
        "\r",
        " [                  2%                  ] 227 of 10000 complete in 57.9 sec"
       ]
      },
      {
       "output_type": "stream",
       "stream": "stdout",
       "text": [
        "\r",
        " [                  2%                  ] 229 of 10000 complete in 58.4 sec"
       ]
      },
      {
       "output_type": "stream",
       "stream": "stdout",
       "text": [
        "\r",
        " [                  2%                  ] 232 of 10000 complete in 59.1 sec"
       ]
      },
      {
       "output_type": "stream",
       "stream": "stdout",
       "text": [
        "\r",
        " [                  2%                  ] 235 of 10000 complete in 59.9 sec"
       ]
      },
      {
       "output_type": "stream",
       "stream": "stdout",
       "text": [
        "\r",
        " [                  2%                  ] 237 of 10000 complete in 60.4 sec"
       ]
      },
      {
       "output_type": "stream",
       "stream": "stdout",
       "text": [
        "\r",
        " [                  2%                  ] 239 of 10000 complete in 61.0 sec"
       ]
      },
      {
       "output_type": "stream",
       "stream": "stdout",
       "text": [
        "\r",
        " [                  2%                  ] 241 of 10000 complete in 61.5 sec"
       ]
      },
      {
       "output_type": "stream",
       "stream": "stdout",
       "text": [
        "\r",
        " [                  2%                  ] 243 of 10000 complete in 62.0 sec"
       ]
      },
      {
       "output_type": "stream",
       "stream": "stdout",
       "text": [
        "\r",
        " [                  2%                  ] 245 of 10000 complete in 62.5 sec"
       ]
      },
      {
       "output_type": "stream",
       "stream": "stdout",
       "text": [
        "\r",
        " [                  2%                  ] 247 of 10000 complete in 63.0 sec"
       ]
      },
      {
       "output_type": "stream",
       "stream": "stdout",
       "text": [
        "\r",
        " [                  2%                  ] 249 of 10000 complete in 63.5 sec"
       ]
      },
      {
       "output_type": "stream",
       "stream": "stdout",
       "text": [
        "\r",
        " [                  2%                  ] 251 of 10000 complete in 64.0 sec"
       ]
      },
      {
       "output_type": "stream",
       "stream": "stdout",
       "text": [
        "\r",
        " [                  2%                  ] 253 of 10000 complete in 64.5 sec"
       ]
      },
      {
       "output_type": "stream",
       "stream": "stdout",
       "text": [
        "\r",
        " [                  2%                  ] 255 of 10000 complete in 65.1 sec"
       ]
      },
      {
       "output_type": "stream",
       "stream": "stdout",
       "text": [
        "\r",
        " [                  2%                  ] 258 of 10000 complete in 65.8 sec"
       ]
      },
      {
       "output_type": "stream",
       "stream": "stdout",
       "text": [
        "\r",
        " [                  2%                  ] 260 of 10000 complete in 66.3 sec"
       ]
      },
      {
       "output_type": "stream",
       "stream": "stdout",
       "text": [
        "\r",
        " [                  2%                  ] 263 of 10000 complete in 67.0 sec"
       ]
      },
      {
       "output_type": "stream",
       "stream": "stdout",
       "text": [
        "\r",
        " [-                 2%                  ] 266 of 10000 complete in 67.8 sec"
       ]
      },
      {
       "output_type": "stream",
       "stream": "stdout",
       "text": [
        "\r",
        " [-                 2%                  ] 268 of 10000 complete in 68.3 sec"
       ]
      },
      {
       "output_type": "stream",
       "stream": "stdout",
       "text": [
        "\r",
        " [-                 2%                  ] 270 of 10000 complete in 68.9 sec"
       ]
      },
      {
       "output_type": "stream",
       "stream": "stdout",
       "text": [
        "\r",
        " [-                 2%                  ] 272 of 10000 complete in 69.4 sec"
       ]
      },
      {
       "output_type": "stream",
       "stream": "stdout",
       "text": [
        "\r",
        " [-                 2%                  ] 274 of 10000 complete in 69.9 sec"
       ]
      },
      {
       "output_type": "stream",
       "stream": "stdout",
       "text": [
        "\r",
        " [-                 2%                  ] 276 of 10000 complete in 70.4 sec"
       ]
      },
      {
       "output_type": "stream",
       "stream": "stdout",
       "text": [
        "\r",
        " [-                 2%                  ] 278 of 10000 complete in 71.0 sec"
       ]
      },
      {
       "output_type": "stream",
       "stream": "stdout",
       "text": [
        "\r",
        " [-                 2%                  ] 281 of 10000 complete in 71.7 sec"
       ]
      },
      {
       "output_type": "stream",
       "stream": "stdout",
       "text": [
        "\r",
        " [-                 2%                  ] 283 of 10000 complete in 72.2 sec"
       ]
      },
      {
       "output_type": "stream",
       "stream": "stdout",
       "text": [
        "\r",
        " [-                 2%                  ] 285 of 10000 complete in 72.8 sec"
       ]
      },
      {
       "output_type": "stream",
       "stream": "stdout",
       "text": [
        "\r",
        " [-                 2%                  ] 287 of 10000 complete in 73.3 sec"
       ]
      },
      {
       "output_type": "stream",
       "stream": "stdout",
       "text": [
        "\r",
        " [-                 2%                  ] 289 of 10000 complete in 73.8 sec"
       ]
      },
      {
       "output_type": "stream",
       "stream": "stdout",
       "text": [
        "\r",
        " [-                 2%                  ] 291 of 10000 complete in 74.3 sec"
       ]
      },
      {
       "output_type": "stream",
       "stream": "stdout",
       "text": [
        "\r",
        " [-                 2%                  ] 293 of 10000 complete in 74.8 sec"
       ]
      },
      {
       "output_type": "stream",
       "stream": "stdout",
       "text": [
        "\r",
        " [-                 2%                  ] 296 of 10000 complete in 75.6 sec"
       ]
      },
      {
       "output_type": "stream",
       "stream": "stdout",
       "text": [
        "\r",
        " [-                 2%                  ] 298 of 10000 complete in 76.1 sec"
       ]
      },
      {
       "output_type": "stream",
       "stream": "stdout",
       "text": [
        "\r",
        " [-                 3%                  ] 300 of 10000 complete in 76.6 sec"
       ]
      },
      {
       "output_type": "stream",
       "stream": "stdout",
       "text": [
        "\r",
        " [-                 3%                  ] 302 of 10000 complete in 77.1 sec"
       ]
      },
      {
       "output_type": "stream",
       "stream": "stdout",
       "text": [
        "\r",
        " [-                 3%                  ] 305 of 10000 complete in 77.9 sec"
       ]
      },
      {
       "output_type": "stream",
       "stream": "stdout",
       "text": [
        "\r",
        " [-                 3%                  ] 308 of 10000 complete in 78.6 sec"
       ]
      },
      {
       "output_type": "stream",
       "stream": "stdout",
       "text": [
        "\r",
        " [-                 3%                  ] 310 of 10000 complete in 79.1 sec"
       ]
      },
      {
       "output_type": "stream",
       "stream": "stdout",
       "text": [
        "\r",
        " [-                 3%                  ] 313 of 10000 complete in 79.8 sec"
       ]
      },
      {
       "output_type": "stream",
       "stream": "stdout",
       "text": [
        "\r",
        " [-                 3%                  ] 315 of 10000 complete in 80.3 sec"
       ]
      },
      {
       "output_type": "stream",
       "stream": "stdout",
       "text": [
        "\r",
        " [-                 3%                  ] 318 of 10000 complete in 81.1 sec"
       ]
      },
      {
       "output_type": "stream",
       "stream": "stdout",
       "text": [
        "\r",
        " [-                 3%                  ] 321 of 10000 complete in 81.8 sec"
       ]
      },
      {
       "output_type": "stream",
       "stream": "stdout",
       "text": [
        "\r",
        " [-                 3%                  ] 324 of 10000 complete in 82.5 sec"
       ]
      },
      {
       "output_type": "stream",
       "stream": "stdout",
       "text": [
        "\r",
        " [-                 3%                  ] 327 of 10000 complete in 83.3 sec"
       ]
      },
      {
       "output_type": "stream",
       "stream": "stdout",
       "text": [
        "\r",
        " [-                 3%                  ] 329 of 10000 complete in 83.8 sec"
       ]
      },
      {
       "output_type": "stream",
       "stream": "stdout",
       "text": [
        "\r",
        " [-                 3%                  ] 332 of 10000 complete in 84.5 sec"
       ]
      },
      {
       "output_type": "stream",
       "stream": "stdout",
       "text": [
        "\r",
        " [-                 3%                  ] 335 of 10000 complete in 85.2 sec"
       ]
      },
      {
       "output_type": "stream",
       "stream": "stdout",
       "text": [
        "\r",
        " [-                 3%                  ] 337 of 10000 complete in 85.7 sec"
       ]
      },
      {
       "output_type": "stream",
       "stream": "stdout",
       "text": [
        "\r",
        " [-                 3%                  ] 339 of 10000 complete in 86.2 sec"
       ]
      },
      {
       "output_type": "stream",
       "stream": "stdout",
       "text": [
        "\r",
        " [-                 3%                  ] 341 of 10000 complete in 86.7 sec"
       ]
      },
      {
       "output_type": "stream",
       "stream": "stdout",
       "text": [
        "\r",
        " [-                 3%                  ] 343 of 10000 complete in 87.2 sec"
       ]
      },
      {
       "output_type": "stream",
       "stream": "stdout",
       "text": [
        "\r",
        " [-                 3%                  ] 345 of 10000 complete in 87.8 sec"
       ]
      },
      {
       "output_type": "stream",
       "stream": "stdout",
       "text": [
        "\r",
        " [-                 3%                  ] 347 of 10000 complete in 88.3 sec"
       ]
      },
      {
       "output_type": "stream",
       "stream": "stdout",
       "text": [
        "\r",
        " [-                 3%                  ] 350 of 10000 complete in 89.0 sec"
       ]
      },
      {
       "output_type": "stream",
       "stream": "stdout",
       "text": [
        "\r",
        " [-                 3%                  ] 353 of 10000 complete in 89.8 sec"
       ]
      },
      {
       "output_type": "stream",
       "stream": "stdout",
       "text": [
        "\r",
        " [-                 3%                  ] 356 of 10000 complete in 90.5 sec"
       ]
      },
      {
       "output_type": "stream",
       "stream": "stdout",
       "text": [
        "\r",
        " [-                 3%                  ] 358 of 10000 complete in 91.0 sec"
       ]
      },
      {
       "output_type": "stream",
       "stream": "stdout",
       "text": [
        "\r",
        " [-                 3%                  ] 360 of 10000 complete in 91.6 sec"
       ]
      },
      {
       "output_type": "stream",
       "stream": "stdout",
       "text": [
        "\r",
        " [-                 3%                  ] 363 of 10000 complete in 92.3 sec"
       ]
      },
      {
       "output_type": "stream",
       "stream": "stdout",
       "text": [
        "\r",
        " [-                 3%                  ] 366 of 10000 complete in 93.0 sec"
       ]
      },
      {
       "output_type": "stream",
       "stream": "stdout",
       "text": [
        "\r",
        " [-                 3%                  ] 369 of 10000 complete in 93.7 sec"
       ]
      },
      {
       "output_type": "stream",
       "stream": "stdout",
       "text": [
        "\r",
        " [-                 3%                  ] 372 of 10000 complete in 94.5 sec"
       ]
      },
      {
       "output_type": "stream",
       "stream": "stdout",
       "text": [
        "\r",
        " [-                 3%                  ] 375 of 10000 complete in 95.2 sec"
       ]
      },
      {
       "output_type": "stream",
       "stream": "stdout",
       "text": [
        "\r",
        " [-                 3%                  ] 378 of 10000 complete in 95.9 sec"
       ]
      },
      {
       "output_type": "stream",
       "stream": "stdout",
       "text": [
        "\r",
        " [-                 3%                  ] 380 of 10000 complete in 96.5 sec"
       ]
      },
      {
       "output_type": "stream",
       "stream": "stdout",
       "text": [
        "\r",
        " [-                 3%                  ] 383 of 10000 complete in 97.2 sec"
       ]
      },
      {
       "output_type": "stream",
       "stream": "stdout",
       "text": [
        "\r",
        " [-                 3%                  ] 385 of 10000 complete in 97.7 sec"
       ]
      },
      {
       "output_type": "stream",
       "stream": "stdout",
       "text": [
        "\r",
        " [-                 3%                  ] 387 of 10000 complete in 98.2 sec"
       ]
      },
      {
       "output_type": "stream",
       "stream": "stdout",
       "text": [
        "\r",
        " [-                 3%                  ] 389 of 10000 complete in 98.8 sec"
       ]
      },
      {
       "output_type": "stream",
       "stream": "stdout",
       "text": [
        "\r",
        " [-                 3%                  ] 391 of 10000 complete in 99.4 sec"
       ]
      },
      {
       "output_type": "stream",
       "stream": "stdout",
       "text": [
        "\r",
        " [-                 3%                  ] 393 of 10000 complete in 99.9 sec"
       ]
      },
      {
       "output_type": "stream",
       "stream": "stdout",
       "text": [
        "\r",
        " [-                 3%                  ] 395 of 10000 complete in 100.4 sec"
       ]
      },
      {
       "output_type": "stream",
       "stream": "stdout",
       "text": [
        "\r",
        " [-                 3%                  ] 398 of 10000 complete in 101.1 sec"
       ]
      },
      {
       "output_type": "stream",
       "stream": "stdout",
       "text": [
        "\r",
        " [-                 4%                  ] 401 of 10000 complete in 101.9 sec"
       ]
      },
      {
       "output_type": "stream",
       "stream": "stdout",
       "text": [
        "\r",
        " [-                 4%                  ] 404 of 10000 complete in 102.6 sec"
       ]
      },
      {
       "output_type": "stream",
       "stream": "stdout",
       "text": [
        "\r",
        " [-                 4%                  ] 407 of 10000 complete in 103.4 sec"
       ]
      },
      {
       "output_type": "stream",
       "stream": "stdout",
       "text": [
        "\r",
        " [-                 4%                  ] 410 of 10000 complete in 104.1 sec"
       ]
      },
      {
       "output_type": "stream",
       "stream": "stdout",
       "text": [
        "\r",
        " [-                 4%                  ] 412 of 10000 complete in 104.6 sec"
       ]
      },
      {
       "output_type": "stream",
       "stream": "stdout",
       "text": [
        "\r",
        " [-                 4%                  ] 414 of 10000 complete in 105.1 sec"
       ]
      },
      {
       "output_type": "stream",
       "stream": "stdout",
       "text": [
        "\r",
        " [-                 4%                  ] 417 of 10000 complete in 105.9 sec"
       ]
      },
      {
       "output_type": "stream",
       "stream": "stdout",
       "text": [
        "\r",
        " [-                 4%                  ] 419 of 10000 complete in 106.4 sec"
       ]
      },
      {
       "output_type": "stream",
       "stream": "stdout",
       "text": [
        "\r",
        " [-                 4%                  ] 421 of 10000 complete in 106.9 sec"
       ]
      },
      {
       "output_type": "stream",
       "stream": "stdout",
       "text": [
        "\r",
        " [-                 4%                  ] 423 of 10000 complete in 107.4 sec"
       ]
      },
      {
       "output_type": "stream",
       "stream": "stdout",
       "text": [
        "\r",
        " [-                 4%                  ] 425 of 10000 complete in 107.9 sec"
       ]
      },
      {
       "output_type": "stream",
       "stream": "stdout",
       "text": [
        "\r",
        " [-                 4%                  ] 428 of 10000 complete in 108.6 sec"
       ]
      },
      {
       "output_type": "stream",
       "stream": "stdout",
       "text": [
        "\r",
        " [-                 4%                  ] 431 of 10000 complete in 109.3 sec"
       ]
      },
      {
       "output_type": "stream",
       "stream": "stdout",
       "text": [
        "\r",
        " [-                 4%                  ] 433 of 10000 complete in 109.9 sec"
       ]
      },
      {
       "output_type": "stream",
       "stream": "stdout",
       "text": [
        "\r",
        " [-                 4%                  ] 436 of 10000 complete in 110.6 sec"
       ]
      },
      {
       "output_type": "stream",
       "stream": "stdout",
       "text": [
        "\r",
        " [-                 4%                  ] 438 of 10000 complete in 111.2 sec"
       ]
      },
      {
       "output_type": "stream",
       "stream": "stdout",
       "text": [
        "\r",
        " [-                 4%                  ] 440 of 10000 complete in 111.7 sec"
       ]
      },
      {
       "output_type": "stream",
       "stream": "stdout",
       "text": [
        "\r",
        " [-                 4%                  ] 443 of 10000 complete in 112.4 sec"
       ]
      },
      {
       "output_type": "stream",
       "stream": "stdout",
       "text": [
        "\r",
        " [-                 4%                  ] 446 of 10000 complete in 113.1 sec"
       ]
      },
      {
       "output_type": "stream",
       "stream": "stdout",
       "text": [
        "\r",
        " [-                 4%                  ] 448 of 10000 complete in 113.6 sec"
       ]
      },
      {
       "output_type": "stream",
       "stream": "stdout",
       "text": [
        "\r",
        " [-                 4%                  ] 450 of 10000 complete in 114.1 sec"
       ]
      },
      {
       "output_type": "stream",
       "stream": "stdout",
       "text": [
        "\r",
        " [-                 4%                  ] 453 of 10000 complete in 114.8 sec"
       ]
      },
      {
       "output_type": "stream",
       "stream": "stdout",
       "text": [
        "\r",
        " [-                 4%                  ] 456 of 10000 complete in 115.6 sec"
       ]
      },
      {
       "output_type": "stream",
       "stream": "stdout",
       "text": [
        "\r",
        " [-                 4%                  ] 458 of 10000 complete in 116.1 sec"
       ]
      },
      {
       "output_type": "stream",
       "stream": "stdout",
       "text": [
        "\r",
        " [-                 4%                  ] 461 of 10000 complete in 116.8 sec"
       ]
      },
      {
       "output_type": "stream",
       "stream": "stdout",
       "text": [
        "\r",
        " [-                 4%                  ] 464 of 10000 complete in 117.6 sec"
       ]
      },
      {
       "output_type": "stream",
       "stream": "stdout",
       "text": [
        "\r",
        " [-                 4%                  ] 467 of 10000 complete in 118.3 sec"
       ]
      },
      {
       "output_type": "stream",
       "stream": "stdout",
       "text": [
        "\r",
        " [-                 4%                  ] 469 of 10000 complete in 118.9 sec"
       ]
      },
      {
       "output_type": "stream",
       "stream": "stdout",
       "text": [
        "\r",
        " [-                 4%                  ] 471 of 10000 complete in 119.4 sec"
       ]
      },
      {
       "output_type": "stream",
       "stream": "stdout",
       "text": [
        "\r",
        " [-                 4%                  ] 473 of 10000 complete in 119.9 sec"
       ]
      },
      {
       "output_type": "stream",
       "stream": "stdout",
       "text": [
        "\r",
        " [-                 4%                  ] 475 of 10000 complete in 120.4 sec"
       ]
      },
      {
       "output_type": "stream",
       "stream": "stdout",
       "text": [
        "\r",
        " [-                 4%                  ] 477 of 10000 complete in 121.0 sec"
       ]
      },
      {
       "output_type": "stream",
       "stream": "stdout",
       "text": [
        "\r",
        " [-                 4%                  ] 479 of 10000 complete in 121.5 sec"
       ]
      },
      {
       "output_type": "stream",
       "stream": "stdout",
       "text": [
        "\r",
        " [-                 4%                  ] 481 of 10000 complete in 122.0 sec"
       ]
      },
      {
       "output_type": "stream",
       "stream": "stdout",
       "text": [
        "\r",
        " [-                 4%                  ] 484 of 10000 complete in 122.7 sec"
       ]
      },
      {
       "output_type": "stream",
       "stream": "stdout",
       "text": [
        "\r",
        " [-                 4%                  ] 487 of 10000 complete in 123.5 sec"
       ]
      },
      {
       "output_type": "stream",
       "stream": "stdout",
       "text": [
        "\r",
        " [-                 4%                  ] 489 of 10000 complete in 124.0 sec"
       ]
      },
      {
       "output_type": "stream",
       "stream": "stdout",
       "text": [
        "\r",
        " [-                 4%                  ] 491 of 10000 complete in 124.5 sec"
       ]
      },
      {
       "output_type": "stream",
       "stream": "stdout",
       "text": [
        "\r",
        " [-                 4%                  ] 493 of 10000 complete in 125.0 sec"
       ]
      },
      {
       "output_type": "stream",
       "stream": "stdout",
       "text": [
        "\r",
        " [-                 4%                  ] 495 of 10000 complete in 125.5 sec"
       ]
      },
      {
       "output_type": "stream",
       "stream": "stdout",
       "text": [
        "\r",
        " [-                 4%                  ] 498 of 10000 complete in 126.3 sec"
       ]
      },
      {
       "output_type": "stream",
       "stream": "stdout",
       "text": [
        "\r",
        " [-                 5%                  ] 500 of 10000 complete in 126.8 sec"
       ]
      },
      {
       "output_type": "stream",
       "stream": "stdout",
       "text": [
        "\r",
        " [-                 5%                  ] 503 of 10000 complete in 127.5 sec"
       ]
      },
      {
       "output_type": "stream",
       "stream": "stdout",
       "text": [
        "\r",
        " [-                 5%                  ] 505 of 10000 complete in 128.0 sec"
       ]
      },
      {
       "output_type": "stream",
       "stream": "stdout",
       "text": [
        "\r",
        " [-                 5%                  ] 508 of 10000 complete in 128.8 sec"
       ]
      },
      {
       "output_type": "stream",
       "stream": "stdout",
       "text": [
        "\r",
        " [-                 5%                  ] 510 of 10000 complete in 129.3 sec"
       ]
      },
      {
       "output_type": "stream",
       "stream": "stdout",
       "text": [
        "\r",
        " [-                 5%                  ] 512 of 10000 complete in 129.8 sec"
       ]
      },
      {
       "output_type": "stream",
       "stream": "stdout",
       "text": [
        "\r",
        " [-                 5%                  ] 514 of 10000 complete in 130.4 sec"
       ]
      },
      {
       "output_type": "stream",
       "stream": "stdout",
       "text": [
        "\r",
        " [-                 5%                  ] 517 of 10000 complete in 131.1 sec"
       ]
      },
      {
       "output_type": "stream",
       "stream": "stdout",
       "text": [
        "\r",
        " [-                 5%                  ] 519 of 10000 complete in 131.6 sec"
       ]
      },
      {
       "output_type": "stream",
       "stream": "stdout",
       "text": [
        "\r",
        " [-                 5%                  ] 522 of 10000 complete in 132.3 sec"
       ]
      },
      {
       "output_type": "stream",
       "stream": "stdout",
       "text": [
        "\r",
        " [-                 5%                  ] 524 of 10000 complete in 132.9 sec"
       ]
      },
      {
       "output_type": "stream",
       "stream": "stdout",
       "text": [
        "\r",
        " [--                5%                  ] 527 of 10000 complete in 133.6 sec"
       ]
      },
      {
       "output_type": "stream",
       "stream": "stdout",
       "text": [
        "\r",
        " [--                5%                  ] 529 of 10000 complete in 134.1 sec"
       ]
      },
      {
       "output_type": "stream",
       "stream": "stdout",
       "text": [
        "\r",
        " [--                5%                  ] 532 of 10000 complete in 134.9 sec"
       ]
      },
      {
       "output_type": "stream",
       "stream": "stdout",
       "text": [
        "\r",
        " [--                5%                  ] 534 of 10000 complete in 135.4 sec"
       ]
      },
      {
       "output_type": "stream",
       "stream": "stdout",
       "text": [
        "\r",
        " [--                5%                  ] 536 of 10000 complete in 135.9 sec"
       ]
      },
      {
       "output_type": "stream",
       "stream": "stdout",
       "text": [
        "\r",
        " [--                5%                  ] 539 of 10000 complete in 136.7 sec"
       ]
      },
      {
       "output_type": "stream",
       "stream": "stdout",
       "text": [
        "\r",
        " [--                5%                  ] 541 of 10000 complete in 137.2 sec"
       ]
      },
      {
       "output_type": "stream",
       "stream": "stdout",
       "text": [
        "\r",
        " [--                5%                  ] 543 of 10000 complete in 137.7 sec"
       ]
      },
      {
       "output_type": "stream",
       "stream": "stdout",
       "text": [
        "\r",
        " [--                5%                  ] 545 of 10000 complete in 138.3 sec"
       ]
      },
      {
       "output_type": "stream",
       "stream": "stdout",
       "text": [
        "\r",
        " [--                5%                  ] 547 of 10000 complete in 138.8 sec"
       ]
      },
      {
       "output_type": "stream",
       "stream": "stdout",
       "text": [
        "\r",
        " [--                5%                  ] 549 of 10000 complete in 139.3 sec"
       ]
      },
      {
       "output_type": "stream",
       "stream": "stdout",
       "text": [
        "\r",
        " [--                5%                  ] 551 of 10000 complete in 139.9 sec"
       ]
      },
      {
       "output_type": "stream",
       "stream": "stdout",
       "text": [
        "\r",
        " [--                5%                  ] 553 of 10000 complete in 140.4 sec"
       ]
      },
      {
       "output_type": "stream",
       "stream": "stdout",
       "text": [
        "\r",
        " [--                5%                  ] 555 of 10000 complete in 140.9 sec"
       ]
      },
      {
       "output_type": "stream",
       "stream": "stdout",
       "text": [
        "\r",
        " [--                5%                  ] 557 of 10000 complete in 141.4 sec"
       ]
      },
      {
       "output_type": "stream",
       "stream": "stdout",
       "text": [
        "\r",
        " [--                5%                  ] 559 of 10000 complete in 141.9 sec"
       ]
      },
      {
       "output_type": "stream",
       "stream": "stdout",
       "text": [
        "\r",
        " [--                5%                  ] 561 of 10000 complete in 142.5 sec"
       ]
      },
      {
       "output_type": "stream",
       "stream": "stdout",
       "text": [
        "\r",
        " [--                5%                  ] 563 of 10000 complete in 143.0 sec"
       ]
      },
      {
       "output_type": "stream",
       "stream": "stdout",
       "text": [
        "\r",
        " [--                5%                  ] 565 of 10000 complete in 143.5 sec"
       ]
      },
      {
       "output_type": "stream",
       "stream": "stdout",
       "text": [
        "\r",
        " [--                5%                  ] 567 of 10000 complete in 144.1 sec"
       ]
      },
      {
       "output_type": "stream",
       "stream": "stdout",
       "text": [
        "\r",
        " [--                5%                  ] 570 of 10000 complete in 144.8 sec"
       ]
      },
      {
       "output_type": "stream",
       "stream": "stdout",
       "text": [
        "\r",
        " [--                5%                  ] 572 of 10000 complete in 145.4 sec"
       ]
      },
      {
       "output_type": "stream",
       "stream": "stdout",
       "text": [
        "\r",
        " [--                5%                  ] 574 of 10000 complete in 145.9 sec"
       ]
      },
      {
       "output_type": "stream",
       "stream": "stdout",
       "text": [
        "\r",
        " [--                5%                  ] 576 of 10000 complete in 146.4 sec"
       ]
      },
      {
       "output_type": "stream",
       "stream": "stdout",
       "text": [
        "\r",
        " [--                5%                  ] 578 of 10000 complete in 146.9 sec"
       ]
      },
      {
       "output_type": "stream",
       "stream": "stdout",
       "text": [
        "\r",
        " [--                5%                  ] 581 of 10000 complete in 147.6 sec"
       ]
      },
      {
       "output_type": "stream",
       "stream": "stdout",
       "text": [
        "\r",
        " [--                5%                  ] 583 of 10000 complete in 148.1 sec"
       ]
      },
      {
       "output_type": "stream",
       "stream": "stdout",
       "text": [
        "\r",
        " [--                5%                  ] 586 of 10000 complete in 148.9 sec"
       ]
      },
      {
       "output_type": "stream",
       "stream": "stdout",
       "text": [
        "\r",
        " [--                5%                  ] 589 of 10000 complete in 149.6 sec"
       ]
      },
      {
       "output_type": "stream",
       "stream": "stdout",
       "text": [
        "\r",
        " [--                5%                  ] 591 of 10000 complete in 150.1 sec"
       ]
      },
      {
       "output_type": "stream",
       "stream": "stdout",
       "text": [
        "\r",
        " [--                5%                  ] 593 of 10000 complete in 150.6 sec"
       ]
      },
      {
       "output_type": "stream",
       "stream": "stdout",
       "text": [
        "\r",
        " [--                5%                  ] 595 of 10000 complete in 151.1 sec"
       ]
      },
      {
       "output_type": "stream",
       "stream": "stdout",
       "text": [
        "\r",
        " [--                5%                  ] 597 of 10000 complete in 151.6 sec"
       ]
      },
      {
       "output_type": "stream",
       "stream": "stdout",
       "text": [
        "\r",
        " [--                5%                  ] 599 of 10000 complete in 152.2 sec"
       ]
      },
      {
       "output_type": "stream",
       "stream": "stdout",
       "text": [
        "\r",
        " [--                6%                  ] 601 of 10000 complete in 152.7 sec"
       ]
      },
      {
       "output_type": "stream",
       "stream": "stdout",
       "text": [
        "\r",
        " [--                6%                  ] 603 of 10000 complete in 153.2 sec"
       ]
      },
      {
       "output_type": "stream",
       "stream": "stdout",
       "text": [
        "\r",
        " [--                6%                  ] 605 of 10000 complete in 153.7 sec"
       ]
      },
      {
       "output_type": "stream",
       "stream": "stdout",
       "text": [
        "\r",
        " [--                6%                  ] 607 of 10000 complete in 154.2 sec"
       ]
      },
      {
       "output_type": "stream",
       "stream": "stdout",
       "text": [
        "\r",
        " [--                6%                  ] 610 of 10000 complete in 154.9 sec"
       ]
      },
      {
       "output_type": "stream",
       "stream": "stdout",
       "text": [
        "\r",
        " [--                6%                  ] 612 of 10000 complete in 155.5 sec"
       ]
      },
      {
       "output_type": "stream",
       "stream": "stdout",
       "text": [
        "\r",
        " [--                6%                  ] 614 of 10000 complete in 156.0 sec"
       ]
      },
      {
       "output_type": "stream",
       "stream": "stdout",
       "text": [
        "\r",
        " [--                6%                  ] 616 of 10000 complete in 156.5 sec"
       ]
      },
      {
       "output_type": "stream",
       "stream": "stdout",
       "text": [
        "\r",
        " [--                6%                  ] 618 of 10000 complete in 157.0 sec"
       ]
      },
      {
       "output_type": "stream",
       "stream": "stdout",
       "text": [
        "\r",
        " [--                6%                  ] 621 of 10000 complete in 157.8 sec"
       ]
      },
      {
       "output_type": "stream",
       "stream": "stdout",
       "text": [
        "\r",
        " [--                6%                  ] 623 of 10000 complete in 158.3 sec"
       ]
      },
      {
       "output_type": "stream",
       "stream": "stdout",
       "text": [
        "\r",
        " [--                6%                  ] 626 of 10000 complete in 159.0 sec"
       ]
      },
      {
       "output_type": "stream",
       "stream": "stdout",
       "text": [
        "\r",
        " [--                6%                  ] 628 of 10000 complete in 159.6 sec"
       ]
      },
      {
       "output_type": "stream",
       "stream": "stdout",
       "text": [
        "\r",
        " [--                6%                  ] 630 of 10000 complete in 160.1 sec"
       ]
      },
      {
       "output_type": "stream",
       "stream": "stdout",
       "text": [
        "\r",
        " [--                6%                  ] 632 of 10000 complete in 160.6 sec"
       ]
      },
      {
       "output_type": "stream",
       "stream": "stdout",
       "text": [
        "\r",
        " [--                6%                  ] 634 of 10000 complete in 161.1 sec"
       ]
      },
      {
       "output_type": "stream",
       "stream": "stdout",
       "text": [
        "\r",
        " [--                6%                  ] 636 of 10000 complete in 161.7 sec"
       ]
      },
      {
       "output_type": "stream",
       "stream": "stdout",
       "text": [
        "\r",
        " [--                6%                  ] 639 of 10000 complete in 162.4 sec"
       ]
      },
      {
       "output_type": "stream",
       "stream": "stdout",
       "text": [
        "\r",
        " [--                6%                  ] 641 of 10000 complete in 162.9 sec"
       ]
      },
      {
       "output_type": "stream",
       "stream": "stdout",
       "text": [
        "\r",
        " [--                6%                  ] 644 of 10000 complete in 163.7 sec"
       ]
      },
      {
       "output_type": "stream",
       "stream": "stdout",
       "text": [
        "\r",
        " [--                6%                  ] 646 of 10000 complete in 164.2 sec"
       ]
      },
      {
       "output_type": "stream",
       "stream": "stdout",
       "text": [
        "\r",
        " [--                6%                  ] 649 of 10000 complete in 164.9 sec"
       ]
      },
      {
       "output_type": "stream",
       "stream": "stdout",
       "text": [
        "\r",
        " [--                6%                  ] 651 of 10000 complete in 165.4 sec"
       ]
      },
      {
       "output_type": "stream",
       "stream": "stdout",
       "text": [
        "\r",
        " [--                6%                  ] 653 of 10000 complete in 166.0 sec"
       ]
      },
      {
       "output_type": "stream",
       "stream": "stdout",
       "text": [
        "\r",
        " [--                6%                  ] 655 of 10000 complete in 166.5 sec"
       ]
      },
      {
       "output_type": "stream",
       "stream": "stdout",
       "text": [
        "\r",
        " [--                6%                  ] 658 of 10000 complete in 167.2 sec"
       ]
      },
      {
       "output_type": "stream",
       "stream": "stdout",
       "text": [
        "\r",
        " [--                6%                  ] 660 of 10000 complete in 167.7 sec"
       ]
      },
      {
       "output_type": "stream",
       "stream": "stdout",
       "text": [
        "\r",
        " [--                6%                  ] 662 of 10000 complete in 168.3 sec"
       ]
      },
      {
       "output_type": "stream",
       "stream": "stdout",
       "text": [
        "\r",
        " [--                6%                  ] 664 of 10000 complete in 168.8 sec"
       ]
      },
      {
       "output_type": "stream",
       "stream": "stdout",
       "text": [
        "\r",
        " [--                6%                  ] 667 of 10000 complete in 169.5 sec"
       ]
      },
      {
       "output_type": "stream",
       "stream": "stdout",
       "text": [
        "\r",
        " [--                6%                  ] 669 of 10000 complete in 170.0 sec"
       ]
      },
      {
       "output_type": "stream",
       "stream": "stdout",
       "text": [
        "\r",
        " [--                6%                  ] 672 of 10000 complete in 170.8 sec"
       ]
      },
      {
       "output_type": "stream",
       "stream": "stdout",
       "text": [
        "\r",
        " [--                6%                  ] 674 of 10000 complete in 171.3 sec"
       ]
      },
      {
       "output_type": "stream",
       "stream": "stdout",
       "text": [
        "\r",
        " [--                6%                  ] 676 of 10000 complete in 171.8 sec"
       ]
      },
      {
       "output_type": "stream",
       "stream": "stdout",
       "text": [
        "\r",
        " [--                6%                  ] 678 of 10000 complete in 172.3 sec"
       ]
      },
      {
       "output_type": "stream",
       "stream": "stdout",
       "text": [
        "\r",
        " [--                6%                  ] 680 of 10000 complete in 172.8 sec"
       ]
      },
      {
       "output_type": "stream",
       "stream": "stdout",
       "text": [
        "\r",
        " [--                6%                  ] 682 of 10000 complete in 173.4 sec"
       ]
      },
      {
       "output_type": "stream",
       "stream": "stdout",
       "text": [
        "\r",
        " [--                6%                  ] 684 of 10000 complete in 173.9 sec"
       ]
      },
      {
       "output_type": "stream",
       "stream": "stdout",
       "text": [
        "\r",
        " [--                6%                  ] 686 of 10000 complete in 174.4 sec"
       ]
      },
      {
       "output_type": "stream",
       "stream": "stdout",
       "text": [
        "\r",
        " [--                6%                  ] 688 of 10000 complete in 174.9 sec"
       ]
      },
      {
       "output_type": "stream",
       "stream": "stdout",
       "text": [
        "\r",
        " [--                6%                  ] 691 of 10000 complete in 175.7 sec"
       ]
      },
      {
       "output_type": "stream",
       "stream": "stdout",
       "text": [
        "\r",
        " [--                6%                  ] 693 of 10000 complete in 176.2 sec"
       ]
      },
      {
       "output_type": "stream",
       "stream": "stdout",
       "text": [
        "\r",
        " [--                6%                  ] 695 of 10000 complete in 176.7 sec"
       ]
      },
      {
       "output_type": "stream",
       "stream": "stdout",
       "text": [
        "\r",
        " [--                6%                  ] 698 of 10000 complete in 177.4 sec"
       ]
      },
      {
       "output_type": "stream",
       "stream": "stdout",
       "text": [
        "\r",
        " [--                7%                  ] 701 of 10000 complete in 178.2 sec"
       ]
      },
      {
       "output_type": "stream",
       "stream": "stdout",
       "text": [
        "\r",
        " [--                7%                  ] 703 of 10000 complete in 178.7 sec"
       ]
      },
      {
       "output_type": "stream",
       "stream": "stdout",
       "text": [
        "\r",
        " [--                7%                  ] 705 of 10000 complete in 179.2 sec"
       ]
      },
      {
       "output_type": "stream",
       "stream": "stdout",
       "text": [
        "\r",
        " [--                7%                  ] 708 of 10000 complete in 180.0 sec"
       ]
      },
      {
       "output_type": "stream",
       "stream": "stdout",
       "text": [
        "\r",
        " [--                7%                  ] 710 of 10000 complete in 180.5 sec"
       ]
      },
      {
       "output_type": "stream",
       "stream": "stdout",
       "text": [
        "\r",
        " [--                7%                  ] 712 of 10000 complete in 181.1 sec"
       ]
      },
      {
       "output_type": "stream",
       "stream": "stdout",
       "text": [
        "\r",
        " [--                7%                  ] 714 of 10000 complete in 181.6 sec"
       ]
      },
      {
       "output_type": "stream",
       "stream": "stdout",
       "text": [
        "\r",
        " [--                7%                  ] 716 of 10000 complete in 182.1 sec"
       ]
      },
      {
       "output_type": "stream",
       "stream": "stdout",
       "text": [
        "\r",
        " [--                7%                  ] 718 of 10000 complete in 182.7 sec"
       ]
      },
      {
       "output_type": "stream",
       "stream": "stdout",
       "text": [
        "\r",
        " [--                7%                  ] 721 of 10000 complete in 183.4 sec"
       ]
      },
      {
       "output_type": "stream",
       "stream": "stdout",
       "text": [
        "\r",
        " [--                7%                  ] 723 of 10000 complete in 183.9 sec"
       ]
      },
      {
       "output_type": "stream",
       "stream": "stdout",
       "text": [
        "\r",
        " [--                7%                  ] 726 of 10000 complete in 184.7 sec"
       ]
      },
      {
       "output_type": "stream",
       "stream": "stdout",
       "text": [
        "\r",
        " [--                7%                  ] 728 of 10000 complete in 185.2 sec"
       ]
      },
      {
       "output_type": "stream",
       "stream": "stdout",
       "text": [
        "\r",
        " [--                7%                  ] 730 of 10000 complete in 185.7 sec"
       ]
      },
      {
       "output_type": "stream",
       "stream": "stdout",
       "text": [
        "\r",
        " [--                7%                  ] 733 of 10000 complete in 186.4 sec"
       ]
      },
      {
       "output_type": "stream",
       "stream": "stdout",
       "text": [
        "\r",
        " [--                7%                  ] 735 of 10000 complete in 186.9 sec"
       ]
      },
      {
       "output_type": "stream",
       "stream": "stdout",
       "text": [
        "\r",
        " [--                7%                  ] 737 of 10000 complete in 187.5 sec"
       ]
      },
      {
       "output_type": "stream",
       "stream": "stdout",
       "text": [
        "\r",
        " [--                7%                  ] 739 of 10000 complete in 188.0 sec"
       ]
      },
      {
       "output_type": "stream",
       "stream": "stdout",
       "text": [
        "\r",
        " [--                7%                  ] 742 of 10000 complete in 188.7 sec"
       ]
      },
      {
       "output_type": "stream",
       "stream": "stdout",
       "text": [
        "\r",
        " [--                7%                  ] 744 of 10000 complete in 189.2 sec"
       ]
      },
      {
       "output_type": "stream",
       "stream": "stdout",
       "text": [
        "\r",
        " [--                7%                  ] 746 of 10000 complete in 189.7 sec"
       ]
      },
      {
       "output_type": "stream",
       "stream": "stdout",
       "text": [
        "\r",
        " [--                7%                  ] 749 of 10000 complete in 190.5 sec"
       ]
      },
      {
       "output_type": "stream",
       "stream": "stdout",
       "text": [
        "\r",
        " [--                7%                  ] 752 of 10000 complete in 191.2 sec"
       ]
      },
      {
       "output_type": "stream",
       "stream": "stdout",
       "text": [
        "\r",
        " [--                7%                  ] 754 of 10000 complete in 191.7 sec"
       ]
      },
      {
       "output_type": "stream",
       "stream": "stdout",
       "text": [
        "\r",
        " [--                7%                  ] 756 of 10000 complete in 192.2 sec"
       ]
      },
      {
       "output_type": "stream",
       "stream": "stdout",
       "text": [
        "\r",
        " [--                7%                  ] 758 of 10000 complete in 192.8 sec"
       ]
      },
      {
       "output_type": "stream",
       "stream": "stdout",
       "text": [
        "\r",
        " [--                7%                  ] 760 of 10000 complete in 193.3 sec"
       ]
      },
      {
       "output_type": "stream",
       "stream": "stdout",
       "text": [
        "\r",
        " [--                7%                  ] 762 of 10000 complete in 193.8 sec"
       ]
      },
      {
       "output_type": "stream",
       "stream": "stdout",
       "text": [
        "\r",
        " [--                7%                  ] 765 of 10000 complete in 194.5 sec"
       ]
      },
      {
       "output_type": "stream",
       "stream": "stdout",
       "text": [
        "\r",
        " [--                7%                  ] 767 of 10000 complete in 195.0 sec"
       ]
      },
      {
       "output_type": "stream",
       "stream": "stdout",
       "text": [
        "\r",
        " [--                7%                  ] 769 of 10000 complete in 195.6 sec"
       ]
      },
      {
       "output_type": "stream",
       "stream": "stdout",
       "text": [
        "\r",
        " [--                7%                  ] 771 of 10000 complete in 196.1 sec"
       ]
      },
      {
       "output_type": "stream",
       "stream": "stdout",
       "text": [
        "\r",
        " [--                7%                  ] 773 of 10000 complete in 196.6 sec"
       ]
      },
      {
       "output_type": "stream",
       "stream": "stdout",
       "text": [
        "\r",
        " [--                7%                  ] 775 of 10000 complete in 197.1 sec"
       ]
      },
      {
       "output_type": "stream",
       "stream": "stdout",
       "text": [
        "\r",
        " [--                7%                  ] 777 of 10000 complete in 197.6 sec"
       ]
      },
      {
       "output_type": "stream",
       "stream": "stdout",
       "text": [
        "\r",
        " [--                7%                  ] 779 of 10000 complete in 198.2 sec"
       ]
      },
      {
       "output_type": "stream",
       "stream": "stdout",
       "text": [
        "\r",
        " [--                7%                  ] 782 of 10000 complete in 198.9 sec"
       ]
      },
      {
       "output_type": "stream",
       "stream": "stdout",
       "text": [
        "\r",
        " [--                7%                  ] 784 of 10000 complete in 199.5 sec"
       ]
      },
      {
       "output_type": "stream",
       "stream": "stdout",
       "text": [
        "\r",
        " [--                7%                  ] 786 of 10000 complete in 200.0 sec"
       ]
      },
      {
       "output_type": "stream",
       "stream": "stdout",
       "text": [
        "\r",
        " [--                7%                  ] 789 of 10000 complete in 200.7 sec"
       ]
      },
      {
       "output_type": "stream",
       "stream": "stdout",
       "text": [
        "\r",
        " [---               7%                  ] 791 of 10000 complete in 201.2 sec"
       ]
      },
      {
       "output_type": "stream",
       "stream": "stdout",
       "text": [
        "\r",
        " [---               7%                  ] 793 of 10000 complete in 201.9 sec"
       ]
      },
      {
       "output_type": "stream",
       "stream": "stdout",
       "text": [
        "\r",
        " [---               7%                  ] 796 of 10000 complete in 202.6 sec"
       ]
      },
      {
       "output_type": "stream",
       "stream": "stdout",
       "text": [
        "\r",
        " [---               7%                  ] 799 of 10000 complete in 203.4 sec"
       ]
      },
      {
       "output_type": "stream",
       "stream": "stdout",
       "text": [
        "\r",
        " [---               8%                  ] 802 of 10000 complete in 204.1 sec"
       ]
      },
      {
       "output_type": "stream",
       "stream": "stdout",
       "text": [
        "\r",
        " [---               8%                  ] 804 of 10000 complete in 204.7 sec"
       ]
      },
      {
       "output_type": "stream",
       "stream": "stdout",
       "text": [
        "\r",
        " [---               8%                  ] 807 of 10000 complete in 205.4 sec"
       ]
      },
      {
       "output_type": "stream",
       "stream": "stdout",
       "text": [
        "\r",
        " [---               8%                  ] 809 of 10000 complete in 205.9 sec"
       ]
      },
      {
       "output_type": "stream",
       "stream": "stdout",
       "text": [
        "\r",
        " [---               8%                  ] 812 of 10000 complete in 206.6 sec"
       ]
      },
      {
       "output_type": "stream",
       "stream": "stdout",
       "text": [
        "\r",
        " [---               8%                  ] 814 of 10000 complete in 207.1 sec"
       ]
      },
      {
       "output_type": "stream",
       "stream": "stdout",
       "text": [
        "\r",
        " [---               8%                  ] 816 of 10000 complete in 207.7 sec"
       ]
      },
      {
       "output_type": "stream",
       "stream": "stdout",
       "text": [
        "\r",
        " [---               8%                  ] 818 of 10000 complete in 208.2 sec"
       ]
      },
      {
       "output_type": "stream",
       "stream": "stdout",
       "text": [
        "\r",
        " [---               8%                  ] 820 of 10000 complete in 208.7 sec"
       ]
      },
      {
       "output_type": "stream",
       "stream": "stdout",
       "text": [
        "\r",
        " [---               8%                  ] 822 of 10000 complete in 209.2 sec"
       ]
      },
      {
       "output_type": "stream",
       "stream": "stdout",
       "text": [
        "\r",
        " [---               8%                  ] 825 of 10000 complete in 209.9 sec"
       ]
      },
      {
       "output_type": "stream",
       "stream": "stdout",
       "text": [
        "\r",
        " [---               8%                  ] 827 of 10000 complete in 210.5 sec"
       ]
      },
      {
       "output_type": "stream",
       "stream": "stdout",
       "text": [
        "\r",
        " [---               8%                  ] 829 of 10000 complete in 211.0 sec"
       ]
      },
      {
       "output_type": "stream",
       "stream": "stdout",
       "text": [
        "\r",
        " [---               8%                  ] 831 of 10000 complete in 211.5 sec"
       ]
      },
      {
       "output_type": "stream",
       "stream": "stdout",
       "text": [
        "\r",
        " [---               8%                  ] 834 of 10000 complete in 212.2 sec"
       ]
      },
      {
       "output_type": "stream",
       "stream": "stdout",
       "text": [
        "\r",
        " [---               8%                  ] 837 of 10000 complete in 212.9 sec"
       ]
      },
      {
       "output_type": "stream",
       "stream": "stdout",
       "text": [
        "\r",
        " [---               8%                  ] 840 of 10000 complete in 213.7 sec"
       ]
      },
      {
       "output_type": "stream",
       "stream": "stdout",
       "text": [
        "\r",
        " [---               8%                  ] 842 of 10000 complete in 214.2 sec"
       ]
      },
      {
       "output_type": "stream",
       "stream": "stdout",
       "text": [
        "\r",
        " [---               8%                  ] 844 of 10000 complete in 214.7 sec"
       ]
      },
      {
       "output_type": "stream",
       "stream": "stdout",
       "text": [
        "\r",
        " [---               8%                  ] 847 of 10000 complete in 215.5 sec"
       ]
      },
      {
       "output_type": "stream",
       "stream": "stdout",
       "text": [
        "\r",
        " [---               8%                  ] 849 of 10000 complete in 216.0 sec"
       ]
      },
      {
       "output_type": "stream",
       "stream": "stdout",
       "text": [
        "\r",
        " [---               8%                  ] 851 of 10000 complete in 216.5 sec"
       ]
      },
      {
       "output_type": "stream",
       "stream": "stdout",
       "text": [
        "\r",
        " [---               8%                  ] 853 of 10000 complete in 217.0 sec"
       ]
      },
      {
       "output_type": "stream",
       "stream": "stdout",
       "text": [
        "\r",
        " [---               8%                  ] 856 of 10000 complete in 217.8 sec"
       ]
      },
      {
       "output_type": "stream",
       "stream": "stdout",
       "text": [
        "\r",
        " [---               8%                  ] 858 of 10000 complete in 218.3 sec"
       ]
      },
      {
       "output_type": "stream",
       "stream": "stdout",
       "text": [
        "\r",
        " [---               8%                  ] 861 of 10000 complete in 219.0 sec"
       ]
      },
      {
       "output_type": "stream",
       "stream": "stdout",
       "text": [
        "\r",
        " [---               8%                  ] 864 of 10000 complete in 219.8 sec"
       ]
      },
      {
       "output_type": "stream",
       "stream": "stdout",
       "text": [
        "\r",
        " [---               8%                  ] 866 of 10000 complete in 220.3 sec"
       ]
      },
      {
       "output_type": "stream",
       "stream": "stdout",
       "text": [
        "\r",
        " [---               8%                  ] 869 of 10000 complete in 221.1 sec"
       ]
      },
      {
       "output_type": "stream",
       "stream": "stdout",
       "text": [
        "\r",
        " [---               8%                  ] 871 of 10000 complete in 221.6 sec"
       ]
      },
      {
       "output_type": "stream",
       "stream": "stdout",
       "text": [
        "\r",
        " [---               8%                  ] 873 of 10000 complete in 222.1 sec"
       ]
      },
      {
       "output_type": "stream",
       "stream": "stdout",
       "text": [
        "\r",
        " [---               8%                  ] 875 of 10000 complete in 222.6 sec"
       ]
      },
      {
       "output_type": "stream",
       "stream": "stdout",
       "text": [
        "\r",
        " [---               8%                  ] 877 of 10000 complete in 223.1 sec"
       ]
      },
      {
       "output_type": "stream",
       "stream": "stdout",
       "text": [
        "\r",
        " [---               8%                  ] 879 of 10000 complete in 223.6 sec"
       ]
      },
      {
       "output_type": "stream",
       "stream": "stdout",
       "text": [
        "\r",
        " [---               8%                  ] 881 of 10000 complete in 224.2 sec"
       ]
      },
      {
       "output_type": "stream",
       "stream": "stdout",
       "text": [
        "\r",
        " [---               8%                  ] 883 of 10000 complete in 224.7 sec"
       ]
      },
      {
       "output_type": "stream",
       "stream": "stdout",
       "text": [
        "\r",
        " [---               8%                  ] 886 of 10000 complete in 225.4 sec"
       ]
      },
      {
       "output_type": "stream",
       "stream": "stdout",
       "text": [
        "\r",
        " [---               8%                  ] 888 of 10000 complete in 225.9 sec"
       ]
      },
      {
       "output_type": "stream",
       "stream": "stdout",
       "text": [
        "\r",
        " [---               8%                  ] 890 of 10000 complete in 226.4 sec"
       ]
      },
      {
       "output_type": "stream",
       "stream": "stdout",
       "text": [
        "\r",
        " [---               8%                  ] 892 of 10000 complete in 226.9 sec"
       ]
      },
      {
       "output_type": "stream",
       "stream": "stdout",
       "text": [
        "\r",
        " [---               8%                  ] 894 of 10000 complete in 227.4 sec"
       ]
      },
      {
       "output_type": "stream",
       "stream": "stdout",
       "text": [
        "\r",
        " [---               8%                  ] 896 of 10000 complete in 228.0 sec"
       ]
      },
      {
       "output_type": "stream",
       "stream": "stdout",
       "text": [
        "\r",
        " [---               8%                  ] 899 of 10000 complete in 228.7 sec"
       ]
      },
      {
       "output_type": "stream",
       "stream": "stdout",
       "text": [
        "\r",
        " [---               9%                  ] 901 of 10000 complete in 229.2 sec"
       ]
      },
      {
       "output_type": "stream",
       "stream": "stdout",
       "text": [
        "\r",
        " [---               9%                  ] 904 of 10000 complete in 230.0 sec"
       ]
      },
      {
       "output_type": "stream",
       "stream": "stdout",
       "text": [
        "\r",
        " [---               9%                  ] 906 of 10000 complete in 230.5 sec"
       ]
      },
      {
       "output_type": "stream",
       "stream": "stdout",
       "text": [
        "\r",
        " [---               9%                  ] 908 of 10000 complete in 231.0 sec"
       ]
      },
      {
       "output_type": "stream",
       "stream": "stdout",
       "text": [
        "\r",
        " [---               9%                  ] 911 of 10000 complete in 231.7 sec"
       ]
      },
      {
       "output_type": "stream",
       "stream": "stdout",
       "text": [
        "\r",
        " [---               9%                  ] 913 of 10000 complete in 232.3 sec"
       ]
      },
      {
       "output_type": "stream",
       "stream": "stdout",
       "text": [
        "\r",
        " [---               9%                  ] 915 of 10000 complete in 232.8 sec"
       ]
      },
      {
       "output_type": "stream",
       "stream": "stdout",
       "text": [
        "\r",
        " [---               9%                  ] 918 of 10000 complete in 233.5 sec"
       ]
      },
      {
       "output_type": "stream",
       "stream": "stdout",
       "text": [
        "\r",
        " [---               9%                  ] 921 of 10000 complete in 234.2 sec"
       ]
      },
      {
       "output_type": "stream",
       "stream": "stdout",
       "text": [
        "\r",
        " [---               9%                  ] 924 of 10000 complete in 235.0 sec"
       ]
      },
      {
       "output_type": "stream",
       "stream": "stdout",
       "text": [
        "\r",
        " [---               9%                  ] 927 of 10000 complete in 235.7 sec"
       ]
      },
      {
       "output_type": "stream",
       "stream": "stdout",
       "text": [
        "\r",
        " [---               9%                  ] 929 of 10000 complete in 236.2 sec"
       ]
      },
      {
       "output_type": "stream",
       "stream": "stdout",
       "text": [
        "\r",
        " [---               9%                  ] 931 of 10000 complete in 236.7 sec"
       ]
      },
      {
       "output_type": "stream",
       "stream": "stdout",
       "text": [
        "\r",
        " [---               9%                  ] 934 of 10000 complete in 237.5 sec"
       ]
      },
      {
       "output_type": "stream",
       "stream": "stdout",
       "text": [
        "\r",
        " [---               9%                  ] 936 of 10000 complete in 238.0 sec"
       ]
      },
      {
       "output_type": "stream",
       "stream": "stdout",
       "text": [
        "\r",
        " [---               9%                  ] 938 of 10000 complete in 238.5 sec"
       ]
      },
      {
       "output_type": "stream",
       "stream": "stdout",
       "text": [
        "\r",
        " [---               9%                  ] 940 of 10000 complete in 239.0 sec"
       ]
      },
      {
       "output_type": "stream",
       "stream": "stdout",
       "text": [
        "\r",
        " [---               9%                  ] 942 of 10000 complete in 239.6 sec"
       ]
      },
      {
       "output_type": "stream",
       "stream": "stdout",
       "text": [
        "\r",
        " [---               9%                  ] 945 of 10000 complete in 240.3 sec"
       ]
      },
      {
       "output_type": "stream",
       "stream": "stdout",
       "text": [
        "\r",
        " [---               9%                  ] 947 of 10000 complete in 240.9 sec"
       ]
      },
      {
       "output_type": "stream",
       "stream": "stdout",
       "text": [
        "\r",
        " [---               9%                  ] 949 of 10000 complete in 241.4 sec"
       ]
      },
      {
       "output_type": "stream",
       "stream": "stdout",
       "text": [
        "\r",
        " [---               9%                  ] 952 of 10000 complete in 242.2 sec"
       ]
      },
      {
       "output_type": "stream",
       "stream": "stdout",
       "text": [
        "\r",
        " [---               9%                  ] 955 of 10000 complete in 242.9 sec"
       ]
      },
      {
       "output_type": "stream",
       "stream": "stdout",
       "text": [
        "\r",
        " [---               9%                  ] 957 of 10000 complete in 243.4 sec"
       ]
      },
      {
       "output_type": "stream",
       "stream": "stdout",
       "text": [
        "\r",
        " [---               9%                  ] 959 of 10000 complete in 244.0 sec"
       ]
      },
      {
       "output_type": "stream",
       "stream": "stdout",
       "text": [
        "\r",
        " [---               9%                  ] 962 of 10000 complete in 244.7 sec"
       ]
      },
      {
       "output_type": "stream",
       "stream": "stdout",
       "text": [
        "\r",
        " [---               9%                  ] 965 of 10000 complete in 245.4 sec"
       ]
      },
      {
       "output_type": "stream",
       "stream": "stdout",
       "text": [
        "\r",
        " [---               9%                  ] 967 of 10000 complete in 246.0 sec"
       ]
      },
      {
       "output_type": "stream",
       "stream": "stdout",
       "text": [
        "\r",
        " [---               9%                  ] 969 of 10000 complete in 246.5 sec"
       ]
      },
      {
       "output_type": "stream",
       "stream": "stdout",
       "text": [
        "\r",
        " [---               9%                  ] 971 of 10000 complete in 247.0 sec"
       ]
      },
      {
       "output_type": "stream",
       "stream": "stdout",
       "text": [
        "\r",
        " [---               9%                  ] 974 of 10000 complete in 247.7 sec"
       ]
      },
      {
       "output_type": "stream",
       "stream": "stdout",
       "text": [
        "\r",
        " [---               9%                  ] 976 of 10000 complete in 248.3 sec"
       ]
      },
      {
       "output_type": "stream",
       "stream": "stdout",
       "text": [
        "\r",
        " [---               9%                  ] 979 of 10000 complete in 249.0 sec"
       ]
      },
      {
       "output_type": "stream",
       "stream": "stdout",
       "text": [
        "\r",
        " [---               9%                  ] 981 of 10000 complete in 249.5 sec"
       ]
      },
      {
       "output_type": "stream",
       "stream": "stdout",
       "text": [
        "\r",
        " [---               9%                  ] 983 of 10000 complete in 250.0 sec"
       ]
      },
      {
       "output_type": "stream",
       "stream": "stdout",
       "text": [
        "\r",
        " [---               9%                  ] 986 of 10000 complete in 250.7 sec"
       ]
      },
      {
       "output_type": "stream",
       "stream": "stdout",
       "text": [
        "\r",
        " [---               9%                  ] 988 of 10000 complete in 251.3 sec"
       ]
      },
      {
       "output_type": "stream",
       "stream": "stdout",
       "text": [
        "\r",
        " [---               9%                  ] 990 of 10000 complete in 251.8 sec"
       ]
      },
      {
       "output_type": "stream",
       "stream": "stdout",
       "text": [
        "\r",
        " [---               9%                  ] 992 of 10000 complete in 252.3 sec"
       ]
      },
      {
       "output_type": "stream",
       "stream": "stdout",
       "text": [
        "\r",
        " [---               9%                  ] 995 of 10000 complete in 253.0 sec"
       ]
      },
      {
       "output_type": "stream",
       "stream": "stdout",
       "text": [
        "\r",
        " [---               9%                  ] 998 of 10000 complete in 253.7 sec"
       ]
      },
      {
       "output_type": "stream",
       "stream": "stdout",
       "text": [
        "\r",
        " [---              10%                  ] 1000 of 10000 complete in 254.2 sec"
       ]
      },
      {
       "output_type": "stream",
       "stream": "stdout",
       "text": [
        "\r",
        " [---              10%                  ] 1003 of 10000 complete in 255.0 sec"
       ]
      },
      {
       "output_type": "stream",
       "stream": "stdout",
       "text": [
        "\r",
        " [---              10%                  ] 1005 of 10000 complete in 255.5 sec"
       ]
      },
      {
       "output_type": "stream",
       "stream": "stdout",
       "text": [
        "\r",
        " [---              10%                  ] 1007 of 10000 complete in 256.0 sec"
       ]
      },
      {
       "output_type": "stream",
       "stream": "stdout",
       "text": [
        "\r",
        " [---              10%                  ] 1009 of 10000 complete in 256.5 sec"
       ]
      },
      {
       "output_type": "stream",
       "stream": "stdout",
       "text": [
        "\r",
        " [---              10%                  ] 1011 of 10000 complete in 257.0 sec"
       ]
      },
      {
       "output_type": "stream",
       "stream": "stdout",
       "text": [
        "\r",
        " [---              10%                  ] 1013 of 10000 complete in 257.5 sec"
       ]
      },
      {
       "output_type": "stream",
       "stream": "stdout",
       "text": [
        "\r",
        " [---              10%                  ] 1015 of 10000 complete in 258.1 sec"
       ]
      },
      {
       "output_type": "stream",
       "stream": "stdout",
       "text": [
        "\r",
        " [---              10%                  ] 1017 of 10000 complete in 258.6 sec"
       ]
      },
      {
       "output_type": "stream",
       "stream": "stdout",
       "text": [
        "\r",
        " [---              10%                  ] 1019 of 10000 complete in 259.1 sec"
       ]
      },
      {
       "output_type": "stream",
       "stream": "stdout",
       "text": [
        "\r",
        " [---              10%                  ] 1021 of 10000 complete in 259.6 sec"
       ]
      },
      {
       "output_type": "stream",
       "stream": "stdout",
       "text": [
        "\r",
        " [---              10%                  ] 1023 of 10000 complete in 260.2 sec"
       ]
      },
      {
       "output_type": "stream",
       "stream": "stdout",
       "text": [
        "\r",
        " [---              10%                  ] 1025 of 10000 complete in 260.7 sec"
       ]
      },
      {
       "output_type": "stream",
       "stream": "stdout",
       "text": [
        "\r",
        " [---              10%                  ] 1027 of 10000 complete in 261.2 sec"
       ]
      },
      {
       "output_type": "stream",
       "stream": "stdout",
       "text": [
        "\r",
        " [---              10%                  ] 1030 of 10000 complete in 261.9 sec"
       ]
      },
      {
       "output_type": "stream",
       "stream": "stdout",
       "text": [
        "\r",
        " [---              10%                  ] 1032 of 10000 complete in 262.5 sec"
       ]
      },
      {
       "output_type": "stream",
       "stream": "stdout",
       "text": [
        "\r",
        " [---              10%                  ] 1034 of 10000 complete in 263.0 sec"
       ]
      },
      {
       "output_type": "stream",
       "stream": "stdout",
       "text": [
        "\r",
        " [---              10%                  ] 1036 of 10000 complete in 263.5 sec"
       ]
      },
      {
       "output_type": "stream",
       "stream": "stdout",
       "text": [
        "\r",
        " [---              10%                  ] 1039 of 10000 complete in 264.2 sec"
       ]
      },
      {
       "output_type": "stream",
       "stream": "stdout",
       "text": [
        "\r",
        " [---              10%                  ] 1041 of 10000 complete in 264.7 sec"
       ]
      },
      {
       "output_type": "stream",
       "stream": "stdout",
       "text": [
        "\r",
        " [---              10%                  ] 1044 of 10000 complete in 265.5 sec"
       ]
      },
      {
       "output_type": "stream",
       "stream": "stdout",
       "text": [
        "\r",
        " [---              10%                  ] 1046 of 10000 complete in 266.0 sec"
       ]
      },
      {
       "output_type": "stream",
       "stream": "stdout",
       "text": [
        "\r",
        " [---              10%                  ] 1048 of 10000 complete in 266.5 sec"
       ]
      },
      {
       "output_type": "stream",
       "stream": "stdout",
       "text": [
        "\r",
        " [---              10%                  ] 1050 of 10000 complete in 267.0 sec"
       ]
      },
      {
       "output_type": "stream",
       "stream": "stdout",
       "text": [
        "\r",
        " [---              10%                  ] 1052 of 10000 complete in 267.5 sec"
       ]
      },
      {
       "output_type": "stream",
       "stream": "stdout",
       "text": [
        "\r",
        " [----             10%                  ] 1054 of 10000 complete in 268.0 sec"
       ]
      },
      {
       "output_type": "stream",
       "stream": "stdout",
       "text": [
        "\r",
        " [----             10%                  ] 1057 of 10000 complete in 268.8 sec"
       ]
      },
      {
       "output_type": "stream",
       "stream": "stdout",
       "text": [
        "\r",
        " [----             10%                  ] 1059 of 10000 complete in 269.4 sec"
       ]
      },
      {
       "output_type": "stream",
       "stream": "stdout",
       "text": [
        "\r",
        " [----             10%                  ] 1061 of 10000 complete in 270.0 sec"
       ]
      },
      {
       "output_type": "stream",
       "stream": "stdout",
       "text": [
        "\r",
        " [----             10%                  ] 1063 of 10000 complete in 270.5 sec"
       ]
      },
      {
       "output_type": "stream",
       "stream": "stdout",
       "text": [
        "\r",
        " [----             10%                  ] 1065 of 10000 complete in 271.1 sec"
       ]
      },
      {
       "output_type": "stream",
       "stream": "stdout",
       "text": [
        "\r",
        " [----             10%                  ] 1067 of 10000 complete in 271.6 sec"
       ]
      },
      {
       "output_type": "stream",
       "stream": "stdout",
       "text": [
        "\r",
        " [----             10%                  ] 1069 of 10000 complete in 272.2 sec"
       ]
      },
      {
       "output_type": "stream",
       "stream": "stdout",
       "text": [
        "\r",
        " [----             10%                  ] 1071 of 10000 complete in 272.7 sec"
       ]
      },
      {
       "output_type": "stream",
       "stream": "stdout",
       "text": [
        "Halting at iteration  1071  of  10000\n"
       ]
      }
     ],
     "prompt_number": 15
    },
    {
     "cell_type": "code",
     "collapsed": false,
     "input": [
      "Niters = len(M.xy_points.trace())\n",
      "\n",
      "iters = np.linspace(0, Niters-1, 4).astype(np.int)\n",
      "iters = np.logspace(0, np.log10(Niters-1), 4).astype(np.int)\n",
      "\n",
      "for (subidx, iterN) in enumerate(iters):\n",
      "    plt.subplot(2,2,subidx+1)\n",
      "    plt.title('iter #%i'%iterN)\n",
      "    plt.plot(M.x_meas, M.y_meas, linestyle='', marker='.')\n",
      "    D = M.trace('xy_points')()[iterN]\n",
      "    _x_nodes = np.array([M.trace('x_nodes_%i'%i)()[iterN] for i in range(len(M.x_nodes))])\n",
      "    _y_nodes = np.array([M.trace('y_nodes_%i'%i)()[iterN] for i in range(len(M.x_nodes))])\n",
      "\n",
      "    plt.plot(D[:,0], D[:,1], linestyle='', marker='.', color='r')\n",
      "    plt.plot(_x_nodes, _y_nodes, linestyle='', marker='x', color='g', markersize=8, markeredgewidth=3)\n",
      "    for (idx, (xt,yt)) in enumerate(zip(_x_nodes, _y_nodes)):\n",
      "        plt.text(xt+.1,yt+.1,idx,size=15)\n",
      "\n",
      "    plt.grid(\"on\")\n",
      "    #plt.axis(\"equal\")\n",
      "    plt.xlim([-20, 20])\n",
      "    plt.ylim([-20, 20])"
     ],
     "language": "python",
     "metadata": {},
     "outputs": [
      {
       "metadata": {},
       "output_type": "display_data",
       "png": "[encoded data removed]",
       "text": [
        "<matplotlib.figure.Figure at 0x7fed50d968d0>"
       ]
      }
     ],
     "prompt_number": 16
    },
    {
     "cell_type": "code",
     "collapsed": false,
     "input": [
      "(seeP(M.Prows, toy.Vk.value) + seeP(M.Prows,toy.Vk.value).transpose())*0.5"
     ],
     "language": "python",
     "metadata": {},
     "outputs": [
      {
       "metadata": {},
       "output_type": "pyout",
       "prompt_number": 54,
       "text": [
        "array([[ 0.000,  0.500,  0.000,  0.000,  0.000,  0.000,  0.500,  0.000],\n",
        "       [ 0.500,  0.000,  0.236,  0.000,  0.000,  0.000,  0.500,  0.000],\n",
        "       [ 0.000,  0.236,  0.000,  0.500,  0.764,  0.000,  0.000,  0.000],\n",
        "       [ 0.000,  0.000,  0.500,  0.000,  0.000,  0.000,  0.000,  0.291],\n",
        "       [ 0.000,  0.000,  0.764,  0.000,  0.000,  0.500,  0.000,  0.000],\n",
        "       [ 0.000,  0.000,  0.000,  0.000,  0.500,  0.000,  0.000,  0.209],\n",
        "       [ 0.500,  0.500,  0.000,  0.000,  0.000,  0.000,  0.000,  0.000],\n",
        "       [ 0.000,  0.000,  0.000,  0.291,  0.000,  0.209,  0.000,  0.000]])"
       ]
      }
     ],
     "prompt_number": 54
    },
    {
     "cell_type": "code",
     "collapsed": false,
     "input": [
      "toy.dataScore.get_logp() #-191 with 3 points / -62 with 4 points / -22 with 5 points"
     ],
     "language": "python",
     "metadata": {},
     "outputs": [
      {
       "metadata": {},
       "output_type": "pyout",
       "prompt_number": 10,
       "text": [
        "-41.14635446375027"
       ]
      }
     ],
     "prompt_number": 10
    },
    {
     "cell_type": "code",
     "collapsed": false,
     "input": [
      "M.logp"
     ],
     "language": "python",
     "metadata": {},
     "outputs": [
      {
       "metadata": {},
       "output_type": "pyout",
       "prompt_number": 10,
       "text": [
        "52.07442205516197"
       ]
      }
     ],
     "prompt_number": 10
    },
    {
     "cell_type": "code",
     "collapsed": false,
     "input": [
      "M.trace('Sparsity')()[1]"
     ],
     "language": "python",
     "metadata": {},
     "outputs": [
      {
       "metadata": {},
       "output_type": "pyout",
       "prompt_number": 11,
       "text": [
        "array([3, 5, 3, 5, 2, 1, 1, 3])"
       ]
      }
     ],
     "prompt_number": 11
    },
    {
     "cell_type": "code",
     "collapsed": false,
     "input": [
      "M.get_node('Sparsity_9')"
     ],
     "language": "python",
     "metadata": {},
     "outputs": [
      {
       "metadata": {},
       "output_type": "pyout",
       "prompt_number": 48,
       "text": [
        "<pymc.distributions.DiscreteUniform 'Sparsity' at 0x7f328c448490>"
       ]
      }
     ],
     "prompt_number": 48
    },
    {
     "cell_type": "code",
     "collapsed": false,
     "input": [
      "M.trace('x_nodes_0')"
     ],
     "language": "python",
     "metadata": {},
     "outputs": [
      {
       "metadata": {},
       "output_type": "pyout",
       "prompt_number": 31,
       "text": [
        "<pymc.database.ram.Trace at 0x7f30b8fd8910>"
       ]
      }
     ],
     "prompt_number": 31
    },
    {
     "cell_type": "code",
     "collapsed": false,
     "input": [
      "so, sd"
     ],
     "language": "python",
     "metadata": {},
     "outputs": [
      {
       "metadata": {},
       "output_type": "pyout",
       "prompt_number": 157,
       "text": [
        "(1, 3)"
       ]
      }
     ],
     "prompt_number": 157
    },
    {
     "cell_type": "code",
     "collapsed": false,
     "input": [
      "f = M.frac[8:9]"
     ],
     "language": "python",
     "metadata": {},
     "outputs": [],
     "prompt_number": 170
    },
    {
     "cell_type": "code",
     "collapsed": false,
     "input": [
      "x_o = np.array([p.value for p in M.x_nodes[so]])\n",
      "x_d = np.array([p.value for p in M.x_nodes[sd]])\n",
      "(x_d- x_o)*f + x_o"
     ],
     "language": "python",
     "metadata": {},
     "outputs": [
      {
       "metadata": {},
       "output_type": "pyout",
       "prompt_number": 171,
       "text": [
        "array([-6.788])"
       ]
      }
     ],
     "prompt_number": 171
    },
    {
     "cell_type": "code",
     "collapsed": false,
     "input": [
      "y_o = np.array([p.value for p in M.y_nodes[so]])\n",
      "y_d = np.array([p.value for p in M.y_nodes[sd]])\n",
      "f*(y_d- y_o) + y_o"
     ],
     "language": "python",
     "metadata": {},
     "outputs": [
      {
       "metadata": {},
       "output_type": "pyout",
       "prompt_number": 172,
       "text": [
        "array([ 1.356])"
       ]
      }
     ],
     "prompt_number": 172
    },
    {
     "cell_type": "code",
     "collapsed": false,
     "input": [
      "M.xy_points.value[8,0]"
     ],
     "language": "python",
     "metadata": {},
     "outputs": [
      {
       "metadata": {},
       "output_type": "pyout",
       "prompt_number": 178,
       "text": [
        "-6.7879401206498144"
       ]
      }
     ],
     "prompt_number": 178
    },
    {
     "cell_type": "code",
     "collapsed": false,
     "input": [
      "plt.plot(M.xy_points.value[:,0], M.xy_points.value[:,1], linestyle=\"\", marker=\"o\")"
     ],
     "language": "python",
     "metadata": {},
     "outputs": [
      {
       "ename": "NameError",
       "evalue": "name 'M' is not defined",
       "output_type": "pyerr",
       "traceback": [
        "\u001b[1;31m---------------------------------------------------------------------------\u001b[0m\n\u001b[1;31mNameError\u001b[0m                                 Traceback (most recent call last)",
        "\u001b[1;32m<ipython-input-13-4519403c1c2c>\u001b[0m in \u001b[0;36m<module>\u001b[1;34m()\u001b[0m\n\u001b[1;32m----> 1\u001b[1;33m \u001b[0mplt\u001b[0m\u001b[1;33m.\u001b[0m\u001b[0mplot\u001b[0m\u001b[1;33m(\u001b[0m\u001b[0mM\u001b[0m\u001b[1;33m.\u001b[0m\u001b[0mxy_points\u001b[0m\u001b[1;33m.\u001b[0m\u001b[0mvalue\u001b[0m\u001b[1;33m[\u001b[0m\u001b[1;33m:\u001b[0m\u001b[1;33m,\u001b[0m\u001b[1;36m0\u001b[0m\u001b[1;33m]\u001b[0m\u001b[1;33m,\u001b[0m \u001b[0mM\u001b[0m\u001b[1;33m.\u001b[0m\u001b[0mxy_points\u001b[0m\u001b[1;33m.\u001b[0m\u001b[0mvalue\u001b[0m\u001b[1;33m[\u001b[0m\u001b[1;33m:\u001b[0m\u001b[1;33m,\u001b[0m\u001b[1;36m1\u001b[0m\u001b[1;33m]\u001b[0m\u001b[1;33m,\u001b[0m \u001b[0mlinestyle\u001b[0m\u001b[1;33m=\u001b[0m\u001b[1;34m\"\"\u001b[0m\u001b[1;33m,\u001b[0m \u001b[0mmarker\u001b[0m\u001b[1;33m=\u001b[0m\u001b[1;34m\"o\"\u001b[0m\u001b[1;33m)\u001b[0m\u001b[1;33m\u001b[0m\u001b[0m\n\u001b[0m",
        "\u001b[1;31mNameError\u001b[0m: name 'M' is not defined"
       ]
      }
     ],
     "prompt_number": 13
    },
    {
     "cell_type": "code",
     "collapsed": false,
     "input": [
      "plen= len(M.trace('x_nodes_0')());\n",
      "_x_nodes = np.array([M.trace('x_nodes_%i'%2)()[i] for i in range(plen)])\n",
      "_y_nodes = np.array([M.trace('y_nodes_%i'%2)()[i] for i in range(plen)])\n",
      "plt.plot(_x_nodes, _y_nodes, marker='.', linestyle=\"\")\n",
      "plt.grid(\"on\")\n",
      "#plt.xlim([-15, 15])\n",
      "#plt.ylim([-5, 15])"
     ],
     "language": "python",
     "metadata": {},
     "outputs": [
      {
       "metadata": {},
       "output_type": "display_data",
       "png": "[encoded data removed]",
       "text": [
        "<matplotlib.figure.Figure at 0x7f225495fe10>"
       ]
      }
     ],
     "prompt_number": 15
    },
    {
     "cell_type": "code",
     "collapsed": false,
     "input": [
      "plt.plot(toy.x_meas, toy.y_meas, linestyle='', marker='.')\n",
      "plt.plot(toy.x_true, toy.y_true, linestyle='', marker='x',color='k',markersize=10,markeredgewidth=3)\n",
      "for (idx, (xt,yt)) in enumerate(zip(toy.x_true, toy.y_true)):\n",
      "        plt.text(xt+.1,yt+.1,idx,size=15)\n",
      "plt.plot(toy.xy_points.value[:, 0], toy.xy_points.value[:, 1], linestyle='', marker='.', color='r')"
     ],
     "language": "python",
     "metadata": {},
     "outputs": [
      {
       "metadata": {},
       "output_type": "pyout",
       "prompt_number": 18,
       "text": [
        "[<matplotlib.lines.Line2D at 0x7f3072e40a10>]"
       ]
      },
      {
       "metadata": {},
       "output_type": "display_data",
       "png": "[encoded data removed]",
       "text": [
        "<matplotlib.figure.Figure at 0x7f3072e5ec50>"
       ]
      }
     ],
     "prompt_number": 18
    },
    {
     "cell_type": "code",
     "collapsed": false,
     "input": [
      "import scipy.stats as st"
     ],
     "language": "python",
     "metadata": {},
     "outputs": [],
     "prompt_number": 189
    },
    {
     "cell_type": "code",
     "collapsed": false,
     "input": [
      "import scipy.spatial.distance as scipyDist\n"
     ],
     "language": "python",
     "metadata": {},
     "outputs": [],
     "prompt_number": 248
    },
    {
     "cell_type": "code",
     "collapsed": false,
     "input": [
      "zrange = np.linspace(-50,50,100); dz = zrange[1]-zrange[0];\n",
      "x_d = np.array([-1., 1.])*2; s_d = 1.\n",
      "x_s = np.array([-1., -1.]); s_s = 1."
     ],
     "language": "python",
     "metadata": {},
     "outputs": [],
     "prompt_number": 289
    },
    {
     "cell_type": "code",
     "collapsed": false,
     "input": [
      "def f(z):\n",
      "    v = st.norm.pdf(x_d, loc=z, scale=s_d)\n",
      "    return v.mean()\n",
      "\n",
      "def g(z):\n",
      "    v = st.norm.pdf(x_s, loc=z, scale=s_s)\n",
      "    return v.mean()\n",
      "\n",
      "def divergence(fz, gz, dz):\n",
      "    f2 = (fz**2).sum()*dz\n",
      "    g2 = (gz**2).sum()*dz\n",
      "    fg = (fz * gz).sum()*dz\n",
      "    return (f2 -2*fg + g2) / (f2+g2)\n",
      "    \n",
      "    \n",
      "    \n",
      "alpha = 0.0001\n",
      "def similarity(fz, gz, dz):\n",
      "    f2 = (fz**(1+alpha)).sum()*dz\n",
      "    g2 = (gz**(1+alpha)).sum()*dz\n",
      "    fg = (fz * (gz**alpha)).sum()*dz\n",
      "    #return (f2 -2*fg + g2) / (f2+g2)\n",
      "    #return 2 * fg / (f2+g2)\n",
      "    \n",
      "    return (1/alpha * f2 - (1+1/alpha) * fg + g2) #/ (1/alpha * f2 + g2)\n",
      "\n",
      "\n",
      "\n",
      "def dist(x,z):\n",
      "    n= len(x);\n",
      "    m=len(z);\n",
      "    d2 = np.empty((n,m))\n",
      "    for i in range(n):\n",
      "        for j in range(m):\n",
      "            d2[i, j] = (x[i]-z[j])**2\n",
      "    return d2\n",
      "\n",
      "\n",
      "def logIntFG(x, mu, z, nu):\n",
      "    sigma2 = (mu**2 + nu**2)\n",
      "    n= len(x);\n",
      "    m=len(z);\n",
      "    d2 = dist(x,z)\n",
      "    y = -d2 / sigma2 /2\n",
      "    f = 1./np.sqrt(2*np.pi*sigma2)/n/m\n",
      "\n",
      "    return np.log(np.sum(np.exp(y)*f))\n",
      "\n",
      "def logIntF2G2(x, mu, z, nu):\n",
      "    S = 0.\n",
      "    for (xx, s) in zip([x,z], [mu, nu]):\n",
      "        s2 = 2*(s**2)\n",
      "        d2 = dist(xx, xx)\n",
      "        y = -d2 /s2/2\n",
      "        f = 1./np.sqrt(2*np.pi*s2)/len(xx)**2\n",
      "        S += np.sum(np.exp(y)*f)        \n",
      "    return np.log(S)\n",
      "\n",
      "\n",
      "\n",
      "def logSim(x, mu, z, nu):\n",
      "    v = np.log(2) + logIntFG(x, mu, z, nu) - logIntF2G2(x, mu, z, nu)\n",
      "    return v\n",
      "\n",
      "def simpleDiv(x, mu, z, nu):\n",
      "    d2 = scipyDist.cdist(x/mu, z/nu, 'sqeuclidean')\n",
      "    \n",
      "    #only keep the closest. Maybe consider the 3 closest points?\n",
      "    \n",
      "    #these are closest points to the data\n",
      "    d2_data = np.min(d2, axis=0)\n",
      "    sigma2_data = 1.\n",
      "    \n",
      "    #these are closest points to samples\n",
      "    d2_samples = np.min(d2, axis=1)\n",
      "    sigma2_samples = 20.\n",
      "    #we want a smaller sigma2_samples since we don't expect samples\n",
      "    #to just be out there on their own! We expect them to be close to the\n",
      "    #data somehow. \n",
      "    \n",
      "    \n",
      "    #assuming a normal likelihood, loglikelihood is -val\n",
      "    return -d2_data.sum()/sigma2_data - d2_samples.sum()/sigma2_samples\n",
      "    "
     ],
     "language": "python",
     "metadata": {},
     "outputs": [],
     "prompt_number": 290
    },
    {
     "cell_type": "code",
     "collapsed": false,
     "input": [],
     "language": "python",
     "metadata": {},
     "outputs": [],
     "prompt_number": 290
    },
    {
     "cell_type": "code",
     "collapsed": false,
     "input": [
      "for (idx, fact) in enumerate([1., 1.5, 2., 10.,]):\n",
      "    plt.subplot(2,2,idx+1)\n",
      "    x_d = np.array([-1, -1.])*fact\n",
      "    fz = np.array([f(z) for z in zrange])\n",
      "    gz = np.array([g(z) for z in zrange])\n",
      "    sim_log = logSim(x_d, s_d, x_s, s_s)\n",
      "    sim_simple = simpleDiv(np.column_stack([x_d, 0*x_d]), s_d, np.column_stack([x_s, 0*x_s]), s_s)\n",
      "    \n",
      "    plt.plot(zrange, fz, color='b')\n",
      "    plt.plot(x_d, 0*x_d+.05, color='b', marker='+', markersize=8, markeredgewidth=3, linestyle=\"\")\n",
      "    plt.plot(zrange, gz, color='g')\n",
      "    plt.plot(x_s, 0*x_s+.03, color='g', marker='+', markersize=8, markeredgewidth=3, linestyle=\"\")\n",
      "\n",
      "    plt.grid(\"on\")\n",
      "    plt.title('div = %.2f (%.2f | %.2f)'%(sim_simple, similarity(fz,gz,dz), similarity(gz,fz,dz)) )"
     ],
     "language": "python",
     "metadata": {},
     "outputs": [
      {
       "metadata": {},
       "output_type": "display_data",
       "png": "[encoded data removed]",
       "text": [
        "<matplotlib.figure.Figure at 0x7f8ddc450cd0>"
       ]
      }
     ],
     "prompt_number": 293
    },
    {
     "cell_type": "code",
     "collapsed": false,
     "input": [
      "xy_d = np.array([[0., 0.],[-1., -1.], [5., 5.]]); Sigma_d =  2 * np.eye(2); Tau_d  = np.linalg.inv(Sigma_d)\n",
      "xy_m = np.array([[0., 0.],[-0., -0.], [3., 5.]]); Sigma_m = .5 * np.eye(2); Tau_m  = np.linalg.inv(Sigma_m)"
     ],
     "language": "python",
     "metadata": {},
     "outputs": [],
     "prompt_number": 294
    },
    {
     "cell_type": "code",
     "collapsed": false,
     "input": [
      "def mv_normal_pdf(x, mu, Sigma_inv):\n",
      "    detInv_sq = np.sqrt(np.linalg.det(Sigma_inv))\n",
      "    k = Sigma_inv.shape[0]\n",
      "    \n",
      "    v = 1.0\n",
      "    for xv in x:\n",
      "        y = xv - mu;\n",
      "        v *= np.exp(-0.5*np.dot(y,np.dot(Sigma_inv,y.transpose())))/np.sqrt((2*np.pi)**k)*detInv_sq\n",
      "\n",
      "    return v\n",
      "\n"
     ],
     "language": "python",
     "metadata": {},
     "outputs": [],
     "prompt_number": 295
    },
    {
     "cell_type": "code",
     "collapsed": false,
     "input": [
      "def f2d(z):\n",
      "    v = 0.0\n",
      "    for mu in xy_d:\n",
      "        v += mv_normal_pdf([z], mu[::-1], Tau_d)\n",
      "    return v/len(xy_d)\n",
      "        \n",
      "def g2d(z):\n",
      "    v = 0.0\n",
      "    for mu in xy_m:\n",
      "        v += mv_normal_pdf([z], mu[::-1], Tau_m)\n",
      "    return v/len(xy_d)\n",
      "        \n"
     ],
     "language": "python",
     "metadata": {},
     "outputs": [],
     "prompt_number": 309
    },
    {
     "cell_type": "code",
     "collapsed": false,
     "input": [
      "x = np.linspace(-10., 10., 100)\n",
      "y = np.linspace(-10., 10., 100)\n",
      "xx, yy = np.meshgrid(x, y, sparse=True)\n",
      "dz = x[1] - x[0]"
     ],
     "language": "python",
     "metadata": {},
     "outputs": [],
     "prompt_number": 310
    },
    {
     "cell_type": "code",
     "collapsed": false,
     "input": [
      "fz2d = np.zeros((xx.shape[1],xx.shape[1]))\n",
      "gz2d = np.zeros((xx.shape[1],xx.shape[1]))\n",
      "    \n",
      "def repopulate():\n",
      "    for (i, xv) in enumerate(xx[0]):\n",
      "        for (j, yv) in enumerate(yy[:,0]):\n",
      "            #print xv, yv\n",
      "            fz2d[i, j] = f2d(np.array([xv, yv]))\n",
      "            gz2d[i, j] = g2d(np.array([xv, yv]))\n",
      "        #break\n",
      "    #break"
     ],
     "language": "python",
     "metadata": {},
     "outputs": [],
     "prompt_number": 311
    },
    {
     "cell_type": "code",
     "collapsed": false,
     "input": [
      "xy_m = toy.xy_meas[:, :] * 1.0\n",
      "xy_d = toy.xy_points.value * 1.0"
     ],
     "language": "python",
     "metadata": {},
     "outputs": [],
     "prompt_number": 346
    },
    {
     "cell_type": "code",
     "collapsed": false,
     "input": [
      "for (idx, fact) in enumerate([1., 2., 5., -5]):\n",
      "#     plt.subplot(2,2,idx+1)\n",
      "#     xy_d = np.array([[0., 0.],[-0., -0.], [1., 1.]]);\n",
      "#     xy_d[2] *= fact\n",
      "#     if idx == 3:\n",
      "#         xy_d[1] += -5\n",
      "    \n",
      "#     xy_d = 1.*xy_m; xy_d[:, 0] += 1 * (fact-1)\n",
      "    \n",
      "    repopulate()\n",
      "    sim2D = similarity(fz2d, gz2d, dz*dz)\n",
      "    plt.title('Similarity %.3f (%.3f)'%(sim2D, 1e3*logSim2D(xy_d, xy_m)))\n",
      "    plt.contourf(x-20,y,gz2d, alpha=.2)\n",
      "    plt.plot(xy_d[:, 0]-20, xy_d[:, 1], marker='+', color='g', markeredgewidth=2, linestyle=\"\") \n",
      "    \n",
      "    plt.contourf(x,y,fz2d, alpha=.2)\n",
      "    plt.plot(xy_m[:, 0], xy_m[:, 1], marker='+', color='r', markeredgewidth=2, linestyle=\"\") \n",
      "\n",
      "    plt.grid('on')\n",
      "    plt.axis('equal')\n",
      "    plt.xlim([-30, 10])\n",
      "    #break\n"
     ],
     "language": "python",
     "metadata": {},
     "outputs": [
      {
       "metadata": {},
       "output_type": "display_data",
       "png": "[encoded data removed]",
       "text": [
        "<matplotlib.figure.Figure at 0x7f8ddd0eb110>"
       ]
      }
     ],
     "prompt_number": 348
    },
    {
     "cell_type": "code",
     "collapsed": false,
     "input": [
      "Sigma_x = Sigma_d; Sigma_z= Sigma_m\n",
      "\n",
      "T_xz = scipy.linalg.inv(Sigma_x + Sigma_z);\n",
      "T_xx = scipy.linalg.inv(Sigma_x + Sigma_x);\n",
      "T_zz = scipy.linalg.inv(Sigma_z + Sigma_z);\n",
      "\n",
      "T_xz_sq = scipy.linalg.sqrtm(T_xz)\n",
      "T_xx_sq = scipy.linalg.sqrtm(T_xx)\n",
      "T_zz_sq = scipy.linalg.sqrtm(T_zz)\n",
      "\n",
      "T_xz_sq_det = scipy.linalg.det(T_xz_sq)\n",
      "T_xx_sq_det = scipy.linalg.det(T_xx_sq)\n",
      "T_zz_sq_det = scipy.linalg.det(T_zz_sq)"
     ],
     "language": "python",
     "metadata": {},
     "outputs": [],
     "prompt_number": 325
    },
    {
     "cell_type": "code",
     "collapsed": false,
     "input": [
      "def logSim2D(x, z):\n",
      "    k = Sigma_x.shape[0]\n",
      "    assert(k == 2)\n",
      "    assert(x.shape[1] == 2 and z.shape[1] == 2)\n",
      "    n = x.shape[0]\n",
      "    m = z.shape[0]\n",
      "    \n",
      "    pi_f = (2*np.pi)**(k/2.)\n",
      "    \n",
      "    \n",
      "           \n",
      "    xt = np.dot(x, T_xz_sq)\n",
      "    zt = np.dot(z, T_xz_sq)\n",
      "    D_xz = scipyDist.cdist(xt,zt,'sqeuclidean'); D_xz *= -0.5;\n",
      "    \n",
      "    v = -2*np.exp(D_xz).sum()*T_xz_sq_det/n/m/pi_f\n",
      "     \n",
      "    \n",
      "    xt = np.dot(x, T_xx_sq)\n",
      "    D_xx = scipyDist.pdist(xt,'sqeuclidean'); D_xx *= -0.5;\n",
      "    \n",
      "    zt = np.dot(z, T_zz_sq)\n",
      "    D_zz = scipyDist.pdist(zt,'sqeuclidean'); D_zz *= -0.5;\n",
      "    v += ((2*np.exp(D_xx).sum() + n) *T_xx_sq_det/n/n/pi_f + (2*np.exp(D_zz).sum()+m)*T_zz_sq_det/m/m/pi_f)\n",
      "    \n",
      "    return -v\n",
      "    "
     ],
     "language": "python",
     "metadata": {},
     "outputs": [],
     "prompt_number": 334
    },
    {
     "cell_type": "code",
     "collapsed": false,
     "input": [
      "alpha = 1.\n",
      "def similarity(fz, gz, dz):\n",
      "    f2 = (fz**(1+alpha)).sum()*dz\n",
      "    g2 = (gz**(1+alpha)).sum()*dz\n",
      "    fg = (fz * (gz**alpha)).sum()*dz\n",
      "    #return (f2 -2*fg + g2) / (f2+g2)\n",
      "    #return 2 * fg / (f2+g2)\n",
      "    \n",
      "    return (1/alpha * f2 - (1+1/alpha) * fg + g2) #/ (1/alpha * f2 + g2)"
     ],
     "language": "python",
     "metadata": {},
     "outputs": [],
     "prompt_number": 336
    },
    {
     "cell_type": "code",
     "collapsed": false,
     "input": [
      "similarity(fz2d, gz2d, dz*dz)"
     ],
     "language": "python",
     "metadata": {},
     "outputs": [
      {
       "metadata": {},
       "output_type": "pyout",
       "prompt_number": 337,
       "text": [
        "0.067047220333244006"
       ]
      }
     ],
     "prompt_number": 337
    },
    {
     "cell_type": "code",
     "collapsed": false,
     "input": [
      "logSim2D(xy_d, xy_m)"
     ],
     "language": "python",
     "metadata": {},
     "outputs": [
      {
       "metadata": {},
       "output_type": "pyout",
       "prompt_number": 335,
       "text": [
        "-0.067047223187205907"
       ]
      }
     ],
     "prompt_number": 335
    },
    {
     "cell_type": "code",
     "collapsed": false,
     "input": [
      "from sklearn.neighbors import KDTree"
     ],
     "language": "python",
     "metadata": {},
     "outputs": [],
     "prompt_number": 17
    },
    {
     "cell_type": "code",
     "collapsed": false,
     "input": [
      "Ng = 200\n",
      "x = np.linspace(-20., 20., Ng)\n",
      "y = np.linspace(-20., 20., Ng)\n",
      "x = np.sort(np.random.rand(Ng) * 40. - 20.);\n",
      "y = np.sort(np.random.rand(Ng) * 40. - 20.);\n",
      "xx, yy = np.meshgrid(x, y)"
     ],
     "language": "python",
     "metadata": {},
     "outputs": [],
     "prompt_number": 18
    },
    {
     "cell_type": "code",
     "collapsed": false,
     "input": [
      "xy_grid = np.column_stack([xx.flatten(), yy.flatten()])"
     ],
     "language": "python",
     "metadata": {},
     "outputs": [],
     "prompt_number": 19
    },
    {
     "cell_type": "code",
     "collapsed": false,
     "input": [],
     "language": "python",
     "metadata": {},
     "outputs": [],
     "prompt_number": 174
    },
    {
     "cell_type": "code",
     "collapsed": false,
     "input": [
      "tree = KDTree(toy.xy_meas)"
     ],
     "language": "python",
     "metadata": {},
     "outputs": [],
     "prompt_number": 20
    },
    {
     "cell_type": "code",
     "collapsed": false,
     "input": [
      "tree_d = KDTree(toy.xy_points.value)"
     ],
     "language": "python",
     "metadata": {},
     "outputs": [],
     "prompt_number": 21
    },
    {
     "cell_type": "code",
     "collapsed": false,
     "input": [
      "fboo = tree.kernel_density(xy_grid, h=1, kernel='gaussian')"
     ],
     "language": "python",
     "metadata": {},
     "outputs": [],
     "prompt_number": 28
    },
    {
     "cell_type": "code",
     "collapsed": false,
     "input": [
      "fboo_d = tree_d.kernel_density(xy_grid, h=1, kernel='gaussian')"
     ],
     "language": "python",
     "metadata": {},
     "outputs": [],
     "prompt_number": 29
    },
    {
     "cell_type": "code",
     "collapsed": false,
     "input": [
      "#plt.contourf(x,y, fboo.reshape(Ng,Ng), alpha=.2)\n",
      "#plt.plot(toy.xy_meas[:,0], toy.xy_meas[:,1], linestyle=\"\", marker=\".\")\n",
      "\n",
      "\n",
      "plt.plot(toy.xy_points.value[0:100,0]-40, toy.xy_points.value[0:100,1], linestyle=\"\", color='k', marker=\".\", alpha=.1)\n",
      "\n",
      "plt.contourf(x,y, fboo.reshape(Ng,Ng), alpha=.2)\n",
      "plt.contourf(x-40,y, fboo_d.reshape(Ng,Ng), alpha=.2)\n",
      "#plt.plot(xy_grid[:,0]-40, xy_grid[:,1],  linestyle='', color='k', marker=\".\", alpha=.5)\n",
      "\n",
      "\n",
      "plt.axis(\"equal\")"
     ],
     "language": "python",
     "metadata": {},
     "outputs": [
      {
       "metadata": {},
       "output_type": "pyout",
       "prompt_number": 30,
       "text": [
        "(-60.0, 20.0, -20.0, 20.0)"
       ]
      },
      {
       "metadata": {},
       "output_type": "display_data",
       "png": "[encoded data removed]",
       "text": [
        "<matplotlib.figure.Figure at 0x7fed50fb28d0>"
       ]
      }
     ],
     "prompt_number": 30
    },
    {
     "cell_type": "code",
     "collapsed": false,
     "input": [
      "# Efficient and simple generation of random simple\n",
      "# connected graphs with prescribed degree sequence\n",
      "# Fabien Viger1,2\n",
      "# , Matthieu Latapy2\n",
      "\n",
      "\n",
      "def Pc(degs):\n",
      "    N = len(degs)\n",
      "    \n",
      "    Pc = np.zeros((N,N))\n",
      "    S = np.sort(degs)[::-1]\n",
      "    r = 0\n",
      "    #mport ipdb\n",
      "        #ipb.set_trace()\n",
      "    while len(S) > 0 and S.min() >= 0:\n",
      "        d = S[0]\n",
      "        S[0] = 0\n",
      "        \n",
      "        for j in range(1, d+1):\n",
      "            if j >= len(S): #Invalid number of edges\n",
      "                return None\n",
      "            \n",
      "            S[j] -= 1\n",
      "            if(S[j] < 0):#Not graphic\n",
      "                return None \n",
      "                \n",
      "            c = r + j\n",
      "            Pc[r, c] += 1\n",
      "            \n",
      "        \n",
      "        \n",
      "        isort = np.argsort(S)[::-1] #decreasing\n",
      "        S = S[isort]\n",
      "        #Pc = Pc[isort]\n",
      "        S = S[1:]\n",
      "        r += 1\n",
      "        \n",
      "        if S.max() == 0:\n",
      "            break\n",
      "\n",
      "    if len(S) > 0 and S.min() < 0:\n",
      "        return None\n",
      "    else:\n",
      "        return Pc\n",
      "    \n",
      "    \n",
      "    \n",
      "    \n",
      "    "
     ],
     "language": "python",
     "metadata": {},
     "outputs": [],
     "prompt_number": 173
    },
    {
     "cell_type": "code",
     "collapsed": false,
     "input": [
      "P = Pc([5,4,3,2,2,2,2,2])\n",
      "P"
     ],
     "language": "python",
     "metadata": {},
     "outputs": [],
     "prompt_number": 174
    },
    {
     "cell_type": "code",
     "collapsed": false,
     "input": [
      "C = (P+P.transpose())"
     ],
     "language": "python",
     "metadata": {},
     "outputs": [],
     "prompt_number": 163
    },
    {
     "cell_type": "code",
     "collapsed": false,
     "input": [
      "import itertools\n",
      "import networkx as nx"
     ],
     "language": "python",
     "metadata": {},
     "outputs": [],
     "prompt_number": 162
    },
    {
     "cell_type": "code",
     "collapsed": false,
     "input": [
      "Vk = pymc.Geometric('Sparsity', p = 0.65, size=8)\n"
     ],
     "language": "python",
     "metadata": {},
     "outputs": [],
     "prompt_number": 579
    },
    {
     "cell_type": "code",
     "collapsed": false,
     "input": [
      "Vk.random()"
     ],
     "language": "python",
     "metadata": {},
     "outputs": [
      {
       "metadata": {},
       "output_type": "pyout",
       "prompt_number": 613,
       "text": [
        "array([1, 2, 4, 2, 1, 1, 1, 4])"
       ]
      }
     ],
     "prompt_number": 613
    },
    {
     "cell_type": "code",
     "collapsed": false,
     "input": [
      "Vk.value.sum() >= 2*(len(Vk.value)-1)"
     ],
     "language": "python",
     "metadata": {},
     "outputs": [
      {
       "metadata": {},
       "output_type": "pyout",
       "prompt_number": 614,
       "text": [
        "True"
       ]
      }
     ],
     "prompt_number": 614
    },
    {
     "cell_type": "code",
     "collapsed": false,
     "input": [
      "def f(seq):\n",
      "    G = nx.empty_graph()\n",
      "    if not nx.is_valid_degree_sequence(seq):\n",
      "        return G\n",
      "    \n",
      "    potentiallyConnected = seq.sum() >= 2*(len(seq)-1)\n",
      "    \n",
      "    iter = 0\n",
      "    while(iter < 5):\n",
      "        iter += 1\n",
      "        try:\n",
      "            G = nx.random_degree_sequence_graph(seq)\n",
      "            if (not potentiallyConnected) or nx.is_connected(G):\n",
      "                break\n",
      "        except:\n",
      "            continue\n",
      "            \n",
      "    return G"
     ],
     "language": "python",
     "metadata": {},
     "outputs": [],
     "prompt_number": 707
    },
    {
     "cell_type": "code",
     "collapsed": false,
     "input": [
      "?nx.connected_watts_strogatz_graph"
     ],
     "language": "python",
     "metadata": {},
     "outputs": [],
     "prompt_number": 649
    },
    {
     "cell_type": "code",
     "collapsed": false,
     "input": [
      "?nx.connected_caveman_graph"
     ],
     "language": "python",
     "metadata": {},
     "outputs": [],
     "prompt_number": 765
    },
    {
     "cell_type": "code",
     "collapsed": false,
     "input": [
      "#G = nx.connected_watts_strogatz_graph(8, 2, .4)\n",
      "G = nx.caveman_graph(3, 3)\n",
      "nx.draw_networkx(G)\n"
     ],
     "language": "python",
     "metadata": {},
     "outputs": [
      {
       "metadata": {},
       "output_type": "display_data",
       "png": "[encoded data removed]",
       "text": [
        "<matplotlib.figure.Figure at 0x7fed5157ccd0>"
       ]
      }
     ],
     "prompt_number": 768
    },
    {
     "cell_type": "code",
     "collapsed": false,
     "input": [
      "Vk.random()\n",
      "G = f(Vk.value);\n",
      "nx.draw_networkx(G)"
     ],
     "language": "python",
     "metadata": {},
     "outputs": [
      {
       "metadata": {},
       "output_type": "display_data",
       "png": "[encoded data removed]",
       "text": [
        "<matplotlib.figure.Figure at 0x7fed5004b850>"
       ]
      }
     ],
     "prompt_number": 732
    },
    {
     "cell_type": "code",
     "collapsed": false,
     "input": [
      "A1 = nx.adjacency_matrix(G).todense(); A1"
     ],
     "language": "python",
     "metadata": {},
     "outputs": [
      {
       "metadata": {},
       "output_type": "pyout",
       "prompt_number": 638,
       "text": [
        "matrix([[0, 0, 0, 0, 0, 0, 0, 1],\n",
        "        [0, 0, 0, 0, 1, 0, 0, 1],\n",
        "        [0, 0, 0, 1, 0, 1, 1, 1],\n",
        "        [0, 0, 1, 0, 0, 0, 0, 1],\n",
        "        [0, 1, 0, 0, 0, 0, 0, 0],\n",
        "        [0, 0, 1, 0, 0, 0, 0, 0],\n",
        "        [0, 0, 1, 0, 0, 0, 0, 0],\n",
        "        [1, 1, 1, 1, 0, 0, 0, 0]])"
       ]
      }
     ],
     "prompt_number": 638
    },
    {
     "cell_type": "code",
     "collapsed": false,
     "input": [
      "edgelist = [(u,v,C[u,v]) for u,v in itertools.product(range(5),range(5))]\n",
      "G = nx.Graph()\n",
      "\n",
      "for u,v,t in edgelist:\n",
      "    if t > 0:\n",
      "        G.add_edge(u,v)\n",
      "nx.draw_networkx(G)\n",
      "plt.show()"
     ],
     "language": "python",
     "metadata": {},
     "outputs": [
      {
       "metadata": {},
       "output_type": "display_data",
       "png": "[encoded data removed]",
       "text": [
        "<matplotlib.figure.Figure at 0x7fed50fdce10>"
       ]
      }
     ],
     "prompt_number": 182
    },
    {
     "cell_type": "code",
     "collapsed": false,
     "input": [],
     "language": "python",
     "metadata": {},
     "outputs": []
    }
   ],
   "metadata": {}
  }
 ]
}