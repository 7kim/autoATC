{
 "metadata": {
  "language": "Julia",
  "name": "",
  "signature": "sha256:9420fc72ca7c79a67ca44cbd2e9868ee3457f7ab23a50eee234462324a9544a5"
 },
 "nbformat": 3,
 "nbformat_minor": 0,
 "worksheets": [
  {
   "cells": [
    {
     "cell_type": "code",
     "collapsed": false,
     "input": [
      "include(\"pattern.jl\")"
     ],
     "language": "python",
     "metadata": {},
     "outputs": [
      {
       "metadata": {},
       "output_type": "pyout",
       "prompt_number": 1,
       "text": [
        "plotSim (generic function with 1 method)"
       ]
      }
     ],
     "prompt_number": 1
    },
    {
     "cell_type": "code",
     "collapsed": false,
     "input": [
      "include(\"CTMDP.jl\")"
     ],
     "language": "python",
     "metadata": {},
     "outputs": [
      {
       "metadata": {},
       "output_type": "pyout",
       "prompt_number": 2,
       "text": [
        "sample (generic function with 1 method)"
       ]
      }
     ],
     "prompt_number": 2
    },
    {
     "cell_type": "code",
     "collapsed": false,
     "input": [
      "amax = maximum([length( NextStates[s]) for s in keys(NextStates)]);\n",
      "A = (Int8)[0:amax];\n",
      "P0 = spzeros(Float32, g_nNodes, g_nNodes);\n",
      "P = (typeof(P0))[copy(P0) for a in A]\n",
      "\n",
      "for a in A\n",
      "    if a == 0\n",
      "        act = g_nullAct\n",
      "    else\n",
      "        act = Int8[1, a]\n",
      "    end\n",
      "    for x in 1:g_nNodes\n",
      "        s = x2s(x)\n",
      "        for sp in NextStates[s]\n",
      "            xp = s2x(sp)\n",
      "            P[a+1][x,xp] = Transition([s], act, [sp])\n",
      "        end\n",
      "    end\n",
      "end\n",
      "M0 = speye(Float32, g_nNodes)\n",
      "for x in 1:g_nNodes\n",
      "    s = x2s(x)\n",
      "    M0[x,x] = 1./(teaTime[s]/60)\n",
      "end\n",
      "\n",
      "Isp = speye(Float32, g_nNodes);\n",
      "Qt_list = (typeof(M0))[(M0*(P[a+1] - Isp))' for a in A];"
     ],
     "language": "python",
     "metadata": {},
     "outputs": [],
     "prompt_number": 3
    },
    {
     "cell_type": "code",
     "collapsed": false,
     "input": [
      "Aopt = loadPolicy(1.,0.0f0);\n",
      "function policy_lidx_2_compact(lidx)\n",
      "    return policy_X2a_compact(LIDX2X(lidx), Aopt) \n",
      "end\n",
      "\n",
      "#Construct long policy to avoid all of this LIDX2X biz\n",
      "Aopt_long = (typeof(g_nullAct))[copy(g_nullAct) for i in 1:g_nXlong];\n",
      "for lidx in 1:g_nXlong\n",
      "    Aopt_long[lidx] = policy_lidx_2_compact(lidx)\n",
      "end\n",
      "#Ovwrite function\n",
      "function policy_lidx_2_compact(i)\n",
      "    return Aopt_long[i]\n",
      "end\n"
     ],
     "language": "python",
     "metadata": {},
     "outputs": [
      {
       "metadata": {},
       "output_type": "pyout",
       "prompt_number": 4,
       "text": [
        "policy_lidx_2_compact (generic function with 1 method)"
       ]
      }
     ],
     "prompt_number": 4
    },
    {
     "cell_type": "code",
     "collapsed": false,
     "input": [
      "CIDX2X(3), X2LIDX([3, 1, 1,1])"
     ],
     "language": "python",
     "metadata": {},
     "outputs": [
      {
       "metadata": {},
       "output_type": "pyout",
       "prompt_number": 5,
       "text": [
        "([1,1,1,3],235299)"
       ]
      }
     ],
     "prompt_number": 5
    },
    {
     "cell_type": "code",
     "collapsed": false,
     "input": [
      "policy_lidx_2_compact(3), policy_lidx_2_compact(39367)"
     ],
     "language": "python",
     "metadata": {},
     "outputs": [
      {
       "metadata": {},
       "output_type": "pyout",
       "prompt_number": 6,
       "text": [
        "(Int8[4,3],Int8[0,0])"
       ]
      }
     ],
     "prompt_number": 6
    },
    {
     "cell_type": "code",
     "collapsed": false,
     "input": [
      "#res_u = spzeros(n,1) #Note that we will abuse this vector :)\n",
      "#Cb_res = spzeros(n_K,1); #This will get cleared\n",
      "#TODO: Make this not allocate any memory ...\n",
      "ntmp = size(Qt_list[1],1)\n",
      "res_u = spzeros(Float32, ntmp,1)\n",
      "res_u_rowval = Array(Int64, ntmp)\n",
      "res_u_nzval = Array(Float32, ntmp)\n",
      "res_u.rowval = res_u_rowval\n",
      "res_u.nzval = res_u_nzval;"
     ],
     "language": "python",
     "metadata": {},
     "outputs": [],
     "prompt_number": 7
    },
    {
     "cell_type": "code",
     "collapsed": false,
     "input": [
      "function getRowFromKronSum!(Cb_res, At_list,A_order, K,b)\n",
      "    n = size(At_list[1],1);\n",
      "    n_K = n^K;\n",
      "    n_Km1 = n^(K-1);\n",
      "    \n",
      "    #We'll reset the size of Cb\n",
      "    #and clear it\n",
      "    assert(Cb_res.n == 1)\n",
      "    Cb_res.m = n_K    \n",
      "    Cb_res.colptr[1] = Cb_res.colptr[2] = 1\n",
      "    resize!(Cb_res.rowval,0)\n",
      "    resize!(Cb_res.nzval,0)\n",
      "\n",
      "    for u in 1:K\n",
      "        Bt = At_list[A_order[u]] #Grab reference to relevant matrix\n",
      "        p = n^u;\n",
      "        q = n^(K-u)\n",
      "        #k = sub2ind((p,q), reverse(ind2sub((q,p),l))...)\n",
      "        #bp = sub2ind((p,q), reverse(ind2sub((q,p),b))...)\n",
      "        bp = pqlqp(p,q,b)\n",
      "        #(d,c) = ind2sub((n,n_Km1), bp)\n",
      "        #(rem(ind-1,dims[1])+1, div(ind-1,dims[1])+1)\n",
      "        (c, d) = divrem(bp-1, n)\n",
      "        c += 1; d += 1;\n",
      "        \n",
      "        #reisze res_u and populate it\n",
      "        #res_u = spzeros(n,1) #Note that we will abuse this vector :)\n",
      "        res_u.m = n\n",
      "        #This for loop grabs the d column of Bt\n",
      "        idx = 1\n",
      "        for i in Bt.colptr[d]:(Bt.colptr[d+1]-1) \n",
      "           #res_u[Bt.rowval[i]] = Bt.nzval[i]\n",
      "          res_u_rowval[idx] = Bt.rowval[i]\n",
      "          res_u_nzval[idx] = Bt.nzval[i]\n",
      "          idx += 1\n",
      "        end\n",
      "        res_u.colptr[2] = idx\n",
      "        eaKronv!(c, n_Km1, res_u)\n",
      "        #Last step is to permute\n",
      "        Ppq_v!(q,p,res_u)\n",
      "        #Cumulative sum into accumulator\n",
      "        #Cb_res = Cb_res + res_u\n",
      "        sparseVectorPlusEq!(Cb_res, res_u, n_K)\n",
      "    end\n",
      "\n",
      "    return nothing\n",
      "end\n",
      "# Cb_test = spzeros(ntmp^g_nVehicles,1); #This will get cleared\n",
      "# testOrder = [1, 3]; testRow = 25;\n",
      "# getRowFromKronSum!(Cb_test, Qt_list,testOrder, length(testOrder), testRow)\n",
      "# kronSum(Qt_list[testOrder])[:, testRow], Cb_test"
     ],
     "language": "python",
     "metadata": {},
     "outputs": [
      {
       "metadata": {},
       "output_type": "pyout",
       "prompt_number": 8,
       "text": [
        "getRowFromKronSum! (generic function with 1 method)"
       ]
      }
     ],
     "prompt_number": 8
    },
    {
     "cell_type": "code",
     "collapsed": false,
     "input": [
      "const order = ones(g_nVehicles)\n",
      "function getRowFromPolicy!(q, Qt_list, policyFun, i, K)\n",
      "    #populate q with the appropriate row from the list of policies (T) Qt_list\n",
      "    \n",
      "    #The policy function is assumed to have the form\n",
      "    # i - > [a_1, a_2]\n",
      "    # where i is the LIDX of the state, a_1 is the aircraft to\n",
      "    # be commanded, and [a_1, a_2] are the indices into the policy.\n",
      "    \n",
      "    (a1, a2) = policyFun(i)\n",
      "    #Assume we will be using the 0 policy all the time\n",
      "    for idx in 1:K\n",
      "        if a1 == idx\n",
      "            order[a1] = a2\n",
      "        else\n",
      "            order[idx] = 1\n",
      "        end\n",
      "    end\n",
      "    \n",
      "    getRowFromKronSum!(q, Qt_list, order, K, i)\n",
      "    \n",
      "#     n = size(Alist[1], 1)\n",
      "#     nK_1 = n^(K-1)\n",
      "#     Ink_1 = speye(nK_1)\n",
      "#     Q = spzeros(n^K, n^K)\n",
      "#     for i in 1:K\n",
      "#         p = n^(i)\n",
      "#         q = n^(K-i)\n",
      "#         Q +=  Pmn(p,q) * kron(Ink_1, Alist[i]) * Pmn(q,p)\n",
      "#     end\n",
      "#     return Q\n",
      "end\n",
      "\n",
      "# testOrder = [1,1,1,3]; testRow = 3\n",
      "# kronSum(Qt_list[testOrder])[:, testRow]\n",
      "# getRowFromPolicy(Qt_list, policy_lidx_2_compact, testRow, g_nVehicles)\n"
     ],
     "language": "python",
     "metadata": {},
     "outputs": [
      {
       "metadata": {},
       "output_type": "pyout",
       "prompt_number": 9,
       "text": [
        "getRowFromPolicy! (generic function with 1 method)"
       ]
      }
     ],
     "prompt_number": 9
    },
    {
     "cell_type": "code",
     "collapsed": false,
     "input": [
      "function stationaryDistribution!(\u03b1_0, Qt_list, policyFun; maxIters = 1) \n",
      "    #This function computes the stationary\n",
      "    #distribution under policy policyFun.\n",
      "    \n",
      "    #The policy function is assumed to have the form\n",
      "    # i - > [a_1, a_2]\n",
      "    # where i is the LIDX of the state, a_1 is the aircraft to\n",
      "    # be commanded, and [a_1, a_2] are the indices into the policy.\n",
      "    \n",
      "    #Assume null policy...\n",
      "    #Qt = kronSum({Qt_list[policyFun], Qt_list[1]})\n",
      "    #Qt = Qt_list[policyFun]; \n",
      "    n = g_nXlong;\n",
      "\n",
      "    j = 1\n",
      "    \n",
      "    assert(length(\u03b1_0) == n);\n",
      "    \u03b1_1 = similar(\u03b1_0)\n",
      "    \n",
      "    #Consider doing the division as part of the\n",
      "    #inner loop to save on memory?\n",
      "    d_inv = similar(\u03b1_0)\n",
      "    \n",
      "    q = spzeros(Float32, n, 1) \n",
      "        \n",
      "    start = time()\n",
      "    for iter in 1:maxIters\n",
      "        if(iter % 2 == 1)\n",
      "            @printf(\"#%i (%.2f s) alpha: \",iter, time()-start)\n",
      "        end\n",
      "        \n",
      "        #Initialize \n",
      "        fill!(\u03b1_1, 0.0f0)\n",
      "        \u03b1_1[j] = 1.0f0\n",
      "        for i in 1:n\n",
      "            #TODO: Do this without GC\n",
      "            getRowFromPolicy!(q, Qt_list, policyFun, i, g_nVehicles)\n",
      "            #q = Qt[:,i] #This is a row of Q\n",
      "            \n",
      "            #This part is the most brittle of the \n",
      "            #algorithm! Not clear what's the best\n",
      "            #value to use to replace the column\n",
      "            if i == 1\n",
      "                q[j] = 10\n",
      "            end\n",
      "            #Construct the diagonal\n",
      "            #Only do that the first time around\n",
      "            if iter == 1\n",
      "                d_inv[i] = 1/q[i]\n",
      "            end         \n",
      "                        \n",
      "            #q[i] = 0.0f0                  \n",
      "            #z = \u03b1_0[i] * q\n",
      "            #\u03b1_1 = \u03b1_1 - z\n",
      "            for k in q.colptr[1]:(q.colptr[2]-1)\n",
      "                row = q.rowval[k]\n",
      "                if row != i\n",
      "                    \u03b1_1[row] = \u03b1_1[row] - \u03b1_0[i] * q.nzval[k]\n",
      "                end\n",
      "            end\n",
      "        end   \n",
      "        #Copy over to alpha_0 and reset alpha_1\n",
      "        # ? methods(Base.LinAlg.BLAS.sbmv!)\n",
      "        max_delta = 0.0f0\n",
      "        for i in 1:n\n",
      "            prev = \u03b1_0[i]\n",
      "            \u03b1_0[i] = \u03b1_1[i] * d_inv[i]\n",
      "            max_delta = max(max_delta, abs(\u03b1_0[i]-prev))\n",
      "        end\n",
      "        if(max_delta < 0.1/float32(n))\n",
      "            @printf(\"Achieved max_delta of %f. Breaking\\n\", max_delta)\n",
      "            break\n",
      "        elseif (iter%2 == 1)\n",
      "            @printf(\"Achieved max_delta of %f\\n\", max_delta)\n",
      "        end\n",
      "        \n",
      "                \n",
      "    end\n",
      "    \n",
      "    #\u03b1_0 = \u03b1_0 / sum(\u03b1_0)\n",
      "    normFactor = 1/sum(\u03b1_0)\n",
      "    for i in 1:n\n",
      "        \u03b1_0[i] *= normFactor\n",
      "    end\n",
      "    #Base.LinAlg.BLAS.scal!(n, sum(\u03b1_0), \u03b1_0, 1)\n",
      "    \n",
      "    return normFactor\n",
      "end"
     ],
     "language": "python",
     "metadata": {},
     "outputs": [
      {
       "metadata": {},
       "output_type": "pyout",
       "prompt_number": 10,
       "text": [
        "stationaryDistribution! (generic function with 1 method)"
       ]
      }
     ],
     "prompt_number": 10
    },
    {
     "cell_type": "code",
     "collapsed": false,
     "input": [
      "\u03b1_\u03c0 = ones(Float32, g_nXlong)/ float32(g_nXlong);"
     ],
     "language": "python",
     "metadata": {},
     "outputs": [],
     "prompt_number": 69
    },
    {
     "cell_type": "code",
     "collapsed": false,
     "input": [
      "normFactor = @time  stationaryDistribution!(\u03b1_\u03c0, Qt_list, policy_lidx_2_compact,maxIters=20)\n",
      "\u03b1_\u03c0'\n",
      "#1 (0.00 s) alpha: Float32[1.8816764e-6,1.8816764e-6,1.8816764e-6,1.8816764e-6,1.8816764e-6,1.8816764e-6]\n",
      "#2 (3.91 s) alpha: Float32[0.99999976,1.0091599e-6,2.3370271e-6,7.8827995e-8,1.7510872e-6,4.793963e-7]\n",
      "#elapsed time: 8.033282116 seconds (1521445596 bytes allocated, 13.73% gc time)"
     ],
     "language": "python",
     "metadata": {},
     "outputs": [
      {
       "output_type": "stream",
       "stream": "stdout",
       "text": [
        "#1"
       ]
      },
      {
       "output_type": "stream",
       "stream": "stdout",
       "text": [
        " (0.00 s) alpha: Achieved max_delta of "
       ]
      },
      {
       "output_type": "stream",
       "stream": "stdout",
       "text": [
        "0.100000\n",
        "#"
       ]
      },
      {
       "output_type": "stream",
       "stream": "stdout",
       "text": [
        "3 (61.64 s) alpha: Achieved max_delta of "
       ]
      },
      {
       "output_type": "stream",
       "stream": "stdout",
       "text": [
        "0.022678\n",
        "#"
       ]
      },
      {
       "output_type": "stream",
       "stream": "stdout",
       "text": [
        "5 (120.91 s) alpha: Achieved max_delta of "
       ]
      },
      {
       "output_type": "stream",
       "stream": "stdout",
       "text": [
        "0.105583\n",
        "#"
       ]
      },
      {
       "output_type": "stream",
       "stream": "stdout",
       "text": [
        "7 (180.35 s) alpha: Achieved max_delta of "
       ]
      },
      {
       "output_type": "stream",
       "stream": "stdout",
       "text": [
        "0.017651\n",
        "#"
       ]
      },
      {
       "output_type": "stream",
       "stream": "stdout",
       "text": [
        "9 (239.72 s) alpha: Achieved max_delta of "
       ]
      },
      {
       "output_type": "stream",
       "stream": "stdout",
       "text": [
        "0.004896\n",
        "#"
       ]
      },
      {
       "output_type": "stream",
       "stream": "stdout",
       "text": [
        "11 (299.14 s) alpha: Achieved max_delta of "
       ]
      },
      {
       "output_type": "stream",
       "stream": "stdout",
       "text": [
        "0.001886\n",
        "#"
       ]
      },
      {
       "output_type": "stream",
       "stream": "stdout",
       "text": [
        "13 (359.08 s) alpha: Achieved max_delta of "
       ]
      },
      {
       "output_type": "stream",
       "stream": "stdout",
       "text": [
        "0.000909\n",
        "#"
       ]
      },
      {
       "output_type": "stream",
       "stream": "stdout",
       "text": [
        "15 (418.62 s) alpha: Achieved max_delta of "
       ]
      },
      {
       "output_type": "stream",
       "stream": "stdout",
       "text": [
        "0.000254\n",
        "#"
       ]
      },
      {
       "output_type": "stream",
       "stream": "stdout",
       "text": [
        "17 (478.10 s) alpha: Achieved max_delta of "
       ]
      },
      {
       "output_type": "stream",
       "stream": "stdout",
       "text": [
        "0.000170\n",
        "#"
       ]
      },
      {
       "output_type": "stream",
       "stream": "stdout",
       "text": [
        "19 (538.77 s) alpha: Achieved max_delta of "
       ]
      },
      {
       "output_type": "stream",
       "stream": "stdout",
       "text": [
        "0.000098\n",
        "elapsed time: "
       ]
      },
      {
       "output_type": "stream",
       "stream": "stdout",
       "text": [
        "602.614326428 seconds (58361516696 bytes allocated, 22.01% gc time)\n"
       ]
      },
      {
       "metadata": {},
       "output_type": "pyout",
       "prompt_number": 70,
       "text": [
        "1x5764801 Array{Float32,2}:\n",
        " 0.0222423  0.00675095  0.000110869  \u2026  4.10691e-9  1.19014e-9  3.0354e-7"
       ]
      }
     ],
     "prompt_number": 70
    },
    {
     "cell_type": "code",
     "collapsed": false,
     "input": [
      "normFactor, minimum(\u03b1_\u03c0), sum(\u03b1_\u03c0)"
     ],
     "language": "python",
     "metadata": {},
     "outputs": [
      {
       "metadata": {},
       "output_type": "pyout",
       "prompt_number": 71,
       "text": [
        "(0.22253974f0,-0.0f0,0.9999999f0)"
       ]
      }
     ],
     "prompt_number": 71
    },
    {
     "cell_type": "code",
     "collapsed": false,
     "input": [
      "\u03b1_\u03c0_opt = copy(\u03b1_\u03c0);\n",
      "#\u03b1_\u03c0_left = copy(\u03b1_\u03c0);"
     ],
     "language": "python",
     "metadata": {},
     "outputs": [],
     "prompt_number": 72
    },
    {
     "cell_type": "code",
     "collapsed": false,
     "input": [
      "\u03b1_\u03c0_opt_nocoll = copy(\u03b1_\u03c0_opt)\n",
      "for idx in 1:g_nXlong\n",
      "    S = LIDX2S(idx)\n",
      "    S = [phaseFree(S[i]) for i in 1:g_nVehicles]\n",
      "    if length(unique(S)) != length(S)\n",
      "        \u03b1_\u03c0_opt_nocoll[idx] = 0.0f0\n",
      "    end\n",
      "end\n",
      "scale!(1/sum(\u03b1_\u03c0_opt_nocoll), \u03b1_\u03c0_opt_nocoll);\n"
     ],
     "language": "python",
     "metadata": {},
     "outputs": [],
     "prompt_number": 92
    },
    {
     "cell_type": "code",
     "collapsed": false,
     "input": [
      "LIDX2S(weightedChoice(\u03b1_\u03c0_opt_nocoll))"
     ],
     "language": "python",
     "metadata": {},
     "outputs": [
      {
       "metadata": {},
       "output_type": "pyout",
       "prompt_number": 122,
       "text": [
        "4-element Array{Symbol,1}:\n",
        " :\u03d51_LX1\n",
        " :R     \n",
        " :U1    \n",
        " :\u03d51_LD1"
       ]
      }
     ],
     "prompt_number": 122
    },
    {
     "cell_type": "code",
     "collapsed": false,
     "input": [
      "save(\"policies/steadystatedistribution_n_2.jld\", \"\u03b1_\u03c0\", \u03b1_\u03c0_opt_nocoll)"
     ],
     "language": "python",
     "metadata": {},
     "outputs": [],
     "prompt_number": 123
    },
    {
     "cell_type": "code",
     "collapsed": true,
     "input": [
      "cnt = 0\n",
      "marginalAc1 = zeros(Float32, g_nNodes)\n",
      "marginalAc2 = zeros(Float32, g_nNodes)\n",
      "marginal = zeros(Float32, g_nNodes, g_nNodes)\n",
      "\n",
      "for idx in 1:g_nXlong\n",
      "    S = LIDX2S(idx)\n",
      "#     if length(unique(S)) == length(S)\n",
      "        #No collision\n",
      "    if  S[3] == :LDep && S[4] == :RDep  \n",
      "        x1 = s2x(S[1])\n",
      "        x2 = s2x(S[2])\n",
      "        marginalAc1[x1] += \u03b1_\u03c0_opt[idx]\n",
      "        marginalAc2[x2] += \u03b1_\u03c0_opt[idx]\n",
      "        marginal[x1, x2] += \u03b1_\u03c0_opt[idx]\n",
      "    end\n",
      "#         cnt += 1\n",
      "#         println(S, \u03b1_\u03c0[p[idx]])\n",
      "#     end\n",
      "#     cnt >= 300 && break\n",
      "end\n",
      "scale!(1/sum(marginalAc1), marginalAc1);\n",
      "scale!(1/sum(marginalAc2), marginalAc2);\n",
      "scale!(1/sum(marginal[:]), marginal);\n"
     ],
     "language": "python",
     "metadata": {},
     "outputs": [],
     "prompt_number": 85
    },
    {
     "cell_type": "code",
     "collapsed": false,
     "input": [
      "@printf(\"Position probability for 1st aircraft\\n\")\n",
      "p = sortperm(marginalAc1, rev=true)\n",
      "for i in 1:g_nNodes\n",
      "    if  marginalAc1[p[i]] > 1e-4\n",
      "        @printf(\"%s: %.2f,\",g_allstates_string[p[i]], marginalAc1[p[i]])\n",
      "    end\n",
      "end\n",
      "\n",
      "@printf(\"\\n\\nPosition probability for 2nd aircraft\\n\")\n",
      "p = sortperm(marginalAc2, rev=true)\n",
      "for i in 1:g_nNodes\n",
      "    if  marginalAc2[p[i]] > 1e-4\n",
      "        @printf(\"%s: %.2f,\",g_allstates_string[p[i]], marginalAc2[p[i]])\n",
      "    end\n",
      "end\n"
     ],
     "language": "python",
     "metadata": {},
     "outputs": [
      {
       "output_type": "stream",
       "stream": "stdout",
       "text": [
        "Position probability for 1st aircraft\n",
        "R"
       ]
      },
      {
       "output_type": "stream",
       "stream": "stdout",
       "text": [
        ": 0.26,U1: 0.12,\u03d51_U1: 0.12,\u03d51_LD1: 0.08,F1: 0.05,\u03d51_LX1: 0.05,\u03d51_F1: 0.05,LD1: 0.04,\u03d51_LD2: 0.04,LX1: 0.04,LD2: 0.03,RD2: 0.02,\u03d51_RD2: 0.02,\u03d51_LB1: 0.01,LB1: 0.01,RD1: 0.01,RB1: 0.01,\u03d51_RB1: 0.01,LArr: 0.01,RArr: 0.01,\u03d51_RD1: 0.01,F0: 0.00,LDep: 0.00,RDep: 0.00,T: 0.00,\u03d51_F0: 0.00,LD0: 0.00,\u03d51_LD0: 0.00,LB2: 0.00,RB2: 0.00,RD0: 0.00,LX2: 0.00,\n",
        "\n",
        "Position probability for 2nd aircraft\n",
        "R: 0.22,U1: 0.12,\u03d51_U1: 0.11,F1: 0.04,\u03d51_F1: 0.04,\u03d51_LD1: 0.03,\u03d51_RD1: 0.03,LD2: 0.02,RD2: 0.02,\u03d51_LD2: 0.02,\u03d51_RD2: 0.02,LD1: 0.02,RD1: 0.02,\u03d51_U2: 0.02,LDep: 0.02,RDep: 0.02,U2: 0.02,\u03d51_LX1: 0.02,\u03d51_RX1: 0.02,LX1: 0.01,RX1: 0.01,LArr: 0.01,RArr: 0.01,\u03d51_F0: 0.01,F0: 0.01,T: 0.01,\u03d51_LD3: 0.01,\u03d51_RD3: 0.01,LD3: 0.01,RD3: 0.01,\u03d51_T: 0.01,\u03d51_RB1: 0.00,\u03d51_LB1: 0.00,LB1: 0.00,RB1: 0.00,\u03d51_RB2: 0.00,\u03d51_LB2: 0.00,GO: 0.00,LB2: 0.00,RB2: 0.00,\u03d51_GO: 0.00,\u03d51_RX2: 0.00,\u03d51_LX2: 0.00,LD0: 0.00,RD0: 0.00,\u03d51_RD0: 0.00,\u03d51_LD0: 0.00,LX2: 0.00,RX2: 0.00,"
       ]
      }
     ],
     "prompt_number": 67
    },
    {
     "cell_type": "code",
     "collapsed": false,
     "input": [
      "@printf(\"Position probability for 1st aircraft\\n\")\n",
      "for i in 1:g_nNodes\n",
      "    if  marginalAc1[i] > 1e-4\n",
      "        @printf(\"%s: %.2f,\",g_allstates_string[i], marginalAc1[i])\n",
      "    end\n",
      "end\n",
      "\n",
      "@printf(\"\\nPosition probability for 2nd aircraft\\n\")\n",
      "for i in 1:g_nNodes\n",
      "    if  marginalAc2[i] > 1e-4\n",
      "        @printf(\"%s: %.2f,\",g_allstates_string[i], marginalAc2[i])\n",
      "    end\n",
      "end"
     ],
     "language": "python",
     "metadata": {},
     "outputs": [
      {
       "output_type": "stream",
       "stream": "stdout",
       "text": [
        "Position probability for 1st aircraft\n",
        "T"
       ]
      },
      {
       "output_type": "stream",
       "stream": "stdout",
       "text": [
        ": 0.03,R: 0.20,U1: 0.16,LX1: 0.07,LD1: 0.18,LD2: 0.16,LB1: 0.06,F1: 0.13,\n",
        "Position probability for 2nd aircraft\n",
        "T: 0.04,R: 0.12,U1: 0.14,LX1: 0.02,LD1: 0.07,LD2: 0.06,LB1: 0.01,F1: 0.11,RX1: 0.02,RD1: 0.07,RD2: 0.06,RB1: 0.01,GO: 0.01,U2: 0.03,LX2: 0.01,LD0: 0.01,LD3: 0.02,LB2: 0.01,F0: 0.04,RX2: 0.01,RD0: 0.01,RD3: 0.02,RB2: 0.01,LDep: 0.02,LArr: 0.02,RDep: 0.02,RArr: 0.02,"
       ]
      }
     ],
     "prompt_number": 289
    },
    {
     "cell_type": "code",
     "collapsed": false,
     "input": [],
     "language": "python",
     "metadata": {},
     "outputs": []
    },
    {
     "cell_type": "code",
     "collapsed": false,
     "input": [
      "Q = Qt_list[1]'\n",
      "j = 1\n",
      "Q[1, j] = 1# minimum(abs(diag(Q)))\n",
      "D = spdiagm(diag(Q))\n",
      "R = Q - D\n",
      "\n",
      "x = ones(Float32,1,size(Q,1)) / size(Q,1)\n",
      "for i in 1:1000\n",
      "     #println(x[1:6])\n",
      "    x = (float32(ev(j, size(Q,1))') - x * R) ./ diag(D)'    \n",
      "end\n",
      "x /= sum(x)\n",
      "res = (Qt_test * x')\n",
      "x , res', norm(res)"
     ],
     "language": "python",
     "metadata": {},
     "outputs": [
      {
       "metadata": {},
       "output_type": "pyout",
       "prompt_number": 422,
       "text": [
        "(\n",
        "1x27 Array{Float32,2}:\n",
        " 0.00570028  0.0874078  0.137521  \u2026  0.0227277  0.0218279  0.0227277,\n",
        "\n",
        "1x27 Array{Float32,2}:\n",
        " -1.01235e-6  5.96046e-8  1.15484e-7  \u2026  9.54606e-9  1.00117e-8  9.54606e-9,\n",
        "\n",
        "1.0422841f-6)"
       ]
      }
     ],
     "prompt_number": 422
    },
    {
     "cell_type": "code",
     "collapsed": false,
     "input": [],
     "language": "python",
     "metadata": {},
     "outputs": []
    },
    {
     "cell_type": "code",
     "collapsed": false,
     "input": [
      "idx"
     ],
     "language": "python",
     "metadata": {},
     "outputs": [
      {
       "metadata": {},
       "output_type": "pyout",
       "prompt_number": 363,
       "text": [
        "8-element Array{Int64,1}:\n",
        " 1\n",
        " 2\n",
        " 3\n",
        " 4\n",
        " 5\n",
        " 6\n",
        " 7\n",
        " 8"
       ]
      }
     ],
     "prompt_number": 363
    },
    {
     "cell_type": "code",
     "collapsed": false,
     "input": [
      "A = sprand(3,3, .5)\n",
      "B = sprand(3,3, .5)\n",
      "C = sprand(3,3, .5)"
     ],
     "language": "python",
     "metadata": {},
     "outputs": [
      {
       "metadata": {},
       "output_type": "pyout",
       "prompt_number": 382,
       "text": [
        "3x3 sparse matrix with 4 Float64 entries:\n",
        "\t[3, 1]  =  0.149169\n",
        "\t[2, 2]  =  0.913922\n",
        "\t[2, 3]  =  0.873241\n",
        "\t[3, 3]  =  0.771475"
       ]
      }
     ],
     "prompt_number": 382
    },
    {
     "cell_type": "code",
     "collapsed": false,
     "input": [
      "A_list = {A, B, C}\n",
      "D = kronSum(A_list);"
     ],
     "language": "python",
     "metadata": {},
     "outputs": [],
     "prompt_number": 411
    },
    {
     "cell_type": "code",
     "collapsed": false,
     "input": [
      "function test(Alist)\n",
      "    K = length(Alist)\n",
      "    n = size(Alist[1], 1)\n",
      "    nK_1 = n^(K-1)\n",
      "    Ink_1 = speye(nK_1)\n",
      "    Q = spzeros(n^K, n^K)\n",
      "    for i in 1:K\n",
      "        p = n^(i)\n",
      "        q = n^(K-i)\n",
      "        Q +=  Pmn(p,q) * kron(Ink_1, Alist[i]) * Pmn(q,p)\n",
      "    end\n",
      "    return Q\n",
      "end"
     ],
     "language": "python",
     "metadata": {},
     "outputs": [
      {
       "metadata": {},
       "output_type": "pyout",
       "prompt_number": 416,
       "text": [
        "test (generic function with 1 method)"
       ]
      }
     ],
     "prompt_number": 416
    },
    {
     "cell_type": "code",
     "collapsed": false,
     "input": [
      "D2 = test(A_list)"
     ],
     "language": "python",
     "metadata": {},
     "outputs": [
      {
       "metadata": {},
       "output_type": "pyout",
       "prompt_number": 419,
       "text": [
        "27x27 sparse matrix with 88 Float64 entries:\n",
        "\t[1 ,  1]  =  0.43811\n",
        "\t[3 ,  1]  =  0.149169\n",
        "\t[10,  1]  =  0.493621\n",
        "\t[19,  1]  =  0.798068\n",
        "\t[2 ,  2]  =  1.35203\n",
        "\t[11,  2]  =  0.493621\n",
        "\t[20,  2]  =  0.798068\n",
        "\t[2 ,  3]  =  0.873241\n",
        "\t[3 ,  3]  =  1.20958\n",
        "\t[12,  3]  =  0.493621\n",
        "\t\u22ee\n",
        "\t[23, 23]  =  0.913922\n",
        "\t[23, 24]  =  0.873241\n",
        "\t[24, 24]  =  0.771475\n",
        "\t[22, 25]  =  0.301985\n",
        "\t[25, 25]  =  0.821589\n",
        "\t[27, 25]  =  0.149169\n",
        "\t[23, 26]  =  0.301985\n",
        "\t[26, 26]  =  1.73551\n",
        "\t[24, 27]  =  0.301985\n",
        "\t[26, 27]  =  0.873241\n",
        "\t[27, 27]  =  1.59306"
       ]
      }
     ],
     "prompt_number": 419
    },
    {
     "cell_type": "code",
     "collapsed": false,
     "input": [
      "D2 - D"
     ],
     "language": "python",
     "metadata": {},
     "outputs": [
      {
       "metadata": {},
       "output_type": "pyout",
       "prompt_number": 420,
       "text": [
        "27x27 sparse matrix with 0 Float64 entries:"
       ]
      }
     ],
     "prompt_number": 420
    },
    {
     "cell_type": "code",
     "collapsed": false,
     "input": [
      "sort(D2.nzval)"
     ],
     "language": "python",
     "metadata": {},
     "outputs": [
      {
       "metadata": {},
       "output_type": "pyout",
       "prompt_number": 406,
       "text": [
        "88-element Array{Float64,1}:\n",
        " 0.118022\n",
        " 0.149169\n",
        " 0.149169\n",
        " 0.149169\n",
        " 0.149169\n",
        " 0.149169\n",
        " 0.149169\n",
        " 0.149169\n",
        " 0.149169\n",
        " 0.149169\n",
        " 0.301985\n",
        " 0.301985\n",
        " 0.301985\n",
        " \u22ee       \n",
        " 1.09156 \n",
        " 1.09156 \n",
        " 1.20958 \n",
        " 1.23401 \n",
        " 1.23401 \n",
        " 1.35203 \n",
        " 1.59306 \n",
        " 1.59306 \n",
        " 1.71109 \n",
        " 1.73551 \n",
        " 1.73551 \n",
        " 1.85353 "
       ]
      }
     ],
     "prompt_number": 406
    },
    {
     "cell_type": "code",
     "collapsed": false,
     "input": [
      "sort(D.nzval)"
     ],
     "language": "python",
     "metadata": {},
     "outputs": [
      {
       "metadata": {},
       "output_type": "pyout",
       "prompt_number": 399,
       "text": [
        "88-element Array{Float64,1}:\n",
        " 0.118022\n",
        " 0.149169\n",
        " 0.149169\n",
        " 0.149169\n",
        " 0.149169\n",
        " 0.149169\n",
        " 0.149169\n",
        " 0.149169\n",
        " 0.149169\n",
        " 0.149169\n",
        " 0.301985\n",
        " 0.301985\n",
        " 0.301985\n",
        " \u22ee       \n",
        " 1.09156 \n",
        " 1.09156 \n",
        " 1.20958 \n",
        " 1.23401 \n",
        " 1.23401 \n",
        " 1.35203 \n",
        " 1.59306 \n",
        " 1.59306 \n",
        " 1.71109 \n",
        " 1.73551 \n",
        " 1.73551 \n",
        " 1.85353 "
       ]
      }
     ],
     "prompt_number": 399
    },
    {
     "cell_type": "code",
     "collapsed": false,
     "input": [
      "function leftNull(A)\n",
      "    #This computes the left null vector of A\n",
      "    #In order to do that, we need to do the following: \n",
      "    #1, change the problem so that we have a \n",
      "    n = size(A,1)\n",
      "    assert(n == size(A,2))\n",
      "    M = copy(A)\n",
      "    a = 1./n\n",
      "    j  = 2\n",
      "#     for i in 2:n\n",
      "#         M[i,j] = a\n",
      "    #     end\n",
      "    M[1,j] = 0\n",
      "    \n",
      "    bt = zeros(1,n);\n",
      "    bt[j] = 1.\n",
      "    @show(bt)\n",
      "    \n",
      "    return leftJacobi(M, bt), M\n",
      "end\n",
      "    \n",
      "function leftJacobi(M, bt)\n",
      "    xt = ones(bt)#/length(bt)\n",
      "        \n",
      "    D = diagm(diag(M))\n",
      "    Dinv = diagm(1./diag(M))\n",
      "    R = M - D;\n",
      "    @show(maximum(abs(eigvals(R*Dinv))))\n",
      "    for i in 1:1000\n",
      "        xt = (bt - xt * R) * Dinv\n",
      "        #xt /= norm(xt)\n",
      "    end\n",
      "    \n",
      "    return xt\n",
      "end"
     ],
     "language": "python",
     "metadata": {},
     "outputs": [
      {
       "metadata": {},
       "output_type": "pyout",
       "prompt_number": 6,
       "text": [
        "leftJacobi (generic function with 1 method)"
       ]
      }
     ],
     "prompt_number": 6
    },
    {
     "cell_type": "code",
     "collapsed": false,
     "input": [
      "P = [ [0, 0.9, 0.1] [0.5, 0, 0.5] [0.25, 0.75, 0.]]'\n",
      "Q = (P - eye(P))"
     ],
     "language": "python",
     "metadata": {},
     "outputs": [
      {
       "metadata": {},
       "output_type": "pyout",
       "prompt_number": 7,
       "text": [
        "3x3 Array{Float64,2}:\n",
        " -1.0    0.9    0.1\n",
        "  0.5   -1.0    0.5\n",
        "  0.25   0.75  -1.0"
       ]
      }
     ],
     "prompt_number": 7
    },
    {
     "cell_type": "code",
     "collapsed": false,
     "input": [
      "z, M = leftNull(Q)\n",
      "z*Q"
     ],
     "language": "python",
     "metadata": {},
     "outputs": [
      {
       "output_type": "stream",
       "stream": "stdout",
       "text": [
        "bt => [0.0 1.0 0.0]"
       ]
      },
      {
       "output_type": "stream",
       "stream": "stdout",
       "text": [
        "\n",
        "maximum(abs(eigvals(R * Dinv))) => 0.6749515141456605\n"
       ]
      },
      {
       "metadata": {},
       "output_type": "pyout",
       "prompt_number": 8,
       "text": [
        "1x3 Array{Float64,2}:\n",
        " -5.55112e-17  1.11022e-16  0.0"
       ]
      }
     ],
     "prompt_number": 8
    },
    {
     "cell_type": "code",
     "collapsed": false,
     "input": [],
     "language": "python",
     "metadata": {},
     "outputs": [],
     "prompt_number": 25
    },
    {
     "cell_type": "code",
     "collapsed": false,
     "input": [],
     "language": "python",
     "metadata": {},
     "outputs": []
    }
   ],
   "metadata": {}
  }
 ]
}