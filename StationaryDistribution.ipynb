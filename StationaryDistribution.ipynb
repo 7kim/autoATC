{
 "metadata": {
  "language": "Julia",
  "name": "",
  "signature": "sha256:48674a4e47ea47b3d0b5f0ded21bb62b8e3ad139761231d1e72c5261a13e04f9"
 },
 "nbformat": 3,
 "nbformat_minor": 0,
 "worksheets": [
  {
   "cells": [
    {
     "cell_type": "code",
     "collapsed": false,
     "input": [
      "include(\"pattern.jl\")"
     ],
     "language": "python",
     "metadata": {},
     "outputs": [
      {
       "metadata": {},
       "output_type": "pyout",
       "prompt_number": 1,
       "text": [
        "plotSim (generic function with 1 method)"
       ]
      }
     ],
     "prompt_number": 1
    },
    {
     "cell_type": "code",
     "collapsed": false,
     "input": [
      "include(\"CTMDP.jl\")"
     ],
     "language": "python",
     "metadata": {},
     "outputs": [
      {
       "metadata": {},
       "output_type": "pyout",
       "prompt_number": 2,
       "text": [
        "sample (generic function with 1 method)"
       ]
      }
     ],
     "prompt_number": 2
    },
    {
     "cell_type": "code",
     "collapsed": false,
     "input": [
      "amax = maximum([length( NextStates[s]) for s in keys(NextStates)]);\n",
      "A = (Int8)[0:amax];\n",
      "P0 = spzeros(Float32, g_nNodes, g_nNodes);\n",
      "P = (typeof(P0))[copy(P0) for a in A]\n",
      "\n",
      "for a in A\n",
      "    if a == 0\n",
      "        act = g_nullAct\n",
      "    else\n",
      "        act = Int8[1, a]\n",
      "    end\n",
      "    for x in 1:g_nNodes\n",
      "        s = x2s(x)\n",
      "        for sp in NextStates[s]\n",
      "            xp = s2x(sp)\n",
      "            P[a+1][x,xp] = Transition([s], act, [sp])\n",
      "        end\n",
      "    end\n",
      "end\n",
      "M0 = speye(Float32, g_nNodes)\n",
      "for x in 1:g_nNodes\n",
      "    s = x2s(x)\n",
      "    M0[x,x] = 1./(teaTime[s]/60)\n",
      "end\n",
      "\n",
      "Isp = speye(Float32, g_nNodes);\n",
      "Qt_list = (typeof(M0))[(M0*(P[a+1] - Isp))' for a in A];"
     ],
     "language": "python",
     "metadata": {},
     "outputs": [],
     "prompt_number": 3
    },
    {
     "cell_type": "code",
     "collapsed": false,
     "input": [
      "Qt_test =Qt_list[1] # kronSum({Qt_list[4], Qt_list[1]}) - kronSum({Qt_list[1], Qt_list[1]})\n",
      "#Qt_test = Qt_list[1]"
     ],
     "language": "python",
     "metadata": {},
     "outputs": [
      {
       "metadata": {},
       "output_type": "pyout",
       "prompt_number": 261,
       "text": [
        "27x27 sparse matrix with 67 Float32 entries:\n",
        "\t[1 ,  1]  =  -0.260575\n",
        "\t[2 ,  1]  =  0.260575\n",
        "\t[1 ,  2]  =  0.0169818\n",
        "\t[2 ,  2]  =  -0.169818\n",
        "\t[3 ,  2]  =  0.152836\n",
        "\t[3 ,  3]  =  -0.194275\n",
        "\t[4 ,  3]  =  0.0647584\n",
        "\t[9 ,  3]  =  0.0647584\n",
        "\t[14,  3]  =  0.0647584\n",
        "\t[4 ,  4]  =  -0.434373\n",
        "\t\u22ee\n",
        "\t[25, 24]  =  0.101997\n",
        "\t[5 , 25]  =  0.0326531\n",
        "\t[6 , 25]  =  0.0326531\n",
        "\t[17, 25]  =  0.0326531\n",
        "\t[25, 25]  =  -0.0979592\n",
        "\t[26, 26]  =  -0.101997\n",
        "\t[27, 26]  =  0.101997\n",
        "\t[10, 27]  =  0.0326531\n",
        "\t[11, 27]  =  0.0326531\n",
        "\t[22, 27]  =  0.0326531\n",
        "\t[27, 27]  =  -0.0979592"
       ]
      }
     ],
     "prompt_number": 261
    },
    {
     "cell_type": "code",
     "collapsed": false,
     "input": [
      "function stationaryDistribution(Qt_list, policyFun; maxIters = 10)\n",
      "    #This function computes the stationary\n",
      "    #distribution under policy policyFun.\n",
      "    \n",
      "    #Assume null policy...\n",
      "    #Qt = kronSum({Qt_list[policyFun], Qt_list[1]})\n",
      "    Qt = Qt_list[policyFun]; \n",
      "    \n",
      "    n = size(Qt,1)\n",
      "\n",
      "    \n",
      "    w = ones(Float32, n) #TBD!\n",
      "    j = 1\n",
      "    \n",
      "    \u03b1_0 = ones(Float32, n)/ float32(n)    \n",
      "    d = zeros(Float32, n)\n",
      "        \n",
      "    \n",
      "    for iter in 1:maxIters\n",
      "        #println(\u03b1_0[1:6])\n",
      "        \u03b1_1 = zeros(\u03b1_0)\n",
      "        \u03b1_1[j] = 1.0f0\n",
      "        for i in 1:n\n",
      "            q = Qt[:,i]\n",
      "            if i == 1\n",
      "                q[j] = w[j]\n",
      "            end\n",
      "            if iter == 1\n",
      "                d[i] = q[i]\n",
      "            end         \n",
      "                        \n",
      "            #q[i] = 0.0f0                  \n",
      "            #z = \u03b1_0[i] * q\n",
      "            #\u03b1_1 = \u03b1_1 - z\n",
      "            for k in q.colptr[1]:(q.colptr[2]-1)\n",
      "                row = q.rowval[k]\n",
      "                if row != i\n",
      "                    \u03b1_1[row] = \u03b1_1[row] - \u03b1_0[i] * q.nzval[k]\n",
      "                end\n",
      "            end\n",
      "        end        \n",
      "        \u03b1_0 = \u03b1_1 ./ d         \n",
      "    end\n",
      "    \n",
      "    return \u03b1_0/sum(\u03b1_0)\n",
      "    \n",
      "end"
     ],
     "language": "python",
     "metadata": {},
     "outputs": [
      {
       "metadata": {},
       "output_type": "pyout",
       "prompt_number": 284,
       "text": [
        "stationaryDistribution (generic function with 1 method)"
       ]
      }
     ],
     "prompt_number": 284
    },
    {
     "cell_type": "code",
     "collapsed": false,
     "input": [
      "Q = Qt_test'\n",
      "j = 1\n",
      "Q[1, j] = 1\n",
      "D = spdiagm(diag(Q))\n",
      "R = Q - D\n",
      "\n",
      "x = ones(Float32,1,size(Q,1)) / size(Q,1)\n",
      "for i in 1:1000\n",
      "     #println(x[1:6])\n",
      "    x = (float32(ev(j, size(Q,1))') - x * R) ./ diag(D)'    \n",
      "end\n",
      "x /= sum(x);\n",
      "x , (Qt_test * x')' #x /= sum(x)"
     ],
     "language": "python",
     "metadata": {},
     "outputs": [
      {
       "metadata": {},
       "output_type": "pyout",
       "prompt_number": 285,
       "text": [
        "(\n",
        "1x27 Array{Float32,2}:\n",
        " 0.00570028  0.0874078  0.137521  \u2026  0.0227277  0.0218279  0.0227277,\n",
        "\n",
        "1x27 Array{Float32,2}:\n",
        " -1.01235e-6  5.96046e-8  1.15484e-7  \u2026  9.54606e-9  1.00117e-8  9.54606e-9)"
       ]
      }
     ],
     "prompt_number": 285
    },
    {
     "cell_type": "code",
     "collapsed": false,
     "input": [
      "\u03b1_1 = stationaryDistribution(Qt_list, 1, maxIters=1000);\n",
      "\u03b1_2 = stationaryDistribution(Qt_list, 2, maxIters=1000);\n",
      "\u03b1_5 = stationaryDistribution(Qt_list, 5, maxIters=1000);\n"
     ],
     "language": "python",
     "metadata": {},
     "outputs": [],
     "prompt_number": 355
    },
    {
     "cell_type": "code",
     "collapsed": false,
     "input": [
      "(Qt_test * \u03b1_1)'"
     ],
     "language": "python",
     "metadata": {},
     "outputs": [
      {
       "metadata": {},
       "output_type": "pyout",
       "prompt_number": 301,
       "text": [
        "1x27 Array{Float32,2}:\n",
        " -1.01235e-6  5.96046e-8  1.15484e-7  \u2026  9.54606e-9  1.00117e-8  9.54606e-9"
       ]
      }
     ],
     "prompt_number": 301
    },
    {
     "cell_type": "code",
     "collapsed": false,
     "input": [
      "using PyPlot"
     ],
     "language": "python",
     "metadata": {},
     "outputs": [],
     "prompt_number": 302
    },
    {
     "cell_type": "code",
     "collapsed": false,
     "input": [
      "idx = (0:26)\n",
      "PyPlot.step(\u03b1_1, \"-\")\n",
      "PyPlot.step(\u03b1_2, \"-\")\n",
      "PyPlot.xlim([-1,27])\n",
      "PyPlot.xticks(idx, g_allstates, rotation=90)\n",
      "PyPlot.legend([\"random\", \"always left\"])\n",
      "PyPlot.grid(\"on\")"
     ],
     "language": "python",
     "metadata": {},
     "outputs": [
      {
       "metadata": {},
       "output_type": "display_data",
       "png": "[encoded data removed]",
       "text": [
        "Figure(PyObject <matplotlib.figure.Figure object at 0x7fe4e78bdd10>)"
       ]
      }
     ],
     "prompt_number": 349
    },
    {
     "cell_type": "code",
     "collapsed": false,
     "input": [
      "for dir in ['L', 'R']\n",
      "    for i in 1:27\n",
      "        if g_allstates_string[i][1] == dir && length(g_allstates_string[i]) > 1\n",
      "            @printf(\"%s: %.2f \", g_allstates_string[i], \u03b1_1[i])\n",
      "        end    \n",
      "    end\n",
      "    @printf(\"\\n\")\n",
      "end"
     ],
     "language": "python",
     "metadata": {},
     "outputs": [
      {
       "output_type": "stream",
       "stream": "stdout",
       "text": [
        "LX1: "
       ]
      },
      {
       "output_type": "stream",
       "stream": "stdout",
       "text": [
        "0.02 LD1: 0.07 LD2: 0.07 LB1: 0.01 LX2: 0.01 LD0: 0.01 LD3: 0.03 LB2: 0.01 LDep: 0.02 LArr: 0.02 \n",
        "RX1: 0.02 RD1: 0.07 RD2: 0.07 RB1: 0.01 RX2: 0.01 RD0: 0.01 RD3: 0.03 RB2: 0.01 RDep: 0.02 RArr: 0.02 \n"
       ]
      }
     ],
     "prompt_number": 353
    },
    {
     "cell_type": "code",
     "collapsed": false,
     "input": [
      "idx = find(a -> a > 0, \u03b1_2[p])\n",
      "g_allstates[idx]'"
     ],
     "language": "python",
     "metadata": {},
     "outputs": [
      {
       "metadata": {},
       "output_type": "pyout",
       "prompt_number": 365,
       "text": [
        "1x8 Array{Symbol,2}:\n",
        " :T  :R  :U1  :LX1  :LD1  :LD2  :LB1  :F1"
       ]
      }
     ],
     "prompt_number": 365
    },
    {
     "cell_type": "code",
     "collapsed": false,
     "input": [
      "\u03b1_1[1], \u03b1_1[1]"
     ],
     "language": "python",
     "metadata": {},
     "outputs": [
      {
       "metadata": {},
       "output_type": "pyout",
       "prompt_number": 367,
       "text": [
        "(0.0057002828f0,0.08740776f0)"
       ]
      }
     ],
     "prompt_number": 367
    },
    {
     "cell_type": "code",
     "collapsed": false,
     "input": [
      "idx"
     ],
     "language": "python",
     "metadata": {},
     "outputs": [
      {
       "metadata": {},
       "output_type": "pyout",
       "prompt_number": 363,
       "text": [
        "8-element Array{Int64,1}:\n",
        " 1\n",
        " 2\n",
        " 3\n",
        " 4\n",
        " 5\n",
        " 6\n",
        " 7\n",
        " 8"
       ]
      }
     ],
     "prompt_number": 363
    },
    {
     "cell_type": "code",
     "collapsed": false,
     "input": [],
     "language": "python",
     "metadata": {},
     "outputs": []
    },
    {
     "cell_type": "code",
     "collapsed": false,
     "input": [],
     "language": "python",
     "metadata": {},
     "outputs": []
    },
    {
     "cell_type": "code",
     "collapsed": false,
     "input": [],
     "language": "python",
     "metadata": {},
     "outputs": []
    },
    {
     "cell_type": "code",
     "collapsed": false,
     "input": [],
     "language": "python",
     "metadata": {},
     "outputs": []
    },
    {
     "cell_type": "code",
     "collapsed": false,
     "input": [],
     "language": "python",
     "metadata": {},
     "outputs": []
    },
    {
     "cell_type": "code",
     "collapsed": false,
     "input": [],
     "language": "python",
     "metadata": {},
     "outputs": []
    },
    {
     "cell_type": "code",
     "collapsed": false,
     "input": [
      "Qt_list[1] * \u03b1"
     ],
     "language": "python",
     "metadata": {},
     "outputs": [
      {
       "metadata": {},
       "output_type": "pyout",
       "prompt_number": 38,
       "text": [
        "27-element Array{Float32,1}:\n",
        "  4.58328e-16\n",
        "  2.41354e-9 \n",
        " -2.45342e-9 \n",
        "  8.19081e-10\n",
        "  1.2462e-10 \n",
        "  1.08055e-11\n",
        " -1.66543e-16\n",
        "  7.6124e-8  \n",
        "  8.19081e-10\n",
        "  1.2462e-10 \n",
        "  1.08055e-11\n",
        " -1.66543e-16\n",
        "  2.40972e-9 \n",
        "  \u22ee          \n",
        " -1.35425e-10\n",
        " -3.4202e-18 \n",
        " -1.55902e-11\n",
        " -8.09199e-8 \n",
        " -6.85724e-17\n",
        " -1.35425e-10\n",
        "  6.07127e-19\n",
        " -1.55902e-11\n",
        "  6.26677e-20\n",
        " -2.90541e-23\n",
        "  6.26677e-20\n",
        " -1.2082e-17 "
       ]
      }
     ],
     "prompt_number": 38
    },
    {
     "cell_type": "code",
     "collapsed": false,
     "input": [
      "function leftNull(A)\n",
      "    #This computes the left null vector of A\n",
      "    #In order to do that, we need to do the following: \n",
      "    #1, change the problem so that we have a \n",
      "    n = size(A,1)\n",
      "    assert(n == size(A,2))\n",
      "    M = copy(A)\n",
      "    a = 1./n\n",
      "    j  = 2\n",
      "#     for i in 2:n\n",
      "#         M[i,j] = a\n",
      "    #     end\n",
      "    M[1,j] = 0\n",
      "    \n",
      "    bt = zeros(1,n);\n",
      "    bt[j] = 1.\n",
      "    @show(bt)\n",
      "    \n",
      "    return leftJacobi(M, bt), M\n",
      "end\n",
      "    \n",
      "function leftJacobi(M, bt)\n",
      "    xt = ones(bt)#/length(bt)\n",
      "        \n",
      "    D = diagm(diag(M))\n",
      "    Dinv = diagm(1./diag(M))\n",
      "    R = M - D;\n",
      "    @show(maximum(abs(eigvals(R*Dinv))))\n",
      "    for i in 1:1000\n",
      "        xt = (bt - xt * R) * Dinv\n",
      "        #xt /= norm(xt)\n",
      "    end\n",
      "    \n",
      "    return xt\n",
      "end"
     ],
     "language": "python",
     "metadata": {},
     "outputs": [
      {
       "metadata": {},
       "output_type": "pyout",
       "prompt_number": 6,
       "text": [
        "leftJacobi (generic function with 1 method)"
       ]
      }
     ],
     "prompt_number": 6
    },
    {
     "cell_type": "code",
     "collapsed": false,
     "input": [
      "P = [ [0, 0.9, 0.1] [0.5, 0, 0.5] [0.25, 0.75, 0.]]'\n",
      "Q = (P - eye(P))"
     ],
     "language": "python",
     "metadata": {},
     "outputs": [
      {
       "metadata": {},
       "output_type": "pyout",
       "prompt_number": 7,
       "text": [
        "3x3 Array{Float64,2}:\n",
        " -1.0    0.9    0.1\n",
        "  0.5   -1.0    0.5\n",
        "  0.25   0.75  -1.0"
       ]
      }
     ],
     "prompt_number": 7
    },
    {
     "cell_type": "code",
     "collapsed": false,
     "input": [
      "z, M = leftNull(Q)\n",
      "z*Q"
     ],
     "language": "python",
     "metadata": {},
     "outputs": [
      {
       "output_type": "stream",
       "stream": "stdout",
       "text": [
        "bt => [0.0 1.0 0.0]"
       ]
      },
      {
       "output_type": "stream",
       "stream": "stdout",
       "text": [
        "\n",
        "maximum(abs(eigvals(R * Dinv))) => 0.6749515141456605\n"
       ]
      },
      {
       "metadata": {},
       "output_type": "pyout",
       "prompt_number": 8,
       "text": [
        "1x3 Array{Float64,2}:\n",
        " -5.55112e-17  1.11022e-16  0.0"
       ]
      }
     ],
     "prompt_number": 8
    },
    {
     "cell_type": "code",
     "collapsed": false,
     "input": [],
     "language": "python",
     "metadata": {},
     "outputs": [],
     "prompt_number": 25
    },
    {
     "cell_type": "code",
     "collapsed": false,
     "input": [],
     "language": "python",
     "metadata": {},
     "outputs": []
    }
   ],
   "metadata": {}
  }
 ]
}