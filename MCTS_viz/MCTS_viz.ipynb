{
 "metadata": {
  "language": "Julia",
  "name": "",
  "signature": "sha256:ea5123b36b5f670e1cf4fc49afe6a5a5b457f681ab92f7df1389f17fdfcb8919"
 },
 "nbformat": 3,
 "nbformat_minor": 0,
 "worksheets": [
  {
   "cells": [
    {
     "cell_type": "code",
     "collapsed": false,
     "input": [
      "using CTMDP_mcts"
     ],
     "language": "python",
     "metadata": {},
     "outputs": []
    },
    {
     "cell_type": "code",
     "collapsed": false,
     "input": [
      "function tree2json(stats, Sroot; level = :State, actIdx = 0, depth = 0, cnt=0)\n",
      "    \n",
      "    if depth > 8\n",
      "        return \"\\\"X?\\\"\"\n",
      "    end\n",
      "\n",
      "    skey = pattern.S2LIDX(Sroot)\n",
      "    cS = stats[skey]\n",
      "    nA = length(cS.n)\n",
      "    \n",
      "    rootStr = \"\"\n",
      "    childs = [\"\"]\n",
      "    \n",
      "    if level == :State\n",
      "        rootStr = replace(string(Sroot)*\"($cnt)\",\":\",\"\")\n",
      "        \n",
      "        childs = [tree2json(stats, Sroot, level = :Act, actIdx = a, depth = depth) for a in 1:nA]\n",
      "        #concatenate childs into a string\n",
      "        \n",
      "    elseif level == :Act\n",
      "        action = pattern.validActions(Sroot)[actIdx]\n",
      "        \n",
      "        q = cS.q[actIdx]\n",
      "        n = int32(cS.n[actIdx])\n",
      "        actionStr = replace(string(action),\":\", \"\")\n",
      "        rootStr = \"$action $q ($n)\"\n",
      "                \n",
      "        childs = [tree2json(stats, pattern.LIDX2S(Snext_lidx), level = :State, actIdx = actIdx, depth = depth+1, cnt=N) \n",
      "                            for (Snext_lidx, N) in cS.STree[actIdx]]         \n",
      "    else\n",
      "        error(\"oops $level\") \n",
      "    end\n",
      "\n",
      "    childStr = join(childs, \",\")\n",
      "    \n",
      "    Out = \"\"\"\n",
      "            {\n",
      "              \"name\": \"$rootStr\",\n",
      "              \"children\": [$childStr]\n",
      "            }\n",
      "          \"\"\"\n",
      "    \n",
      "    return Out\n",
      "end"
     ],
     "language": "python",
     "metadata": {},
     "outputs": []
    },
    {
     "cell_type": "code",
     "collapsed": false,
     "input": [
      "mcts.pars.buildTree = true"
     ],
     "language": "python",
     "metadata": {},
     "outputs": []
    },
    {
     "cell_type": "code",
     "collapsed": false,
     "input": [
      "S = [:\u03d5b_RX2, :RArr, :LD2, :\u03d5b_U1]; S_lidx=  pattern.S2LIDX(S);"
     ],
     "language": "python",
     "metadata": {},
     "outputs": []
    },
    {
     "cell_type": "code",
     "collapsed": false,
     "input": [
      "mctsPolicy(S)"
     ],
     "language": "python",
     "metadata": {},
     "outputs": []
    },
    {
     "cell_type": "code",
     "collapsed": false,
     "input": [
      "treeStr = @time tree2json(mcts.stats, S);\n",
      "f = open(\"./MCTS_viz/treedata.json\",\"w\");\n",
      "write(f,treeStr)\n",
      "close(f)"
     ],
     "language": "python",
     "metadata": {},
     "outputs": []
    },
    {
     "cell_type": "code",
     "collapsed": false,
     "input": [],
     "language": "python",
     "metadata": {},
     "outputs": []
    },
    {
     "cell_type": "code",
     "collapsed": false,
     "input": [],
     "language": "python",
     "metadata": {},
     "outputs": []
    },
    {
     "cell_type": "code",
     "collapsed": false,
     "input": [
      "using GSMDP_mcts"
     ],
     "language": "python",
     "metadata": {},
     "outputs": [],
     "prompt_number": 1
    },
    {
     "cell_type": "code",
     "collapsed": false,
     "input": [
      "S = [:U1, :R, :LD1, :LArr]; E = Float32[0., 0., 20., 125.]; "
     ],
     "language": "python",
     "metadata": {},
     "outputs": [],
     "prompt_number": 17
    },
    {
     "cell_type": "code",
     "collapsed": false,
     "input": [
      "mcts.pars.w = 10"
     ],
     "language": "python",
     "metadata": {},
     "outputs": [
      {
       "metadata": {},
       "output_type": "pyout",
       "prompt_number": 3,
       "text": [
        "10"
       ]
      }
     ],
     "prompt_number": 3
    },
    {
     "cell_type": "code",
     "collapsed": false,
     "input": [
      "@time mctsPolicy_gsmdp(S, E, [false, false, false, true])"
     ],
     "language": "python",
     "metadata": {},
     "outputs": [
      {
       "output_type": "stream",
       "stream": "stdout",
       "text": [
        "elapsed time: 0."
       ]
      },
      {
       "output_type": "stream",
       "stream": "stdout",
       "text": [
        "754376479 seconds (206200960 bytes allocated, 18.46% gc time)\n"
       ]
      },
      {
       "metadata": {},
       "output_type": "pyout",
       "prompt_number": 26,
       "text": [
        "(4,:LArrD1)"
       ]
      }
     ],
     "prompt_number": 26
    },
    {
     "cell_type": "code",
     "collapsed": false,
     "input": [
      "import Base.string\n",
      "function string(SEroot::MCTS_GSMDP.StateEvent)\n",
      "    str = \"|\"\n",
      "    for i in 1:length(SEroot[1])\n",
      "        str *= @sprintf(\"%s(%.0f)|\", SEroot[1][i], SEroot[2][i])\n",
      "    end\n",
      "    str *= \"a=\"*string(SEroot[3][1])*\"<\"\n",
      "    return str\n",
      "end"
     ],
     "language": "python",
     "metadata": {},
     "outputs": [
      {
       "metadata": {},
       "output_type": "pyout",
       "prompt_number": 5,
       "text": [
        "string (generic function with 9 methods)"
       ]
      }
     ],
     "prompt_number": 5
    },
    {
     "cell_type": "code",
     "collapsed": false,
     "input": [
      "string((S,E,pattern.g_nullAct))"
     ],
     "language": "python",
     "metadata": {},
     "outputs": [
      {
       "metadata": {},
       "output_type": "pyout",
       "prompt_number": 6,
       "text": [
        "\"|RX2(0)|RArr(0)|LD2(20)|U1(10)|a=0<\""
       ]
      }
     ],
     "prompt_number": 6
    },
    {
     "cell_type": "code",
     "collapsed": false,
     "input": [
      "function tree2json(stats, SEroot::MCTS_GSMDP.StateEvent; level = :State, actIdx = 0, depth = 0, cnt=0)\n",
      "    \n",
      "    if depth > 4 || !haskey(stats, SEroot)\n",
      "        return \"\\\"X?\\\"\"\n",
      "    end\n",
      "\n",
      "    cS = stats[SEroot]\n",
      "    nA = length(cS.n)\n",
      "    \n",
      "    rootStr = \"\"\n",
      "    childs = [\"\"]\n",
      "    \n",
      "    if level == :State\n",
      "        rootStr = replace(string(SEroot)*\"($cnt)\",\":\",\"\")\n",
      "        \n",
      "        childs = [tree2json(stats, SEroot, level = :Act, actIdx = a, depth = depth) for a in 1:nA]\n",
      "        #concatenate childs into a string\n",
      "        \n",
      "    elseif level == :Act\n",
      "        action = pattern.validActions(SEroot[1])[actIdx]\n",
      "        \n",
      "        q = cS.q[actIdx]\n",
      "        n = int32(cS.n[actIdx])\n",
      "        actionStr = replace(string(action),\":\", \"\")\n",
      "        rootStr = \"$action $q ($n)\"\n",
      "\n",
      "        childs = String[]\n",
      "        for idx_next in 1:size(cS.children, 2)\n",
      "            if isdefined(cS.children, actIdx, idx_next)\n",
      "                SEnext = cS.children[actIdx, idx_next]\n",
      "                cnt = cS.childrenCnt[actIdx, idx_next]\n",
      "                child_str = tree2json(stats, SEnext, level = :State, actIdx = actIdx, depth = depth+1, cnt=cnt)\n",
      "                push!(childs, child_str)\n",
      "            end\n",
      "        end\n",
      "    else\n",
      "        error(\"oops $level\") \n",
      "    end\n",
      "\n",
      "    childStr = join(childs, \",\")\n",
      "    \n",
      "    Out = \"\"\"\n",
      "            {\n",
      "              \"name\": \"$rootStr\",\n",
      "              \"children\": [$childStr]\n",
      "            }\n",
      "          \"\"\"\n",
      "    \n",
      "    return Out\n",
      "end"
     ],
     "language": "python",
     "metadata": {},
     "outputs": [
      {
       "metadata": {},
       "output_type": "pyout",
       "prompt_number": 7,
       "text": [
        "tree2json (generic function with 1 method)"
       ]
      }
     ],
     "prompt_number": 7
    },
    {
     "cell_type": "code",
     "collapsed": false,
     "input": [
      "treeStr = @time tree2json(mcts.stats, (S,E,pattern.g_nullAct));\n",
      "f = open(\"./MCTS_viz/treedata.json\",\"w\");\n",
      "write(f,treeStr)\n",
      "close(f)"
     ],
     "language": "python",
     "metadata": {},
     "outputs": [
      {
       "output_type": "stream",
       "stream": "stdout",
       "text": [
        "elapsed time: 0."
       ]
      },
      {
       "output_type": "stream",
       "stream": "stdout",
       "text": [
        "490579168 seconds (56337948 bytes allocated, 5.30% gc time)\n"
       ]
      }
     ],
     "prompt_number": 8
    },
    {
     "cell_type": "code",
     "collapsed": false,
     "input": [],
     "language": "python",
     "metadata": {},
     "outputs": []
    }
   ],
   "metadata": {}
  }
 ]
}