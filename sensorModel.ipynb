{
 "metadata": {
  "language": "Julia",
  "name": "",
  "signature": "sha256:712312450d520a04dcad03f9f9538d1f3e3420cb6066513c9d1442498efac2a2"
 },
 "nbformat": 3,
 "nbformat_minor": 0,
 "worksheets": [
  {
   "cells": [
    {
     "cell_type": "code",
     "collapsed": false,
     "input": [
      "using pattern\n",
      "using airplaneType"
     ],
     "language": "python",
     "metadata": {},
     "outputs": [],
     "prompt_number": 1
    },
    {
     "cell_type": "code",
     "collapsed": false,
     "input": [
      "include(\"3dsim.jl\")"
     ],
     "language": "python",
     "metadata": {},
     "outputs": [
      {
       "metadata": {},
       "output_type": "pyout",
       "prompt_number": 3,
       "text": [
        "simulate! (generic function with 1 method)"
       ]
      }
     ],
     "prompt_number": 3
    },
    {
     "cell_type": "code",
     "collapsed": false,
     "input": [
      "aircraftList = [airplane(50,:U1), airplane(50, :LD2), airplane(50, :R), airplane(50, :T)];"
     ],
     "language": "python",
     "metadata": {},
     "outputs": [],
     "prompt_number": 4
    },
    {
     "cell_type": "code",
     "collapsed": false,
     "input": [
      "(idmin, tmax, alertCount) = simulate!(aircraftList,3600*2,:Smart,S->g_noaction, stopEarly=true, savepath=true); tmax, alertCount"
     ],
     "language": "python",
     "metadata": {},
     "outputs": [
      {
       "ename": "LoadError",
       "evalue": "simdt not defined\nwhile loading In[6], in expression starting on line 1",
       "output_type": "pyerr",
       "traceback": [
        "simdt not defined\nwhile loading In[6], in expression starting on line 1",
        "",
        " in simulate! at /home/zouhair/Dropbox/Research/autoATC/3dsim.jl:26"
       ]
      }
     ],
     "prompt_number": 6
    },
    {
     "cell_type": "code",
     "collapsed": false,
     "input": [],
     "language": "python",
     "metadata": {},
     "outputs": []
    }
   ],
   "metadata": {}
  }
 ]
}