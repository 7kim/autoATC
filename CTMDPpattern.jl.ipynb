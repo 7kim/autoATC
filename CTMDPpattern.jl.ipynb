{
 "metadata": {
  "language": "Julia",
  "name": "",
  "signature": "sha256:812c7e187939131c3b20be80b5e4c923552ec250f6c63a8927b3ed1ea5952483"
 },
 "nbformat": 3,
 "nbformat_minor": 0,
 "worksheets": [
  {
   "cells": [
    {
     "cell_type": "code",
     "collapsed": false,
     "input": [
      "include(\"pattern.jl\")"
     ],
     "language": "python",
     "metadata": {},
     "outputs": [
      {
       "metadata": {},
       "output_type": "pyout",
       "prompt_number": 1,
       "text": [
        "plotSim (generic function with 1 method)"
       ]
      }
     ],
     "prompt_number": 1
    },
    {
     "cell_type": "code",
     "collapsed": false,
     "input": [
      "include(\"CTMDP.jl\")"
     ],
     "language": "python",
     "metadata": {},
     "outputs": [
      {
       "output_type": "stream",
       "stream": "stderr",
       "text": [
        "Warning: redefining constant g_Scomp\n",
        "Warning: redefining constant g_Xcomp\n",
        "Warning: redefining constant g_X2CIDX_dict\n"
       ]
      },
      {
       "metadata": {},
       "output_type": "pyout",
       "prompt_number": 27,
       "text": [
        "sample (generic function with 1 method)"
       ]
      }
     ],
     "prompt_number": 27
    },
    {
     "cell_type": "code",
     "collapsed": false,
     "input": [
      "legalActions = validCompactActions"
     ],
     "language": "python",
     "metadata": {},
     "outputs": [
      {
       "metadata": {},
       "output_type": "pyout",
       "prompt_number": 3,
       "text": [
        "validCompactActions (generic function with 1 method)"
       ]
      }
     ],
     "prompt_number": 3
    },
    {
     "cell_type": "code",
     "collapsed": false,
     "input": [
      "amax = maximum([length( NextStates[s]) for s in keys(NextStates)]);\n",
      "A = (Int64)[0:amax];\n",
      "Aj = (Vector{Int64})[[a, [0 for i in 1:(g_nVehicles-1)]] for a in A ];"
     ],
     "language": "python",
     "metadata": {},
     "outputs": [],
     "prompt_number": 4
    },
    {
     "cell_type": "code",
     "collapsed": false,
     "input": [
      "P0 = spzeros(g_nNodes, g_nNodes);\n",
      "P = (typeof(P0))[copy(P0) for a in A]\n",
      "\n",
      "for a in A\n",
      "    if a == 0\n",
      "        act = g_nullAct\n",
      "    else\n",
      "        act = Int64[1, a]\n",
      "    end\n",
      "    for x in 1:g_nNodes\n",
      "        s = x2s(x)\n",
      "        for sp in NextStates[s]\n",
      "            xp = s2x(sp)\n",
      "            P[a+1][x,xp] = Transition([s], act, [sp])        \n",
      "        end\n",
      "    end\n",
      "end"
     ],
     "language": "python",
     "metadata": {},
     "outputs": [],
     "prompt_number": 5
    },
    {
     "cell_type": "code",
     "collapsed": false,
     "input": [
      "M0 = speye(g_nNodes)\n",
      "for x in 1:g_nNodes\n",
      "    s = x2s(x)\n",
      "    M0[x,x] = 1./teaTime[s]\n",
      "end"
     ],
     "language": "python",
     "metadata": {},
     "outputs": [],
     "prompt_number": 6
    },
    {
     "cell_type": "code",
     "collapsed": false,
     "input": [
      "# M = (Symbol => typeof(M0))[a => copy(M0) for a in [:\u2205, :S]];\n",
      "# M[:S] *= 0.5;  #Slower means longer lingering time, i.e. lower reciprocals\n"
     ],
     "language": "python",
     "metadata": {},
     "outputs": [],
     "prompt_number": 7
    },
    {
     "cell_type": "code",
     "collapsed": false,
     "input": [
      "Isp = spdiagm(ones(g_nNodes));"
     ],
     "language": "python",
     "metadata": {},
     "outputs": [],
     "prompt_number": 8
    },
    {
     "cell_type": "code",
     "collapsed": false,
     "input": [
      "#Also notice how we are indexing into P using a+1\n",
      "#the joys of 1-based indexing :(\n",
      "Qlist = (typeof(M0))[(M0*(P[a+1] - Isp)) for a in A];"
     ],
     "language": "python",
     "metadata": {},
     "outputs": [],
     "prompt_number": 9
    },
    {
     "cell_type": "code",
     "collapsed": false,
     "input": [
      "#Note that we are using the TRANSPOSE!!\n",
      "# Qt_joint = (typeof(M0))[kronSum([Qlist[an+1]' for an in a]) for a in Aj];\n",
      "# QVeval_old([3,1],[0,1],Qt_joint,Vshort,.9) #at /home/zouhair/Dropbox/Research/autoATC/CTMDP.jl:182)\n",
      "#QVeval([1,3],[0,1],Qlist,Vshort,.9) #at /home/zouhair/Dropbox/Research/autoATC/CTMDP.jl:182)"
     ],
     "language": "python",
     "metadata": {},
     "outputs": [],
     "prompt_number": 10
    },
    {
     "cell_type": "code",
     "collapsed": false,
     "input": [
      "Vshort = ones(length(g_Scomp));"
     ],
     "language": "python",
     "metadata": {},
     "outputs": [],
     "prompt_number": 11
    },
    {
     "cell_type": "code",
     "collapsed": false,
     "input": [
      "Aopt = gaussSeidel!(Qlist, Vshort,1.2)# at /home/zouhair/Dropbox/Research/autoATC/CTMDP.jl:268"
     ],
     "language": "python",
     "metadata": {},
     "outputs": [
      {
       "output_type": "stream",
       "stream": "stdout",
       "text": [
        "Stopping after 1"
       ]
      },
      {
       "output_type": "stream",
       "stream": "stdout",
       "text": [
        " iterations (maxVchange = 2.25)\n",
        "elapsed time: 58.708140133 seconds (14443578076 bytes allocated, 46.61% gc time)\n"
       ]
      },
      {
       "metadata": {},
       "output_type": "pyout",
       "prompt_number": 28,
       "text": [
        "169911-element Array{Float64,1}:\n",
        " -102.386  \n",
        " -137.754  \n",
        "  -82.5891 \n",
        "  -77.5824 \n",
        "  -77.5012 \n",
        "  -77.9582 \n",
        "  -87.1382 \n",
        "  -89.8848 \n",
        "  -77.609  \n",
        "  -77.5262 \n",
        "  -77.9884 \n",
        "  -87.1659 \n",
        "  -84.7    \n",
        "    \u22ee      \n",
        " -116.948  \n",
        "   -4.15528\n",
        "  -11.348  \n",
        "  -30.4768 \n",
        "  -89.8446 \n",
        " -181.236  \n",
        "   -3.75057\n",
        "  -10.0032 \n",
        "  -29.9461 \n",
        "  -89.7112 \n",
        " -181.155  \n",
        " -299.055  "
       ]
      }
     ],
     "prompt_number": 28
    },
    {
     "cell_type": "code",
     "collapsed": false,
     "input": [
      "ctmdpPolicy = S -> policy_S2a(S, Aopt)"
     ],
     "language": "python",
     "metadata": {},
     "outputs": [
      {
       "metadata": {},
       "output_type": "pyout",
       "prompt_number": 36,
       "text": [
        "(anonymous function)"
       ]
      }
     ],
     "prompt_number": 36
    },
    {
     "cell_type": "code",
     "collapsed": false,
     "input": [
      "ctmdpPolicy([:LX1, :U1, :U2, :RD1])"
     ],
     "language": "python",
     "metadata": {},
     "outputs": [
      {
       "metadata": {},
       "output_type": "pyout",
       "prompt_number": 37,
       "text": [
        "(2,:RX1)"
       ]
      }
     ],
     "prompt_number": 37
    },
    {
     "cell_type": "code",
     "collapsed": false,
     "input": [
      "save(\"CTMDpolicy\", \"Aopt\", Aopt, \"Vstar\", Vshort, \"\u03b1\", \u03b1, \"\u03b2\", 0.01);"
     ],
     "language": "python",
     "metadata": {},
     "outputs": [
      {
       "metadata": {},
       "output_type": "pyout",
       "prompt_number": 44,
       "text": [
        "1.0"
       ]
      }
     ],
     "prompt_number": 44
    },
    {
     "cell_type": "code",
     "collapsed": false,
     "input": [
      "#popo = [CIDX2S(cidx) => policy_S2a(CIDX2S(cidx),Aopt) for cidx in find(x-> x != g_noaction, Aopt)]"
     ],
     "language": "python",
     "metadata": {},
     "outputs": []
    },
    {
     "cell_type": "code",
     "collapsed": false,
     "input": [
      "#using ProfileView\n",
      "#@profile Aopt = gaussSeidel!(Qlist, Vshort,1.2,1)# at /home/zouhair/Dropbox/Research/autoATC/CTMDP.jl:268\n",
      "#ProfileView.view()"
     ],
     "language": "python",
     "metadata": {},
     "outputs": []
    },
    {
     "cell_type": "code",
     "collapsed": false,
     "input": [],
     "language": "python",
     "metadata": {},
     "outputs": [],
     "prompt_number": 21
    },
    {
     "cell_type": "code",
     "collapsed": false,
     "input": [
      "\n"
     ],
     "language": "python",
     "metadata": {},
     "outputs": [],
     "prompt_number": 22
    }
   ],
   "metadata": {}
  }
 ]
}