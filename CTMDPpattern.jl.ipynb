{
 "metadata": {
  "language": "Julia",
  "name": "",
  "signature": "sha256:cc9c4e02c72d45a15fee4d86b5552358debc6b1478b92bb5049f337119d10eca"
 },
 "nbformat": 3,
 "nbformat_minor": 0,
 "worksheets": [
  {
   "cells": [
    {
     "cell_type": "code",
     "collapsed": false,
     "input": [
      "include(\"pattern.jl\")"
     ],
     "language": "python",
     "metadata": {},
     "outputs": [
      {
       "metadata": {},
       "output_type": "pyout",
       "prompt_number": 1,
       "text": [
        "plotSim (generic function with 1 method)"
       ]
      }
     ],
     "prompt_number": 1
    },
    {
     "cell_type": "code",
     "collapsed": false,
     "input": [
      "include(\"CTMDP.jl\")"
     ],
     "language": "python",
     "metadata": {},
     "outputs": [
      {
       "metadata": {},
       "output_type": "pyout",
       "prompt_number": 2,
       "text": [
        "sample (generic function with 1 method)"
       ]
      }
     ],
     "prompt_number": 2
    },
    {
     "cell_type": "code",
     "collapsed": false,
     "input": [
      "A = Symbol[:\u2205, :S];\n",
      "function validActions(s)\n",
      "    return [g_noaction, collect(product(1:g_nVehicles, [:S]))]   \n",
      "end\n",
      "Aj = Vector{Symbol}[ [a, :\u2205] for a in A ]; #Only valid for 2 vehicles"
     ],
     "language": "python",
     "metadata": {},
     "outputs": [
      {
       "metadata": {},
       "output_type": "pyout",
       "prompt_number": 3,
       "text": [
        "2-element Array{Array{Symbol,1},1}:\n",
        " [:\u2205,:\u2205]\n",
        " [:S,:\u2205]"
       ]
      }
     ],
     "prompt_number": 3
    },
    {
     "cell_type": "code",
     "collapsed": false,
     "input": [
      "P0 = spzeros(g_nNodes, g_nNodes);\n",
      "for x in 1:g_nNodes\n",
      "    s = x2s(x)\n",
      "    for sp in NextStates[s]\n",
      "        xp = s2x(sp)\n",
      "        P0[x,xp] = Transition([s], g_noaction, [sp])        \n",
      "    end\n",
      "end"
     ],
     "language": "python",
     "metadata": {},
     "outputs": [],
     "prompt_number": 4
    },
    {
     "cell_type": "code",
     "collapsed": false,
     "input": [
      "M0 = speye(g_nNodes)\n",
      "for x in 1:g_nNodes\n",
      "    s = x2s(x)\n",
      "    M0[x,x] = 1./teaTime[s]\n",
      "end"
     ],
     "language": "python",
     "metadata": {},
     "outputs": [],
     "prompt_number": 5
    },
    {
     "cell_type": "code",
     "collapsed": false,
     "input": [
      "M = (Symbol => typeof(M0))[a => copy(M0) for a in [:\u2205, :S]];\n",
      "M[:S] *= 0.5;  #Slower means longer lingering time, i.e. lower reciprocals\n"
     ],
     "language": "python",
     "metadata": {},
     "outputs": [
      {
       "metadata": {},
       "output_type": "pyout",
       "prompt_number": 6,
       "text": [
        "27x27 sparse matrix with 27 Float64 entries:\n",
        "\t[1 ,  1]  =  0.1\n",
        "\t[2 ,  2]  =  1.0\n",
        "\t[3 ,  3]  =  0.5\n",
        "\t[4 ,  4]  =  1.0\n",
        "\t[5 ,  5]  =  0.333333\n",
        "\t[6 ,  6]  =  0.333333\n",
        "\t[7 ,  7]  =  1.0\n",
        "\t[8 ,  8]  =  0.5\n",
        "\t[9 ,  9]  =  1.0\n",
        "\t[10, 10]  =  0.333333\n",
        "\t\u22ee\n",
        "\t[17, 17]  =  0.25\n",
        "\t[18, 18]  =  1.0\n",
        "\t[19, 19]  =  0.25\n",
        "\t[20, 20]  =  1.0\n",
        "\t[21, 21]  =  0.25\n",
        "\t[22, 22]  =  0.25\n",
        "\t[23, 23]  =  1.0\n",
        "\t[24, 24]  =  0.05\n",
        "\t[25, 25]  =  0.25\n",
        "\t[26, 26]  =  0.05\n",
        "\t[27, 27]  =  0.25"
       ]
      }
     ],
     "prompt_number": 6
    },
    {
     "cell_type": "code",
     "collapsed": false,
     "input": [
      "Isp = spdiagm(ones(g_nNodes));"
     ],
     "language": "python",
     "metadata": {},
     "outputs": [],
     "prompt_number": 7
    },
    {
     "cell_type": "code",
     "collapsed": false,
     "input": [
      "#Note that we are using the TRANSPOSE!!\n",
      "Qt = (Symbol => typeof(M0))[ a => (M[a]*(P0 - Isp))' for a in [:\u2205, :S]];"
     ],
     "language": "python",
     "metadata": {},
     "outputs": [],
     "prompt_number": 8
    },
    {
     "cell_type": "code",
     "collapsed": false,
     "input": [
      "Qt_joint = (Vector{Symbol} => typeof(M0))[ a => kronSum(Qt[a[1]], Qt[a[2]]) for a in Aj]"
     ],
     "language": "python",
     "metadata": {},
     "outputs": [
      {
       "metadata": {},
       "output_type": "pyout",
       "prompt_number": 9,
       "text": [
        "Dict{Array{Symbol,1},SparseMatrixCSC{Float64,Int64}} with 2 entries:\n",
        "  [:\u2205,:\u2205] => \u2026\n",
        "  [:S,:\u2205] => \u2026"
       ]
      }
     ],
     "prompt_number": 9
    },
    {
     "cell_type": "code",
     "collapsed": false,
     "input": [
      "function r(X::XType, a::typeof(g_noaction))\n",
      "  return Reward(X2S(X), a, 0.)\n",
      "end"
     ],
     "language": "python",
     "metadata": {},
     "outputs": [
      {
       "metadata": {},
       "output_type": "pyout",
       "prompt_number": 33,
       "text": [
        "r (generic function with 1 method)"
       ]
      }
     ],
     "prompt_number": 33
    },
    {
     "cell_type": "code",
     "collapsed": false,
     "input": [
      "Vshort = ones(length(g_Scomp));"
     ],
     "language": "python",
     "metadata": {},
     "outputs": [],
     "prompt_number": 34
    },
    {
     "cell_type": "code",
     "collapsed": false,
     "input": [
      "Aopt = gaussSeidel!(Vshort,1.2)# at /home/zouhair/Dropbox/Research/autoATC/CTMDP.jl:268\n",
      "Vshort"
     ],
     "language": "python",
     "metadata": {},
     "outputs": [
      {
       "output_type": "stream",
       "stream": "stdout",
       "text": [
        "Stopping after 12"
       ]
      },
      {
       "output_type": "stream",
       "stream": "stdout",
       "text": [
        " iterations (maxVchange = 0.35)\n",
        "elapsed time: 0.344880624 seconds (75205248 bytes allocated, 7.96% gc time)\n"
       ]
      },
      {
       "metadata": {},
       "output_type": "pyout",
       "prompt_number": 35,
       "text": [
        "378-element Array{Float64,1}:\n",
        " -28.637   \n",
        " -38.3461  \n",
        " -23.435   \n",
        " -13.937   \n",
        " -13.8362  \n",
        " -14.5742  \n",
        " -23.3211  \n",
        " -26.6073  \n",
        " -13.9949  \n",
        " -13.8966  \n",
        " -14.6089  \n",
        " -23.354   \n",
        " -23.7301  \n",
        "   \u22ee       \n",
        "  -1.91481 \n",
        " -18.4922  \n",
        "  -1.07006 \n",
        "  -5.53453 \n",
        "  -0.135039\n",
        "  -0.703112\n",
        " -44.5727  \n",
        "  -0.702873\n",
        "  -4.42045 \n",
        "  -1.0721  \n",
        "  -5.54294 \n",
        " -44.6005  "
       ]
      }
     ],
     "prompt_number": 35
    },
    {
     "cell_type": "code",
     "collapsed": false,
     "input": [
      "policy_S2a([:LB1, :RB1], Aopt)"
     ],
     "language": "python",
     "metadata": {},
     "outputs": [
      {
       "metadata": {},
       "output_type": "pyout",
       "prompt_number": 36,
       "text": [
        "(0,:\u2205)"
       ]
      }
     ],
     "prompt_number": 36
    },
    {
     "cell_type": "code",
     "collapsed": false,
     "input": [
      "unique(Aopt)"
     ],
     "language": "python",
     "metadata": {},
     "outputs": [
      {
       "metadata": {},
       "output_type": "pyout",
       "prompt_number": 37,
       "text": [
        "3-element Array{(Int64,Symbol),1}:\n",
        " (0,:\u2205)\n",
        " (2,:S)\n",
        " (1,:S)"
       ]
      }
     ],
     "prompt_number": 37
    },
    {
     "cell_type": "code",
     "collapsed": false,
     "input": [
      "find(x-> x != g_noaction, Aopt)"
     ],
     "language": "python",
     "metadata": {},
     "outputs": [
      {
       "metadata": {},
       "output_type": "pyout",
       "prompt_number": 38,
       "text": [
        "13-element Array{Int64,1}:\n",
        "  64\n",
        "  80\n",
        " 104\n",
        " 114\n",
        " 149\n",
        " 173\n",
        " 190\n",
        " 209\n",
        " 219\n",
        " 289\n",
        " 325\n",
        " 338\n",
        " 344"
       ]
      }
     ],
     "prompt_number": 38
    },
    {
     "cell_type": "code",
     "collapsed": false,
     "input": [
      "[(CIDX2S(cidx), policy_S2a(CIDX2S(cidx),Aopt)) for cidx in Out[28]]"
     ],
     "language": "python",
     "metadata": {},
     "outputs": [
      {
       "metadata": {},
       "output_type": "pyout",
       "prompt_number": 32,
       "text": [
        "13-element Array{(Array{Symbol,1},(Int64,Symbol)),1}:\n",
        " ([:U1,:GO],(2,:S))  \n",
        " ([:LX1,:LD1],(1,:S))\n",
        " ([:LD1,:LD2],(1,:S))\n",
        " ([:LD1,:LD0],(2,:S))\n",
        " ([:LB1,:F1],(1,:S)) \n",
        " ([:F1,:RB1],(2,:S)) \n",
        " ([:RX1,:RD1],(1,:S))\n",
        " ([:RD1,:RD2],(1,:S))\n",
        " ([:RD1,:RD0],(2,:S))\n",
        " ([:LX2,:LD0],(1,:S))\n",
        " ([:LB2,:F0],(1,:S)) \n",
        " ([:F0,:RB2],(2,:S)) \n",
        " ([:RX2,:RD0],(1,:S))"
       ]
      }
     ],
     "prompt_number": 32
    },
    {
     "cell_type": "code",
     "collapsed": false,
     "input": [],
     "language": "python",
     "metadata": {},
     "outputs": [],
     "prompt_number": 17
    },
    {
     "cell_type": "code",
     "collapsed": false,
     "input": [],
     "language": "python",
     "metadata": {},
     "outputs": [],
     "prompt_number": 18
    },
    {
     "cell_type": "code",
     "collapsed": false,
     "input": [],
     "language": "python",
     "metadata": {},
     "outputs": [],
     "prompt_number": 19
    },
    {
     "cell_type": "code",
     "collapsed": false,
     "input": [],
     "language": "python",
     "metadata": {},
     "outputs": [],
     "prompt_number": 20
    },
    {
     "cell_type": "code",
     "collapsed": false,
     "input": [],
     "language": "python",
     "metadata": {},
     "outputs": [],
     "prompt_number": 21
    },
    {
     "cell_type": "code",
     "collapsed": false,
     "input": [],
     "language": "python",
     "metadata": {},
     "outputs": [],
     "prompt_number": 22
    },
    {
     "cell_type": "code",
     "collapsed": false,
     "input": [
      "\n"
     ],
     "language": "python",
     "metadata": {},
     "outputs": [],
     "prompt_number": 23
    }
   ],
   "metadata": {}
  }
 ]
}