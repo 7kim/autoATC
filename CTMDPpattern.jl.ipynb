{
 "metadata": {
  "language": "Julia",
  "name": "",
  "signature": "sha256:b6bc562d7e1179b764ac671b749ef5609167bd9a0dc22d982b4433e04e61febd"
 },
 "nbformat": 3,
 "nbformat_minor": 0,
 "worksheets": [
  {
   "cells": [
    {
     "cell_type": "code",
     "collapsed": false,
     "input": [
      "include(\"pattern.jl\")"
     ],
     "language": "python",
     "metadata": {},
     "outputs": [
      {
       "metadata": {},
       "output_type": "pyout",
       "prompt_number": 1,
       "text": [
        "plotSim (generic function with 1 method)"
       ]
      }
     ],
     "prompt_number": 1
    },
    {
     "cell_type": "code",
     "collapsed": false,
     "input": [
      "include(\"CTMDP.jl\")"
     ],
     "language": "python",
     "metadata": {},
     "outputs": [
      {
       "output_type": "stream",
       "stream": "stderr",
       "text": [
        "Warning: redefining constant g_Scomp\n",
        "Warning: redefining constant g_Xcomp\n",
        "Warning: redefining constant g_X2CIDX_dict\n"
       ]
      },
      {
       "metadata": {},
       "output_type": "pyout",
       "prompt_number": 40,
       "text": [
        "sample (generic function with 1 method)"
       ]
      }
     ],
     "prompt_number": 40
    },
    {
     "cell_type": "code",
     "collapsed": false,
     "input": [
      "legalActions = validCompactActions"
     ],
     "language": "python",
     "metadata": {},
     "outputs": [
      {
       "metadata": {},
       "output_type": "pyout",
       "prompt_number": 21,
       "text": [
        "validCompactActions (generic function with 1 method)"
       ]
      }
     ],
     "prompt_number": 21
    },
    {
     "cell_type": "code",
     "collapsed": false,
     "input": [
      "amax = maximum([length( NextStates[s]) for s in keys(NextStates)]);\n",
      "A = (Int64)[0:amax];\n",
      "Aj = (Vector{Int64})[[a, [0 for i in 1:(g_nVehicles-1)]] for a in A ];"
     ],
     "language": "python",
     "metadata": {},
     "outputs": [],
     "prompt_number": 3
    },
    {
     "cell_type": "code",
     "collapsed": false,
     "input": [
      "P0 = spzeros(g_nNodes, g_nNodes);\n",
      "P = (typeof(P0))[copy(P0) for a in A]\n",
      "\n",
      "for a in A\n",
      "    if a == 0\n",
      "        act = g_nullAct\n",
      "    else\n",
      "        act = Int64[1, a]\n",
      "    end\n",
      "    for x in 1:g_nNodes\n",
      "        s = x2s(x)\n",
      "        for sp in NextStates[s]\n",
      "            xp = s2x(sp)\n",
      "            P[a+1][x,xp] = Transition([s], act, [sp])        \n",
      "        end\n",
      "    end\n",
      "end"
     ],
     "language": "python",
     "metadata": {},
     "outputs": [],
     "prompt_number": 7
    },
    {
     "cell_type": "code",
     "collapsed": false,
     "input": [
      "M0 = speye(g_nNodes)\n",
      "for x in 1:g_nNodes\n",
      "    s = x2s(x)\n",
      "    M0[x,x] = 1./teaTime[s]\n",
      "end"
     ],
     "language": "python",
     "metadata": {},
     "outputs": [],
     "prompt_number": 10
    },
    {
     "cell_type": "code",
     "collapsed": false,
     "input": [
      "# M = (Symbol => typeof(M0))[a => copy(M0) for a in [:\u2205, :S]];\n",
      "# M[:S] *= 0.5;  #Slower means longer lingering time, i.e. lower reciprocals\n"
     ],
     "language": "python",
     "metadata": {},
     "outputs": [
      {
       "metadata": {},
       "output_type": "pyout",
       "prompt_number": 6,
       "text": [
        "27x27 sparse matrix with 27 Float64 entries:\n",
        "\t[1 ,  1]  =  0.1\n",
        "\t[2 ,  2]  =  1.0\n",
        "\t[3 ,  3]  =  0.5\n",
        "\t[4 ,  4]  =  1.0\n",
        "\t[5 ,  5]  =  0.333333\n",
        "\t[6 ,  6]  =  0.333333\n",
        "\t[7 ,  7]  =  1.0\n",
        "\t[8 ,  8]  =  0.5\n",
        "\t[9 ,  9]  =  1.0\n",
        "\t[10, 10]  =  0.333333\n",
        "\t\u22ee\n",
        "\t[17, 17]  =  0.25\n",
        "\t[18, 18]  =  1.0\n",
        "\t[19, 19]  =  0.25\n",
        "\t[20, 20]  =  1.0\n",
        "\t[21, 21]  =  0.25\n",
        "\t[22, 22]  =  0.25\n",
        "\t[23, 23]  =  1.0\n",
        "\t[24, 24]  =  0.05\n",
        "\t[25, 25]  =  0.25\n",
        "\t[26, 26]  =  0.05\n",
        "\t[27, 27]  =  0.25"
       ]
      }
     ],
     "prompt_number": 6
    },
    {
     "cell_type": "code",
     "collapsed": false,
     "input": [
      "Isp = spdiagm(ones(g_nNodes));"
     ],
     "language": "python",
     "metadata": {},
     "outputs": [],
     "prompt_number": 11
    },
    {
     "cell_type": "code",
     "collapsed": false,
     "input": [
      "#Note that we are using the TRANSPOSE!!\n",
      "#Also notice how we are indexing into P using a+1\n",
      "#the joys of 1-based indexing :(\n",
      "Qt = (typeof(M0))[(M0*(P[a+1] - Isp))' for a in A];"
     ],
     "language": "python",
     "metadata": {},
     "outputs": [],
     "prompt_number": 12
    },
    {
     "cell_type": "code",
     "collapsed": false,
     "input": [
      "Aj"
     ],
     "language": "python",
     "metadata": {},
     "outputs": [
      {
       "metadata": {},
       "output_type": "pyout",
       "prompt_number": 13,
       "text": [
        "5-element Array{Array{Int64,1},1}:\n",
        " [0,0]\n",
        " [1,0]\n",
        " [2,0]\n",
        " [3,0]\n",
        " [4,0]"
       ]
      }
     ],
     "prompt_number": 13
    },
    {
     "cell_type": "code",
     "collapsed": false,
     "input": [
      "Qt_joint = (typeof(M0))[kronSum([Qt[an+1] for an in a]) for a in Aj];"
     ],
     "language": "python",
     "metadata": {},
     "outputs": [],
     "prompt_number": 15
    },
    {
     "cell_type": "code",
     "collapsed": false,
     "input": [
      "sizeof(Qt_joint[2].nzval)/1e6"
     ],
     "language": "python",
     "metadata": {},
     "outputs": [
      {
       "metadata": {},
       "output_type": "pyout",
       "prompt_number": 18,
       "text": [
        "0.020304"
       ]
      }
     ],
     "prompt_number": 18
    },
    {
     "cell_type": "code",
     "collapsed": false,
     "input": [
      "Vshort = ones(length(g_Scomp));"
     ],
     "language": "python",
     "metadata": {},
     "outputs": [],
     "prompt_number": 19
    },
    {
     "cell_type": "code",
     "collapsed": false,
     "input": [
      "Aopt = gaussSeidel!(Vshort,1.2)# at /home/zouhair/Dropbox/Research/autoATC/CTMDP.jl:268\n",
      "Vshort"
     ],
     "language": "python",
     "metadata": {},
     "outputs": [
      {
       "output_type": "stream",
       "stream": "stdout",
       "text": [
        "Stopping after 10"
       ]
      },
      {
       "output_type": "stream",
       "stream": "stdout",
       "text": [
        " iterations (maxVchange = 0.97)\n",
        "elapsed time: 0.228769619 seconds (44124948 bytes allocated)\n"
       ]
      },
      {
       "metadata": {},
       "output_type": "pyout",
       "prompt_number": 26,
       "text": [
        "378-element Array{Float64,1}:\n",
        " -25.4641   \n",
        " -28.5728   \n",
        " -11.26     \n",
        " -10.9601   \n",
        " -11.0759   \n",
        " -11.5407   \n",
        " -14.3646   \n",
        " -15.941    \n",
        " -10.9703   \n",
        " -11.0925   \n",
        " -11.5795   \n",
        " -14.3907   \n",
        " -11.5613   \n",
        "   \u22ee        \n",
        "  -1.10411  \n",
        " -10.5495   \n",
        "  -0.157293 \n",
        "  -0.819873 \n",
        "  -0.0956754\n",
        "  -0.496507 \n",
        "  -6.04953  \n",
        "  -0.496395 \n",
        "  -3.29546  \n",
        "  -0.158959 \n",
        "  -0.82386  \n",
        "  -6.07299  "
       ]
      }
     ],
     "prompt_number": 26
    },
    {
     "cell_type": "code",
     "collapsed": false,
     "input": [
      "unique(Aopt)"
     ],
     "language": "python",
     "metadata": {},
     "outputs": [
      {
       "metadata": {},
       "output_type": "pyout",
       "prompt_number": 27,
       "text": [
        "7-element Array{Array{Int64,1},1}:\n",
        " [0,0]\n",
        " [2,1]\n",
        " [1,1]\n",
        " [1,2]\n",
        " [2,2]\n",
        " [1,3]\n",
        " [2,3]"
       ]
      }
     ],
     "prompt_number": 27
    },
    {
     "cell_type": "code",
     "collapsed": false,
     "input": [
      "popo = [CIDX2S(cidx) => policy_S2a(CIDX2S(cidx),Aopt) for cidx in find(x-> x != g_noaction, Aopt)]"
     ],
     "language": "python",
     "metadata": {},
     "outputs": [
      {
       "metadata": {},
       "output_type": "pyout",
       "prompt_number": 43,
       "text": [
        "Dict{Array{Symbol,1},Union(Array{Int64,1},(Int64,Any))} with 378 entries:\n",
        "  [:RD0,:RDep] => (0,:\u2205)\n",
        "  [:LB1,:RD3]  => (0,:\u2205)\n",
        "  [:RD2,:LD0]  => (0,:\u2205)\n",
        "  [:LX1,:RB2]  => (0,:\u2205)\n",
        "  [:RD2,:GO]   => (0,:\u2205)\n",
        "  [:RB1,:LArr] => (0,:\u2205)\n",
        "  [:GO,:RD0]   => (0,:\u2205)\n",
        "  [:LB2,:RD0]  => (0,:\u2205)\n",
        "  [:R,:LD2]    => (0,:\u2205)\n",
        "  [:T,:LB2]    => (0,:\u2205)\n",
        "  [:LD2,:RX1]  => (0,:\u2205)\n",
        "  [:LB1,:F1]   => (0,:\u2205)\n",
        "  [:LD2,:LD2]  => (0,:\u2205)\n",
        "  [:LX1,:RX2]  => (0,:\u2205)\n",
        "  [:RD3,:RB2]  => (0,:\u2205)\n",
        "  [:LB2,:RDep] => (0,:\u2205)\n",
        "  [:LD2,:RD3]  => (1,:LB1)\n",
        "  [:RB1,:RDep] => (0,:\u2205)\n",
        "  [:LD3,:LB2]  => (0,:\u2205)\n",
        "  [:T,:RD3]    => (0,:\u2205)\n",
        "  [:RB1,:LDep] => (0,:\u2205)\n",
        "  [:F1,:F0]    => (0,:\u2205)\n",
        "  [:T,:LX1]    => (0,:\u2205)\n",
        "  [:LB1,:LX2]  => (0,:\u2205)\n",
        "  [:T,:LD2]    => (0,:\u2205)\n",
        "  \u22ee            => \u22ee"
       ]
      }
     ],
     "prompt_number": 43
    },
    {
     "cell_type": "code",
     "collapsed": false,
     "input": [
      "for k in keys(popo)\n",
      "    if popo[k] != g_noaction\n",
      "        println(k, popo[k])\n",
      "    end\n",
      "end"
     ],
     "language": "python",
     "metadata": {},
     "outputs": [
      {
       "output_type": "stream",
       "stream": "stdout",
       "text": [
        "[:"
       ]
      },
      {
       "output_type": "stream",
       "stream": "stdout",
       "text": [
        "LD2,:RD3](1,:LB1)\n",
        "[:RB2,:LArr](2,:LD1)\n",
        "[:U1,:RD1](1,:LX1)\n",
        "[:U1,:LX2](1,:RX1)\n",
        "[:F1,:GO](1,:R)\n",
        "[:U2,:RX2](1,:LX2)\n",
        "[:LB2,:RArr](2,:RD1)\n",
        "[:U2,:RD0](1,:LX2)\n",
        "[:RD0,:RArr](2,:RD3)\n",
        "[:LD2,:RB2](1,:LB1)\n",
        "[:RD3,:RArr](2,:RD1)\n",
        "[:U1,:U2](1,:LX1)\n",
        "[:U1,:RX2](1,:LX1)\n",
        "[:LD2,:LB1](1,:LD3)\n",
        "[:LX1,:LArr](2,:LD3)\n",
        "[:RD2,:LD3](1,:RB1)\n",
        "[:LD1,:LArr](2,:LD3)\n",
        "[:RD2,:LB2](1,:RB1)\n",
        "[:U1,:LD2](1,:U2)\n",
        "[:T,:R](2,:U1)\n",
        "[:RD2,:RB2](1,:RB1)\n",
        "[:RD2,:RB1](1,:RD3)\n",
        "[:LD2,:LB2](1,:LB1)\n",
        "[:R,:U1](1,:T)\n",
        "[:LB1,:RD2](2,:RD3)\n",
        "[:U1,:RX1](1,:LX1)\n",
        "[:LX1,:U2](2,:RX2)\n",
        "[:LD1,:U2](2,:RX2)\n",
        "[:RD1,:U2](2,:LX2)\n",
        "[:R,:F1](2,:GO)\n",
        "[:RD1,:RArr](2,:RD3)\n",
        "[:R,:R](1,:U1)\n",
        "[:F0,:LArr](2,:LD1)\n",
        "[:U1,:F1](2,:R)\n",
        "[:LD2,:RB1](1,:LD3)\n",
        "[:LX2,:LArr](2,:LD3)\n",
        "[:LB2,:LArr](2,:LD1)\n",
        "[:U1,:RD2](1,:U2)\n",
        "[:RX1,:RArr](2,:RD3)\n",
        "[:U2,:LD0](1,:RX2)\n",
        "[:F0,:RArr](2,:RD1)\n",
        "[:LD2,:F1](1,:LD3)\n",
        "[:F1,:RD2](2,:RD3)\n",
        "[:LD2,:LArr](2,:LD3)\n",
        "[:LD0,:LArr](2,:LD3)\n",
        "[:U1,:LD0](1,:RX1)\n",
        "[:LD3,:LArr](2,:LD1)\n",
        "[:RX2,:RArr](2,:RD3)\n",
        "[:U1,:LX1](1,:RX1)\n",
        "[:LD2,:LD3](1,:LB1)\n",
        "[:U2,:LX2](1,:RX2)\n",
        "[:RB2,:RArr](2,:RD1)\n",
        "[:U1,:RD0](1,:LX1)\n",
        "[:R,:RDep](1,:U1)\n",
        "[:RX1,:U2](2,:LX2)\n",
        "[:R,:LDep](1,:U1)\n",
        "[:RD2,:RArr](2,:RD3)\n",
        "[:U1,:LD1](1,:RX1)\n",
        "[:RD2,:RD3](1,:RB1)\n",
        "[:R,:GO](1,:T)\n"
       ]
      }
     ],
     "prompt_number": 44
    },
    {
     "cell_type": "code",
     "collapsed": false,
     "input": [],
     "language": "python",
     "metadata": {},
     "outputs": [],
     "prompt_number": 17
    },
    {
     "cell_type": "code",
     "collapsed": false,
     "input": [],
     "language": "python",
     "metadata": {},
     "outputs": [],
     "prompt_number": 18
    },
    {
     "cell_type": "code",
     "collapsed": false,
     "input": [],
     "language": "python",
     "metadata": {},
     "outputs": [],
     "prompt_number": 19
    },
    {
     "cell_type": "code",
     "collapsed": false,
     "input": [],
     "language": "python",
     "metadata": {},
     "outputs": [],
     "prompt_number": 20
    },
    {
     "cell_type": "code",
     "collapsed": false,
     "input": [],
     "language": "python",
     "metadata": {},
     "outputs": [],
     "prompt_number": 21
    },
    {
     "cell_type": "code",
     "collapsed": false,
     "input": [
      "\n"
     ],
     "language": "python",
     "metadata": {},
     "outputs": [],
     "prompt_number": 22
    }
   ],
   "metadata": {}
  }
 ]
}