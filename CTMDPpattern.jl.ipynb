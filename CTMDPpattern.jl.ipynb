{
 "metadata": {
  "language": "Julia",
  "name": "",
  "signature": "sha256:f1705d0288718f06b2ff3ce9a98fb0604666e07491da9aa9dba69053e95a22bd"
 },
 "nbformat": 3,
 "nbformat_minor": 0,
 "worksheets": [
  {
   "cells": [
    {
     "cell_type": "code",
     "collapsed": false,
     "input": [
      "include(\"pattern.jl\")"
     ],
     "language": "python",
     "metadata": {},
     "outputs": [
      {
       "output_type": "stream",
       "stream": "stderr",
       "text": [
        "Warning: redefining constant g_nullAct\n",
        "Warning: redefining constant g_allstates\n",
        "Warning: redefining constant g_sn\n",
        "Warning: redefining constant g_allstates_string\n"
       ]
      },
      {
       "metadata": {},
       "output_type": "pyout",
       "prompt_number": 23,
       "text": [
        "plotSim (generic function with 1 method)"
       ]
      }
     ],
     "prompt_number": 23
    },
    {
     "cell_type": "code",
     "collapsed": false,
     "input": [
      "include(\"CTMDP.jl\")"
     ],
     "language": "python",
     "metadata": {},
     "outputs": [
      {
       "output_type": "stream",
       "stream": "stderr",
       "text": [
        "Warning: redefining constant g_nVehicles\n",
        "Warning: redefining constant g_Scomp\n",
        "Warning: redefining constant g_Xcomp\n",
        "Warning: redefining constant g_nScomp\n",
        "Warning: redefining constant g_nXcomp\n",
        "Warning: redefining constant g_nSlong\n",
        "Warning: redefining constant g_nXlong\n",
        "Warning: redefining constant g_X2CIDX_dict\n",
        "Warning: redefining constant g_XDIMS\n"
       ]
      },
      {
       "metadata": {},
       "output_type": "pyout",
       "prompt_number": 24,
       "text": [
        "sample (generic function with 1 method)"
       ]
      }
     ],
     "prompt_number": 24
    },
    {
     "cell_type": "code",
     "collapsed": false,
     "input": [
      "legalActions = validCompactActions"
     ],
     "language": "python",
     "metadata": {},
     "outputs": [
      {
       "metadata": {},
       "output_type": "pyout",
       "prompt_number": 25,
       "text": [
        "validCompactActions (generic function with 1 method)"
       ]
      }
     ],
     "prompt_number": 25
    },
    {
     "cell_type": "code",
     "collapsed": false,
     "input": [
      "amax = maximum([length( NextStates[s]) for s in keys(NextStates)]);\n",
      "A = (Int64)[0:amax];\n",
      "Aj = (Vector{Int64})[[a, [0 for i in 1:(g_nVehicles-1)]] for a in A ];"
     ],
     "language": "python",
     "metadata": {},
     "outputs": [],
     "prompt_number": 26
    },
    {
     "cell_type": "code",
     "collapsed": false,
     "input": [
      "P0 = spzeros(g_nNodes, g_nNodes);\n",
      "P = (typeof(P0))[copy(P0) for a in A]\n",
      "\n",
      "for a in A\n",
      "    if a == 0\n",
      "        act = g_nullAct\n",
      "    else\n",
      "        act = Int64[1, a]\n",
      "    end\n",
      "    for x in 1:g_nNodes\n",
      "        s = x2s(x)\n",
      "        for sp in NextStates[s]\n",
      "            xp = s2x(sp)\n",
      "            P[a+1][x,xp] = Transition([s], act, [sp])        \n",
      "        end\n",
      "    end\n",
      "end"
     ],
     "language": "python",
     "metadata": {},
     "outputs": [],
     "prompt_number": 27
    },
    {
     "cell_type": "code",
     "collapsed": false,
     "input": [
      "M0 = speye(g_nNodes)\n",
      "for x in 1:g_nNodes\n",
      "    s = x2s(x)\n",
      "    M0[x,x] = 1./teaTime[s]\n",
      "end"
     ],
     "language": "python",
     "metadata": {},
     "outputs": [],
     "prompt_number": 28
    },
    {
     "cell_type": "code",
     "collapsed": false,
     "input": [
      "# M = (Symbol => typeof(M0))[a => copy(M0) for a in [:\u2205, :S]];\n",
      "# M[:S] *= 0.5;  #Slower means longer lingering time, i.e. lower reciprocals\n"
     ],
     "language": "python",
     "metadata": {},
     "outputs": [],
     "prompt_number": 29
    },
    {
     "cell_type": "code",
     "collapsed": false,
     "input": [
      "Isp = spdiagm(ones(g_nNodes));"
     ],
     "language": "python",
     "metadata": {},
     "outputs": [],
     "prompt_number": 30
    },
    {
     "cell_type": "code",
     "collapsed": false,
     "input": [
      "#Also notice how we are indexing into P using a+1\n",
      "#the joys of 1-based indexing :(\n",
      "Qlist = (typeof(M0))[(M0*(P[a+1] - Isp)) for a in A];"
     ],
     "language": "python",
     "metadata": {},
     "outputs": [],
     "prompt_number": 31
    },
    {
     "cell_type": "code",
     "collapsed": false,
     "input": [
      "#Note that we are using the TRANSPOSE!!\n",
      "# Qt_joint = (typeof(M0))[kronSum([Qlist[an+1]' for an in a]) for a in Aj];\n",
      "# QVeval_old([3,1],[0,1],Qt_joint,Vshort,.9) #at /home/zouhair/Dropbox/Research/autoATC/CTMDP.jl:182)\n",
      "#QVeval([1,3],[0,1],Qlist,Vshort,.9) #at /home/zouhair/Dropbox/Research/autoATC/CTMDP.jl:182)"
     ],
     "language": "python",
     "metadata": {},
     "outputs": [],
     "prompt_number": 32
    },
    {
     "cell_type": "code",
     "collapsed": false,
     "input": [
      "Vshort = ones(length(g_Scomp));"
     ],
     "language": "python",
     "metadata": {},
     "outputs": [],
     "prompt_number": 33
    },
    {
     "cell_type": "code",
     "collapsed": false,
     "input": [
      "Aopt = gaussSeidel!(Qlist, Vshort,1.2)# at /home/zouhair/Dropbox/Research/autoATC/CTMDP.jl:268\n",
      "Vshort"
     ],
     "language": "python",
     "metadata": {},
     "outputs": [
      {
       "output_type": "stream",
       "stream": "stdout",
       "text": [
        "At iteration #5"
       ]
      },
      {
       "output_type": "stream",
       "stream": "stdout",
       "text": [
        " (101.88 sec)\n",
        "At iteration #"
       ]
      },
      {
       "output_type": "stream",
       "stream": "stdout",
       "text": [
        "10 (206.78 sec)\n",
        "At iteration #"
       ]
      },
      {
       "output_type": "stream",
       "stream": "stdout",
       "text": [
        "15 (298.70 sec)\n",
        "At iteration #"
       ]
      },
      {
       "output_type": "stream",
       "stream": "stdout",
       "text": [
        "20 (378.68 sec)\n",
        "Stopping after "
       ]
      },
      {
       "output_type": "stream",
       "stream": "stdout",
       "text": [
        "21 iterations (maxVchange = 0.71)\n",
        "elapsed time: 396.179141316 seconds (32192134388 bytes allocated, 13.98% gc time)\n"
       ]
      },
      {
       "metadata": {},
       "output_type": "pyout",
       "prompt_number": 34,
       "text": [
        "27405-element Array{Float64,1}:\n",
        "  -71.5136 \n",
        "  -96.0319 \n",
        "  -52.867  \n",
        "  -49.9369 \n",
        "  -49.9538 \n",
        "  -50.4722 \n",
        "  -57.051  \n",
        "  -59.4049 \n",
        "  -49.9517 \n",
        "  -49.9672 \n",
        "  -50.4878 \n",
        "  -57.0649 \n",
        "  -54.3043 \n",
        "    \u22ee      \n",
        "   -8.78317\n",
        "  -18.0367 \n",
        "  -43.1223 \n",
        "   -2.36677\n",
        "   -7.54136\n",
        "  -21.8241 \n",
        "  -77.1502 \n",
        "   -1.88741\n",
        "   -5.82039\n",
        "  -20.9792 \n",
        "  -76.7654 \n",
        " -164.86   "
       ]
      }
     ],
     "prompt_number": 34
    },
    {
     "cell_type": "code",
     "collapsed": false,
     "input": [
      "unique(Aopt)"
     ],
     "language": "python",
     "metadata": {},
     "outputs": [
      {
       "metadata": {},
       "output_type": "pyout",
       "prompt_number": 35,
       "text": [
        "13-element Array{Array{Int64,1},1}:\n",
        " [0,0]\n",
        " [4,1]\n",
        " [4,2]\n",
        " [3,1]\n",
        " [3,2]\n",
        " [3,3]\n",
        " [4,3]\n",
        " [2,2]\n",
        " [2,1]\n",
        " [2,3]\n",
        " [1,2]\n",
        " [1,1]\n",
        " [1,3]"
       ]
      }
     ],
     "prompt_number": 35
    },
    {
     "cell_type": "code",
     "collapsed": false,
     "input": [
      "popo = [CIDX2S(cidx) => policy_S2a(CIDX2S(cidx),Aopt) for cidx in find(x-> x != g_noaction, Aopt)]"
     ],
     "language": "python",
     "metadata": {},
     "outputs": [
      {
       "metadata": {},
       "output_type": "pyout",
       "prompt_number": 36,
       "text": [
        "Dict{Array{Symbol,1},Union((Int64,Any),Array{Int64,1})} with 27405 entries:\n",
        "  [:R,:LB1,:U2,:LD0]      => (3,:RX2)\n",
        "  [:LX1,:LX1,:RD0,:RArr]  => (4,:RD3)\n",
        "  [:RD2,:LX2,:LX2,:RX2]   => (0,:\u2205)\n",
        "  [:R,:LB1,:RX1,:LDep]    => (0,:\u2205)\n",
        "  [:U1,:LD2,:RX2,:RArr]   => (1,:U2)\n",
        "  [:LD1,:LD2,:LD3,:RX2]   => (2,:LB1)\n",
        "  [:LD1,:F0,:F0,:LArr]    => (4,:LD3)\n",
        "  [:F1,:LD0,:LB2,:LArr]   => (4,:LD2)\n",
        "  [:R,:LB1,:LD3,:RD0]     => (0,:\u2205)\n",
        "  [:LB1,:RX1,:LD3,:RD3]   => (0,:\u2205)\n",
        "  [:F1,:F1,:F1,:RD2]      => (4,:RD3)\n",
        "  [:T,:LB1,:LX2,:LArr]    => (4,:LD3)\n",
        "  [:LB1,:RX1,:RD1,:LD0]   => (0,:\u2205)\n",
        "  [:T,:LX2,:LD0,:RDep]    => (0,:\u2205)\n",
        "  [:RX1,:RX1,:U2,:RD0]    => (3,:LX2)\n",
        "  [:T,:LD2,:GO,:LDep]     => (0,:\u2205)\n",
        "  [:RD2,:LD0,:RD3,:RDep]  => (1,:RB1)\n",
        "  [:LD1,:LD2,:LB1,:RD0]   => (2,:LD3)\n",
        "  [:LX1,:LX1,:F0,:RB2]    => (0,:\u2205)\n",
        "  [:LX1,:LD2,:LD3,:LArr]  => (2,:LB1)\n",
        "  [:LD2,:RD1,:LArr,:RDep] => (3,:LD3)\n",
        "  [:LX1,:RD1,:RD1,:RB1]   => (0,:\u2205)\n",
        "  [:T,:GO,:GO,:RD3]       => (0,:\u2205)\n",
        "  [:LX1,:LX1,:RX1,:LD3]   => (0,:\u2205)\n",
        "  [:LD1,:F1,:RArr,:RArr]  => (0,:\u2205)\n",
        "  \u22ee                       => \u22ee"
       ]
      }
     ],
     "prompt_number": 36
    },
    {
     "cell_type": "code",
     "collapsed": false,
     "input": [
      "policy_S2a([:R, :U1, :LX1, :RX1], Aopt)"
     ],
     "language": "python",
     "metadata": {},
     "outputs": [
      {
       "metadata": {},
       "output_type": "pyout",
       "prompt_number": 42,
       "text": [
        "(1,:T)"
       ]
      }
     ],
     "prompt_number": 42
    },
    {
     "cell_type": "code",
     "collapsed": false,
     "input": [
      "policy_S2a([:GO, :R], Aopt)"
     ],
     "language": "python",
     "metadata": {},
     "outputs": []
    },
    {
     "cell_type": "code",
     "collapsed": false,
     "input": [
      "for k in keys(popo)\n",
      "    if popo[k] != g_noaction\n",
      "        println(k, popo[k])\n",
      "    end\n",
      "end"
     ],
     "language": "python",
     "metadata": {},
     "outputs": [
      {
       "output_type": "stream",
       "stream": "stdout",
       "text": [
        "[:"
       ]
      },
      {
       "output_type": "stream",
       "stream": "stdout",
       "text": [
        "LD2,:RD3]("
       ]
      },
      {
       "output_type": "stream",
       "stream": "stdout",
       "text": [
        "1,:LB1)\n",
        "[:RB2,:LArr](2,:LD1)\n",
        "[:U1,:RD1](1,:LX1)\n",
        "[:U1,:LX2](1,:RX1)\n",
        "[:F1,:GO](1,:R)\n",
        "[:U2,:RX2](1,:LX2)\n",
        "[:LB2,:RArr](2,:RD1)\n",
        "[:U2,:RD0](1,:LX2)\n",
        "[:RD0,:RArr](2,:RD3)\n",
        "[:LD2,:RB2](1,:LB1)\n",
        "[:RD3,:RArr](2,:RD1)\n",
        "[:U1,:U2](1,:LX1)\n",
        "[:U1,:RX2](1,:LX1)\n",
        "[:LD2,:LB1](1,:LD3)\n",
        "[:LX1,:LArr](2,:LD3)\n",
        "[:RD2,:LD3](1,:RB1)\n",
        "[:LD1,:LArr](2,:LD3)\n",
        "[:RD2,:LB2](1,:RB1)\n",
        "[:U1,:LD2](1,:U2)\n",
        "[:T,:R](2,:U1)\n",
        "[:RD2,:RB2](1,:RB1)\n",
        "[:RD2,:RB1](1,:RD3)\n",
        "[:LD2,:LB2](1,:LB1)\n",
        "[:R,:U1](1,:T)\n",
        "[:LB1,:RD2](2,:RD3)\n",
        "[:U1,:RX1](1,:LX1)\n",
        "[:LX1,:U2](2,:RX2)\n",
        "[:LD1,:U2](2,:RX2)\n",
        "[:RD1,:U2](2,:LX2)\n",
        "[:R,:F1](2,:GO)\n",
        "[:RD1,:RArr](2,:RD3)\n",
        "[:R,:R](1,:U1)\n",
        "[:F0,:LArr](2,:LD1)\n",
        "[:U1,:F1](2,:R)\n",
        "[:LD2,:RB1](1,:LD3)\n",
        "[:LX2,:LArr](2,:LD3)\n",
        "[:LB2,:LArr](2,:LD1)\n",
        "[:U1,:RD2](1,:U2)\n",
        "[:RX1,:RArr](2,:RD3)\n",
        "[:U2,:LD0](1,:RX2)\n",
        "[:F0,:RArr](2,:RD1)\n",
        "[:LD2,:F1](1,:LD3)\n",
        "[:F1,:RD2]("
       ]
      },
      {
       "output_type": "stream",
       "stream": "stdout",
       "text": [
        "2,:RD3)\n",
        "[:LD2,:LArr](2,:LD3)\n",
        "[:LD0,:LArr](2,:LD3)\n",
        "[:U1,:LD0](1,:RX1)\n",
        "[:LD3,:LArr](2,:LD1)\n",
        "[:RX2,:RArr](2,:RD3)\n",
        "[:U1,:LX1](1,:RX1)\n",
        "[:LD2,:LD3](1,:LB1)\n",
        "[:U2,:LX2](1,:RX2)\n",
        "[:RB2,:RArr](2,:RD1)\n",
        "[:U1,:RD0](1,:LX1)\n",
        "[:R,:RDep](1,:U1)\n",
        "[:RX1,:U2](2,:LX2)\n",
        "[:R,:LDep](1,:U1)\n",
        "[:RD2,:RArr](2,:RD3)\n",
        "[:U1,:LD1](1,:RX1)\n",
        "[:RD2,:RD3](1,:RB1)\n",
        "[:R,:GO](1,:T)\n"
       ]
      }
     ],
     "prompt_number": 22
    },
    {
     "cell_type": "code",
     "collapsed": false,
     "input": [],
     "language": "python",
     "metadata": {},
     "outputs": [],
     "prompt_number": 19
    },
    {
     "cell_type": "code",
     "collapsed": false,
     "input": [],
     "language": "python",
     "metadata": {},
     "outputs": [],
     "prompt_number": 20
    },
    {
     "cell_type": "code",
     "collapsed": false,
     "input": [],
     "language": "python",
     "metadata": {},
     "outputs": [],
     "prompt_number": 21
    },
    {
     "cell_type": "code",
     "collapsed": false,
     "input": [
      "\n"
     ],
     "language": "python",
     "metadata": {},
     "outputs": [],
     "prompt_number": 22
    }
   ],
   "metadata": {}
  }
 ]
}