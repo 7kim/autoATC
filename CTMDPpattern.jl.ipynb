{
 "metadata": {
  "language": "Julia",
  "name": "",
  "signature": "sha256:ef5bb3c192a396b0217fbe36f32d0c13f965131cd5853ac7aa53a50a5a85075a"
 },
 "nbformat": 3,
 "nbformat_minor": 0,
 "worksheets": [
  {
   "cells": [
    {
     "cell_type": "code",
     "collapsed": false,
     "input": [
      "include(\"pattern.jl\")"
     ],
     "language": "python",
     "metadata": {},
     "outputs": [
      {
       "metadata": {},
       "output_type": "pyout",
       "prompt_number": 1,
       "text": [
        "plotSim (generic function with 1 method)"
       ]
      }
     ],
     "prompt_number": 1
    },
    {
     "cell_type": "code",
     "collapsed": false,
     "input": [
      "include(\"CTMDP.jl\")"
     ],
     "language": "python",
     "metadata": {},
     "outputs": [
      {
       "metadata": {},
       "output_type": "pyout",
       "prompt_number": 2,
       "text": [
        "sample (generic function with 1 method)"
       ]
      }
     ],
     "prompt_number": 2
    },
    {
     "cell_type": "code",
     "collapsed": false,
     "input": [
      "A = Symbol[:\u2205, :S];\n",
      "function validActions(s)\n",
      "    return [g_noaction, collect(product(1:g_nVehicles, [:S]))]   \n",
      "end\n",
      "Aj = Vector{Symbol}[ [a, [:\u2205 for i in 1:(g_nVehicles-1)]] for a in A ];"
     ],
     "language": "python",
     "metadata": {},
     "outputs": [],
     "prompt_number": 3
    },
    {
     "cell_type": "code",
     "collapsed": false,
     "input": [
      "P0 = spzeros(g_nNodes, g_nNodes);\n",
      "for x in 1:g_nNodes\n",
      "    s = x2s(x)\n",
      "    for sp in NextStates[s]\n",
      "        xp = s2x(sp)\n",
      "        P0[x,xp] = Transition([s], g_noaction, [sp])        \n",
      "    end\n",
      "end"
     ],
     "language": "python",
     "metadata": {},
     "outputs": [],
     "prompt_number": 4
    },
    {
     "cell_type": "code",
     "collapsed": false,
     "input": [
      "M0 = speye(g_nNodes)\n",
      "for x in 1:g_nNodes\n",
      "    s = x2s(x)\n",
      "    M0[x,x] = 1./teaTime[s]\n",
      "end"
     ],
     "language": "python",
     "metadata": {},
     "outputs": [],
     "prompt_number": 5
    },
    {
     "cell_type": "code",
     "collapsed": false,
     "input": [
      "M = (Symbol => typeof(M0))[a => copy(M0) for a in [:\u2205, :S]];\n",
      "M[:S] *= 0.5;  #Slower means longer lingering time, i.e. lower reciprocals\n"
     ],
     "language": "python",
     "metadata": {},
     "outputs": [
      {
       "metadata": {},
       "output_type": "pyout",
       "prompt_number": 6,
       "text": [
        "27x27 sparse matrix with 27 Float64 entries:\n",
        "\t[1 ,  1]  =  0.1\n",
        "\t[2 ,  2]  =  1.0\n",
        "\t[3 ,  3]  =  0.5\n",
        "\t[4 ,  4]  =  1.0\n",
        "\t[5 ,  5]  =  0.333333\n",
        "\t[6 ,  6]  =  0.333333\n",
        "\t[7 ,  7]  =  1.0\n",
        "\t[8 ,  8]  =  0.5\n",
        "\t[9 ,  9]  =  1.0\n",
        "\t[10, 10]  =  0.333333\n",
        "\t\u22ee\n",
        "\t[17, 17]  =  0.25\n",
        "\t[18, 18]  =  1.0\n",
        "\t[19, 19]  =  0.25\n",
        "\t[20, 20]  =  1.0\n",
        "\t[21, 21]  =  0.25\n",
        "\t[22, 22]  =  0.25\n",
        "\t[23, 23]  =  1.0\n",
        "\t[24, 24]  =  0.05\n",
        "\t[25, 25]  =  0.25\n",
        "\t[26, 26]  =  0.05\n",
        "\t[27, 27]  =  0.25"
       ]
      }
     ],
     "prompt_number": 6
    },
    {
     "cell_type": "code",
     "collapsed": false,
     "input": [
      "Isp = spdiagm(ones(g_nNodes));"
     ],
     "language": "python",
     "metadata": {},
     "outputs": [],
     "prompt_number": 7
    },
    {
     "cell_type": "code",
     "collapsed": false,
     "input": [
      "#Note that we are using the TRANSPOSE!!\n",
      "Qt = (Symbol => typeof(M0))[ a => (M[a]*(P0 - Isp))' for a in [:\u2205, :S]];"
     ],
     "language": "python",
     "metadata": {},
     "outputs": [],
     "prompt_number": 8
    },
    {
     "cell_type": "code",
     "collapsed": false,
     "input": [
      "Qt_joint = (Vector{Symbol} => typeof(M0))[ a => kronSum([Qt[an] for an in a]) for a in Aj]"
     ],
     "language": "python",
     "metadata": {},
     "outputs": [
      {
       "metadata": {},
       "output_type": "pyout",
       "prompt_number": 9,
       "text": [
        "Dict{Array{Symbol,1},SparseMatrixCSC{Float64,Int64}} with 2 entries:\n",
        "  [:\u2205,:\u2205,:\u2205,:\u2205] => \u2026\n",
        "  [:S,:\u2205,:\u2205,:\u2205] => \u2026"
       ]
      }
     ],
     "prompt_number": 9
    },
    {
     "cell_type": "code",
     "collapsed": false,
     "input": [
      "sizeof(Qt_joint[Aj[2]].nzval)/1e6"
     ],
     "language": "python",
     "metadata": {},
     "outputs": [
      {
       "metadata": {},
       "output_type": "pyout",
       "prompt_number": 12,
       "text": [
        "29.445768"
       ]
      }
     ],
     "prompt_number": 12
    },
    {
     "cell_type": "code",
     "collapsed": false,
     "input": [
      "function r(X::XType, a::typeof(g_noaction))\n",
      "  return Reward(X2S(X), a, 0.)\n",
      "end"
     ],
     "language": "python",
     "metadata": {},
     "outputs": [
      {
       "metadata": {},
       "output_type": "pyout",
       "prompt_number": 13,
       "text": [
        "r (generic function with 1 method)"
       ]
      }
     ],
     "prompt_number": 13
    },
    {
     "cell_type": "code",
     "collapsed": false,
     "input": [
      "Vshort = ones(length(g_Scomp));"
     ],
     "language": "python",
     "metadata": {},
     "outputs": [],
     "prompt_number": 14
    },
    {
     "cell_type": "code",
     "collapsed": false,
     "input": [
      "Aopt = gaussSeidel!(Vshort,1.2)# at /home/zouhair/Dropbox/Research/autoATC/CTMDP.jl:268\n",
      "Vshort"
     ],
     "language": "python",
     "metadata": {},
     "outputs": [
      {
       "output_type": "stream",
       "stream": "stdout",
       "text": [
        "Stopping after 20"
       ]
      },
      {
       "output_type": "stream",
       "stream": "stdout",
       "text": [
        " iterations (maxVchange = 0.84)\n",
        "elapsed time: 90.674047895 seconds (27353249324 bytes allocated, 18.13% gc time)\n"
       ]
      },
      {
       "metadata": {},
       "output_type": "pyout",
       "prompt_number": 16,
       "text": [
        "27405-element Array{Float64,1}:\n",
        "  -73.6689 \n",
        " -104.263  \n",
        "  -71.6481 \n",
        "  -51.4684 \n",
        "  -51.1607 \n",
        "  -52.2064 \n",
        "  -67.6697 \n",
        "  -75.8945 \n",
        "  -51.4992 \n",
        "  -51.1867 \n",
        "  -52.2328 \n",
        "  -67.7007 \n",
        "  -71.1499 \n",
        "    \u22ee      \n",
        "  -20.6878 \n",
        "  -27.85   \n",
        "  -60.7616 \n",
        "   -1.85457\n",
        "   -7.1103 \n",
        "  -31.2741 \n",
        "  -89.583  \n",
        "   -2.63462\n",
        "   -8.90837\n",
        "  -34.6558 \n",
        "  -93.1337 \n",
        " -181.311  "
       ]
      }
     ],
     "prompt_number": 16
    },
    {
     "cell_type": "code",
     "collapsed": false,
     "input": [
      "unique(Aopt)"
     ],
     "language": "python",
     "metadata": {},
     "outputs": [
      {
       "metadata": {},
       "output_type": "pyout",
       "prompt_number": 18,
       "text": [
        "5-element Array{(Int64,Symbol),1}:\n",
        " (1,:S)\n",
        " (4,:S)\n",
        " (3,:S)\n",
        " (2,:S)\n",
        " (0,:\u2205)"
       ]
      }
     ],
     "prompt_number": 18
    },
    {
     "cell_type": "code",
     "collapsed": false,
     "input": [
      "[(CIDX2S(cidx), policy_S2a(CIDX2S(cidx),Aopt)) for cidx in find(x-> x != g_noaction, Aopt)]"
     ],
     "language": "python",
     "metadata": {},
     "outputs": [
      {
       "metadata": {},
       "output_type": "pyout",
       "prompt_number": 19,
       "text": [
        "26854-element Array{(Array{Symbol,1},(Int64,Symbol)),1}:\n",
        " ([:T,:T,:T,:T],(1,:S))            \n",
        " ([:T,:T,:T,:R],(1,:S))            \n",
        " ([:T,:T,:T,:U1],(1,:S))           \n",
        " ([:T,:T,:T,:LX1],(1,:S))          \n",
        " ([:T,:T,:T,:LD1],(1,:S))          \n",
        " ([:T,:T,:T,:LD2],(4,:S))          \n",
        " ([:T,:T,:T,:LB1],(4,:S))          \n",
        " ([:T,:T,:T,:F1],(4,:S))           \n",
        " ([:T,:T,:T,:RX1],(1,:S))          \n",
        " ([:T,:T,:T,:RD1],(1,:S))          \n",
        " ([:T,:T,:T,:RD2],(4,:S))          \n",
        " ([:T,:T,:T,:RB1],(4,:S))          \n",
        " ([:T,:T,:T,:GO],(1,:S))           \n",
        " \u22ee                                 \n",
        " ([:LArr,:LArr,:RDep,:RDep],(1,:S))\n",
        " ([:LArr,:LArr,:RDep,:RArr],(1,:S))\n",
        " ([:LArr,:LArr,:RArr,:RArr],(4,:S))\n",
        " ([:LArr,:RDep,:RDep,:RDep],(2,:S))\n",
        " ([:LArr,:RDep,:RDep,:RArr],(2,:S))\n",
        " ([:LArr,:RDep,:RArr,:RArr],(3,:S))\n",
        " ([:LArr,:RArr,:RArr,:RArr],(4,:S))\n",
        " ([:RDep,:RDep,:RDep,:RDep],(1,:S))\n",
        " ([:RDep,:RDep,:RDep,:RArr],(1,:S))\n",
        " ([:RDep,:RDep,:RArr,:RArr],(3,:S))\n",
        " ([:RDep,:RArr,:RArr,:RArr],(2,:S))\n",
        " ([:RArr,:RArr,:RArr,:RArr],(1,:S))"
       ]
      }
     ],
     "prompt_number": 19
    },
    {
     "cell_type": "code",
     "collapsed": false,
     "input": [],
     "language": "python",
     "metadata": {},
     "outputs": [],
     "prompt_number": 16
    },
    {
     "cell_type": "code",
     "collapsed": false,
     "input": [],
     "language": "python",
     "metadata": {},
     "outputs": [],
     "prompt_number": 17
    },
    {
     "cell_type": "code",
     "collapsed": false,
     "input": [],
     "language": "python",
     "metadata": {},
     "outputs": [],
     "prompt_number": 18
    },
    {
     "cell_type": "code",
     "collapsed": false,
     "input": [],
     "language": "python",
     "metadata": {},
     "outputs": [],
     "prompt_number": 19
    },
    {
     "cell_type": "code",
     "collapsed": false,
     "input": [],
     "language": "python",
     "metadata": {},
     "outputs": [],
     "prompt_number": 20
    },
    {
     "cell_type": "code",
     "collapsed": false,
     "input": [],
     "language": "python",
     "metadata": {},
     "outputs": [],
     "prompt_number": 21
    },
    {
     "cell_type": "code",
     "collapsed": false,
     "input": [
      "\n"
     ],
     "language": "python",
     "metadata": {},
     "outputs": [],
     "prompt_number": 22
    }
   ],
   "metadata": {}
  }
 ]
}