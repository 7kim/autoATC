{
 "metadata": {
  "name": "",
  "signature": "sha256:175e07667d82ee66776ac68a5a462fb59bab3a1c8a69bbc34713f0da43bc8706"
 },
 "nbformat": 3,
 "nbformat_minor": 0,
 "worksheets": []
}