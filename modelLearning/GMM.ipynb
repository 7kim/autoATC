{
 "metadata": {
  "name": "",
  "signature": "sha256:19842e171df489de6f167bea3ac527e920cbab3e57c3e1f38b6fcf3f72d6fa3e"
 },
 "nbformat": 3,
 "nbformat_minor": 0,
 "worksheets": [
  {
   "cells": [
    {
     "cell_type": "code",
     "collapsed": false,
     "input": [
      "import itertools\n",
      "\n",
      "import numpy as np\n",
      "from scipy import linalg\n",
      "import matplotlib.pyplot as plt\n",
      "import matplotlib as mpl\n",
      "\n",
      "from sklearn import mixture"
     ],
     "language": "python",
     "metadata": {},
     "outputs": [],
     "prompt_number": 12
    },
    {
     "cell_type": "code",
     "collapsed": false,
     "input": [
      "%matplotlib inline\n",
      "%config InlineBackend.figure_format = 'png'"
     ],
     "language": "python",
     "metadata": {},
     "outputs": [],
     "prompt_number": 43
    },
    {
     "cell_type": "code",
     "collapsed": false,
     "input": [
      "import scipy.io"
     ],
     "language": "python",
     "metadata": {},
     "outputs": [],
     "prompt_number": 14
    },
    {
     "cell_type": "code",
     "collapsed": false,
     "input": [
      "x = scipy.io.loadmat(\"turning_points_sim_v7.3.mat\")\n",
      "X2 = x['X'].transpose()"
     ],
     "language": "python",
     "metadata": {},
     "outputs": [],
     "prompt_number": 15
    },
    {
     "cell_type": "code",
     "collapsed": false,
     "input": [
      "tmp = np.copy(X2[:, 0])\n",
      "X2[:, 0] = X2[:, 1]\n",
      "X2[:, 1] = tmp"
     ],
     "language": "python",
     "metadata": {},
     "outputs": [],
     "prompt_number": 16
    },
    {
     "cell_type": "code",
     "collapsed": false,
     "input": [
      "# Number of samples per component\n",
      "n_samples = 500\n",
      "\n",
      "# Generate random sample, two components\n",
      "np.random.seed(0)\n",
      "C = np.array([[0., -0.1], [1.7, .4]])\n",
      "X = np.r_[np.dot(np.random.randn(n_samples, 2), C),\n",
      "          .7 * np.random.randn(n_samples, 2) + np.array([-6, 3])]\n",
      "X = X2"
     ],
     "language": "python",
     "metadata": {},
     "outputs": [],
     "prompt_number": 17
    },
    {
     "cell_type": "code",
     "collapsed": false,
     "input": [
      "X.shape"
     ],
     "language": "python",
     "metadata": {},
     "outputs": [
      {
       "metadata": {},
       "output_type": "pyout",
       "prompt_number": 18,
       "text": [
        "(605, 2)"
       ]
      }
     ],
     "prompt_number": 18
    },
    {
     "cell_type": "code",
     "collapsed": false,
     "input": [
      "# Fit a mixture of Gaussians with EM using five components\n",
      "gmm = mixture.GMM(n_components=17, covariance_type='spherical', min_covar=2000, n_init=30)\n",
      "gmm.fit(X)\n",
      "\n",
      "# Fit a Dirichlet process mixture of Gaussians using five components\n",
      "# dpgmm = mixture.DPGMM(n_components=20, covariance_type='tied')\n",
      "# dpgmm.fit(X)"
     ],
     "language": "python",
     "metadata": {},
     "outputs": [
      {
       "metadata": {},
       "output_type": "pyout",
       "prompt_number": 97,
       "text": [
        "GMM(covariance_type='spherical', init_params='wmc', min_covar=2000,\n",
        "  n_components=17, n_init=30, n_iter=100, params='wmc', random_state=None,\n",
        "  thresh=None, tol=0.001)"
       ]
      }
     ],
     "prompt_number": 97
    },
    {
     "cell_type": "code",
     "collapsed": false,
     "input": [
      "Ncolors = len(gmm.means_)\n",
      "color_iter = itertools.cycle([plt.cm.hsv(a/float(Ncolors)) for a in range(Ncolors)])\n",
      "\n",
      "#color_iter = itertools.cycle(['r', 'g', 'b', 'c', 'm', 'y'])\n",
      "\n",
      "clf = gmm\n",
      "title = 'GMM'\n",
      "\n",
      "\n",
      "splot = plt.gca()\n",
      "\n",
      "\n",
      "Y_ = clf.predict(X)\n",
      "for i, (mean, covar, color) in enumerate(zip(\n",
      "        clf.means_, clf._get_covars(), color_iter)):\n",
      "    v, w = linalg.eigh(covar)\n",
      "    u = w[0] / linalg.norm(w[0])\n",
      "\n",
      "    #v[0] = np.sqrt(v[0]); v[1] = np.sqrt(v[1])\n",
      "    v = 2*np.sqrt(5.991*v)\n",
      "\n",
      "    # as the DP will not use every component it has access to\n",
      "    # unless it needs it, we shouldn't plot the redundant\n",
      "    # components.\n",
      "    if not np.any(Y_ == i):\n",
      "        continue\n",
      "    plt.scatter(X[Y_ == i, 0], X[Y_ == i, 1], .8, color=color)\n",
      "\n",
      "    v2 = v\n",
      "\n",
      "    # Plot an ellipse to show the Gaussian component\n",
      "    angle = np.arctan(u[1] / u[0]) * 180 / np.pi # convert to degrees\n",
      "\n",
      "    ell = mpl.patches.Ellipse(mean, v2[0], v2[1], 180 + angle, color=color)\n",
      "    ell.set_clip_box(splot.bbox)\n",
      "    ell.set_alpha(0.3)\n",
      "    splot.add_artist(ell)\n",
      "\n",
      "#plt.xlim(-10000, 15000)\n",
      "#plt.ylim(-8000, 8000)\n",
      "#plt.xticks(())\n",
      "#plt.yticks(())\n",
      "plt.title(title)\n",
      "plt.grid('on')\n",
      "\n",
      "plt.show()"
     ],
     "language": "python",
     "metadata": {},
     "outputs": [
      {
       "metadata": {},
       "output_type": "display_data",
       "png": "[encoded data removed]",
       "text": [
        "<matplotlib.figure.Figure at 0x7f7428c4e350>"
       ]
      }
     ],
     "prompt_number": 98
    },
    {
     "cell_type": "code",
     "collapsed": false,
     "input": [
      "gmm.predict_proba(10000*X[1,:])"
     ],
     "language": "python",
     "metadata": {},
     "outputs": [
      {
       "metadata": {},
       "output_type": "pyout",
       "prompt_number": 102,
       "text": [
        "array([[ 0.,  0.,  0.,  0.,  1.,  0.,  0.,  0.,  0.,  0.,  0.,  0.,  0.,\n",
        "         0.,  0.,  0.,  0.]])"
       ]
      }
     ],
     "prompt_number": 102
    },
    {
     "cell_type": "code",
     "collapsed": false,
     "input": [],
     "language": "python",
     "metadata": {},
     "outputs": [],
     "prompt_number": 20
    }
   ],
   "metadata": {}
  }
 ]
}