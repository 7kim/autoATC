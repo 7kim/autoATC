{
 "metadata": {
  "language": "Julia",
  "name": "",
  "signature": "sha256:e022a289504ca020c2abc80a435feb5e84e13b80fda9f3546532654eb5276449"
 },
 "nbformat": 3,
 "nbformat_minor": 0,
 "worksheets": [
  {
   "cells": [
    {
     "cell_type": "code",
     "collapsed": false,
     "input": [
      "include(\"kronfun.jl\")"
     ],
     "language": "python",
     "metadata": {},
     "outputs": [
      {
       "metadata": {},
       "output_type": "pyout",
       "prompt_number": 1,
       "text": [
        "Qi_lazy (generic function with 1 method)"
       ]
      }
     ],
     "prompt_number": 1
    },
    {
     "cell_type": "code",
     "collapsed": false,
     "input": [
      "A = sprand(40,40,5/40.); B = sprand(40,40,5/30.);"
     ],
     "language": "python",
     "metadata": {},
     "outputs": [],
     "prompt_number": 10
    },
    {
     "cell_type": "code",
     "collapsed": false,
     "input": [
      "@time Qfast = Qi(A,B, 5, 3);\n",
      "if(size(A,1) <= 10)\n",
      "    @time Qlazy = Qi_lazy(A,B, 5, 3);\n",
      "    assert(Qfast == Qlazy)\n",
      "end"
     ],
     "language": "python",
     "metadata": {},
     "outputs": [
      {
       "output_type": "stream",
       "stream": "stdout",
       "text": [
        "elapsed time: 5"
       ]
      },
      {
       "output_type": "stream",
       "stream": "stdout",
       "text": [
        ".5803e-5 seconds (10416 bytes allocated)\n"
       ]
      }
     ],
     "prompt_number": 11
    },
    {
     "cell_type": "code",
     "collapsed": false,
     "input": [
      "Qfast"
     ],
     "language": "python",
     "metadata": {},
     "outputs": [
      {
       "metadata": {},
       "output_type": "pyout",
       "prompt_number": 12,
       "text": [
        "4096000000x1 sparse matrix with 26 Float64 entries:\n",
        "\t[3         ,          1]  =  0.721816\n",
        "\t[5         ,          1]  =  0.352545\n",
        "\t[13        ,          1]  =  0.0365963\n",
        "\t[20        ,          1]  =  0.0200461\n",
        "\t[29        ,          1]  =  0.0471669\n",
        "\t[38        ,          1]  =  0.733921\n",
        "\t[123       ,          1]  =  0.799741\n",
        "\t[763       ,          1]  =  0.504704\n",
        "\t[883       ,          1]  =  0.941186\n",
        "\t[1523      ,          1]  =  0.33298\n",
        "\t\u22ee\n",
        "\t[1216003   ,          1]  =  0.504704\n",
        "\t[1408003   ,          1]  =  0.941186\n",
        "\t[2432003   ,          1]  =  0.33298\n",
        "\t[7680003   ,          1]  =  0.799741\n",
        "\t[48640003  ,          1]  =  0.504704\n",
        "\t[56320003  ,          1]  =  0.941186\n",
        "\t[97280003  ,          1]  =  0.33298\n",
        "\t[409600003 ,          1]  =  0.0832415\n",
        "\t[512000003 ,          1]  =  0.239631\n",
        "\t[1433600003,          1]  =  0.48564\n",
        "\t[3686400003,          1]  =  0.286847"
       ]
      }
     ],
     "prompt_number": 12
    },
    {
     "cell_type": "code",
     "collapsed": false,
     "input": [],
     "language": "python",
     "metadata": {},
     "outputs": []
    }
   ],
   "metadata": {}
  }
 ]
}