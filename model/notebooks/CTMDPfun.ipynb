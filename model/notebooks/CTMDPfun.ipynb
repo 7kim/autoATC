{
 "metadata": {
  "language": "Julia",
  "name": "",
  "signature": "sha256:16a51d4cc7b850014f512d7b4064257e53cfc4e1b21befa5862958d52fa0a5d4"
 },
 "nbformat": 3,
 "nbformat_minor": 0,
 "worksheets": [
  {
   "cells": [
    {
     "cell_type": "code",
     "collapsed": false,
     "input": [
      "const g_noaction = (0, :\u2205);\n",
      "const g_nullAct = [0,0];\n",
      "\n",
      "const g_allstates = (Symbol)[:A, :B, :C];\n",
      "const g_sn = (Symbol => Int64)[g_allstates[idx] => idx for idx in 1:length(g_allstates)]\n",
      "\n"
     ],
     "language": "python",
     "metadata": {},
     "outputs": [
      {
       "metadata": {},
       "output_type": "pyout",
       "prompt_number": 1,
       "text": [
        "Dict{Symbol,Int64} with 3 entries:\n",
        "  :A => 1\n",
        "  :B => 2\n",
        "  :C => 3"
       ]
      }
     ],
     "prompt_number": 1
    },
    {
     "cell_type": "code",
     "collapsed": false,
     "input": [
      "include(\"CTMDP.jl\")"
     ],
     "language": "python",
     "metadata": {},
     "outputs": [
      {
       "metadata": {},
       "output_type": "pyout",
       "prompt_number": 2,
       "text": [
        "sample (generic function with 1 method)"
       ]
      }
     ],
     "prompt_number": 2
    },
    {
     "cell_type": "code",
     "collapsed": false,
     "input": [
      "NextStates = [:A => [:C], :B => [:C], :C => [:A, :B]]"
     ],
     "language": "python",
     "metadata": {},
     "outputs": [
      {
       "metadata": {},
       "output_type": "pyout",
       "prompt_number": 3,
       "text": [
        "Dict{Symbol,Array{Symbol,1}} with 3 entries:\n",
        "  :A => [:C]\n",
        "  :B => [:C]\n",
        "  :C => [:A,:B]"
       ]
      }
     ],
     "prompt_number": 3
    },
    {
     "cell_type": "code",
     "collapsed": false,
     "input": [
      "function Transition(s, a, sp)\n",
      "    if sp in NextStates[s]\n",
      "        if a == 0 || a > length(NextStates[s])\n",
      "            return 1/length(NextStates[s])\n",
      "        else\n",
      "            return NextStates[s][a] == sp\n",
      "        end\n",
      "    else\n",
      "        return 0\n",
      "    end\n",
      "end"
     ],
     "language": "python",
     "metadata": {},
     "outputs": [
      {
       "metadata": {},
       "output_type": "pyout",
       "prompt_number": 7,
       "text": [
        "Transition (generic function with 1 method)"
       ]
      }
     ],
     "prompt_number": 7
    },
    {
     "cell_type": "code",
     "collapsed": false,
     "input": [
      "amax = maximum([length( NextStates[s]) for s in keys(NextStates)]);\n",
      "A = (Int64)[0:amax];\n",
      "Aj = (Vector{Int64})[[a, [0 for i in 1:(g_nVehicles-1)]] for a in A ];"
     ],
     "language": "python",
     "metadata": {},
     "outputs": [],
     "prompt_number": 5
    },
    {
     "cell_type": "code",
     "collapsed": false,
     "input": [
      "P0 = spzeros(g_nNodes, g_nNodes);\n",
      "P = (typeof(P0))[copy(P0) for a in A]\n",
      "\n",
      "for a in A\n",
      "    for x in 1:g_nNodes\n",
      "        s = x2s(x)\n",
      "        for sp in NextStates[s]\n",
      "            xp = s2x(sp)\n",
      "            P[a+1][x,xp] = Transition(s, a, sp)        \n",
      "        end\n",
      "    end\n",
      "end"
     ],
     "language": "python",
     "metadata": {},
     "outputs": [],
     "prompt_number": 16
    },
    {
     "cell_type": "code",
     "collapsed": false,
     "input": [
      "M0 = spdiagm([1.,1.,1.]);\n",
      "Isp = spdiagm(ones(g_nNodes));"
     ],
     "language": "python",
     "metadata": {},
     "outputs": [],
     "prompt_number": 30
    },
    {
     "cell_type": "code",
     "collapsed": false,
     "input": [
      "Qlist = (typeof(M0))[(M0*(P[a+1] - Isp)) for a in A];"
     ],
     "language": "python",
     "metadata": {},
     "outputs": [],
     "prompt_number": 31
    },
    {
     "cell_type": "code",
     "collapsed": false,
     "input": [
      "full(Qlist[1])"
     ],
     "language": "python",
     "metadata": {},
     "outputs": [
      {
       "metadata": {},
       "output_type": "pyout",
       "prompt_number": 32,
       "text": [
        "3x3 Array{Float64,2}:\n",
        " -1.0   0.0   1.0\n",
        "  0.0  -1.0   1.0\n",
        "  0.5   0.5  -1.0"
       ]
      }
     ],
     "prompt_number": 32
    },
    {
     "cell_type": "code",
     "collapsed": false,
     "input": [
      "rng = MersenneTwister()\n",
      "function weightedChoice(weights)\n",
      "    rnd = rand(rng) * sum(weights)\n",
      "    for (i, w) in enumerate(weights)\n",
      "        rnd -= w\n",
      "        if rnd < 0\n",
      "            return i\n",
      "        end\n",
      "    end\n",
      "end"
     ],
     "language": "python",
     "metadata": {},
     "outputs": [
      {
       "metadata": {},
       "output_type": "pyout",
       "prompt_number": 35,
       "text": [
        "weightedChoice (generic function with 1 method)"
       ]
      }
     ],
     "prompt_number": 35
    },
    {
     "cell_type": "code",
     "collapsed": false,
     "input": [
      "#Simple MDP simulation\n",
      "X = [1, 2]\n",
      "\n",
      "function sampleMDP(P, X0,N=50)\n",
      "    Xhist = typeof(X0)[copy(X0)]\n",
      "    for t in 1:N\n",
      "        X = copy(Xhist[end])\n",
      "        for x_idx in 1:length(X)\n",
      "            x = X[x_idx]\n",
      "            X[x_idx] = weightedChoice(P[x,:])\n",
      "        end\n",
      "        push!(Xhist, X)\n",
      "    end\n",
      "    return Xhist\n",
      "end\n",
      "\n",
      "\n",
      "\n",
      "function sampleCTMDP(X0,N=50, dt=1)\n",
      "    Qs = expm(full(Qlist[1]*dt))\n",
      "    \n",
      "    return sampleMDP(Qs, X0, N)    \n",
      "end"
     ],
     "language": "python",
     "metadata": {},
     "outputs": [
      {
       "metadata": {},
       "output_type": "pyout",
       "prompt_number": 139,
       "text": [
        "sampleCTMDP (generic function with 3 methods)"
       ]
      }
     ],
     "prompt_number": 139
    },
    {
     "cell_type": "code",
     "collapsed": false,
     "input": [
      "using PyPlot"
     ],
     "language": "python",
     "metadata": {},
     "outputs": [
      {
       "output_type": "stream",
       "stream": "stderr",
       "text": [
        "INFO: Loading help data...\n",
        "Warning: using PyPlot.plot in module Main conflicts with an existing identifier.\n",
        "Warning: using PyPlot.yticks in module Main conflicts with an existing identifier.\n"
       ]
      }
     ],
     "prompt_number": 73
    },
    {
     "cell_type": "code",
     "collapsed": false,
     "input": [
      "function Xplot(stateHist,tscale = 1)\n",
      "    N = length(stateHist)\n",
      "    PyPlot.step((1:N)*tscale,[x[1] for x in stateHist])\n",
      "    PyPlot.step((1:N)*tscale,[x[2] for x in stateHist]) \n",
      "    PyPlot.ylim([0,4])\n",
      "    PyPlot.yticks(1:length(g_allstates), [string(s) for s in g_allstates])\n",
      "    PyPlot.grid(\"on\")\n",
      "end"
     ],
     "language": "python",
     "metadata": {},
     "outputs": [
      {
       "metadata": {},
       "output_type": "pyout",
       "prompt_number": 132,
       "text": [
        "Xplot (generic function with 2 methods)"
       ]
      }
     ],
     "prompt_number": 132
    },
    {
     "cell_type": "code",
     "collapsed": false,
     "input": [
      "XmdpHist = sampleMDP(P[1],[1,1],25)\n",
      "Xplot(XmdpHist)"
     ],
     "language": "python",
     "metadata": {},
     "outputs": [
      {
       "metadata": {},
       "output_type": "display_data",
       "png": "[encoded data removed]",
       "text": [
        "Figure(PyObject <matplotlib.figure.Figure object at 0x7f56134d3bd0>)"
       ]
      }
     ],
     "prompt_number": 143
    },
    {
     "cell_type": "code",
     "collapsed": false,
     "input": [
      "XctmdpHist1 = sampleCTMDP([1,1],50,  0.1);\n",
      "XctmdpHist2 = sampleCTMDP([1,1],50*2,0.05);"
     ],
     "language": "python",
     "metadata": {},
     "outputs": [],
     "prompt_number": 150
    },
    {
     "cell_type": "code",
     "collapsed": false,
     "input": [
      "Xplot(XctmdpHist1, 0.1)\n",
      "#Xplot(XctmdpHist2, 0.05)"
     ],
     "language": "python",
     "metadata": {},
     "outputs": [
      {
       "metadata": {},
       "output_type": "display_data",
       "png": "[encoded data removed]",
       "text": [
        "Figure(PyObject <matplotlib.figure.Figure object at 0x7f56136ac250>)"
       ]
      }
     ],
     "prompt_number": 151
    },
    {
     "cell_type": "code",
     "collapsed": false,
     "input": [
      "expm(full(Qlist[1]*.1))"
     ],
     "language": "python",
     "metadata": {},
     "outputs": [
      {
       "metadata": {},
       "output_type": "pyout",
       "prompt_number": 122,
       "text": [
        "3x3 Array{Float64,2}:\n",
        " 0.907101    0.00226398  0.0906346\n",
        " 0.00226398  0.907101    0.0906346\n",
        " 0.0453173   0.0453173   0.909365 "
       ]
      }
     ],
     "prompt_number": 122
    },
    {
     "cell_type": "code",
     "collapsed": false,
     "input": [
      "expm"
     ],
     "language": "python",
     "metadata": {},
     "outputs": [
      {
       "metadata": {},
       "output_type": "pyout",
       "prompt_number": 118,
       "text": [
        "3x3 sparse matrix with 7 Float64 entries:\n",
        "\t[1, 1]  =  -1.0\n",
        "\t[3, 1]  =  0.5\n",
        "\t[2, 2]  =  -1.0\n",
        "\t[3, 2]  =  0.5\n",
        "\t[1, 3]  =  1.0\n",
        "\t[2, 3]  =  1.0\n",
        "\t[3, 3]  =  -1.0"
       ]
      }
     ],
     "prompt_number": 118
    },
    {
     "cell_type": "code",
     "collapsed": false,
     "input": [],
     "language": "python",
     "metadata": {},
     "outputs": []
    }
   ],
   "metadata": {}
  }
 ]
}