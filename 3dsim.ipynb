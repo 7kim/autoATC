{
 "metadata": {
  "language": "Julia",
  "name": "",
  "signature": "sha256:ec40d99a961d1f8b67baa06b654ee3b318119a645cfc4611a27af1ebcb043a42"
 },
 "nbformat": 3,
 "nbformat_minor": 0,
 "worksheets": [
  {
   "cells": [
    {
     "cell_type": "code",
     "collapsed": false,
     "input": [
      "using CTMDP_mcts"
     ],
     "language": "python",
     "metadata": {},
     "outputs": [],
     "prompt_number": 1
    },
    {
     "cell_type": "code",
     "collapsed": false,
     "input": [
      "using airplaneType"
     ],
     "language": "python",
     "metadata": {},
     "outputs": [],
     "prompt_number": 1
    },
    {
     "cell_type": "code",
     "collapsed": false,
     "input": [
      "using sim3d"
     ],
     "language": "python",
     "metadata": {},
     "outputs": [],
     "prompt_number": 3
    },
    {
     "cell_type": "code",
     "collapsed": false,
     "input": [
      "# \u03b1 = 1.0;\n",
      "\n",
      "# policy_prefix = \"greedyRandom_\"\n",
      "# #policy_prefix = \"\"\n",
      "# Aopt = loadPolicy(1.,0.0f0, prefix=policy_prefix)\n",
      "# ctmdpPolicy = S -> policy_S2a(S, Aopt)"
     ],
     "language": "python",
     "metadata": {},
     "outputs": [],
     "prompt_number": 3
    },
    {
     "cell_type": "code",
     "collapsed": false,
     "input": [
      "# ctmdpPolicy([:LD2, :RB1, :R, :U1])"
     ],
     "language": "python",
     "metadata": {},
     "outputs": [],
     "prompt_number": 4
    },
    {
     "cell_type": "code",
     "collapsed": false,
     "input": [
      "@time mctsPolicy([:LD2, :\u03d51_RB1, :R, :U1])"
     ],
     "language": "python",
     "metadata": {},
     "outputs": [
      {
       "output_type": "stream",
       "stream": "stdout",
       "text": [
        "elapsed time: 0."
       ]
      },
      {
       "output_type": "stream",
       "stream": "stdout",
       "text": [
        "368515211 seconds (19582300 bytes allocated)\n"
       ]
      },
      {
       "metadata": {},
       "output_type": "pyout",
       "prompt_number": 4,
       "text": [
        "(1,:\u03d51_LD3)"
       ]
      }
     ],
     "prompt_number": 4
    },
    {
     "cell_type": "code",
     "collapsed": false,
     "input": [
      "if isdefined(current_module(),:LastMain) && isdefined(LastMain,:PyPlot)\n",
      "  using LastMain.PyPlot\n",
      "  using LastMain.PyCall\n",
      "else\n",
      "  using PyPlot\n",
      "  using PyCall\n",
      "end\n",
      "@pyimport matplotlib.animation as anim\n",
      "linewidth = 0.4\n",
      "plt.rc(\"axes\", linewidth=linewidth)\n",
      "plt.rc(\"font\", family=\"\")\n",
      "plt.rc(\"axes\", titlesize=\"medium\", labelsize=\"medium\")\n",
      "plt.rc(\"xtick\", labelsize=\"small\")\n",
      "plt.rc(\"xtick.major\", width=linewidth/2)\n",
      "plt.rc(\"ytick\", labelsize=\"small\")\n",
      "plt.rc(\"ytick.major\", width=linewidth/2)\n",
      "plt.rc(\"legend\", fontsize=\"large\")\n",
      "plt.rc(\"axes\" ,unicode_minus=false)"
     ],
     "language": "python",
     "metadata": {},
     "outputs": [
      {
       "output_type": "stream",
       "stream": "stderr",
       "text": [
        "INFO: Loading help data...\n"
       ]
      }
     ],
     "prompt_number": 2
    },
    {
     "cell_type": "code",
     "collapsed": false,
     "input": [
      "#airplaneType.simPars.maxNoiseAlt = 0."
     ],
     "language": "python",
     "metadata": {},
     "outputs": [],
     "prompt_number": 8
    },
    {
     "cell_type": "code",
     "collapsed": false,
     "input": [
      "# srand(pattern.rng,uint32(1));\n",
      "#aircraftList = [airplane(50,:U1), airplane(50, :LD2), airplane(50, :R), airplane(50, :T)];\n",
      "\n",
      "srand(pattern.rng,uint32(3));\n",
      "srand(mcts.pars.rng, uint32(1));\n",
      "\n",
      "aircraftList = sim3d.randomStart(); \n",
      "\n",
      "[ac.navDest for ac in aircraftList]\n"
     ],
     "language": "python",
     "metadata": {},
     "outputs": [
      {
       "metadata": {},
       "output_type": "pyout",
       "prompt_number": 54,
       "text": [
        "4-element Array{Any,1}:\n",
        " (:RDep,\"E\")\n",
        " (:RX1,\"E\") \n",
        " (:RD2,\"E\") \n",
        " (:GO,\"E\")  "
       ]
      }
     ],
     "prompt_number": 54
    },
    {
     "cell_type": "code",
     "collapsed": false,
     "input": [
      "#@time (idmin, tmax, alertCount) = simulate!(aircraftList,100,:Smart,ctmdpPolicy, stopEarly=true, savepath=true); tmax, alertCount"
     ],
     "language": "python",
     "metadata": {},
     "outputs": [],
     "prompt_number": 13
    },
    {
     "cell_type": "code",
     "collapsed": false,
     "input": [
      "# using ProfileView\n",
      "# Profile.clear()\n",
      "# Profile.init(n=1000000*100)"
     ],
     "language": "python",
     "metadata": {},
     "outputs": [],
     "prompt_number": 14
    },
    {
     "cell_type": "code",
     "collapsed": false,
     "input": [
      "@time (idmin, tmax, alertCount, flightTime) = simulate!(aircraftList,3600,:Smart, \n",
      "                                                        mctsPolicy, \n",
      "                                                        stopEarly=true, savepath=true); #tmax, alertCount\n",
      "#elapsed time: 8.011811257 seconds (426156152 bytes allocated, 44.56% gc time)\n",
      "#([1,3],1000,20,986.0,None[])"
     ],
     "language": "python",
     "metadata": {},
     "outputs": [
      {
       "output_type": "stream",
       "stream": "stdout",
       "text": [
        "elapsed time: 3"
       ]
      },
      {
       "output_type": "stream",
       "stream": "stdout",
       "text": [
        ".836626898 seconds (304312968 bytes allocated, 12.45% gc time)\n"
       ]
      },
      {
       "metadata": {},
       "output_type": "pyout",
       "prompt_number": 55,
       "text": [
        "([1,2],492.5,8,492.5,None[])"
       ]
      }
     ],
     "prompt_number": 55
    },
    {
     "cell_type": "code",
     "collapsed": false,
     "input": [
      "idmin = [0,0]\n",
      "getDmin!(idmin, aircraftList)"
     ],
     "language": "python",
     "metadata": {},
     "outputs": [
      {
       "metadata": {},
       "output_type": "pyout",
       "prompt_number": 56,
       "text": [
        "-16.676817920346082"
       ]
      }
     ],
     "prompt_number": 56
    },
    {
     "cell_type": "code",
     "collapsed": false,
     "input": [
      "make3d = false\n",
      "function plot3dsim(i, dL=20, dS=20)\n",
      "    outOfData = false;\n",
      "b=0\n",
      "g=0\n",
      "if(make3d)\n",
      "    ax = PyPlot.gca(projection=\"3d\")\n",
      "    #ax[:view_init](0, 180)\n",
      "    ax[:pbaspect] = [1,1,0.6]   \n",
      "else\n",
      "    #PyPlot.clf()\n",
      "    ax = plt.gca()\n",
      "        clf()\n",
      "        hold(\"on\")\n",
      "end\n",
      "\n",
      "D3 = Vector{Float64}[]\n",
      "XY = Vector{Float64}[]\n",
      "    \n",
      "for ac in aircraftList\n",
      "        range = (1:dL) + (i-1)*dS\n",
      "        if(range[end] > length(ac.path))\n",
      "            range = (length(ac.path)-dL):length(ac.path)\n",
      "            outOfData = true \n",
      "        end\n",
      "\n",
      "    Y = [p.n for p in ac.path[range]];\n",
      "    X = [p.e for p in ac.path[range]];\n",
      "    Z = -[p.d for p in ac.path[range]];\n",
      "    N = length(X)\n",
      "    if(make3d)\n",
      "        di = 100\n",
      "        for i in 1:di:(N-di)\n",
      "            idx = i:(i+di)\n",
      "            r = clip( mean(Z[idx]) / 300 , .05, 1.)    \n",
      "            PyPlot.plot3D(Y[idx],X[idx],Z[idx],color=(r,g,0))\n",
      "        end\n",
      "        push!(D3, [Y[end], X[end], Z[end]])\n",
      "        PyPlot.xlabel(\"North\")\n",
      "        PyPlot.ylabel(\"East\")\n",
      "        PyPlot.zlabel(\"Altitude\")\n",
      "    else\n",
      "        PyPlot.plot(X,Y)\n",
      "        #PyPlot.axis(\"equal\")\n",
      "        #PyPlot.ylabel(\"North\")\n",
      "        #PyPlot.xlabel(\"East\")\n",
      "    end\n",
      "    g += 0.25\n",
      "end\n",
      "\n",
      "    \n",
      "for (k, p) in airplaneType.posNE\n",
      "    if k[2] != \"S\"\n",
      "        continue\n",
      "    end\n",
      "    \n",
      "    kk = (k[1], \"E\")\n",
      "    \n",
      "    pp = airplaneType.posNE[kk]\n",
      "    \n",
      "    x = [p.e, pp.e]\n",
      "    y = [p.n, pp.n]\n",
      "    \n",
      "    plot(x,y,alpha=.5)\n",
      "    text(mean(x), mean(y), string(k[1]),alpha=.3)\n",
      "    hold(\"on\")\n",
      "end\n",
      "    \n",
      "    \n",
      "for d in D3\n",
      "    PyPlot.scatter3D(d[1],d[2],d[3],marker=\"o\")         \n",
      "end\n",
      "#PyPlot.grid(\"on\")\n",
      "if make3d\n",
      "    ax[:set_ylim3d]([-5000, 5000])  \n",
      "else\n",
      "    ylim([-4000, 4000])\n",
      "    xlim([-10000, 10000])\n",
      "    grid(\"on\")\n",
      "        hold(\"off\")\n",
      "end\n",
      "    \n",
      "\n",
      "    \n",
      "return outOfData\n",
      "    \n",
      "end\n",
      "#plt.savefig(\"/home/zouhair/Dropbox/AA229/project/ATMS2015/3dpattern.pdf\", bbox_inches=\"tight\")"
     ],
     "language": "python",
     "metadata": {},
     "outputs": [
      {
       "metadata": {},
       "output_type": "pyout",
       "prompt_number": 93,
       "text": [
        "plot3dsim (generic function with 3 methods)"
       ]
      }
     ],
     "prompt_number": 93
    },
    {
     "cell_type": "code",
     "collapsed": false,
     "input": [
      "pattern.NextStates[:LArr]"
     ],
     "language": "python",
     "metadata": {},
     "outputs": [
      {
       "output_type": "stream",
       "stream": "stderr",
       "text": [
        "/usr/lib/pymodules/python2.7/matplotlib/font_manager.py:1236: UserWarning: findfont: Font family [''] not found. Falling back to Bitstream Vera Sans\n",
        "  (prop.get_family(), self.defaultFamily[fontext]))\n",
        "/usr/lib/pymodules/python2.7/matplotlib/font_manager.py:1246: UserWarning: findfont: Could not match :family=Bitstream Vera Sans:style=normal:variant=normal:weight=normal:stretch=normal:size=small. Returning /usr/share/matplotlib/mpl-data/fonts/ttf/cmb10.ttf\n",
        "  UserWarning)\n",
        "/usr/lib/pymodules/python2.7/matplotlib/font_manager.py:1246: UserWarning: findfont: Could not match :family=Bitstream Vera Sans:style=normal:variant=normal:weight=normal:stretch=normal:size=12.0. Returning /usr/share/matplotlib/mpl-data/fonts/ttf/cmb10.ttf\n",
        "  UserWarning)\n"
       ]
      },
      {
       "metadata": {},
       "output_type": "pyout",
       "prompt_number": 4,
       "text": [
        "3-element Array{Symbol,1}:\n",
        " :\u03d51_LArrD1\n",
        " :\u03d51_LArrD2\n",
        " :\u03d51_LArrD3"
       ]
      }
     ],
     "prompt_number": 4
    },
    {
     "cell_type": "code",
     "collapsed": false,
     "input": [
      "pygui(false)\n",
      "plot3dsim(int64(length(aircraftList[1].path)/20 - 0))"
     ],
     "language": "python",
     "metadata": {},
     "outputs": [
      {
       "metadata": {},
       "output_type": "display_data",
       "png": "[encoded data removed]",
       "text": [
        "Figure(PyObject <matplotlib.figure.Figure object at 0x7f5bcce04150>)"
       ]
      },
      {
       "metadata": {},
       "output_type": "pyout",
       "prompt_number": 98,
       "text": [
        "true"
       ]
      }
     ],
     "prompt_number": 98
    },
    {
     "cell_type": "code",
     "collapsed": false,
     "input": [
      "# plot in an external window since it doesn't work yet in IJulia\n",
      "pygui(true)\n",
      "# tell PyPlot that the plot is interactive\n",
      "PyPlot.ion()\n",
      "# . . . and that previous plots are overwritten\n",
      "PyPlot.hold(false)\n",
      "# start time-stepping loop\n",
      "n = 370;\n",
      "while(true)\n",
      "    outOfData = plot3dsim(n)\n",
      "    # . . .\n",
      "    # Then force the draw\n",
      "    PyPlot.draw()\n",
      "    n +=1 ;\n",
      "    if(outOfData)\n",
      "        break\n",
      "    end\n",
      "end"
     ],
     "language": "python",
     "metadata": {},
     "outputs": [],
     "prompt_number": 44
    },
    {
     "cell_type": "code",
     "collapsed": false,
     "input": [
      "# pygui(false)\n",
      "# hold(\"on\")\n",
      "# for i in 1:4\n",
      "#     xHist = [pattern.g_sn[(s)] for s in aircraftList[i].sLocHist];\n",
      "#     plot(xHist)\n",
      "# end\n",
      "# yticks(1:length(pattern.g_allstates[1:27]), pattern.g_allstates_string[1:27]);\n",
      "# grid(\"on\")\n"
     ],
     "language": "python",
     "metadata": {},
     "outputs": [],
     "prompt_number": 10
    },
    {
     "cell_type": "code",
     "collapsed": false,
     "input": [
      "tic()\n",
      "tBatchTime = 3600*5 #Total run time per batch\n",
      "N = 1 #Total Number of batches (total simulated time is tBatch * N )\n",
      "\n",
      "betaVals = [0.0f0, 0.001f0, 0.005f0, 0.01f0, 0.05f0]\n",
      "betaVals = [0.0f0, 0.001f0, 0.005f0] #, 0.001f0, 0.005f0, 0.01f0, 0.05f0]\n",
      "betaVals = [0.0f0]\n",
      "\n",
      "betaValStr = [string(\u03b2) for \u03b2 in betaVals]\n",
      "NbetaVals = length(betaVals)\n",
      "atcTypes = [:Smart, :None] \n",
      "NatcTypes = length(atcTypes)\n",
      "\n",
      "tStat = zeros(Float32, NbetaVals,NatcTypes,N)\n",
      "tTotals = zeros(tStat)\n",
      "flightTimes = zeros(tStat)\n",
      "\n",
      "alertCounts = zeros(Uint32, NbetaVals,NatcTypes,N)\n",
      "nNMACcounts = zeros(alertCounts)\n",
      "toc()\n",
      "#Last 3 is for 3D position @ collision\n",
      "#collisionPos = (Symbol => Array{Float64,3})[a => fill(NaN, NbetaVals,N,3) for a in atcTypes]; "
     ],
     "language": "python",
     "metadata": {},
     "outputs": [
      {
       "output_type": "stream",
       "stream": "stdout",
       "text": [
        "elapsed time: 0."
       ]
      },
      {
       "output_type": "stream",
       "stream": "stdout",
       "text": [
        "124628401 seconds\n"
       ]
      }
     ],
     "prompt_number": 7
    },
    {
     "cell_type": "code",
     "collapsed": false,
     "input": [
      "#Reinit sim seed for repeatibility\n",
      "srand(pattern.rng,uint32(1))\n",
      "startTime = time();\n",
      "@time for (betaIdx, beta) in enumerate(betaVals)\n",
      "    #Use the appropriate policy\n",
      "    s0 = time()\n",
      "#     Aopt = loadPolicy(1., beta, prefix=policy_prefix)\n",
      "    mcts.pars.\u03b2 = beta\n",
      "    @printf(\"Loading policy took %.0f(s)\\n\",time()-s0)\n",
      "    for (atcIdx, atcType) in enumerate(atcTypes)  \n",
      "        #We only need to run the first beta for the None case\n",
      "        #Copy it over for simplicity\n",
      "        if (atcType == :None && betaIdx > 1)\n",
      "            tStat[betaIdx, atcIdx, :] = tStat[1, atcIdx, :]\n",
      "            flightTimes[betaIdx, atcIdx, :] = flightTimes[1, atcIdx, :]\n",
      "            alertCounts[betaIdx, atcIdx, :] = alertCounts[1, atcIdx, :]\n",
      "            nNMACcounts[betaIdx, atcIdx, :] = nNMACcounts[1, atcIdx, :] \n",
      "            tTotals[betaIdx, atcIdx, :] = tTotals[1, atcIdx, :] \n",
      "\n",
      "            #collisionPos[atcType][betaIdx,:,:] = collisionPos[atcType][1,:,:]\n",
      "            continue\n",
      "        end\n",
      "        #Simulate N trajectories\n",
      "        nextPrintTime = time() + 60 \n",
      "        for i in 1:N\n",
      "            \n",
      "            while tTotals[betaIdx, atcIdx, i] < tBatchTime\n",
      "                now = time()\n",
      "                if now >= nextPrintTime\n",
      "                    nextPrintTime = now + 60\n",
      "                    println(now-startTime, \"(s) at betaIdx=\",betaIdx, \" atcIdx=\",atcIdx, \" i = \", i)\n",
      "                end    \n",
      "                \n",
      "                #First, initialize the position\n",
      "                aircraftList = randomStart()\n",
      "                #Simulate the policy\n",
      "                simTime = tBatchTime-tTotals[betaIdx, atcIdx, i]\n",
      "                (idmin, tmax, alertCount, flightTime) = simulate!(aircraftList,simTime,\n",
      "                                                                  atcType,mctsPolicy, #ctmdpPolicy,\n",
      "                                                                  stopEarly=true, savepath=false);\n",
      "                \n",
      "                if (tmax < simTime ) #we finished early, must have been an NMAC\n",
      "                    nNMACcounts[betaIdx, atcIdx, i] += 1\n",
      "                end\n",
      "#                 @printf(\"simTime = %.2f, flightTime = %.2f , tmax = %.2f, nMac = %d\\n\", \n",
      "#                         simTime/3600, flightTime/3600, tmax/3600, nNMACcounts[betaIdx, atcIdx, i] )\n",
      "                \n",
      "                tTotals[betaIdx, atcIdx, i] += tmax\n",
      "                alertCounts[betaIdx, atcIdx, i] += alertCount\n",
      "                flightTimes[betaIdx, atcIdx, i] += flightTime\n",
      "                tStat[betaIdx, atcIdx, i] = tmax\n",
      "                \n",
      "                #Whine if for some reason we got a collision right\n",
      "                #after we started... randomStart() should not cause this\n",
      "                if(tmax == 0)\n",
      "                    error(\"Collision right after start. This shouldn't happen!\")\n",
      "                end\n",
      "            end\n",
      "\n",
      "            #Keep track of statistics\n",
      "#             if !(0 in idmin)\n",
      "#                 collisionPos[atcType][betaIdx,i,:] = \n",
      "#                     [aircraftList[idmin[1]].posNED.n, aircraftList[idmin[1]].posNED.e, aircraftList[idmin[1]].posNED.d]\n",
      "#             end\n",
      "        end\n",
      "  end\n",
      "end"
     ],
     "language": "python",
     "metadata": {},
     "outputs": [
      {
       "output_type": "stream",
       "stream": "stdout",
       "text": [
        "Loading policy took 0"
       ]
      },
      {
       "output_type": "stream",
       "stream": "stdout",
       "text": [
        "(s)\n",
        "elapsed time: "
       ]
      },
      {
       "output_type": "stream",
       "stream": "stdout",
       "text": [
        "119.149324521 seconds (6432413660 bytes allocated, 9.30% gc time)\n"
       ]
      }
     ],
     "prompt_number": 8
    },
    {
     "cell_type": "code",
     "collapsed": false,
     "input": [
      "flightTimes, nNMACcounts"
     ],
     "language": "python",
     "metadata": {},
     "outputs": [
      {
       "metadata": {},
       "output_type": "pyout",
       "prompt_number": 9,
       "text": [
        "(\n",
        "1x2x1 Array{Float32,3}:\n",
        "[:, :, 1] =\n",
        " 17929.9  17833.2,\n",
        "\n",
        "1x2x1 Array{Uint32,3}:\n",
        "[:, :, 1] =\n",
        " 0x00000000  0x0000000c)"
       ]
      }
     ],
     "prompt_number": 9
    },
    {
     "cell_type": "code",
     "collapsed": false,
     "input": [
      "sum(flightTimes[1,1,1])/3600 ./sum(nNMACcounts[1,1,1])*1.0 #1.99 hour_to_nmac for 4 phases , #4 hours_to_nmac for 6 phases"
     ],
     "language": "python",
     "metadata": {},
     "outputs": [
      {
       "metadata": {},
       "output_type": "pyout",
       "prompt_number": 10,
       "text": [
        "Inf"
       ]
      }
     ],
     "prompt_number": 10
    },
    {
     "cell_type": "code",
     "collapsed": false,
     "input": [
      "sum(flightTimes[1,2,1])/3600 ./sum(nNMACcounts[1,2,1])*1.0 #1.99 hour_to_nmac for 4 phases , #4 hours_to_nmac for 6 phases"
     ],
     "language": "python",
     "metadata": {},
     "outputs": [
      {
       "metadata": {},
       "output_type": "pyout",
       "prompt_number": 15,
       "text": [
        "0.5503260493278503"
       ]
      }
     ],
     "prompt_number": 15
    },
    {
     "cell_type": "code",
     "collapsed": false,
     "input": [
      "sum(flightTimes[:,2,:])/3600 ./sum(nNMACcounts[:,2,:])*1.0"
     ],
     "language": "python",
     "metadata": {},
     "outputs": [
      {
       "metadata": {},
       "output_type": "pyout",
       "prompt_number": 99,
       "text": [
        "0.6703678965568542"
       ]
      }
     ],
     "prompt_number": 99
    },
    {
     "cell_type": "code",
     "collapsed": false,
     "input": [
      "alertCounts*1.0 ./ (flightTimes/60)"
     ],
     "language": "python",
     "metadata": {},
     "outputs": [
      {
       "metadata": {},
       "output_type": "pyout",
       "prompt_number": 14,
       "text": [
        "1x2x1 Array{Float64,3}:\n",
        "[:, :, 1] =\n",
        " 1.20804  0.0"
       ]
      }
     ],
     "prompt_number": 14
    },
    {
     "cell_type": "code",
     "collapsed": false,
     "input": [
      "# fig, axes = plt.subplots(nrows=2, ncols=1, sharex=true, sharey=true, figsize=(8,8.5))\n",
      "# #fig[:subplots_adjust](hspace=1)\n",
      "\n",
      "\n",
      "# betaIdx = 1;\n",
      "# k = 0\n",
      "# for atcType in [:MDP_periodic, :None]    \n",
      "#     k += 1\n",
      "#     PyPlot.subplot(2,1,k)\n",
      "#     Y = collisionPos[atcType][betaIdx,:,1]\n",
      "#     X = collisionPos[atcType][betaIdx,:,2]\n",
      "#     X = X[!isnan(X)]; Y = Y[!isnan(Y)]\n",
      "#     matrix = PyPlot.hist2D(X,Y,bins=[15,10]*6,cmin=1, norm=plt.matplotlib[:colors][:LogNorm]());#,color=colors[k],normed=true)#Y,linestyle=\"\", marker=\".\",markersize=2,color=colors[k])    \n",
      "    \n",
      "#     ax = PyPlot.gca();\n",
      "#     # #PyPlot.axis(\"equal\")\n",
      "#     PyPlot.ylabel(\"North\")\n",
      "#     k == 2 && PyPlot.xlabel(\"East\")\n",
      "#     PyPlot.xlim([-6000, 6000])\n",
      "#     PyPlot.ylim([-2000, 2000])\n",
      "#     #ax[:set_aspect](1.5)    \n",
      "#     PyPlot.grid(\"on\")\n",
      "#     PyPlot.title(k == 1 ? \"auto-ATC\" : \"silent ATC\",loc=\"left\",fontsize=14)\n",
      "# end\n",
      "\n",
      "# cax = plt.axes([0.925, 0.1, 0.03, .8])\n",
      "# PyPlot.colorbar(ax=axes,cax=cax, use_gridspec=false,orientation=\"vertical\")#, pad=.1, anchor=(6, 6.0))\n",
      "# #plt.savefig(\"/home/zouhair/Dropbox/AA229/project/ATMS2015/collision_location.pgf\", bbox_inches=\"tight\")"
     ],
     "language": "python",
     "metadata": {},
     "outputs": [],
     "prompt_number": 14
    },
    {
     "cell_type": "code",
     "collapsed": false,
     "input": [
      "# histData_x = Vector{Float64}[]\n",
      "# histData_y = Vector{Float64}[]\n",
      "\n",
      "# for b in 1:size(tStat,1)\n",
      "#     for k in 1:size(tStat,2)\n",
      "#         tS_ = tStat[b,k,:] #Float64[x > 3600*20 ? NaN : x for x in tStat[b,k,:]];\n",
      "#         tS_ = tS_[!isnan(tS_)]/3600\n",
      "#         data = PyPlot.hist(tS_,1000, histtype=\"step\", cumulative=true, normed=true, align=\"right\")\n",
      "#         push!(histData_x, [0, data[2][1:end-1]]) #x-data\n",
      "#         push!(histData_y, [0, data[1]]) #y-data\n",
      "#     end\n",
      "# end\n",
      "# PyPlot.clf();\n",
      "\n",
      "\n",
      "# #beta = 0.01 {MDP, MDP2, None}\n",
      "# #beta = 0.5 {MDP, MDP2, None}\n",
      "\n",
      "# #green, green --, blue\n",
      "# #red, red --, blue\n",
      "\n",
      "# #None: Blue, Blue --\n",
      "# #beta = 0.01: Green, Green --\n",
      "# #beta = 0.5: Red, Red --\n",
      "\n",
      "# betaColors = [\"g\", \"r\", \"b\", \"c\"]\n",
      "# assert(length(betaColors) == NbetaVals)\n",
      "# colors = vcat([[c,\"k\"] for c in betaColors]...)\n",
      "\n",
      "# linestyles = [\"-\",\"--\",\"-\"]#, \"-\",\"--\",\"-\"]\n",
      "\n",
      "# betaValStr = [string(\u03b2) for \u03b2 in betaVals]\n",
      "# legends = [\"auto-ATC: event-driven, \\$\\\\beta\\$=\"*betaValStr[1], \"silent ATC\",           \n",
      "#            \"auto-ATC: event-driven, \\$\\\\beta\\$=\"*betaValStr[2], #skipped\n",
      "#            \"auto-ATC: event-driven, \\$\\\\beta\\$=\"*betaValStr[3],#skipped\n",
      "#            \"auto-ATC: event-driven, \\$\\\\beta\\$=\"*betaValStr[4]]#skipped]\n",
      "    \n",
      "# idx = 0\n",
      "# for b in 1:size(tStat,1) #different betas 0, 0.01 , 0.5, etc\n",
      "#     for k in 1:size(tStat,2) #different policies  MDP(, MDP2 (green), None (blue)\n",
      "#         idx += 1\n",
      "#         if atcTypes[k] == :None && b > 1\n",
      "#             continue\n",
      "#         end\n",
      "#         PyPlot.plot(histData_y[idx],histData_x[idx], color = colors[idx], linestyle=\"-\") #linestyles[(idx-1)%2 + 1])\n",
      "#     end\n",
      "# end\n",
      "\n",
      "# PyPlot.grid(\"on\")\n",
      "# PyPlot.ylabel(\"Time to first NMAC (hours)\")\n",
      "# PyPlot.xlabel(\"Probability\")\n",
      "# PyPlot.xlim([0,1])\n",
      "# PyPlot.ylim([0,20])\n",
      "\n",
      "# ax = PyPlot.gca();\n",
      "# #ax[:set_aspect](1/40.);\n",
      "# leg = PyPlot.legend(legends,bbox_to_anchor=(0.5, 1.25), loc = 9, ncol=3, fontsize=12, numpoints=3)\n",
      "# # set the linewidth of each legend object\n",
      "# for legobj in leg[:legendHandles]\n",
      "#     legobj[:set_linewidth](2.0)\n",
      "# end\n",
      "# # plt.savefig(\"./results/CTMDP_2phases_cdf.pdf\", bbox_inches=\"tight\")"
     ],
     "language": "python",
     "metadata": {},
     "outputs": [],
     "prompt_number": 15
    },
    {
     "cell_type": "code",
     "collapsed": false,
     "input": [
      "# alertRates = similar(tStat)\n",
      "# #First axis of tStat is beta, second axis is ATC type (MDP, MDP_period, NONE)\n",
      "# for b in 1:size(tStat,1)\n",
      "#     for k in 1:size(tStat,2)\n",
      "#         tS_minutes = tStat[b,k,:]/60.\n",
      "#         alertRates[b, k, :] = alertCounts[b,k,:] ./ tS_minutes\n",
      "#     end\n",
      "# end\n",
      "\n",
      "# boxData = {alertRates[b,1,:][:] for b in 1:NbetaVals}\n",
      "# push!(boxData, alertRates[1,end,:][:])\n",
      "# PyPlot.boxplot(boxData)\n",
      "\n",
      "# PyPlot.ylim([-0.05,2.0])\n",
      "# PyPlot.ylabel(\"Intervention rate (commands / minute)\")\n",
      "\n",
      "# xLabels = [\"auto-ATC \\$\\\\beta\\$=\"*betaValStr[b] for b in 1:NbetaVals]\n",
      "# push!(xLabels,\"silent-ATC\")\n",
      "\n",
      "\n",
      "# PyPlot.xticks(1:(NbetaVals+1), xLabels)\n",
      "# PyPlot.grid(\"on\")\n",
      "\n",
      "# # plt.savefig(\"./results/CTMDP_2phases_alert_rate.pdf\", bbox_inches=\"tight\")\n",
      "\n"
     ],
     "language": "python",
     "metadata": {},
     "outputs": [],
     "prompt_number": 16
    },
    {
     "cell_type": "code",
     "collapsed": false,
     "input": [
      "# #First axis is betas, second axis is atc type (MDP, MDP_perio, NONE)\n",
      "# boxData = {flightTimes[b,1,:][:]/3600 for b in 1:NbetaVals}\n",
      "# push!(boxData, flightTimes[1,end,:][:]/3600)\n",
      "# PyPlot.boxplot(boxData)\n",
      "\n",
      "\n",
      "# PyPlot.ylim([-0.05,10])\n",
      "# PyPlot.ylabel(\"Flight Hours Before NMAC\")\n",
      "# PyPlot.xticks(1:(NbetaVals+1), xLabels)\n",
      "# PyPlot.grid(\"on\")\n",
      "# #plt.savefig(\"./results/CTMDP_4phases_flight_hours.pgf\", bbox_inches=\"tight\")\n"
     ],
     "language": "python",
     "metadata": {},
     "outputs": [],
     "prompt_number": 17
    },
    {
     "cell_type": "code",
     "collapsed": false,
     "input": [
      "# boxData = {nNMACcounts[b,1,:][:] for b in 1:NbetaVals}\n",
      "# push!(boxData, nNMACcounts[1,end,:][:])\n",
      "# boxData = boxData / (tBatchTime/3600)\n",
      "# PyPlot.boxplot(boxData)\n",
      "\n",
      "\n",
      "# xLabels = [\"auto-ATC \\$\\\\beta\\$=\"*betaValStr[b] for b in 1:NbetaVals]\n",
      "# push!(xLabels,\"silent-ATC\")\n",
      "# PyPlot.ylim([0, 2])\n",
      "# #PyPlot.ylabel(\"NMACs per hour\")\n",
      "# PyPlot.xticks(1:(NbetaVals+1), xLabels)\n",
      "# PyPlot.grid(\"on\")\n",
      "# #plt.savefig(\"./results/NMACSperhour.pdf\", bbox_inches=\"tight\")"
     ],
     "language": "python",
     "metadata": {},
     "outputs": [],
     "prompt_number": 18
    },
    {
     "cell_type": "code",
     "collapsed": false,
     "input": [
      "@time save(\"./results/\"*policy_prefix*\"new_3DSimResults_n\"*string(pattern.nPhases)*\".jld\", \n",
      "\"tStat\", tStat, \"alertCounts\", alertCounts, \n",
      "\"flightTimes\", flightTimes, \"tTotals\", tTotals, \"nNMACcounts\", nNMACcounts);"
     ],
     "language": "python",
     "metadata": {},
     "outputs": [
      {
       "output_type": "stream",
       "stream": "stdout",
       "text": [
        "elapsed time: 0."
       ]
      },
      {
       "output_type": "stream",
       "stream": "stdout",
       "text": [
        "537552525 seconds (10556556 bytes allocated)\n"
       ]
      }
     ],
     "prompt_number": 19
    },
    {
     "cell_type": "code",
     "collapsed": false,
     "input": [
      "pattern.nPhases"
     ],
     "language": "python",
     "metadata": {},
     "outputs": [
      {
       "metadata": {},
       "output_type": "pyout",
       "prompt_number": 20,
       "text": [
        "6"
       ]
      }
     ],
     "prompt_number": 20
    },
    {
     "cell_type": "code",
     "collapsed": false,
     "input": [
      "\"./results/\"*policy_prefix*\"new_3DSimResults_n\"*string(pattern.nPhases)*\".jld\""
     ],
     "language": "python",
     "metadata": {},
     "outputs": [
      {
       "metadata": {},
       "output_type": "pyout",
       "prompt_number": 21,
       "text": [
        "\"./results/greedyRandom_new_3DSimResults_n6.jld\""
       ]
      }
     ],
     "prompt_number": 21
    }
   ],
   "metadata": {}
  }
 ]
}