{
 "metadata": {
  "language": "Julia",
  "name": "",
  "signature": "sha256:5087026a5731aeda4e2f24138aebee58e93c24bd0243cf420bd9ede779dfef20"
 },
 "nbformat": 3,
 "nbformat_minor": 0,
 "worksheets": [
  {
   "cells": [
    {
     "cell_type": "code",
     "collapsed": false,
     "input": [
      "using sim3d_plotting"
     ],
     "language": "python",
     "metadata": {},
     "outputs": [
      {
       "output_type": "stream",
       "stream": "stderr",
       "text": [
        "INFO: Loading help data...\n"
       ]
      }
     ],
     "prompt_number": 1
    },
    {
     "cell_type": "code",
     "collapsed": false,
     "input": [
      "using airplaneType"
     ],
     "language": "python",
     "metadata": {},
     "outputs": [],
     "prompt_number": 2
    },
    {
     "cell_type": "code",
     "collapsed": false,
     "input": [
      "using sim3d"
     ],
     "language": "python",
     "metadata": {},
     "outputs": [],
     "prompt_number": 3
    },
    {
     "cell_type": "code",
     "collapsed": false,
     "input": [
      "using CTMDP_mcts\n",
      "loadPolicy = loadMCTSPolicy;\n",
      "mctsPolicy = loadPolicy(0.0f0)"
     ],
     "language": "python",
     "metadata": {},
     "outputs": [
      {
       "metadata": {},
       "output_type": "pyout",
       "prompt_number": 8,
       "text": [
        "mctsPolicy (generic function with 1 method)"
       ]
      }
     ],
     "prompt_number": 8
    },
    {
     "cell_type": "code",
     "collapsed": false,
     "input": [
      "using CTMDP_kron\n",
      "loadKronPolicy = beta -> loadCTMDPpolicy(1.0, beta);\n",
      "loadPolicy = loadKronPolicy\n",
      "ctmdpPolicy = loadPolicy(0.0f0)"
     ],
     "language": "python",
     "metadata": {},
     "outputs": [
      {
       "metadata": {},
       "output_type": "pyout",
       "prompt_number": 9,
       "text": [
        "ctmdpPolicy (generic function with 1 method)"
       ]
      }
     ],
     "prompt_number": 9
    },
    {
     "cell_type": "code",
     "collapsed": false,
     "input": [
      "policy = loadPolicy(0.0f0)\n",
      "@time for i in 1:10 policy([:LD2, :RB1, :R, :U1]) end #2.5s vs 1.5s"
     ],
     "language": "python",
     "metadata": {},
     "outputs": [
      {
       "output_type": "stream",
       "stream": "stdout",
       "text": [
        "elapsed time: 0."
       ]
      },
      {
       "output_type": "stream",
       "stream": "stdout",
       "text": [
        "242046635 seconds (3839676 bytes allocated, 65.26% gc time)\n"
       ]
      }
     ],
     "prompt_number": 11
    },
    {
     "cell_type": "code",
     "collapsed": false,
     "input": [
      "# using ProfileView\n",
      "# Profile.clear()\n",
      "# Profile.init(n=1000000*100)"
     ],
     "language": "python",
     "metadata": {},
     "outputs": [],
     "prompt_number": 12
    },
    {
     "cell_type": "code",
     "collapsed": false,
     "input": [
      "srand(pattern.rng,uint32(3));\n",
      "srand(mcts.pars.rng, uint32(3))\n",
      "aircraftList = sim3d.randomStart(); "
     ],
     "language": "python",
     "metadata": {},
     "outputs": [],
     "prompt_number": 13
    },
    {
     "cell_type": "code",
     "collapsed": false,
     "input": [
      "@time (idmin, tmax, alertCount, flightTime) = simulate!(aircraftList,3600*3,:Smart, \n",
      "                                                        policy, \n",
      "                                                        stopEarly=true, savepath=true); #tmax, alertCount\n",
      "#elapsed time: 8.011811257 seconds (426156152 bytes allocated, 44.56% gc time)\n",
      "#([1,3],1000,20,986.0,None[])\n",
      "\n",
      "#1 hr -> 18 seconds\n",
      "#1 hr -> 41 seconds"
     ],
     "language": "python",
     "metadata": {},
     "outputs": [
      {
       "output_type": "stream",
       "stream": "stdout",
       "text": [
        "elapsed time: 1"
       ]
      },
      {
       "output_type": "stream",
       "stream": "stdout",
       "text": [
        ".62162354 seconds (120300312 bytes allocated, 20.16% gc time)\n"
       ]
      },
      {
       "metadata": {},
       "output_type": "pyout",
       "prompt_number": 14,
       "text": [
        "([1,3],10800,249,10784.625,None[])"
       ]
      }
     ],
     "prompt_number": 14
    },
    {
     "cell_type": "code",
     "collapsed": false,
     "input": [
      "S = [:\u03d5b_RX2, :RArr, :LD2, :\u03d5b_U1]; S_lidx=  pattern.S2LIDX(S);"
     ],
     "language": "python",
     "metadata": {},
     "outputs": [],
     "prompt_number": 2
    },
    {
     "cell_type": "code",
     "collapsed": false,
     "input": [
      "S, ctmdpPolicy(S)"
     ],
     "language": "python",
     "metadata": {},
     "outputs": [
      {
       "metadata": {},
       "output_type": "pyout",
       "prompt_number": 3,
       "text": [
        "([:\u03d5b_RX2,:RArr,:LD2,:\u03d5b_U1],(2,:\u03d5a_RArrD3))"
       ]
      }
     ],
     "prompt_number": 3
    },
    {
     "cell_type": "code",
     "collapsed": false,
     "input": [
      "pols = typeof(pattern.g_noaction)[]\n",
      "sizehint(pols,100)\n",
      "@time for i in 1:100\n",
      "    act = mctsPolicy(S)\n",
      "    push!(pols, act)\n",
      "end"
     ],
     "language": "python",
     "metadata": {},
     "outputs": [
      {
       "output_type": "stream",
       "stream": "stdout",
       "text": [
        "elapsed time: 28"
       ]
      },
      {
       "output_type": "stream",
       "stream": "stdout",
       "text": [
        ".136803178 seconds (2697701240 bytes allocated, 5.19% gc time)\n"
       ]
      }
     ],
     "prompt_number": 9
    },
    {
     "cell_type": "code",
     "collapsed": false,
     "input": [
      "d = Dict(unique(pols),[0. for a in unique(pols)]);\n",
      "for a in unique(pols)\n",
      "    n = find(x -> x == a, pols)\n",
      "    d[a] = length(n)/length(pols)\n",
      "end\n",
      "d"
     ],
     "language": "python",
     "metadata": {},
     "outputs": [
      {
       "metadata": {},
       "output_type": "pyout",
       "prompt_number": 10,
       "text": [
        "Dict{(Int8,Symbol),Float64} with 1 entry:\n",
        "  (2,:\u03d5a_RArrD3) => 1.0"
       ]
      }
     ],
     "prompt_number": 10
    },
    {
     "cell_type": "code",
     "collapsed": false,
     "input": [
      "mcts.pars.buildTree = true"
     ],
     "language": "python",
     "metadata": {},
     "outputs": [
      {
       "metadata": {},
       "output_type": "pyout",
       "prompt_number": 11,
       "text": [
        "true"
       ]
      }
     ],
     "prompt_number": 11
    },
    {
     "cell_type": "code",
     "collapsed": false,
     "input": [
      "#srand(mcts.pars.rng, uint32(0))\n",
      "mctsPolicy(S)"
     ],
     "language": "python",
     "metadata": {},
     "outputs": [
      {
       "metadata": {},
       "output_type": "pyout",
       "prompt_number": 12,
       "text": [
        "(2,:\u03d5a_RArrD3)"
       ]
      }
     ],
     "prompt_number": 12
    },
    {
     "cell_type": "code",
     "collapsed": false,
     "input": [
      "function tree2json(stats, Sroot; level = :State, actIdx = 0, depth = 0, cnt=0)\n",
      "    \n",
      "    if depth > 8\n",
      "        return \"\\\"X?\\\"\"\n",
      "    end\n",
      "\n",
      "    skey = pattern.S2LIDX(Sroot)\n",
      "    cS = stats[skey]\n",
      "    nA = length(cS.n)\n",
      "    \n",
      "    rootStr = \"\"\n",
      "    childs = [\"\"]\n",
      "    \n",
      "    if level == :State\n",
      "        rootStr = replace(string(Sroot)*\"($cnt)\",\":\",\"\")\n",
      "        \n",
      "        childs = [tree2json(stats, Sroot, level = :Act, actIdx = a, depth = depth) for a in 1:nA]\n",
      "        #concatenate childs into a string\n",
      "        \n",
      "    elseif level == :Act\n",
      "        action = pattern.validActions(Sroot)[actIdx]\n",
      "        \n",
      "        q = cS.q[actIdx]\n",
      "        n = int32(cS.n[actIdx])\n",
      "        actionStr = replace(string(action),\":\", \"\")\n",
      "        rootStr = \"$action $q ($n)\"\n",
      "                \n",
      "        childs = [tree2json(stats, pattern.LIDX2S(Snext_lidx), level = :State, actIdx = actIdx, depth = depth+1, cnt=N) \n",
      "                            for (Snext_lidx, N) in cS.STree[actIdx]]         \n",
      "    else\n",
      "        error(\"oops $level\") \n",
      "    end\n",
      "\n",
      "    childStr = join(childs, \",\")\n",
      "    \n",
      "    Out = \"\"\"\n",
      "            {\n",
      "              \"name\": \"$rootStr\",\n",
      "              \"children\": [$childStr]\n",
      "            }\n",
      "          \"\"\"\n",
      "    \n",
      "    return Out\n",
      "end"
     ],
     "language": "python",
     "metadata": {},
     "outputs": [
      {
       "metadata": {},
       "output_type": "pyout",
       "prompt_number": 22,
       "text": [
        "tree2json (generic function with 1 method)"
       ]
      }
     ],
     "prompt_number": 22
    },
    {
     "cell_type": "code",
     "collapsed": false,
     "input": [
      "treeStr = @time tree2json(mcts.stats, S);"
     ],
     "language": "python",
     "metadata": {},
     "outputs": [
      {
       "output_type": "stream",
       "stream": "stdout",
       "text": [
        "elapsed time: 20"
       ]
      },
      {
       "output_type": "stream",
       "stream": "stdout",
       "text": [
        ".425929439 seconds (6763920972 bytes allocated, 16.28% gc time)\n"
       ]
      }
     ],
     "prompt_number": 23
    },
    {
     "cell_type": "code",
     "collapsed": false,
     "input": [
      "f = open(\"./MCTS_viz/treedata.json\",\"w\");\n",
      "write(f,treeStr)\n",
      "close(f)"
     ],
     "language": "python",
     "metadata": {},
     "outputs": [],
     "prompt_number": 24
    },
    {
     "cell_type": "code",
     "collapsed": false,
     "input": [
      "loo = pattern.S2LIDX([:\u03d5c_RX2,:\u03d5a_RArrD3,:LD2,:\u03d5b_U1])"
     ],
     "language": "python",
     "metadata": {},
     "outputs": [
      {
       "metadata": {},
       "output_type": "pyout",
       "prompt_number": 51,
       "text": [
        "148526343"
       ]
      }
     ],
     "prompt_number": 51
    },
    {
     "cell_type": "code",
     "collapsed": false,
     "input": [],
     "language": "python",
     "metadata": {},
     "outputs": []
    },
    {
     "cell_type": "code",
     "collapsed": false,
     "input": [
      "for k in keys(mcts.stats)\n",
      "    STree = mcts.stats[k].STree\n",
      "    for a in 1:length(STree)\n",
      "        if loo in keys(STree[a])\n",
      "            println(\"Found loo in \", pattern.LIDX2S(k), \" $a\") \n",
      "        end\n",
      "    end\n",
      "end"
     ],
     "language": "python",
     "metadata": {},
     "outputs": [
      {
       "output_type": "stream",
       "stream": "stdout",
       "text": [
        "Found loo in "
       ]
      },
      {
       "output_type": "stream",
       "stream": "stdout",
       "text": [
        "[:\u03d5c_RX2,:RArr,:LD2,:\u03d5b_U1] 4\n",
        "Found loo in [:\u03d5c_RX2,:RArr,:LD2,:\u03d5b_U1] 6\n",
        "Found loo in [:\u03d5b_RX2,:\u03d5a_RArrD3,:LD2,:\u03d5b_U1] 1\n",
        "Found loo in [:\u03d5b_RX2,:\u03d5a_RArrD3,:LD2,:\u03d5b_U1] 2\n",
        "Found loo in [:\u03d5b_RX2,:\u03d5a_RArrD3,:LD2,:\u03d5b_U1] 3\n"
       ]
      }
     ],
     "prompt_number": 56
    },
    {
     "cell_type": "code",
     "collapsed": false,
     "input": [
      "S'"
     ],
     "language": "python",
     "metadata": {},
     "outputs": [
      {
       "metadata": {},
       "output_type": "pyout",
       "prompt_number": 4,
       "text": [
        "1x4 Array{Symbol,2}:\n",
        " :\u03d5b_RX2  :RArr  :LD2  :\u03d5b_U1"
       ]
      }
     ],
     "prompt_number": 4
    },
    {
     "cell_type": "code",
     "collapsed": false,
     "input": [
      "pattern.getNextPerms_CTMDP(S)"
     ],
     "language": "python",
     "metadata": {},
     "outputs": [
      {
       "metadata": {},
       "output_type": "pyout",
       "prompt_number": 6,
       "text": [
        "7-element Array{Array{Symbol,1},1}:\n",
        " [:\u03d5c_RX2,:RArr,:LD2,:\u03d5b_U1]     \n",
        " [:\u03d5b_RX2,:\u03d5a_RArrD1,:LD2,:\u03d5b_U1]\n",
        " [:\u03d5b_RX2,:\u03d5a_RArrD2,:LD2,:\u03d5b_U1]\n",
        " [:\u03d5b_RX2,:\u03d5a_RArrD3,:LD2,:\u03d5b_U1]\n",
        " [:\u03d5b_RX2,:RArr,:\u03d5a_LB1,:\u03d5b_U1]  \n",
        " [:\u03d5b_RX2,:RArr,:\u03d5a_LD3,:\u03d5b_U1]  \n",
        " [:\u03d5b_RX2,:RArr,:LD2,:\u03d5c_U1]     "
       ]
      }
     ],
     "prompt_number": 6
    },
    {
     "cell_type": "code",
     "collapsed": false,
     "input": [
      "SS_list = typeof(S)[]\n",
      "N = 10000\n",
      "transTimes = Array(Float64,N)\n",
      "sizehint(SS_list,N)\n",
      "for i in 1:N\n",
      "    Snew = copy(S)\n",
      "    transTimes[i] = CTMDP_mcts.getNextState!(Snew, S, pattern.g_noaction, mcts.pars.rng)\n",
      "    push!(SS_list, Snew)\n",
      "end"
     ],
     "language": "python",
     "metadata": {},
     "outputs": [],
     "prompt_number": 8
    },
    {
     "cell_type": "code",
     "collapsed": false,
     "input": [
      "for Su in unique(SS_list)\n",
      "    n = find(x-> x== Su, SS_list)\n",
      "    println(Su,\"\\t\", pattern.S2LIDX(Su), \" :\\t\", length(n)/length(SS_list))\n",
      "end\n",
      "println(\"Mean transition = \", mean(transTimes))"
     ],
     "language": "python",
     "metadata": {},
     "outputs": [
      {
       "output_type": "stream",
       "stream": "stdout",
       "text": [
        "[:"
       ]
      },
      {
       "output_type": "stream",
       "stream": "stdout",
       "text": [
        "\u03d5b_RX2,:RArr,:LD2,:\u03d5c_U1]\t149347632 :\t0.2364\n",
        "[:\u03d5c_RX2,:RArr,:LD2,:\u03d5b_U1]\t147746070 :\t0.5092\n",
        "[:\u03d5b_RX2,:RArr,:\u03d5a_LD3,:\u03d5b_U1]\t149352831 :\t0.1173\n",
        "[:\u03d5b_RX2,:RArr,:\u03d5a_LB1,:\u03d5b_U1]\t149355873 :\t0.1211\n",
        "[:\u03d5b_RX2,:\u03d5a_RArrD2,:LD2,:\u03d5b_U1]\t150319602 :\t0.0056\n",
        "[:\u03d5b_RX2,:\u03d5a_RArrD3,:LD2,:\u03d5b_U1]\t150127956 :\t0.0052\n",
        "[:\u03d5b_RX2,:\u03d5a_RArrD1,:LD2,:\u03d5b_U1]\t150045822 :\t0.0052\n",
        "Mean transition = 4.278778994685492\n"
       ]
      }
     ],
     "prompt_number": 17
    },
    {
     "cell_type": "code",
     "collapsed": false,
     "input": [
      "[(s, pattern.teaTime[s]) for s in S]"
     ],
     "language": "python",
     "metadata": {},
     "outputs": [
      {
       "metadata": {},
       "output_type": "pyout",
       "prompt_number": 58,
       "text": [
        "4-element Array{(Any,Any),1}:\n",
        " (:\u03d5b_RX2,8.2675)\n",
        " (:RArr,250.7)   \n",
        " (:LD2,18.2225)  \n",
        " (:\u03d5b_U1,18.4125)"
       ]
      }
     ],
     "prompt_number": 58
    },
    {
     "cell_type": "code",
     "collapsed": false,
     "input": [
      "ctmdpPolicy(S)"
     ],
     "language": "python",
     "metadata": {},
     "outputs": [
      {
       "metadata": {},
       "output_type": "pyout",
       "prompt_number": 28,
       "text": [
        "(2,:\u03d5a_RArrD3)"
       ]
      }
     ],
     "prompt_number": 28
    },
    {
     "cell_type": "code",
     "collapsed": false,
     "input": [
      "for Sn in NextSt\n",
      "for k in keys(mcts.stats)\n",
      "    println(k,CTMDP_kronindexing.LIDX2S(k))\n",
      "    break\n",
      "end"
     ],
     "language": "python",
     "metadata": {},
     "outputs": [
      {
       "output_type": "stream",
       "stream": "stdout",
       "text": [
        "176578632"
       ]
      },
      {
       "output_type": "stream",
       "stream": "stdout",
       "text": [
        "[:\u03d5b_RD0,:RArr,:\u03d5b_LD3,:RX1]\n"
       ]
      }
     ],
     "prompt_number": 11
    },
    {
     "cell_type": "code",
     "collapsed": false,
     "input": [
      "pattern.validActions(S)"
     ],
     "language": "python",
     "metadata": {},
     "outputs": [
      {
       "ename": "LoadError",
       "evalue": "S not defined\nwhile loading In[14], in expression starting on line 1",
       "output_type": "pyerr",
       "traceback": [
        "S not defined\nwhile loading In[14], in expression starting on line 1",
        ""
       ]
      }
     ],
     "prompt_number": 14
    },
    {
     "cell_type": "code",
     "collapsed": false,
     "input": [
      "mcts.stats[149347683]"
     ],
     "language": "python",
     "metadata": {},
     "outputs": [
      {
       "metadata": {},
       "output_type": "pyout",
       "prompt_number": 27,
       "text": [
        "StateStat(Float32[337.0,325.0,341.0,338.0,322.0,337.0],Float32[-157.756,-170.471,-152.383,-157.034,-174.051,-156.586])"
       ]
      }
     ],
     "prompt_number": 27
    },
    {
     "cell_type": "code",
     "collapsed": false,
     "input": [
      "# tstart = 4667.5\n",
      "# tend = tstart + 10\n",
      "# for t = (tstart:.25:tend)\n",
      "#     idx = t * 4\n",
      "#     if idx > length(aircraftList[1].sLocHist)\n",
      "#         break\n",
      "#     end\n",
      "#     S = Symbol[ac.sLocHist[idx] for ac in aircraftList]\n",
      "#     println(t, \" \", S, \"\\t\\t=>\", policy(S))\n",
      "# end"
     ],
     "language": "python",
     "metadata": {},
     "outputs": [],
     "prompt_number": 10
    },
    {
     "cell_type": "code",
     "collapsed": false,
     "input": [
      "plot3dsim(aircraftList, int64(length(aircraftList[1].path)/20 - 80),1000,1000)"
     ],
     "language": "python",
     "metadata": {},
     "outputs": [
      {
       "metadata": {},
       "output_type": "display_data",
       "png": "[encoded data removed]",
       "text": [
        "Figure(PyObject <matplotlib.figure.Figure object at 0x7fd321b58650>)"
       ]
      },
      {
       "metadata": {},
       "output_type": "pyout",
       "prompt_number": 21,
       "text": [
        "true"
       ]
      }
     ],
     "prompt_number": 21
    },
    {
     "cell_type": "code",
     "collapsed": false,
     "input": [
      "#pygui(false)\n",
      "#plot3dsim(aircraftList, int64(length(aircraftList[1].path)/20 - 70))"
     ],
     "language": "python",
     "metadata": {},
     "outputs": [],
     "prompt_number": 15
    },
    {
     "cell_type": "code",
     "collapsed": false,
     "input": [
      "animate3dsim(aircraftList, nstart=1)"
     ],
     "language": "python",
     "metadata": {},
     "outputs": [
      {
       "metadata": {},
       "output_type": "pyout",
       "prompt_number": 16,
       "text": [
        "false"
       ]
      }
     ],
     "prompt_number": 16
    },
    {
     "cell_type": "code",
     "collapsed": false,
     "input": [
      "betaVals = [0.0f0]#, 0.001f0]\n",
      "Nbatch = 1 #10?\n",
      "tBatchHours = 20\n",
      "seedVal = uint32(0)\n",
      "\n",
      "tic()\n",
      "results = runBatchSims(betaVals, tBatchHours, Nbatch, seedVal, loadMCTSPolicy;\n",
      "                    Verbosity=:Low, saveCollPos=true, saveSeeds=true);\n",
      "toc()"
     ],
     "language": "python",
     "metadata": {},
     "outputs": [
      {
       "output_type": "stream",
       "stream": "stdout",
       "text": [
        "Running with seed: 0"
       ]
      },
      {
       "output_type": "stream",
       "stream": "stdout",
       "text": [
        "\n",
        " t = 0.0 (mins)  Simulated Hours = 0.0  / 20.0 -> Perf = NaN (hr_to_nmac 0.0 | 0) \t Batch = 1 / 1 betaIdx= 1 / 1 atcIdx= 1 / 1\n",
        " t = 3.67 (mins) "
       ]
      },
      {
       "output_type": "stream",
       "stream": "stdout",
       "text": [
        " Simulated Hours = 5.02  / 20.0 -> Perf = 2.5 (hr_to_nmac 5.0 | 2) \t Batch = 1 / 1 betaIdx= 1 / 1 atcIdx= 1 / 1\n",
        " t = 6.74 (mins) "
       ]
      },
      {
       "output_type": "stream",
       "stream": "stdout",
       "text": [
        " Simulated Hours = 8.94  / 20.0 -> Perf = 1.78 (hr_to_nmac 8.9 | 5) \t Batch = 1 / 1 betaIdx= 1 / 1 atcIdx= 1 / 1\n",
        " t = 13.53 (mins) "
       ]
      },
      {
       "output_type": "stream",
       "stream": "stdout",
       "text": [
        " Simulated Hours = 17.75  / 20.0 -> Perf = 2.94 (hr_to_nmac 17.67 | 6) \t Batch = 1 / 1 betaIdx= 1 / 1 atcIdx= 1 / 1\n",
        "Finished processing (total runtime: 15.16 minutes)"
       ]
      },
      {
       "output_type": "stream",
       "stream": "stdout",
       "text": [
        "\n",
        "elapsed time: 910.128045658 seconds\n"
       ]
      },
      {
       "metadata": {},
       "output_type": "pyout",
       "prompt_number": 6,
       "text": [
        "910.128045658"
       ]
      }
     ],
     "prompt_number": 6
    },
    {
     "cell_type": "code",
     "collapsed": false,
     "input": [
      "JLD.save(\"/tmp/tmpResults_V0.01_fixed.jld\",\n",
      "                    \"betaVals\", results.betaVals,\n",
      "                    \"alertCounts\", results.alertCounts,\n",
      "                    \"flightTimes\", results.flightTimes, \n",
      "                    \"tTotals\", results.tTotals, \n",
      "                    \"nNMACcounts\", results.nNMACcounts,\n",
      "\"policy\", \"kron\", \"nPhases\", pattern.nPhases)"
     ],
     "language": "python",
     "metadata": {},
     "outputs": [],
     "prompt_number": 11
    },
    {
     "cell_type": "code",
     "collapsed": false,
     "input": [
      "plotPerfResults([\"/tmp/tmpResults_V0.01.jld\", \"/tmp/tmpResults_V0.01_fixed.jld\", \n",
      "                \"/tmp/tmpResults_V1_fixed.jld\",  \"/tmp/tmpResults_V1_fixed2.jld\"])\n",
      "PyPlot.xlim([0, 4])"
     ],
     "language": "python",
     "metadata": {},
     "outputs": [
      {
       "metadata": {},
       "output_type": "display_data",
       "png": "[encoded data removed]",
       "text": [
        "Figure(PyObject <matplotlib.figure.Figure object at 0x7f3f9f7ea150>)"
       ]
      },
      {
       "metadata": {},
       "output_type": "pyout",
       "prompt_number": 14,
       "text": [
        "(0,4)"
       ]
      }
     ],
     "prompt_number": 14
    },
    {
     "cell_type": "code",
     "collapsed": false,
     "input": [
      "sum(results.nNMACcounts[1,:,:])*1.0 , sum(results.nNMACcounts[2,:,:])*1.0 , "
     ],
     "language": "python",
     "metadata": {},
     "outputs": [
      {
       "ename": "LoadError",
       "evalue": "BoundsError()\nwhile loading In[7], in expression starting on line 1",
       "output_type": "pyerr",
       "traceback": [
        "BoundsError()\nwhile loading In[7], in expression starting on line 1",
        "",
        " in checkbounds at abstractarray.jl:62",
        " in checkbounds at abstractarray.jl:92",
        " in getindex at multidimensional.jl:49"
       ]
      }
     ],
     "prompt_number": 7
    },
    {
     "cell_type": "code",
     "collapsed": false,
     "input": [
      "function allElements(Arr)\n",
      "    N = sum([length(arr) for arr in Arr])\n",
      "    \n",
      "    Arr_new = typeof(Arr[1][1])[]\n",
      "    sizehint(Arr_new, N)\n",
      "    \n",
      "    for arr in Arr\n",
      "        for a in arr\n",
      "            push!(Arr_new, a)\n",
      "        end\n",
      "    end\n",
      "    \n",
      "    return Arr_new\n",
      "end"
     ],
     "language": "python",
     "metadata": {},
     "outputs": [
      {
       "metadata": {},
       "output_type": "pyout",
       "prompt_number": 8,
       "text": [
        "allElements (generic function with 1 method)"
       ]
      }
     ],
     "prompt_number": 8
    },
    {
     "cell_type": "code",
     "collapsed": false,
     "input": [
      "fig, axes = PyPlot.subplots(nrows=2, ncols=1, sharex=true, sharey=true, figsize=(8,8.5))\n",
      "#fig[:subplots_adjust](hspace=1)\n",
      "\n",
      "\n",
      "k = 0\n",
      "for betaIdx in 1:1\n",
      "    k += 1\n",
      "    PyPlot.subplot(2,1,k)\n",
      "    colls = allElements((results.collisionPos[betaIdx,1,:]))\n",
      "    seeds = allElements((results.seedValues[betaIdx,1,:]))\n",
      "    \n",
      "    Y = [p.n for p in colls]\n",
      "    X = [p.e for p in colls]\n",
      "    \n",
      "#     matrix = PyPlot.hist2D(X,Y,bins=[15,10]*6,cmin=0, \n",
      "#                 norm=PyPlot.matplotlib[:colors][:LogNorm]());#,color=colors[k],normed=true)#Y,linestyle=\"\", marker=\".\",markersize=2,color=colors[k])    \n",
      "    \n",
      "    PyPlot.plot(X,Y, linestyle=\"\", marker=\".\")  \n",
      "    for (sidx, s) in enumerate(seeds)\n",
      "#         if Y[sidx] > 1000 && abs(X[sidx]) < 100\n",
      "            PyPlot.text(X[sidx], Y[sidx], string(s), fontsize=14)\n",
      "            #break\n",
      "#         end\n",
      "    end\n",
      "    \n",
      "    \n",
      "    ax = PyPlot.gca();\n",
      "    # #PyPlot.axis(\"equal\")\n",
      "    PyPlot.ylabel(\"North\")\n",
      "    k == 2 && PyPlot.xlabel(\"East\")\n",
      "    PyPlot.xlim([-1, 1]*8000)\n",
      "    PyPlot.ylim([-1, 1]*3000)\n",
      "    #ax[:set_aspect](1.5)    \n",
      "    PyPlot.grid(\"on\")\n",
      "    nCol = sum(results.nNMACcounts[betaIdx,:,:])*1.\n",
      "    PyPlot.title(\"Beta=\"*string(results.betaVals[betaIdx])*\" nCol=\"*string(nCol),loc=\"left\",fontsize=14)\n",
      "end\n",
      "\n",
      "cax = PyPlot.axes([0.925, 0.1, 0.03, .8])\n",
      "#PyPlot.colorbar(ax=axes,cax=cax, use_gridspec=false,orientation=\"vertical\")#, pad=.1, anchor=(6, 6.0))\n",
      "#plt.savefig(\"/home/zouhair/Dropbox/AA229/project/ATMS2015/collision_location.pgf\", bbox_inches=\"tight\")"
     ],
     "language": "python",
     "metadata": {},
     "outputs": [
      {
       "metadata": {},
       "output_type": "display_data",
       "png": "[encoded data removed]",
       "text": [
        "Figure(PyObject <matplotlib.figure.Figure object at 0x7fb81ac08590>)"
       ]
      },
      {
       "metadata": {},
       "output_type": "pyout",
       "prompt_number": 15,
       "text": [
        "PyObject <matplotlib.axes.Axes object at 0x7fb81849a350>"
       ]
      }
     ],
     "prompt_number": 15
    },
    {
     "cell_type": "code",
     "collapsed": false,
     "input": [
      "# histData_x = Vector{Float64}[]\n",
      "# histData_y = Vector{Float64}[]\n",
      "\n",
      "# for b in 1:size(tStat,1)\n",
      "#     for k in 1:size(tStat,2)\n",
      "#         tS_ = tStat[b,k,:] #Float64[x > 3600*20 ? NaN : x for x in tStat[b,k,:]];\n",
      "#         tS_ = tS_[!isnan(tS_)]/3600\n",
      "#         data = PyPlot.hist(tS_,1000, histtype=\"step\", cumulative=true, normed=true, align=\"right\")\n",
      "#         push!(histData_x, [0, data[2][1:end-1]]) #x-data\n",
      "#         push!(histData_y, [0, data[1]]) #y-data\n",
      "#     end\n",
      "# end\n",
      "# PyPlot.clf();\n",
      "\n",
      "\n",
      "# #beta = 0.01 {MDP, MDP2, None}\n",
      "# #beta = 0.5 {MDP, MDP2, None}\n",
      "\n",
      "# #green, green --, blue\n",
      "# #red, red --, blue\n",
      "\n",
      "# #None: Blue, Blue --\n",
      "# #beta = 0.01: Green, Green --\n",
      "# #beta = 0.5: Red, Red --\n",
      "\n",
      "# betaColors = [\"g\", \"r\", \"b\", \"c\"]\n",
      "# assert(length(betaColors) == NbetaVals)\n",
      "# colors = vcat([[c,\"k\"] for c in betaColors]...)\n",
      "\n",
      "# linestyles = [\"-\",\"--\",\"-\"]#, \"-\",\"--\",\"-\"]\n",
      "\n",
      "# betaValStr = [string(\u03b2) for \u03b2 in betaVals]\n",
      "# legends = [\"auto-ATC: event-driven, \\$\\\\beta\\$=\"*betaValStr[1], \"silent ATC\",           \n",
      "#            \"auto-ATC: event-driven, \\$\\\\beta\\$=\"*betaValStr[2], #skipped\n",
      "#            \"auto-ATC: event-driven, \\$\\\\beta\\$=\"*betaValStr[3],#skipped\n",
      "#            \"auto-ATC: event-driven, \\$\\\\beta\\$=\"*betaValStr[4]]#skipped]\n",
      "    \n",
      "# idx = 0\n",
      "# for b in 1:size(tStat,1) #different betas 0, 0.01 , 0.5, etc\n",
      "#     for k in 1:size(tStat,2) #different policies  MDP(, MDP2 (green), None (blue)\n",
      "#         idx += 1\n",
      "#         if atcTypes[k] == :None && b > 1\n",
      "#             continue\n",
      "#         end\n",
      "#         PyPlot.plot(histData_y[idx],histData_x[idx], color = colors[idx], linestyle=\"-\") #linestyles[(idx-1)%2 + 1])\n",
      "#     end\n",
      "# end\n",
      "\n",
      "# PyPlot.grid(\"on\")\n",
      "# PyPlot.ylabel(\"Time to first NMAC (hours)\")\n",
      "# PyPlot.xlabel(\"Probability\")\n",
      "# PyPlot.xlim([0,1])\n",
      "# PyPlot.ylim([0,20])\n",
      "\n",
      "# ax = PyPlot.gca();\n",
      "# #ax[:set_aspect](1/40.);\n",
      "# leg = PyPlot.legend(legends,bbox_to_anchor=(0.5, 1.25), loc = 9, ncol=3, fontsize=12, numpoints=3)\n",
      "# # set the linewidth of each legend object\n",
      "# for legobj in leg[:legendHandles]\n",
      "#     legobj[:set_linewidth](2.0)\n",
      "# end\n",
      "# # plt.savefig(\"./results/CTMDP_2phases_cdf.pdf\", bbox_inches=\"tight\")"
     ],
     "language": "python",
     "metadata": {},
     "outputs": []
    },
    {
     "cell_type": "code",
     "collapsed": false,
     "input": [
      "# alertRates = similar(tStat)\n",
      "# #First axis of tStat is beta, second axis is ATC type (MDP, MDP_period, NONE)\n",
      "# for b in 1:size(tStat,1)\n",
      "#     for k in 1:size(tStat,2)\n",
      "#         tS_minutes = tStat[b,k,:]/60.\n",
      "#         alertRates[b, k, :] = alertCounts[b,k,:] ./ tS_minutes\n",
      "#     end\n",
      "# end\n",
      "\n",
      "# boxData = {alertRates[b,1,:][:] for b in 1:NbetaVals}\n",
      "# push!(boxData, alertRates[1,end,:][:])\n",
      "# PyPlot.boxplot(boxData)\n",
      "\n",
      "# PyPlot.ylim([-0.05,2.0])\n",
      "# PyPlot.ylabel(\"Intervention rate (commands / minute)\")\n",
      "\n",
      "# xLabels = [\"auto-ATC \\$\\\\beta\\$=\"*betaValStr[b] for b in 1:NbetaVals]\n",
      "# push!(xLabels,\"silent-ATC\")\n",
      "\n",
      "\n",
      "# PyPlot.xticks(1:(NbetaVals+1), xLabels)\n",
      "# PyPlot.grid(\"on\")\n",
      "\n",
      "# # plt.savefig(\"./results/CTMDP_2phases_alert_rate.pdf\", bbox_inches=\"tight\")\n",
      "\n"
     ],
     "language": "python",
     "metadata": {},
     "outputs": []
    },
    {
     "cell_type": "code",
     "collapsed": false,
     "input": [
      "# #First axis is betas, second axis is atc type (MDP, MDP_perio, NONE)\n",
      "# boxData = {flightTimes[b,1,:][:]/3600 for b in 1:NbetaVals}\n",
      "# push!(boxData, flightTimes[1,end,:][:]/3600)\n",
      "# PyPlot.boxplot(boxData)\n",
      "\n",
      "\n",
      "# PyPlot.ylim([-0.05,10])\n",
      "# PyPlot.ylabel(\"Flight Hours Before NMAC\")\n",
      "# PyPlot.xticks(1:(NbetaVals+1), xLabels)\n",
      "# PyPlot.grid(\"on\")\n",
      "# #plt.savefig(\"./results/CTMDP_4phases_flight_hours.pgf\", bbox_inches=\"tight\")\n"
     ],
     "language": "python",
     "metadata": {},
     "outputs": []
    },
    {
     "cell_type": "code",
     "collapsed": false,
     "input": [
      "# boxData = {nNMACcounts[b,1,:][:] for b in 1:NbetaVals}\n",
      "# push!(boxData, nNMACcounts[1,end,:][:])\n",
      "# boxData = boxData / (tBatchTime/3600)\n",
      "# PyPlot.boxplot(boxData)\n",
      "\n",
      "\n",
      "# xLabels = [\"auto-ATC \\$\\\\beta\\$=\"*betaValStr[b] for b in 1:NbetaVals]\n",
      "# push!(xLabels,\"silent-ATC\")\n",
      "# PyPlot.ylim([0, 2])\n",
      "# #PyPlot.ylabel(\"NMACs per hour\")\n",
      "# PyPlot.xticks(1:(NbetaVals+1), xLabels)\n",
      "# PyPlot.grid(\"on\")\n",
      "# #plt.savefig(\"./results/NMACSperhour.pdf\", bbox_inches=\"tight\")"
     ],
     "language": "python",
     "metadata": {},
     "outputs": []
    },
    {
     "cell_type": "code",
     "collapsed": false,
     "input": [
      "@time save(\"./results/\"*policy_prefix*\"new_3DSimResults_n\"*string(pattern.nPhases)*\".jld\", \n",
      "\"tStat\", tStat, \"alertCounts\", alertCounts, \n",
      "\"flightTimes\", flightTimes, \"tTotals\", tTotals, \"nNMACcounts\", nNMACcounts);"
     ],
     "language": "python",
     "metadata": {},
     "outputs": []
    },
    {
     "cell_type": "code",
     "collapsed": false,
     "input": [
      "pattern.nPhases"
     ],
     "language": "python",
     "metadata": {},
     "outputs": []
    },
    {
     "cell_type": "code",
     "collapsed": false,
     "input": [
      "\"./results/\"*policy_prefix*\"new_3DSimResults_n\"*string(pattern.nPhases)*\".jld\""
     ],
     "language": "python",
     "metadata": {},
     "outputs": []
    }
   ],
   "metadata": {}
  }
 ]
}