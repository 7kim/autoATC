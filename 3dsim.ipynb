{
 "metadata": {
  "language": "Julia",
  "name": "",
  "signature": "sha256:42bc8c2912c6f340e294f89ea44b121b1daf4c84460b4791c22f669894f705cb"
 },
 "nbformat": 3,
 "nbformat_minor": 0,
 "worksheets": [
  {
   "cells": [
    {
     "cell_type": "code",
     "collapsed": false,
     "input": [
      "include(\"pattern.jl\");\n",
      "include(\"CTMDP.jl\")"
     ],
     "language": "python",
     "metadata": {},
     "outputs": [
      {
       "metadata": {},
       "output_type": "pyout",
       "prompt_number": 1,
       "text": [
        "sample (generic function with 1 method)"
       ]
      }
     ],
     "prompt_number": 1
    },
    {
     "cell_type": "code",
     "collapsed": false,
     "input": [
      "include(\"3dsim.jl\"); "
     ],
     "language": "python",
     "metadata": {},
     "outputs": [],
     "prompt_number": 12
    },
    {
     "cell_type": "code",
     "collapsed": false,
     "input": [
      "# \u03b1 = 1.0;\n",
      "\n",
      "# policy_prefix = \"greedyRandom_\"\n",
      "# #policy_prefix = \"\"\n",
      "# Aopt = loadPolicy(1.,0.0f0, prefix=policy_prefix)\n",
      "# ctmdpPolicy = S -> policy_S2a(S, Aopt)"
     ],
     "language": "python",
     "metadata": {},
     "outputs": [],
     "prompt_number": 3
    },
    {
     "cell_type": "code",
     "collapsed": false,
     "input": [
      "# ctmdpPolicy([:LD2, :RB1, :R, :U1])"
     ],
     "language": "python",
     "metadata": {},
     "outputs": [],
     "prompt_number": 4
    },
    {
     "cell_type": "code",
     "collapsed": false,
     "input": [
      "include(\"CTMDP_mcts.jl\")"
     ],
     "language": "python",
     "metadata": {},
     "outputs": [
      {
       "output_type": "stream",
       "stream": "stderr",
       "text": [
        "Warning: redefining constant g_Scomp\n",
        "Warning: redefining constant g_Xcomp\n",
        "Warning: redefining constant g_X2CIDX_dict\n"
       ]
      },
      {
       "metadata": {},
       "output_type": "pyout",
       "prompt_number": 5,
       "text": [
        "(anonymous function)"
       ]
      }
     ],
     "prompt_number": 5
    },
    {
     "cell_type": "code",
     "collapsed": false,
     "input": [
      "@time mctsPolicy([:LD2, :\u03d52_RB1, :R, :U1])"
     ],
     "language": "python",
     "metadata": {},
     "outputs": [
      {
       "output_type": "stream",
       "stream": "stdout",
       "text": [
        "elapsed time: 0."
       ]
      },
      {
       "output_type": "stream",
       "stream": "stdout",
       "text": [
        "087465413 seconds (11816288 bytes allocated)\n"
       ]
      },
      {
       "metadata": {},
       "output_type": "pyout",
       "prompt_number": 8,
       "text": [
        "(4,:\u03d51_LX1)"
       ]
      }
     ],
     "prompt_number": 8
    },
    {
     "cell_type": "code",
     "collapsed": false,
     "input": [
      "# if isdefined(current_module(),:LastMain) && isdefined(LastMain,:PyPlot)\n",
      "#   using LastMain.PyPlot\n",
      "#   using LastMain.PyCall\n",
      "# else\n",
      "#   using PyPlot\n",
      "#   using PyCall\n",
      "# end\n",
      "# @pyimport matplotlib.animation as anim\n",
      "# linewidth = 0.4\n",
      "# plt.rc(\"axes\", linewidth=linewidth)\n",
      "# plt.rc(\"font\", family=\"\")\n",
      "# plt.rc(\"axes\", titlesize=\"medium\", labelsize=\"medium\")\n",
      "# plt.rc(\"xtick\", labelsize=\"small\")\n",
      "# plt.rc(\"xtick.major\", width=linewidth/2)\n",
      "# plt.rc(\"ytick\", labelsize=\"small\")\n",
      "# plt.rc(\"ytick.major\", width=linewidth/2)\n",
      "# plt.rc(\"legend\", fontsize=\"large\")\n",
      "# plt.rc(\"axes\" ,unicode_minus=false)"
     ],
     "language": "python",
     "metadata": {},
     "outputs": [],
     "prompt_number": 7
    },
    {
     "cell_type": "code",
     "collapsed": false,
     "input": [
      "#airplaneType.simPars.maxNoiseAlt = 0."
     ],
     "language": "python",
     "metadata": {},
     "outputs": [],
     "prompt_number": 8
    },
    {
     "cell_type": "code",
     "collapsed": false,
     "input": [
      "# srand(pattern.rng,uint32(1));\n",
      "aircraftList = [airplane(50,:U1), airplane(50, :LD2), airplane(50, :R), airplane(50, :T)];"
     ],
     "language": "python",
     "metadata": {},
     "outputs": [],
     "prompt_number": 16
    },
    {
     "cell_type": "code",
     "collapsed": false,
     "input": [
      "@time (idmin, tmax, alertCount) = simulate!(aircraftList,100,:Smart,ctmdpPolicy, stopEarly=true, savepath=true); tmax, alertCount"
     ],
     "language": "python",
     "metadata": {},
     "outputs": [
      {
       "ename": "LoadError",
       "evalue": "ctmdpPolicy not defined\nwhile loading In[10], in expression starting on line 56",
       "output_type": "pyerr",
       "traceback": [
        "ctmdpPolicy not defined\nwhile loading In[10], in expression starting on line 56",
        ""
       ]
      }
     ],
     "prompt_number": 10
    },
    {
     "cell_type": "code",
     "collapsed": false,
     "input": [
      "using ProfileView"
     ],
     "language": "python",
     "metadata": {},
     "outputs": [],
     "prompt_number": 45
    },
    {
     "cell_type": "code",
     "collapsed": false,
     "input": [
      "Profile.clear()\n",
      "Profile.init(n=1000000*100)"
     ],
     "language": "python",
     "metadata": {},
     "outputs": [],
     "prompt_number": 49
    },
    {
     "cell_type": "code",
     "collapsed": false,
     "input": [
      "@time (idmin, tmax, alertCount, flightTime) = simulate!(aircraftList,1000,:Smart,mctsPolicy, stopEarly=true, savepath=false); #tmax, alertCount"
     ],
     "language": "python",
     "metadata": {},
     "outputs": [
      {
       "output_type": "stream",
       "stream": "stdout",
       "text": [
        "elapsed time: 8"
       ]
      },
      {
       "output_type": "stream",
       "stream": "stdout",
       "text": [
        ".011811257 seconds (426156152 bytes allocated, 44.56% gc time)\n"
       ]
      },
      {
       "metadata": {},
       "output_type": "pyout",
       "prompt_number": 17,
       "text": [
        "([1,3],1000,20,986.0,None[])"
       ]
      }
     ],
     "prompt_number": 17
    },
    {
     "cell_type": "code",
     "collapsed": false,
     "input": [
      "20*60/100"
     ],
     "language": "python",
     "metadata": {},
     "outputs": [
      {
       "metadata": {},
       "output_type": "pyout",
       "prompt_number": 19,
       "text": [
        "12.0"
       ]
      }
     ],
     "prompt_number": 19
    },
    {
     "cell_type": "code",
     "collapsed": false,
     "input": [
      "mctsPolicy([:\u03d51_LD2,:GO,:LD1,:R ])"
     ],
     "language": "python",
     "metadata": {},
     "outputs": [
      {
       "metadata": {},
       "output_type": "pyout",
       "prompt_number": 77,
       "text": [
        "(2,:\u03d51_LX2)"
       ]
      }
     ],
     "prompt_number": 77
    },
    {
     "cell_type": "code",
     "collapsed": false,
     "input": [
      "pattern.validActions([:\u03d51_LD2,:GO,:LD1,:R ])"
     ],
     "language": "python",
     "metadata": {},
     "outputs": [
      {
       "metadata": {},
       "output_type": "pyout",
       "prompt_number": 81,
       "text": [
        "1-element Array{(Int8,Symbol),1}:\n",
        " (0,:\u2205)"
       ]
      }
     ],
     "prompt_number": 81
    },
    {
     "cell_type": "code",
     "collapsed": false,
     "input": [
      "pattern.validActions!(actWorkspace,[:\u03d51_LD2,:GO,:LD1,:R ])"
     ],
     "language": "python",
     "metadata": {},
     "outputs": [
      {
       "metadata": {},
       "output_type": "pyout",
       "prompt_number": 82,
       "text": [
        "1"
       ]
      }
     ],
     "prompt_number": 82
    },
    {
     "cell_type": "code",
     "collapsed": false,
     "input": [
      "actWorkspace"
     ],
     "language": "python",
     "metadata": {},
     "outputs": [
      {
       "metadata": {},
       "output_type": "pyout",
       "prompt_number": 83,
       "text": [
        "17-element Array{(Int8,Symbol),1}:\n",
        "    (0,:\u2205)     \n",
        "    (2,:\u03d51_LX2)\n",
        "    (2,:\u03d51_RX2)\n",
        "    (2,:\u03d51_LX1)\n",
        "    (2,:\u03d51_RX1)\n",
        "    (2,:\u03d51_U2) \n",
        "    (4,:\u03d51_U2) \n",
        "    (3,:\u03d51_LD3)\n",
        "    (4,:\u03d51_U2) \n",
        "    (4,:\u03d51_RX2)\n",
        "    (4,:\u03d51_U2) \n",
        "    (4,:\u03d51_U2) \n",
        "    (4,:\u03d51_U2) \n",
        " #undef        \n",
        " #undef        \n",
        " #undef        \n",
        " #undef        "
       ]
      }
     ],
     "prompt_number": 83
    },
    {
     "cell_type": "code",
     "collapsed": false,
     "input": [
      "# plot([ sqrt(posType.distance2(aircraftList[2].path[i], aircraftList[3].path[i]))-150 < 0 for i in 1:length(aircraftList[2].path)])\n",
      "\n",
      "# plot([ abs(aircraftList[2].path[i].d - aircraftList[3].path[i].d)-30 < 0 for i in 1:length(aircraftList[2].path)])\n",
      "# ylim([-20, 20])\n",
      "# xlim([10000, 15000])\n",
      "# grid(\"on\");"
     ],
     "language": "python",
     "metadata": {},
     "outputs": [],
     "prompt_number": 7
    },
    {
     "cell_type": "code",
     "collapsed": false,
     "input": [
      "# make3d = false\n",
      "# function plot3dsim(i)\n",
      "#     outOfData = false;\n",
      "# b=0\n",
      "# g=0\n",
      "# if(make3d)\n",
      "#     ax = PyPlot.gca(projection=\"3d\")\n",
      "#     #ax[:view_init](0, 180)\n",
      "#     ax[:pbaspect] = [1,1,0.6]   \n",
      "# else\n",
      "#     #PyPlot.clf()\n",
      "#     ax = plt.gca()\n",
      "#         clf()\n",
      "#         hold(\"on\")\n",
      "# end\n",
      "\n",
      "# D3 = Vector{Float64}[]\n",
      "# XY = Vector{Float64}[]\n",
      "    \n",
      "#     dL = 20;\n",
      "#     dS = 20\n",
      "# for ac in aircraftList\n",
      "#         range = (1:dL) + (i-1)*dS\n",
      "#         if(range[end] > length(ac.path))\n",
      "#             range = (length(ac.path)-dL):length(ac.path)\n",
      "#             outOfData = true \n",
      "#         end\n",
      "\n",
      "#     Y = [p.n for p in ac.path[range]];\n",
      "#     X = [p.e for p in ac.path[range]];\n",
      "#     Z = -[p.d for p in ac.path[range]];\n",
      "#     N = length(X)\n",
      "#     if(make3d)\n",
      "#         di = 100\n",
      "#         for i in 1:di:(N-di)\n",
      "#             idx = i:(i+di)\n",
      "#             r = clip( mean(Z[idx]) / 300 , .05, 1.)    \n",
      "#             PyPlot.plot3D(Y[idx],X[idx],Z[idx],color=(r,g,0))\n",
      "#         end\n",
      "#         push!(D3, [Y[end], X[end], Z[end]])\n",
      "#         PyPlot.xlabel(\"North\")\n",
      "#         PyPlot.ylabel(\"East\")\n",
      "#         PyPlot.zlabel(\"Altitude\")\n",
      "#     else\n",
      "#         PyPlot.plot(X,Y)\n",
      "#         #PyPlot.axis(\"equal\")\n",
      "#         #PyPlot.ylabel(\"North\")\n",
      "#         #PyPlot.xlabel(\"East\")\n",
      "#     end\n",
      "#     g += 0.25\n",
      "# end\n",
      "\n",
      "# for d in D3\n",
      "#     PyPlot.scatter3D(d[1],d[2],d[3],marker=\"o\")         \n",
      "# end\n",
      "# #PyPlot.grid(\"on\")\n",
      "# if make3d\n",
      "#     ax[:set_ylim3d]([-5000, 5000])  \n",
      "# else\n",
      "#     ylim([-4000, 4000])\n",
      "#     xlim([-10000, 10000])\n",
      "#     grid(\"on\")\n",
      "#         hold(\"off\")\n",
      "# end\n",
      "    \n",
      "# return outOfData\n",
      "    \n",
      "# end\n",
      "# #plt.savefig(\"/home/zouhair/Dropbox/AA229/project/ATMS2015/3dpattern.pdf\", bbox_inches=\"tight\")"
     ],
     "language": "python",
     "metadata": {},
     "outputs": [],
     "prompt_number": 8
    },
    {
     "cell_type": "code",
     "collapsed": false,
     "input": [
      "# # plot in an external window since it doesn't work yet in IJulia\n",
      "# pygui(true)\n",
      "# # tell PyPlot that the plot is interactive\n",
      "# PyPlot.ion()\n",
      "# # . . . and that previous plots are overwritten\n",
      "# PyPlot.hold(false)\n",
      "# # start time-stepping loop\n",
      "# n = 1;\n",
      "# while(true)\n",
      "#     outOfData = plot3dsim(n)\n",
      "#     # . . .\n",
      "#     # Then force the draw\n",
      "#     PyPlot.draw()\n",
      "#     n +=1 ;\n",
      "#     if(outOfData)\n",
      "#         break\n",
      "#     end\n",
      "# end"
     ],
     "language": "python",
     "metadata": {},
     "outputs": [],
     "prompt_number": 9
    },
    {
     "cell_type": "code",
     "collapsed": false,
     "input": [
      "# pygui(false)\n",
      "# hold(\"on\")\n",
      "# for i in 1:4\n",
      "#     xHist = [pattern.g_sn[(s)] for s in aircraftList[i].sLocHist];\n",
      "#     plot(xHist)\n",
      "# end\n",
      "# yticks(1:length(pattern.g_allstates[1:27]), pattern.g_allstates_string[1:27]);\n",
      "# grid(\"on\")\n"
     ],
     "language": "python",
     "metadata": {},
     "outputs": [],
     "prompt_number": 10
    },
    {
     "cell_type": "code",
     "collapsed": false,
     "input": [
      "function randomStart()\n",
      "    rstart_in = ()-> [airplane(46 + (rand()-0.5)*3,s) for s in pattern.allstates[rand(3:length(pattern.allstates), 4)]];\n",
      "    acList = rstart_in()\n",
      "\n",
      "    idmin = [0,0]\n",
      "    notok = (ACLIST)-> getDmin!(idmin, ACLIST)[1] <=  0\n",
      "        \n",
      "    while(notok(acList))\n",
      "        acList = rstart_in()\n",
      "    end\n",
      "    return acList\n",
      "end"
     ],
     "language": "python",
     "metadata": {},
     "outputs": [
      {
       "metadata": {},
       "output_type": "pyout",
       "prompt_number": 52,
       "text": [
        "randomStart (generic function with 1 method)"
       ]
      }
     ],
     "prompt_number": 52
    },
    {
     "cell_type": "code",
     "collapsed": false,
     "input": [
      "tic()\n",
      "tBatchTime = 3600*10 #Total run time per batch\n",
      "N = 2 #Total Number of batches (total simulated time is tBatch * N )\n",
      "\n",
      "betaVals = [0.0f0, 0.001f0, 0.005f0, 0.01f0, 0.05f0]\n",
      "betaVals = [0.0f0] #, 0.001f0, 0.005f0, 0.01f0, 0.05f0]\n",
      "\n",
      "betaValStr = [string(\u03b2) for \u03b2 in betaVals]\n",
      "NbetaVals = length(betaVals)\n",
      "atcTypes = [:Smart, :None] \n",
      "NatcTypes = length(atcTypes)\n",
      "\n",
      "tStat = zeros(Float32, NbetaVals,NatcTypes,N)\n",
      "tTotals = zeros(tStat)\n",
      "flightTimes = zeros(tStat)\n",
      "\n",
      "alertCounts = zeros(Uint32, NbetaVals,NatcTypes,N)\n",
      "nNMACcounts = zeros(alertCounts)\n",
      "toc()\n",
      "#Last 3 is for 3D position @ collision\n",
      "#collisionPos = (Symbol => Array{Float64,3})[a => fill(NaN, NbetaVals,N,3) for a in atcTypes]; "
     ],
     "language": "python",
     "metadata": {},
     "outputs": [
      {
       "output_type": "stream",
       "stream": "stdout",
       "text": [
        "elapsed time: 0."
       ]
      },
      {
       "output_type": "stream",
       "stream": "stdout",
       "text": [
        "140767522 seconds\n"
       ]
      }
     ],
     "prompt_number": 53
    },
    {
     "cell_type": "code",
     "collapsed": false,
     "input": [
      "#Reinit sim seed for repeatibility\n",
      "srand(pattern.rng,uint32(1))\n",
      "startTime = time();\n",
      "@time for (betaIdx, beta) in enumerate(betaVals)\n",
      "    #Use the appropriate policy\n",
      "    s0 = time()\n",
      "#     Aopt = loadPolicy(1., beta, prefix=policy_prefix)\n",
      "    @printf(\"Loading policy took %.0f(s)\\n\",time()-s0)\n",
      "    for (atcIdx, atcType) in enumerate(atcTypes)  \n",
      "        #We only need to run the first beta for the None case\n",
      "        #Copy it over for simplicity\n",
      "        if (atcType == :None && betaIdx > 1)\n",
      "            tStat[betaIdx, atcIdx, :] = tStat[1, atcIdx, :]\n",
      "            flightTimes[betaIdx, atcIdx, :] = flightTimes[1, atcIdx, :]\n",
      "            alertCounts[betaIdx, atcIdx, :] = alertCounts[1, atcIdx, :]\n",
      "            nNMACcounts[betaIdx, atcIdx, :] = nNMACcounts[1, atcIdx, :] \n",
      "            tTotals[betaIdx, atcIdx, :] = tTotals[1, atcIdx, :] \n",
      "\n",
      "            #collisionPos[atcType][betaIdx,:,:] = collisionPos[atcType][1,:,:]\n",
      "            continue\n",
      "        end\n",
      "        #Simulate N trajectories\n",
      "        nextPrintTime = time() + 60 \n",
      "        for i in 1:N\n",
      "            \n",
      "            while tTotals[betaIdx, atcIdx, i] < tBatchTime\n",
      "                now = time()\n",
      "                if now >= nextPrintTime\n",
      "                    nextPrintTime = now + 60\n",
      "                    println(now-startTime, \"(s) at betaIdx=\",betaIdx, \" atcIdx=\",atcIdx, \" i = \", i)\n",
      "                end    \n",
      "                \n",
      "                #First, initialize the position\n",
      "                aircraftList = randomStart()\n",
      "                #Simulate the policy\n",
      "                simTime = tBatchTime-tTotals[betaIdx, atcIdx, i]\n",
      "                (idmin, tmax, alertCount, flightTime) = simulate!(aircraftList,simTime,\n",
      "                                                                  atcType,mctsPolicy, #ctmdpPolicy,\n",
      "                                                                  stopEarly=true, savepath=false);\n",
      "                \n",
      "                if (tmax < simTime ) #we finished early, must have been an NMAC\n",
      "                    nNMACcounts[betaIdx, atcIdx, i] += 1\n",
      "                end\n",
      "#                 @printf(\"simTime = %.2f, flightTime = %.2f , tmax = %.2f, nMac = %d\\n\", \n",
      "#                         simTime/3600, flightTime/3600, tmax/3600, nNMACcounts[betaIdx, atcIdx, i] )\n",
      "                \n",
      "                tTotals[betaIdx, atcIdx, i] += tmax\n",
      "                alertCounts[betaIdx, atcIdx, i] += alertCount\n",
      "                flightTimes[betaIdx, atcIdx, i] += flightTime\n",
      "                tStat[betaIdx, atcIdx, i] = tmax\n",
      "                \n",
      "                #Whine if for some reason we got a collision right\n",
      "                #after we started... randomStart() should not cause this\n",
      "                if(tmax == 0)\n",
      "                    error(\"Collision right after start. This shouldn't happen!\")\n",
      "                end\n",
      "            end\n",
      "\n",
      "            #Keep track of statistics\n",
      "#             if !(0 in idmin)\n",
      "#                 collisionPos[atcType][betaIdx,i,:] = \n",
      "#                     [aircraftList[idmin[1]].posNED.n, aircraftList[idmin[1]].posNED.e, aircraftList[idmin[1]].posNED.d]\n",
      "#             end\n",
      "        end\n",
      "  end\n",
      "end"
     ],
     "language": "python",
     "metadata": {},
     "outputs": [
      {
       "output_type": "stream",
       "stream": "stdout",
       "text": [
        "Loading policy took 0"
       ]
      },
      {
       "output_type": "stream",
       "stream": "stdout",
       "text": [
        "(s)\n"
       ]
      },
      {
       "ename": "LoadError",
       "evalue": "interrupt\nwhile loading In[54], in expression starting on line 4",
       "output_type": "pyerr",
       "traceback": [
        "interrupt\nwhile loading In[54], in expression starting on line 4",
        "",
        " in fill! at array.jl:154",
        " in selectAction! at /home/zouhair/Dropbox/Research/autoATC/MCTS.jl:71",
        " in anonymous at /home/zouhair/Dropbox/Research/autoATC/CTMDP_mcts.jl:98",
        " in runAutoATC at /home/zouhair/Dropbox/Research/autoATC/3dsim.jl:14",
        " in simulate! at /home/zouhair/Dropbox/Research/autoATC/3dsim.jl:66",
        " in anonymous at util.jl:37"
       ]
      }
     ],
     "prompt_number": 54
    },
    {
     "cell_type": "code",
     "collapsed": false,
     "input": [
      "flightTimes"
     ],
     "language": "python",
     "metadata": {},
     "outputs": [
      {
       "metadata": {},
       "output_type": "pyout",
       "prompt_number": 55,
       "text": [
        "1x2x2 Array{Float32,3}:\n",
        "[:, :, 1] =\n",
        " 0.0  0.0\n",
        "\n",
        "[:, :, 2] =\n",
        " 0.0  0.0"
       ]
      }
     ],
     "prompt_number": 55
    },
    {
     "cell_type": "code",
     "collapsed": false,
     "input": [
      "sum(flightTimes[:,1,:])/3600 ./sum(nNMACcounts[:,1,:])*1.0"
     ],
     "language": "python",
     "metadata": {},
     "outputs": [
      {
       "metadata": {},
       "output_type": "pyout",
       "prompt_number": 65,
       "text": [
        "NaN"
       ]
      }
     ],
     "prompt_number": 65
    },
    {
     "cell_type": "code",
     "collapsed": false,
     "input": [
      "mcts.stats"
     ],
     "language": "python",
     "metadata": {},
     "outputs": [
      {
       "metadata": {},
       "output_type": "pyout",
       "prompt_number": 64,
       "text": [
        "Dict{Int64,StateStat} with 921416 entries:\n",
        "  4117020  => StateStat(Float32[85.0,33.0,58.0,40.0,19.0,18.0],Float32[-635.764\u2026\n",
        "  72416021 => StateStat(Float32[0.0,0.0,0.0,0.0],Float32[0.0,0.0,0.0,0.0])\n",
        "  56572066 => StateStat(Float32[0.0],Float32[0.0])\n",
        "  17322265 => StateStat(Float32[0.0],Float32[0.0])\n",
        "  46273264 => StateStat(Float32[0.0],Float32[0.0])\n",
        "  66402938 => StateStat(Float32[0.0,0.0,0.0],Float32[0.0,0.0,0.0])\n",
        "  28133054 => StateStat(Float32[0.0],Float32[0.0])\n",
        "  10742335 => StateStat(Float32[0.0,0.0,0.0,0.0,0.0,0.0],Float32[0.0,0.0,0.0,0.\u2026\n",
        "  69994284 => StateStat(Float32[0.0],Float32[0.0])\n",
        "  71499131 => StateStat(Float32[0.0],Float32[0.0])\n",
        "  51103227 => StateStat(Float32[0.0,0.0,0.0],Float32[0.0,0.0,0.0])\n",
        "  74260038 => StateStat(Float32[0.0,0.0,0.0,0.0],Float32[0.0,0.0,0.0,0.0])\n",
        "  10860567 => StateStat(Float32[0.0,0.0,0.0,0.0,0.0,0.0],Float32[0.0,0.0,0.0,0.\u2026\n",
        "  31157669 => StateStat(Float32[0.0],Float32[0.0])\n",
        "  51773360 => StateStat(Float32[0.0],Float32[0.0])\n",
        "  25651727 => StateStat(Float32[0.0],Float32[0.0])\n",
        "  4688890  => StateStat(Float32[0.0,0.0,0.0],Float32[0.0,0.0,0.0])\n",
        "  31346250 => StateStat(Float32[0.0,0.0,0.0,0.0],Float32[0.0,0.0,0.0,0.0])\n",
        "  39426026 => StateStat(Float32[0.0],Float32[0.0])\n",
        "  53127971 => StateStat(Float32[0.0],Float32[0.0])\n",
        "  31583818 => StateStat(Float32[0.0,0.0,0.0,0.0],Float32[0.0,0.0,0.0,0.0])\n",
        "  40976180 => StateStat(Float32[0.0,0.0,0.0],Float32[0.0,0.0,0.0])\n",
        "  14904841 => StateStat(Float32[0.0],Float32[0.0])\n",
        "  56632679 => StateStat(Float32[0.0],Float32[0.0])\n",
        "  45117416 => StateStat(Float32[0.0],Float32[0.0])\n",
        "  \u22ee        => \u22ee"
       ]
      }
     ],
     "prompt_number": 64
    },
    {
     "cell_type": "code",
     "collapsed": false,
     "input": [
      "# fig, axes = plt.subplots(nrows=2, ncols=1, sharex=true, sharey=true, figsize=(8,8.5))\n",
      "# #fig[:subplots_adjust](hspace=1)\n",
      "\n",
      "\n",
      "# betaIdx = 1;\n",
      "# k = 0\n",
      "# for atcType in [:MDP_periodic, :None]    \n",
      "#     k += 1\n",
      "#     PyPlot.subplot(2,1,k)\n",
      "#     Y = collisionPos[atcType][betaIdx,:,1]\n",
      "#     X = collisionPos[atcType][betaIdx,:,2]\n",
      "#     X = X[!isnan(X)]; Y = Y[!isnan(Y)]\n",
      "#     matrix = PyPlot.hist2D(X,Y,bins=[15,10]*6,cmin=1, norm=plt.matplotlib[:colors][:LogNorm]());#,color=colors[k],normed=true)#Y,linestyle=\"\", marker=\".\",markersize=2,color=colors[k])    \n",
      "    \n",
      "#     ax = PyPlot.gca();\n",
      "#     # #PyPlot.axis(\"equal\")\n",
      "#     PyPlot.ylabel(\"North\")\n",
      "#     k == 2 && PyPlot.xlabel(\"East\")\n",
      "#     PyPlot.xlim([-6000, 6000])\n",
      "#     PyPlot.ylim([-2000, 2000])\n",
      "#     #ax[:set_aspect](1.5)    \n",
      "#     PyPlot.grid(\"on\")\n",
      "#     PyPlot.title(k == 1 ? \"auto-ATC\" : \"silent ATC\",loc=\"left\",fontsize=14)\n",
      "# end\n",
      "\n",
      "# cax = plt.axes([0.925, 0.1, 0.03, .8])\n",
      "# PyPlot.colorbar(ax=axes,cax=cax, use_gridspec=false,orientation=\"vertical\")#, pad=.1, anchor=(6, 6.0))\n",
      "# #plt.savefig(\"/home/zouhair/Dropbox/AA229/project/ATMS2015/collision_location.pgf\", bbox_inches=\"tight\")"
     ],
     "language": "python",
     "metadata": {},
     "outputs": [],
     "prompt_number": 14
    },
    {
     "cell_type": "code",
     "collapsed": false,
     "input": [
      "# histData_x = Vector{Float64}[]\n",
      "# histData_y = Vector{Float64}[]\n",
      "\n",
      "# for b in 1:size(tStat,1)\n",
      "#     for k in 1:size(tStat,2)\n",
      "#         tS_ = tStat[b,k,:] #Float64[x > 3600*20 ? NaN : x for x in tStat[b,k,:]];\n",
      "#         tS_ = tS_[!isnan(tS_)]/3600\n",
      "#         data = PyPlot.hist(tS_,1000, histtype=\"step\", cumulative=true, normed=true, align=\"right\")\n",
      "#         push!(histData_x, [0, data[2][1:end-1]]) #x-data\n",
      "#         push!(histData_y, [0, data[1]]) #y-data\n",
      "#     end\n",
      "# end\n",
      "# PyPlot.clf();\n",
      "\n",
      "\n",
      "# #beta = 0.01 {MDP, MDP2, None}\n",
      "# #beta = 0.5 {MDP, MDP2, None}\n",
      "\n",
      "# #green, green --, blue\n",
      "# #red, red --, blue\n",
      "\n",
      "# #None: Blue, Blue --\n",
      "# #beta = 0.01: Green, Green --\n",
      "# #beta = 0.5: Red, Red --\n",
      "\n",
      "# betaColors = [\"g\", \"r\", \"b\", \"c\"]\n",
      "# assert(length(betaColors) == NbetaVals)\n",
      "# colors = vcat([[c,\"k\"] for c in betaColors]...)\n",
      "\n",
      "# linestyles = [\"-\",\"--\",\"-\"]#, \"-\",\"--\",\"-\"]\n",
      "\n",
      "# betaValStr = [string(\u03b2) for \u03b2 in betaVals]\n",
      "# legends = [\"auto-ATC: event-driven, \\$\\\\beta\\$=\"*betaValStr[1], \"silent ATC\",           \n",
      "#            \"auto-ATC: event-driven, \\$\\\\beta\\$=\"*betaValStr[2], #skipped\n",
      "#            \"auto-ATC: event-driven, \\$\\\\beta\\$=\"*betaValStr[3],#skipped\n",
      "#            \"auto-ATC: event-driven, \\$\\\\beta\\$=\"*betaValStr[4]]#skipped]\n",
      "    \n",
      "# idx = 0\n",
      "# for b in 1:size(tStat,1) #different betas 0, 0.01 , 0.5, etc\n",
      "#     for k in 1:size(tStat,2) #different policies  MDP(, MDP2 (green), None (blue)\n",
      "#         idx += 1\n",
      "#         if atcTypes[k] == :None && b > 1\n",
      "#             continue\n",
      "#         end\n",
      "#         PyPlot.plot(histData_y[idx],histData_x[idx], color = colors[idx], linestyle=\"-\") #linestyles[(idx-1)%2 + 1])\n",
      "#     end\n",
      "# end\n",
      "\n",
      "# PyPlot.grid(\"on\")\n",
      "# PyPlot.ylabel(\"Time to first NMAC (hours)\")\n",
      "# PyPlot.xlabel(\"Probability\")\n",
      "# PyPlot.xlim([0,1])\n",
      "# PyPlot.ylim([0,20])\n",
      "\n",
      "# ax = PyPlot.gca();\n",
      "# #ax[:set_aspect](1/40.);\n",
      "# leg = PyPlot.legend(legends,bbox_to_anchor=(0.5, 1.25), loc = 9, ncol=3, fontsize=12, numpoints=3)\n",
      "# # set the linewidth of each legend object\n",
      "# for legobj in leg[:legendHandles]\n",
      "#     legobj[:set_linewidth](2.0)\n",
      "# end\n",
      "# # plt.savefig(\"./results/CTMDP_2phases_cdf.pdf\", bbox_inches=\"tight\")"
     ],
     "language": "python",
     "metadata": {},
     "outputs": [],
     "prompt_number": 15
    },
    {
     "cell_type": "code",
     "collapsed": false,
     "input": [
      "# alertRates = similar(tStat)\n",
      "# #First axis of tStat is beta, second axis is ATC type (MDP, MDP_period, NONE)\n",
      "# for b in 1:size(tStat,1)\n",
      "#     for k in 1:size(tStat,2)\n",
      "#         tS_minutes = tStat[b,k,:]/60.\n",
      "#         alertRates[b, k, :] = alertCounts[b,k,:] ./ tS_minutes\n",
      "#     end\n",
      "# end\n",
      "\n",
      "# boxData = {alertRates[b,1,:][:] for b in 1:NbetaVals}\n",
      "# push!(boxData, alertRates[1,end,:][:])\n",
      "# PyPlot.boxplot(boxData)\n",
      "\n",
      "# PyPlot.ylim([-0.05,2.0])\n",
      "# PyPlot.ylabel(\"Intervention rate (commands / minute)\")\n",
      "\n",
      "# xLabels = [\"auto-ATC \\$\\\\beta\\$=\"*betaValStr[b] for b in 1:NbetaVals]\n",
      "# push!(xLabels,\"silent-ATC\")\n",
      "\n",
      "\n",
      "# PyPlot.xticks(1:(NbetaVals+1), xLabels)\n",
      "# PyPlot.grid(\"on\")\n",
      "\n",
      "# # plt.savefig(\"./results/CTMDP_2phases_alert_rate.pdf\", bbox_inches=\"tight\")\n",
      "\n"
     ],
     "language": "python",
     "metadata": {},
     "outputs": [],
     "prompt_number": 16
    },
    {
     "cell_type": "code",
     "collapsed": false,
     "input": [
      "# #First axis is betas, second axis is atc type (MDP, MDP_perio, NONE)\n",
      "# boxData = {flightTimes[b,1,:][:]/3600 for b in 1:NbetaVals}\n",
      "# push!(boxData, flightTimes[1,end,:][:]/3600)\n",
      "# PyPlot.boxplot(boxData)\n",
      "\n",
      "\n",
      "# PyPlot.ylim([-0.05,10])\n",
      "# PyPlot.ylabel(\"Flight Hours Before NMAC\")\n",
      "# PyPlot.xticks(1:(NbetaVals+1), xLabels)\n",
      "# PyPlot.grid(\"on\")\n",
      "# #plt.savefig(\"./results/CTMDP_4phases_flight_hours.pgf\", bbox_inches=\"tight\")\n"
     ],
     "language": "python",
     "metadata": {},
     "outputs": [],
     "prompt_number": 17
    },
    {
     "cell_type": "code",
     "collapsed": false,
     "input": [
      "# boxData = {nNMACcounts[b,1,:][:] for b in 1:NbetaVals}\n",
      "# push!(boxData, nNMACcounts[1,end,:][:])\n",
      "# boxData = boxData / (tBatchTime/3600)\n",
      "# PyPlot.boxplot(boxData)\n",
      "\n",
      "\n",
      "# xLabels = [\"auto-ATC \\$\\\\beta\\$=\"*betaValStr[b] for b in 1:NbetaVals]\n",
      "# push!(xLabels,\"silent-ATC\")\n",
      "# PyPlot.ylim([0, 2])\n",
      "# #PyPlot.ylabel(\"NMACs per hour\")\n",
      "# PyPlot.xticks(1:(NbetaVals+1), xLabels)\n",
      "# PyPlot.grid(\"on\")\n",
      "# #plt.savefig(\"./results/NMACSperhour.pdf\", bbox_inches=\"tight\")"
     ],
     "language": "python",
     "metadata": {},
     "outputs": [],
     "prompt_number": 18
    },
    {
     "cell_type": "code",
     "collapsed": false,
     "input": [
      "@time save(\"./results/\"*policy_prefix*\"new_3DSimResults_n\"*string(pattern.nPhases)*\".jld\", \n",
      "\"tStat\", tStat, \"alertCounts\", alertCounts, \n",
      "\"flightTimes\", flightTimes, \"tTotals\", tTotals, \"nNMACcounts\", nNMACcounts);"
     ],
     "language": "python",
     "metadata": {},
     "outputs": [
      {
       "output_type": "stream",
       "stream": "stdout",
       "text": [
        "elapsed time: 0."
       ]
      },
      {
       "output_type": "stream",
       "stream": "stdout",
       "text": [
        "537552525 seconds (10556556 bytes allocated)\n"
       ]
      }
     ],
     "prompt_number": 19
    },
    {
     "cell_type": "code",
     "collapsed": false,
     "input": [
      "pattern.nPhases"
     ],
     "language": "python",
     "metadata": {},
     "outputs": [
      {
       "metadata": {},
       "output_type": "pyout",
       "prompt_number": 20,
       "text": [
        "6"
       ]
      }
     ],
     "prompt_number": 20
    },
    {
     "cell_type": "code",
     "collapsed": false,
     "input": [
      "\"./results/\"*policy_prefix*\"new_3DSimResults_n\"*string(pattern.nPhases)*\".jld\""
     ],
     "language": "python",
     "metadata": {},
     "outputs": [
      {
       "metadata": {},
       "output_type": "pyout",
       "prompt_number": 21,
       "text": [
        "\"./results/greedyRandom_new_3DSimResults_n6.jld\""
       ]
      }
     ],
     "prompt_number": 21
    }
   ],
   "metadata": {}
  }
 ]
}