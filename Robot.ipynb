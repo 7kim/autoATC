{
 "metadata": {
  "language": "Julia",
  "name": ""
 },
 "nbformat": 3,
 "nbformat_minor": 0,
 "worksheets": [
  {
   "cells": [
    {
     "cell_type": "code",
     "collapsed": false,
     "input": [
      "using .Robot"
     ],
     "language": "python",
     "metadata": {},
     "outputs": [
      {
       "ename": "LoadError",
       "evalue": "Robot not defined\nwhile loading In[1], in expression starting on line 1",
       "output_type": "pyerr",
       "traceback": [
        "Robot not defined\nwhile loading In[1], in expression starting on line 1",
        ""
       ]
      }
     ],
     "prompt_number": 1
    },
    {
     "cell_type": "code",
     "collapsed": false,
     "input": [
      "r = robot(vec2(0,0), Robot.healthy, Robot.attLvl0, [vec2(0,5), vec2(5,5), vec2(0,0)],[])"
     ],
     "language": "python",
     "metadata": {},
     "outputs": [
      {
       "metadata": {},
       "output_type": "pyout",
       "prompt_number": 2,
       "text": [
        "pos = (0.0,0.0)"
       ]
      }
     ],
     "prompt_number": 2
    },
    {
     "cell_type": "code",
     "collapsed": false,
     "input": [
      "act = action(Robot.human, vec2(1,0), Robot.nop); move(r, act)"
     ],
     "language": "python",
     "metadata": {},
     "outputs": [
      {
       "ename": "LoadError",
       "evalue": "`vec` has no method matching vec(::Float64, ::Float64)\nwhile loading In[3], in expression starting on line 1",
       "output_type": "pyerr",
       "traceback": [
        "`vec` has no method matching vec(::Float64, ::Float64)\nwhile loading In[3], in expression starting on line 1",
        "",
        " in move at /home/zouhair/Dropbox/AA228/Project/robot.jl:105"
       ]
      }
     ],
     "prompt_number": 3
    },
    {
     "cell_type": "code",
     "collapsed": false,
     "input": [
      "act = action(Robot.human, vec2(-1,0), Robot.nop); move(r, act)"
     ],
     "language": "python",
     "metadata": {},
     "outputs": [
      {
       "ename": "LoadError",
       "evalue": "`copy` has no method matching copy(::vec2)\nwhile loading In[4], in expression starting on line 1",
       "output_type": "pyerr",
       "traceback": [
        "`copy` has no method matching copy(::vec2)\nwhile loading In[4], in expression starting on line 1",
        "",
        " in move at /home/zouhair/Dropbox/AA228/Project/robot.jl:105"
       ]
      }
     ],
     "prompt_number": 4
    },
    {
     "cell_type": "code",
     "collapsed": false,
     "input": [
      "r.path"
     ],
     "language": "python",
     "metadata": {},
     "outputs": [
      {
       "metadata": {},
       "output_type": "pyout",
       "prompt_number": 5,
       "text": [
        "0-element Array{vec2,1}"
       ]
      }
     ],
     "prompt_number": 5
    },
    {
     "cell_type": "code",
     "collapsed": false,
     "input": [
      "vec2(vec2(0,0))"
     ],
     "language": "python",
     "metadata": {},
     "outputs": [
      {
       "ename": "LoadError",
       "evalue": "`vec2` has no method matching vec2(::vec2)\nwhile loading In[6], in expression starting on line 1",
       "output_type": "pyerr",
       "traceback": [
        "`vec2` has no method matching vec2(::vec2)\nwhile loading In[6], in expression starting on line 1",
        ""
       ]
      }
     ],
     "prompt_number": 6
    },
    {
     "cell_type": "code",
     "collapsed": false,
     "input": [],
     "language": "python",
     "metadata": {},
     "outputs": [],
     "prompt_number": 7
    },
    {
     "cell_type": "code",
     "collapsed": false,
     "input": [
      "function dumbController(r::robot)    \n",
      "    target::vec2 = length(r.tasks) > 0 ? r.tasks[1] : vec2(0,0)\n",
      "    #Move towards the target !\n",
      "    cmd = (t,x) -> sign(t-x)\n",
      "    u = vec2(cmd(target.x,r.position.x) , cmd(target.z, r.position.z))\n",
      "    a = action(auto, u, nop)\n",
      "    return a\n",
      "end"
     ],
     "language": "python",
     "metadata": {},
     "outputs": [
      {
       "metadata": {},
       "output_type": "pyout",
       "prompt_number": 8,
       "text": [
        "dumbController (generic function with 1 method)"
       ]
      }
     ],
     "prompt_number": 8
    },
    {
     "cell_type": "code",
     "collapsed": false,
     "input": [
      "while length(r.tasks) > 0\n",
      "    move(r,dumbController(r))\n",
      "end"
     ],
     "language": "python",
     "metadata": {},
     "outputs": [
      {
       "ename": "LoadError",
       "evalue": "auto not defined\nwhile loading In[9], in expression starting on line 1",
       "output_type": "pyerr",
       "traceback": [
        "auto not defined\nwhile loading In[9], in expression starting on line 1",
        "",
        " in dumbController at In[8]:6",
        " in anonymous at no file:2"
       ]
      }
     ],
     "prompt_number": 9
    },
    {
     "cell_type": "code",
     "collapsed": false,
     "input": [
      "r"
     ],
     "language": "python",
     "metadata": {},
     "outputs": [
      {
       "metadata": {},
       "output_type": "pyout",
       "prompt_number": 10,
       "text": [
        "pos = (-1.0,0.0)"
       ]
      }
     ],
     "prompt_number": 10
    },
    {
     "cell_type": "code",
     "collapsed": false,
     "input": [
      "@which r.tasks[1] == r.tasks[2]"
     ],
     "language": "python",
     "metadata": {},
     "outputs": [
      {
       "html": [
        "==(x,y) at <a href=\"https://github.com/JuliaLang/julia/tree/768187890c2709bf2ff06818f40e1cdc79bd44b0/base/operators.jl#L9\" target=\"_blank\">operators.jl:9</a>"
       ],
       "metadata": {},
       "output_type": "pyout",
       "prompt_number": 11,
       "text": [
        "==(x,y) at operators.jl:9"
       ]
      }
     ],
     "prompt_number": 11
    },
    {
     "cell_type": "code",
     "collapsed": false,
     "input": [],
     "language": "python",
     "metadata": {},
     "outputs": [],
     "prompt_number": 12
    }
   ],
   "metadata": {}
  }
 ]
}