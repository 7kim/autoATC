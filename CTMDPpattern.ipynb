{
 "metadata": {
  "language": "Julia",
  "name": "",
  "signature": "sha256:0628e990950661160317c6d1b7fd0ec4fb268faff691d30b5d517d798ea3adbc"
 },
 "nbformat": 3,
 "nbformat_minor": 0,
 "worksheets": [
  {
   "cells": [
    {
     "cell_type": "code",
     "collapsed": false,
     "input": [
      "include(\"pattern.jl\")"
     ],
     "language": "python",
     "metadata": {},
     "outputs": [
      {
       "metadata": {},
       "output_type": "pyout",
       "prompt_number": 1,
       "text": [
        "plotSim (generic function with 1 method)"
       ]
      }
     ],
     "prompt_number": 1
    },
    {
     "cell_type": "code",
     "collapsed": false,
     "input": [
      "include(\"CTMDP.jl\")"
     ],
     "language": "python",
     "metadata": {},
     "outputs": [
      {
       "metadata": {},
       "output_type": "pyout",
       "prompt_number": 2,
       "text": [
        "sample (generic function with 1 method)"
       ]
      }
     ],
     "prompt_number": 2
    },
    {
     "cell_type": "code",
     "collapsed": false,
     "input": [
      "\u03b2_cost = 0.0;\n",
      "legalActions = validCompactActions\n",
      "amax = maximum([length( NextStates[s]) for s in keys(NextStates)]);\n",
      "A = (Int64)[0:amax];\n",
      "P0 = spzeros(g_nNodes, g_nNodes);\n",
      "P = (typeof(P0))[copy(P0) for a in A]\n",
      "\n",
      "for a in A\n",
      "    if a == 0\n",
      "        act = g_nullAct\n",
      "    else\n",
      "        act = Int64[1, a]\n",
      "    end\n",
      "    for x in 1:g_nNodes\n",
      "        s = x2s(x)\n",
      "        for sp in NextStates[s]\n",
      "            xp = s2x(sp)\n",
      "            P[a+1][x,xp] = Transition([s], act, [sp])\n",
      "        end\n",
      "    end\n",
      "end\n",
      "M0 = speye(g_nNodes)\n",
      "for x in 1:g_nNodes\n",
      "    s = x2s(x)\n",
      "    M0[x,x] = 1./(teaTime[s]/60)\n",
      "end\n",
      "\n",
      "Isp = spdiagm(ones(g_nNodes));\n",
      "Qt_list = (typeof(M0))[(M0*(P[a+1] - Isp))' for a in A];"
     ],
     "language": "python",
     "metadata": {},
     "outputs": [],
     "prompt_number": 3
    },
    {
     "cell_type": "code",
     "collapsed": false,
     "input": [
      " #g_nScomp \n",
      "Vshort = zeros(Float32,g_nSlong);"
     ],
     "language": "python",
     "metadata": {},
     "outputs": [],
     "prompt_number": 4
    },
    {
     "cell_type": "code",
     "collapsed": false,
     "input": [
      "g_nScomp, g_nSlong / g_nScomp, "
     ],
     "language": "python",
     "metadata": {},
     "outputs": [
      {
       "metadata": {},
       "output_type": "pyout",
       "prompt_number": 5,
       "text": [
        "(27405,19.392118226600985)"
       ]
      }
     ],
     "prompt_number": 5
    },
    {
     "cell_type": "code",
     "collapsed": false,
     "input": [
      "using ProfileView\n",
      "using CPUTime\n",
      "Profile.init(1000000*10, 0.001)"
     ],
     "language": "python",
     "metadata": {},
     "outputs": [],
     "prompt_number": 9
    },
    {
     "cell_type": "code",
     "collapsed": false,
     "input": [
      "Profile.clear()\n",
      "@profile Aopt = gaussSeidel!(Qt_list, Vshort, 0.1; maxTime = 20.); #at ... \n",
      "unique(Aopt)\n",
      "#Aopt = gaussSeidel!(Qt_list, Vshort, 0.1; maxTime = 20.);\n"
     ],
     "language": "python",
     "metadata": {},
     "outputs": [
      {
       "output_type": "stream",
       "stream": "stdout",
       "text": [
        "At iteration #5"
       ]
      },
      {
       "output_type": "stream",
       "stream": "stdout",
       "text": [
        " (2.60 sec)\n",
        "At iteration #"
       ]
      },
      {
       "output_type": "stream",
       "stream": "stdout",
       "text": [
        "10 (5.36 sec)\n",
        "At iteration #"
       ]
      },
      {
       "output_type": "stream",
       "stream": "stdout",
       "text": [
        "15 (8.34 sec)\n",
        "At iteration #"
       ]
      },
      {
       "output_type": "stream",
       "stream": "stdout",
       "text": [
        "20 (11.40 sec)\n",
        "At iteration #"
       ]
      },
      {
       "output_type": "stream",
       "stream": "stdout",
       "text": [
        "25 (14.00 sec)\n",
        "At iteration #"
       ]
      },
      {
       "output_type": "stream",
       "stream": "stdout",
       "text": [
        "30 (16.60 sec)\n",
        "At iteration #"
       ]
      },
      {
       "output_type": "stream",
       "stream": "stdout",
       "text": [
        "35 (18.93 sec)\n",
        "Stopping after "
       ]
      },
      {
       "output_type": "stream",
       "stream": "stdout",
       "text": [
        "38 iterations (maxVchange = 2.29)\n",
        "elapsed time: 20.000281377 seconds (11335183448 bytes allocated, 37.89% gc time)\n"
       ]
      }
     ],
     "prompt_number": 7
    },
    {
     "cell_type": "code",
     "collapsed": false,
     "input": [
      "ProfileView.view()"
     ],
     "language": "python",
     "metadata": {},
     "outputs": [
      {
       "output_type": "stream",
       "stream": "stderr",
       "text": [
        "WARNING: There were no samples collected. Run your program longer (perhaps by\n",
        "running it multiple times), or adjust the delay between samples with\n",
        "Profile.init().\n"
       ]
      },
      {
       "ename": "LoadError",
       "evalue": "Nothing to view\nwhile loading In[8], in expression starting on line 1",
       "output_type": "pyerr",
       "traceback": [
        "Nothing to view\nwhile loading In[8], in expression starting on line 1",
        "",
        " in prepare at /home/zouhair/.julia/v0.3/ProfileView/src/ProfileView.jl:57",
        " in view at /home/zouhair/.julia/v0.3/ProfileView/src/ProfileView.jl:231 (repeats 2 times)"
       ]
      }
     ],
     "prompt_number": 8
    },
    {
     "cell_type": "code",
     "collapsed": false,
     "input": [
      "ctmdpPolicy = S -> policy_S2a(S, Aopt)"
     ],
     "language": "python",
     "metadata": {},
     "outputs": [
      {
       "metadata": {},
       "output_type": "pyout",
       "prompt_number": 10,
       "text": [
        "(anonymous function)"
       ]
      }
     ],
     "prompt_number": 10
    },
    {
     "cell_type": "code",
     "collapsed": false,
     "input": [
      "# filename = \"CTMDPpolicy_a_\" * string(\u03b1) * \"_b_\" * string(\u03b2_cost) * \".jld\"\n",
      "# save(filename, \"Aopt\", Aopt, \"Vstar\", Vshort, \"\u03b1\", \u03b1, \"\u03b2_cost\", \u03b2_cost);\n",
      "# filename"
     ],
     "language": "python",
     "metadata": {},
     "outputs": [],
     "prompt_number": 11
    },
    {
     "cell_type": "code",
     "collapsed": false,
     "input": [
      "s = [:LD2,:RD2, :T, :T]; s2 = [:LB1,:LD1, :T, :T];#,:T,:T]#,:LArr];"
     ],
     "language": "python",
     "metadata": {},
     "outputs": [],
     "prompt_number": 12
    },
    {
     "cell_type": "code",
     "collapsed": false,
     "input": [
      "ctmdpPolicy(s), ctmdpPolicy(s2)"
     ],
     "language": "python",
     "metadata": {},
     "outputs": [
      {
       "metadata": {},
       "output_type": "pyout",
       "prompt_number": 13,
       "text": [
        "((2,:RD3),(0,:\u2205))"
       ]
      }
     ],
     "prompt_number": 13
    },
    {
     "cell_type": "code",
     "collapsed": false,
     "input": [
      "P[3][s2x(s[1]),:]"
     ],
     "language": "python",
     "metadata": {},
     "outputs": [
      {
       "metadata": {},
       "output_type": "pyout",
       "prompt_number": 45,
       "text": [
        "1x27 sparse matrix with 1 Float64 entries:\n",
        "\t[1 , 22]  =  1.0"
       ]
      }
     ],
     "prompt_number": 45
    },
    {
     "cell_type": "code",
     "collapsed": false,
     "input": [
      "q1 = Qi(Qlist[1], Qlist[1], g_nVehicles-1, S2LIDX(s))/0.360848\n",
      "q3 = Qi(Qlist[3], Qlist[1], g_nVehicles-1, S2LIDX(s))/0.360848\n",
      "q1, q3"
     ],
     "language": "python",
     "metadata": {},
     "outputs": [
      {
       "metadata": {},
       "output_type": "pyout",
       "prompt_number": 47,
       "text": [
        "(\n",
        "531441x1 sparse matrix with 7 Float64 entries:\n",
        "\t[200476,      1]  =  -2.44424\n",
        "\t[200477,      1]  =  0.722118\n",
        "\t[200503,      1]  =  0.722118\n",
        "\t[201205,      1]  =  0.25\n",
        "\t[208495,      1]  =  0.25\n",
        "\t[220159,      1]  =  0.25\n",
        "\t[416989,      1]  =  0.25,\n",
        "\n",
        "531441x1 sparse matrix with 6 Float64 entries:\n",
        "\t[200476,      1]  =  -2.44424\n",
        "\t[200477,      1]  =  0.722118\n",
        "\t[200503,      1]  =  0.722118\n",
        "\t[201205,      1]  =  0.25\n",
        "\t[208495,      1]  =  0.25\n",
        "\t[416989,      1]  =  0.5)"
       ]
      }
     ],
     "prompt_number": 47
    },
    {
     "cell_type": "code",
     "collapsed": false,
     "input": [
      "[(LIDX2S(lidx),q1[lidx]) for lidx in q1.rowval[q1.colptr[1]:(q1.colptr[2]-1)]]"
     ],
     "language": "python",
     "metadata": {},
     "outputs": [
      {
       "metadata": {},
       "output_type": "pyout",
       "prompt_number": 48,
       "text": [
        "7-element Array{(Array{Symbol,1},Any),1}:\n",
        " ([:RD2,:LD2,:T,:T],-2.4442369006505698)\n",
        " ([:RD2,:LD2,:T,:R],0.7221184603252847) \n",
        " ([:RD2,:LD2,:R,:T],0.7221184603252847) \n",
        " ([:RD2,:LB1,:T,:T],0.24999999500000009)\n",
        " ([:RD2,:LD3,:T,:T],0.24999999500000009)\n",
        " ([:RB1,:LD2,:T,:T],0.24999999500000009)\n",
        " ([:RD3,:LD2,:T,:T],0.24999999500000009)"
       ]
      }
     ],
     "prompt_number": 48
    },
    {
     "cell_type": "code",
     "collapsed": false,
     "input": [
      "[(LIDX2S(lidx),q3[lidx]) for lidx in q3.rowval[q3.colptr[1]:(q3.colptr[2]-1)]]"
     ],
     "language": "python",
     "metadata": {},
     "outputs": [
      {
       "metadata": {},
       "output_type": "pyout",
       "prompt_number": 49,
       "text": [
        "6-element Array{(Array{Symbol,1},Any),1}:\n",
        " ([:RD2,:LD2,:T,:T],-2.4442369006505698)\n",
        " ([:RD2,:LD2,:T,:R],0.7221184603252847) \n",
        " ([:RD2,:LD2,:R,:T],0.7221184603252847) \n",
        " ([:RD2,:LB1,:T,:T],0.24999999500000009)\n",
        " ([:RD2,:LD3,:T,:T],0.24999999500000009)\n",
        " ([:RD3,:LD2,:T,:T],0.49999999000000017)"
       ]
      }
     ],
     "prompt_number": 49
    },
    {
     "cell_type": "code",
     "collapsed": false,
     "input": [
      "s = [:RD2,:LD2]\n",
      "for ac in legalActions(s)\n",
      "    a = compAct2extAct(ac,s)\n",
      "    X =  sort(S2X(s))\n",
      "    @printf(\"a = %s (%s), Q(V,a)=%.2f \\n\",a, ac, QVeval(X,ac, Qlist,Vshort,1e6))\n",
      "    for sp in getNextPerms(s)\n",
      "        tp = Transition(s, a, sp)\n",
      "        for spp in getNextPerms(sp)\n",
      "            @printf(\"%s->%s->%s, p = %.2f, R = %.2f, V=%.2f\\n\",\n",
      "            s, sp, spp,\n",
      "            tp * Transition(sp, g_noaction, spp), Reward(spp, g_nullAct,0.1),\n",
      "            Vshort[S2CIDX(spp)]\n",
      "            )\n",
      "        end\n",
      "    end\n",
      "end"
     ],
     "language": "python",
     "metadata": {},
     "outputs": [
      {
       "ename": "LoadError",
       "evalue": "key not found: [6,11]\nwhile loading In[21], in expression starting on line 2",
       "output_type": "pyerr",
       "traceback": [
        "key not found: [6,11]\nwhile loading In[21], in expression starting on line 2",
        "",
        " in X2CIDX at /home/zouhair/Dropbox/Research/autoATC/CTMDP.jl:75",
        " in QVeval at /home/zouhair/Dropbox/Research/autoATC/CTMDP.jl:232",
        " in anonymous at no file:5"
       ]
      }
     ],
     "prompt_number": 21
    },
    {
     "cell_type": "code",
     "collapsed": false,
     "input": [
      "legalActions(s)"
     ],
     "language": "python",
     "metadata": {},
     "outputs": [
      {
       "metadata": {},
       "output_type": "pyout",
       "prompt_number": 22,
       "text": [
        "5x1 Array{Array{Int64,1},2}:\n",
        " [0,0]\n",
        " [1,1]\n",
        " [1,2]\n",
        " [2,1]\n",
        " [2,2]"
       ]
      }
     ],
     "prompt_number": 22
    },
    {
     "cell_type": "code",
     "collapsed": false,
     "input": [
      "#popo = [CIDX2S(cidx) => policy_S2a(CIDX2S(cidx),Aopt) for cidx in find(x-> x != g_noaction, Aopt)]"
     ],
     "language": "python",
     "metadata": {},
     "outputs": [],
     "prompt_number": 24
    },
    {
     "cell_type": "code",
     "collapsed": false,
     "input": [
      "#using ProfileView\n",
      "#@profile Aopt = gaussSeidel!(Qlist, Vshort,1.2,1)# at /home/zouhair/Dropbox/Research/autoATC/CTMDP.jl:268\n",
      "#ProfileView.view()"
     ],
     "language": "python",
     "metadata": {},
     "outputs": [],
     "prompt_number": 25
    },
    {
     "cell_type": "code",
     "collapsed": false,
     "input": [
      "# for cidx in 1:g_nScomp\n",
      "#     S = CIDX2S(cidx) \n",
      "#     a = ctmdpPolicy(S)\n",
      "#     if a != g_noaction\n",
      "#         @printf(\"%s -> %s\\n\",S, a) \n",
      "#     end\n",
      "# end"
     ],
     "language": "python",
     "metadata": {},
     "outputs": [],
     "prompt_number": 26
    },
    {
     "cell_type": "code",
     "collapsed": false,
     "input": [],
     "language": "python",
     "metadata": {},
     "outputs": [],
     "prompt_number": 27
    }
   ],
   "metadata": {}
  }
 ]
}