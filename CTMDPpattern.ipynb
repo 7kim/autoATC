{
 "metadata": {
  "language": "Julia",
  "name": "",
  "signature": "sha256:7391a5e7d7270919ce52e3dc6c24751f47a8c1cfcf618faec11c3adce587306e"
 },
 "nbformat": 3,
 "nbformat_minor": 0,
 "worksheets": [
  {
   "cells": [
    {
     "cell_type": "code",
     "collapsed": false,
     "input": [
      "using CPUTime"
     ],
     "language": "python",
     "metadata": {},
     "outputs": [],
     "prompt_number": 1
    },
    {
     "cell_type": "code",
     "collapsed": false,
     "input": [
      "include(\"pattern.jl\")"
     ],
     "language": "python",
     "metadata": {},
     "outputs": [
      {
       "metadata": {},
       "output_type": "pyout",
       "prompt_number": 2,
       "text": [
        "plotSim (generic function with 1 method)"
       ]
      }
     ],
     "prompt_number": 2
    },
    {
     "cell_type": "code",
     "collapsed": false,
     "input": [
      "include(\"CTMDP.jl\")"
     ],
     "language": "python",
     "metadata": {},
     "outputs": [
      {
       "metadata": {},
       "output_type": "pyout",
       "prompt_number": 3,
       "text": [
        "sample (generic function with 1 method)"
       ]
      }
     ],
     "prompt_number": 3
    },
    {
     "cell_type": "code",
     "collapsed": false,
     "input": [
      "amax = maximum([length( NextStates[s]) for s in keys(NextStates)]);\n",
      "A = (Int8)[0:amax];\n",
      "P0 = spzeros(Float32, g_nNodes, g_nNodes);\n",
      "P = (typeof(P0))[copy(P0) for a in A]\n",
      "\n",
      "for a in A\n",
      "    if a == 0\n",
      "        act = g_nullAct\n",
      "    else\n",
      "        act = Int8[1, a]\n",
      "    end\n",
      "    for x in 1:g_nNodes\n",
      "        s = x2s(x)\n",
      "        for sp in NextStates[s]\n",
      "            xp = s2x(sp)\n",
      "            P[a+1][x,xp] = Transition([s], act, [sp])\n",
      "        end\n",
      "    end\n",
      "end\n",
      "M0 = speye(Float32, g_nNodes)\n",
      "for x in 1:g_nNodes\n",
      "    s = x2s(x)\n",
      "    M0[x,x] = 1./(teaTime[s]/60)\n",
      "end\n",
      "\n",
      "Isp = speye(Float32, g_nNodes);\n",
      "Qt_list = (typeof(M0))[(M0*(P[a+1] - Isp))' for a in A];"
     ],
     "language": "python",
     "metadata": {},
     "outputs": [],
     "prompt_number": 4
    },
    {
     "cell_type": "code",
     "collapsed": false,
     "input": [
      " #g_nScomp \n",
      "Vlong = zeros(Float32,g_nSlong);"
     ],
     "language": "python",
     "metadata": {},
     "outputs": [],
     "prompt_number": 5
    },
    {
     "cell_type": "code",
     "collapsed": false,
     "input": [
      "g_nScomp, g_nSlong / g_nScomp, "
     ],
     "language": "python",
     "metadata": {},
     "outputs": [
      {
       "metadata": {},
       "output_type": "pyout",
       "prompt_number": 6,
       "text": [
        "(1150626,22.085091941256326)"
       ]
      }
     ],
     "prompt_number": 6
    },
    {
     "cell_type": "code",
     "collapsed": false,
     "input": [
      "@printf(\"%f %.1e\\n\",g_nSlong, g_nSlong)"
     ],
     "language": "python",
     "metadata": {},
     "outputs": [
      {
       "output_type": "stream",
       "stream": "stdout",
       "text": [
        "25411681."
       ]
      },
      {
       "output_type": "stream",
       "stream": "stdout",
       "text": [
        "000000 2.5e+07\n"
       ]
      }
     ],
     "prompt_number": 7
    },
    {
     "cell_type": "code",
     "collapsed": false,
     "input": [
      "#data_n1 = load(\"CTMDPpolicy_n_1_a_1.0_b_0.jld\");"
     ],
     "language": "python",
     "metadata": {},
     "outputs": [],
     "prompt_number": 8
    },
    {
     "cell_type": "code",
     "collapsed": false,
     "input": [
      "# @time @CPUtime liftUpPolicy!(Qt_list, Vlong, 0.1f0, data_n1[\"Aopt\"]; maxTime = 60. )"
     ],
     "language": "python",
     "metadata": {},
     "outputs": [],
     "prompt_number": 9
    },
    {
     "cell_type": "code",
     "collapsed": false,
     "input": [
      "# using ProfileView\n",
      "# Profile.init(1000000*10, 0.001)"
     ],
     "language": "python",
     "metadata": {},
     "outputs": [],
     "prompt_number": 10
    },
    {
     "cell_type": "code",
     "collapsed": false,
     "input": [
      "\u03b2_cost = 0.0f0\n",
      "\u03b6_discount = 0.5f0\n",
      "# for \u03b2_cost in [0.0f0, 0.01f0, 0.1f0]\n",
      "    Aopt = gaussSeidel!(Qt_list, Vlong, \u03b6_discount, \u03b2_cost) #; maxIters = 1, maxTime = 5.*30.);\n",
      "#     savePolicy(Aopt, \u03b1, \u03b2_cost)\n",
      "# end\n",
      "unique(Aopt)\n",
      "\n",
      "#beta = 0.1\n",
      "#1 phase takes  0.2s / iteration: 45 iterations, 10s ~500K states\n",
      "#2 phase takes  1.5s / iteration: 51 iterations, 70s  ~6M states\n",
      "#3 phase takes  ~5s  / iteration: 61 iterations, 340s ~25M states\n",
      "#4 phase takes ~20s  / iteration: 83 iterations, 1200s ~75M states\n",
      "\n",
      "#beta = 0.5\n",
      "#16 iterations, 5s\n",
      "#10 iterations, 30s\n",
      "#25 iterations, 124s\n",
      "#32 iterations, 425s"
     ],
     "language": "python",
     "metadata": {},
     "outputs": [
      {
       "output_type": "stream",
       "stream": "stdout",
       "text": [
        "At iteration #"
       ]
      },
      {
       "output_type": "stream",
       "stream": "stdout",
       "text": [
        "5: maxVchange = 239.03, nActsChanged = 53873, t = 19.17 sec\n",
        "At iteration #"
       ]
      },
      {
       "output_type": "stream",
       "stream": "stdout",
       "text": [
        "10: maxVchange = 30.13, nActsChanged = 17475, t = 38.56 sec\n",
        "At iteration #"
       ]
      },
      {
       "output_type": "stream",
       "stream": "stdout",
       "text": [
        "15: maxVchange = 4.30, nActsChanged = 4266, t = 57.57 sec\n",
        "Stopping after "
       ]
      },
      {
       "output_type": "stream",
       "stream": "stdout",
       "text": [
        "18 iterations (maxVchange = 0.88)\n",
        "elapsed time: 68.981614273 seconds (238588 bytes allocated)\n"
       ]
      },
      {
       "metadata": {},
       "output_type": "pyout",
       "prompt_number": 11,
       "text": [
        "13-element Array{Array{Int8,1},1}:\n",
        " Int8[0,0]\n",
        " Int8[4,3]\n",
        " Int8[4,2]\n",
        " Int8[4,1]\n",
        " Int8[3,3]\n",
        " Int8[3,1]\n",
        " Int8[3,2]\n",
        " Int8[2,3]\n",
        " Int8[2,2]\n",
        " Int8[2,1]\n",
        " Int8[1,2]\n",
        " Int8[1,3]\n",
        " Int8[1,1]"
       ]
      }
     ],
     "prompt_number": 11
    },
    {
     "cell_type": "code",
     "collapsed": false,
     "input": [
      "# ProfileView.view()"
     ],
     "language": "python",
     "metadata": {},
     "outputs": [],
     "prompt_number": 12
    },
    {
     "cell_type": "code",
     "collapsed": false,
     "input": [
      "ctmdpPolicy = S -> policy_S2a(S, Aopt)"
     ],
     "language": "python",
     "metadata": {},
     "outputs": [
      {
       "metadata": {},
       "output_type": "pyout",
       "prompt_number": 13,
       "text": [
        "(anonymous function)"
       ]
      }
     ],
     "prompt_number": 13
    },
    {
     "cell_type": "code",
     "collapsed": false,
     "input": [
      "s = [:LD2, :\u03d51_LB1, :RX1, :LX1]; s2 = [:F0,:RX1,:LD2,:RD0];#,:T,:T]#,:LArr];"
     ],
     "language": "python",
     "metadata": {},
     "outputs": [],
     "prompt_number": 16
    },
    {
     "cell_type": "code",
     "collapsed": false,
     "input": [
      "ctmdpPolicy(s), ctmdpPolicy(s2)"
     ],
     "language": "python",
     "metadata": {},
     "outputs": [
      {
       "metadata": {},
       "output_type": "pyout",
       "prompt_number": 17,
       "text": [
        "((1,:\u03d51_LD3),(3,:\u03d51_LD3))"
       ]
      }
     ],
     "prompt_number": 17
    },
    {
     "cell_type": "code",
     "collapsed": false,
     "input": [
      "#savePolicy(Aopt, \u03b1, \u03b2_cost)"
     ],
     "language": "python",
     "metadata": {},
     "outputs": [
      {
       "output_type": "stream",
       "stream": "stdout",
       "text": [
        "policies/CTMDPpolicy_n_3_a_1.0_b_0.1.jld\n"
       ]
      }
     ],
     "prompt_number": 33
    },
    {
     "cell_type": "code",
     "collapsed": false,
     "input": [
      "# for cidx in 1:g_nScomp\n",
      "#     S = CIDX2S(cidx) \n",
      "#     a = ctmdpPolicy(S)\n",
      "#     if a != g_noaction\n",
      "#         @printf(\"%s -> %s\\n\",S, a) \n",
      "#     end\n",
      "# end"
     ],
     "language": "python",
     "metadata": {},
     "outputs": [],
     "prompt_number": 17
    },
    {
     "cell_type": "code",
     "collapsed": false,
     "input": [],
     "language": "python",
     "metadata": {},
     "outputs": [],
     "prompt_number": 18
    }
   ],
   "metadata": {}
  }
 ]
}