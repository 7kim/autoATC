{
 "metadata": {
  "language": "Julia",
  "name": "",
  "signature": "sha256:7fe118d6bd3fe1debdd88ba458d4f4877a819774ff255433266115e22c9c21e2"
 },
 "nbformat": 3,
 "nbformat_minor": 0,
 "worksheets": [
  {
   "cells": [
    {
     "cell_type": "code",
     "collapsed": false,
     "input": [
      "using CPUTime"
     ],
     "language": "python",
     "metadata": {},
     "outputs": [],
     "prompt_number": 1
    },
    {
     "cell_type": "code",
     "collapsed": false,
     "input": [
      "include(\"pattern.jl\")"
     ],
     "language": "python",
     "metadata": {},
     "outputs": [
      {
       "metadata": {},
       "output_type": "pyout",
       "prompt_number": 2,
       "text": [
        "plotSim (generic function with 1 method)"
       ]
      }
     ],
     "prompt_number": 2
    },
    {
     "cell_type": "code",
     "collapsed": false,
     "input": [
      "include(\"CTMDP.jl\")"
     ],
     "language": "python",
     "metadata": {},
     "outputs": [
      {
       "metadata": {},
       "output_type": "pyout",
       "prompt_number": 4,
       "text": [
        "sample (generic function with 1 method)"
       ]
      }
     ],
     "prompt_number": 4
    },
    {
     "cell_type": "code",
     "collapsed": false,
     "input": [
      "legalActions = validCompactActions\n",
      "amax = maximum([length( NextStates[s]) for s in keys(NextStates)]);\n",
      "A = (Int64)[0:amax];\n",
      "P0 = spzeros(Float32, g_nNodes, g_nNodes);\n",
      "P = (typeof(P0))[copy(P0) for a in A]\n",
      "\n",
      "for a in A\n",
      "    if a == 0\n",
      "        act = g_nullAct\n",
      "    else\n",
      "        act = Int64[1, a]\n",
      "    end\n",
      "    for x in 1:g_nNodes\n",
      "        s = x2s(x)\n",
      "        for sp in NextStates[s]\n",
      "            xp = s2x(sp)\n",
      "            P[a+1][x,xp] = Transition([s], act, [sp])\n",
      "        end\n",
      "    end\n",
      "end\n",
      "M0 = speye(Float32, g_nNodes)\n",
      "for x in 1:g_nNodes\n",
      "    s = x2s(x)\n",
      "    M0[x,x] = 1./(teaTime[s]/60)\n",
      "end\n",
      "\n",
      "Isp = speye(Float32, g_nNodes);\n",
      "Qt_list = (typeof(M0))[(M0*(P[a+1] - Isp))' for a in A];"
     ],
     "language": "python",
     "metadata": {},
     "outputs": [],
     "prompt_number": 5
    },
    {
     "cell_type": "code",
     "collapsed": false,
     "input": [
      " #g_nScomp \n",
      "Vlong = zeros(Float32,g_nSlong);"
     ],
     "language": "python",
     "metadata": {},
     "outputs": [],
     "prompt_number": 6
    },
    {
     "cell_type": "code",
     "collapsed": false,
     "input": [
      "g_nScomp, g_nSlong / g_nScomp, "
     ],
     "language": "python",
     "metadata": {},
     "outputs": [
      {
       "metadata": {},
       "output_type": "pyout",
       "prompt_number": 7,
       "text": [
        "(270725,21.29393665158371)"
       ]
      }
     ],
     "prompt_number": 7
    },
    {
     "cell_type": "code",
     "collapsed": false,
     "input": [
      "@printf(\"%f %.1e\\n\",g_nSlong, g_nSlong)"
     ],
     "language": "python",
     "metadata": {},
     "outputs": [
      {
       "output_type": "stream",
       "stream": "stdout",
       "text": [
        "5764801."
       ]
      },
      {
       "output_type": "stream",
       "stream": "stdout",
       "text": [
        "000000 5.8e+06\n"
       ]
      }
     ],
     "prompt_number": 8
    },
    {
     "cell_type": "code",
     "collapsed": false,
     "input": [
      "#data_n1 = load(\"CTMDPpolicy_n_1_a_1.0_b_0.jld\");"
     ],
     "language": "python",
     "metadata": {},
     "outputs": [],
     "prompt_number": 9
    },
    {
     "cell_type": "code",
     "collapsed": false,
     "input": [
      "# @time @CPUtime liftUpPolicy!(Qt_list, Vlong, 0.1f0, data_n1[\"Aopt\"]; maxTime = 60. )"
     ],
     "language": "python",
     "metadata": {},
     "outputs": [],
     "prompt_number": 10
    },
    {
     "cell_type": "code",
     "collapsed": false,
     "input": [
      "\n",
      "# using ProfileView\n",
      "# Profile.init(1000000*10, 0.001)"
     ],
     "language": "python",
     "metadata": {},
     "outputs": [],
     "prompt_number": 11
    },
    {
     "cell_type": "code",
     "collapsed": false,
     "input": [
      "Aopt = @CPUtime gaussSeidel!(Qt_list, Vlong, 0.1f0) #; maxIters = 1, maxTime = 5.*30.);\n",
      "unique(Aopt)\n",
      "\n",
      "#beta = 0.1\n",
      "#1 phase takes  0.2s / iteration: 45 iterations, 10s ~500K states\n",
      "#2 phase takes  1.5s / iteration: 51 iterations, 70s  ~6M states\n",
      "#3 phase takes  ~5s  / iteration: 61 iterations, 340s ~25M states\n",
      "#4 phase takes ~20s  / iteration: 83 iterations, 1200s ~75M states\n",
      "\n",
      "#beta = 0.5\n",
      "#16 iterations, 5s\n",
      "#10 iterations, 30s\n",
      "#25 iterations, 124s\n",
      "#32 iterations, 425s"
     ],
     "language": "python",
     "metadata": {},
     "outputs": [
      {
       "output_type": "stream",
       "stream": "stdout",
       "text": [
        "Stopping after 1"
       ]
      },
      {
       "output_type": "stream",
       "stream": "stdout",
       "text": [
        " iterations (maxVchange = 0.89)\n",
        "elapsed time: 1.274136302 seconds (15592 bytes allocated)\n",
        "elapsed CPU time: 1.290771 seconds\n"
       ]
      },
      {
       "metadata": {},
       "output_type": "pyout",
       "prompt_number": 13,
       "text": [
        "13-element Array{Array{Int64,1},1}:\n",
        " [0,0]\n",
        " [4,1]\n",
        " [4,3]\n",
        " [4,2]\n",
        " [3,1]\n",
        " [3,2]\n",
        " [3,3]\n",
        " [2,1]\n",
        " [2,2]\n",
        " [2,3]\n",
        " [1,1]\n",
        " [1,2]\n",
        " [1,3]"
       ]
      }
     ],
     "prompt_number": 13
    },
    {
     "cell_type": "code",
     "collapsed": false,
     "input": [
      "find(x -> x != g_nullAct, Aopt - Aopt2)"
     ],
     "language": "python",
     "metadata": {},
     "outputs": [
      {
       "metadata": {},
       "output_type": "pyout",
       "prompt_number": 21,
       "text": [
        "548-element Array{Int64,1}:\n",
        "    109\n",
        "   1226\n",
        "   1227\n",
        "   1228\n",
        "   1229\n",
        "   1230\n",
        "   1234\n",
        "   1235\n",
        "   1240\n",
        "   1242\n",
        "   1244\n",
        "   1245\n",
        "   1247\n",
        "      \u22ee\n",
        " 250913\n",
        " 250977\n",
        " 250995\n",
        " 250998\n",
        " 251016\n",
        " 251028\n",
        " 251044\n",
        " 253482\n",
        " 253488\n",
        " 253491\n",
        " 253492\n",
        " 253495"
       ]
      }
     ],
     "prompt_number": 21
    },
    {
     "cell_type": "code",
     "collapsed": false,
     "input": [
      "Aopt[253482], Aopt2[253482]"
     ],
     "language": "python",
     "metadata": {},
     "outputs": [
      {
       "metadata": {},
       "output_type": "pyout",
       "prompt_number": 30,
       "text": [
        "([3,3],[2,3])"
       ]
      }
     ],
     "prompt_number": 30
    },
    {
     "cell_type": "code",
     "collapsed": false,
     "input": [
      "CIDX2S(253482)"
     ],
     "language": "python",
     "metadata": {},
     "outputs": [
      {
       "metadata": {},
       "output_type": "pyout",
       "prompt_number": 31,
       "text": [
        "4-element Array{Symbol,1}:\n",
        " :RDep  \n",
        " :RArr  \n",
        " :RArr  \n",
        " :\u03d51_RX2"
       ]
      }
     ],
     "prompt_number": 31
    },
    {
     "cell_type": "code",
     "collapsed": false,
     "input": [
      "# ProfileView.view()"
     ],
     "language": "python",
     "metadata": {},
     "outputs": [],
     "prompt_number": 12
    },
    {
     "cell_type": "code",
     "collapsed": false,
     "input": [
      "ctmdpPolicy = S -> policy_S2a(S, Aopt)"
     ],
     "language": "python",
     "metadata": {},
     "outputs": [
      {
       "metadata": {},
       "output_type": "pyout",
       "prompt_number": 15,
       "text": [
        "(anonymous function)"
       ]
      }
     ],
     "prompt_number": 15
    },
    {
     "cell_type": "code",
     "collapsed": false,
     "input": [
      "\u03b2_cost = 0\n",
      "filename = \"CTMDPpolicy_n_\" * string(nPhases) * \"_a_\" * string(\u03b1) * \"_b_\" * string(\u03b2_cost) * \".jld\"\n",
      "save(filename, \"Aopt\", Aopt, \"\u03b1\", \u03b1, \"\u03b2_cost\", \u03b2_cost); #\"Vstar\", Vshort,\n",
      "filename"
     ],
     "language": "python",
     "metadata": {},
     "outputs": [
      {
       "metadata": {},
       "output_type": "pyout",
       "prompt_number": 20,
       "text": [
        "\"CTMDPpolicy_n_2_a_1.0_b_0.jld\""
       ]
      }
     ],
     "prompt_number": 20
    },
    {
     "cell_type": "code",
     "collapsed": false,
     "input": [
      "s = [:LD2, :\u03d51_LB1, :RX1, :LX1]; s2 = [:F1, :U2, :LX1, :RX1];#,:T,:T]#,:LArr];"
     ],
     "language": "python",
     "metadata": {},
     "outputs": [],
     "prompt_number": 17
    },
    {
     "cell_type": "code",
     "collapsed": false,
     "input": [
      "ctmdpPolicy(s), ctmdpPolicy(s2)"
     ],
     "language": "python",
     "metadata": {},
     "outputs": [
      {
       "metadata": {},
       "output_type": "pyout",
       "prompt_number": 18,
       "text": [
        "((1,:\u03d51_LD3),(1,:R))"
       ]
      }
     ],
     "prompt_number": 18
    },
    {
     "cell_type": "code",
     "collapsed": false,
     "input": [
      "# for cidx in 1:g_nScomp\n",
      "#     S = CIDX2S(cidx) \n",
      "#     a = ctmdpPolicy(S)\n",
      "#     if a != g_noaction\n",
      "#         @printf(\"%s -> %s\\n\",S, a) \n",
      "#     end\n",
      "# end"
     ],
     "language": "python",
     "metadata": {},
     "outputs": [],
     "prompt_number": 17
    },
    {
     "cell_type": "code",
     "collapsed": false,
     "input": [
      "g_Scomp[300 + (1:10)]"
     ],
     "language": "python",
     "metadata": {},
     "outputs": [
      {
       "metadata": {},
       "output_type": "pyout",
       "prompt_number": 70,
       "text": [
        "10-element Array{Array{Symbol,1},1}:\n",
        " [:T,:T,:LX1,:\u03d52_T]  \n",
        " [:T,:T,:LX1,:\u03d51_U2] \n",
        " [:T,:T,:LX1,:\u03d52_RB2]\n",
        " [:T,:T,:LX1,:\u03d53_RD2]\n",
        " [:T,:T,:LX1,:\u03d52_RB1]\n",
        " [:T,:T,:LX1,:\u03d53_LX2]\n",
        " [:T,:T,:LX1,:\u03d52_LD2]\n",
        " [:T,:T,:LX1,:\u03d53_F1] \n",
        " [:T,:T,:LX1,:\u03d53_LB2]\n",
        " [:T,:T,:LX1,:\u03d52_LD1]"
       ]
      }
     ],
     "prompt_number": 70
    },
    {
     "cell_type": "code",
     "collapsed": false,
     "input": [
      "g_allstates[1:28]"
     ],
     "language": "python",
     "metadata": {},
     "outputs": [
      {
       "metadata": {},
       "output_type": "pyout",
       "prompt_number": 74,
       "text": [
        "28-element Array{Symbol,1}:\n",
        " :T   \n",
        " :R   \n",
        " :U1  \n",
        " :LX1 \n",
        " :LD1 \n",
        " :LD2 \n",
        " :LB1 \n",
        " :F1  \n",
        " :RX1 \n",
        " :RD1 \n",
        " :RD2 \n",
        " :RB1 \n",
        " :GO  \n",
        " \u22ee    \n",
        " :LD3 \n",
        " :LB2 \n",
        " :F0  \n",
        " :RX2 \n",
        " :RD0 \n",
        " :RD3 \n",
        " :RB2 \n",
        " :LDep\n",
        " :LArr\n",
        " :RDep\n",
        " :RArr\n",
        " :\u03d52_T"
       ]
      }
     ],
     "prompt_number": 74
    },
    {
     "cell_type": "code",
     "collapsed": false,
     "input": [],
     "language": "python",
     "metadata": {},
     "outputs": []
    }
   ],
   "metadata": {}
  }
 ]
}