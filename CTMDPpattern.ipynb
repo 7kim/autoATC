{
 "metadata": {
  "language": "Julia",
  "name": "",
  "signature": "sha256:fba2bac80c02042d8f9ef36431d749a5af0a01b911391bbe90bc22886f340b81"
 },
 "nbformat": 3,
 "nbformat_minor": 0,
 "worksheets": [
  {
   "cells": [
    {
     "cell_type": "code",
     "collapsed": false,
     "input": [
      "include(\"pattern.jl\")"
     ],
     "language": "python",
     "metadata": {},
     "outputs": [
      {
       "metadata": {},
       "output_type": "pyout",
       "prompt_number": 1,
       "text": [
        "plotSim (generic function with 1 method)"
       ]
      }
     ],
     "prompt_number": 1
    },
    {
     "cell_type": "code",
     "collapsed": false,
     "input": [
      "include(\"CTMDP.jl\")"
     ],
     "language": "python",
     "metadata": {},
     "outputs": [
      {
       "metadata": {},
       "output_type": "pyout",
       "prompt_number": 2,
       "text": [
        "sample (generic function with 1 method)"
       ]
      }
     ],
     "prompt_number": 2
    },
    {
     "cell_type": "code",
     "collapsed": false,
     "input": [
      "amax = maximum([length( NextStates[s]) for s in keys(NextStates)]);\n",
      "A = (Int8)[0:amax];\n",
      "P0 = spzeros(Float32, g_nNodes, g_nNodes);\n",
      "P = (typeof(P0))[copy(P0) for a in A]\n",
      "\n",
      "for a in A\n",
      "    if a == 0\n",
      "        act = g_nullAct\n",
      "    else\n",
      "        act = Int8[1, a]\n",
      "    end\n",
      "    for x in 1:g_nNodes\n",
      "        s = x2s(x)\n",
      "        for sp in NextStates[s]\n",
      "            xp = s2x(sp)\n",
      "            P[a+1][x,xp] = Transition([s], act, [sp])\n",
      "        end\n",
      "    end\n",
      "end\n",
      "M0 = speye(Float32, g_nNodes)\n",
      "for x in 1:g_nNodes\n",
      "    s = x2s(x)\n",
      "    M0[x,x] = 1./(teaTime[s]/60)\n",
      "end\n",
      "\n",
      "Isp = speye(Float32, g_nNodes);\n",
      "Qt_list = (typeof(M0))[(M0*(P[a+1] - Isp))' for a in A];"
     ],
     "language": "python",
     "metadata": {},
     "outputs": [],
     "prompt_number": 3
    },
    {
     "cell_type": "code",
     "collapsed": false,
     "input": [
      " #g_nScomp \n",
      "Vlong = zeros(Float32,g_nSlong);"
     ],
     "language": "python",
     "metadata": {},
     "outputs": [],
     "prompt_number": 4
    },
    {
     "cell_type": "code",
     "collapsed": false,
     "input": [
      "g_nScomp, g_nSlong / g_nScomp, "
     ],
     "language": "python",
     "metadata": {},
     "outputs": [
      {
       "metadata": {},
       "output_type": "pyout",
       "prompt_number": 5,
       "text": [
        "(7673835,22.791814653299166)"
       ]
      }
     ],
     "prompt_number": 5
    },
    {
     "cell_type": "code",
     "collapsed": false,
     "input": [
      "@printf(\"%f %.1e\\n\",g_nSlong, g_nSlong)"
     ],
     "language": "python",
     "metadata": {},
     "outputs": [
      {
       "output_type": "stream",
       "stream": "stdout",
       "text": [
        "174900625."
       ]
      },
      {
       "output_type": "stream",
       "stream": "stdout",
       "text": [
        "000000 1.7e+08\n"
       ]
      }
     ],
     "prompt_number": 6
    },
    {
     "cell_type": "code",
     "collapsed": false,
     "input": [
      "#data_n1 = load(\"CTMDPpolicy_n_1_a_1.0_b_0.jld\");"
     ],
     "language": "python",
     "metadata": {},
     "outputs": [],
     "prompt_number": 7
    },
    {
     "cell_type": "code",
     "collapsed": false,
     "input": [
      "# @time @CPUtime liftUpPolicy!(Qt_list, Vlong, 0.1f0, data_n1[\"Aopt\"]; maxTime = 60. )"
     ],
     "language": "python",
     "metadata": {},
     "outputs": [],
     "prompt_number": 8
    },
    {
     "cell_type": "code",
     "collapsed": false,
     "input": [
      "# using ProfileView\n",
      "# Profile.init(1000000*10, 0.001)"
     ],
     "language": "python",
     "metadata": {},
     "outputs": [],
     "prompt_number": 9
    },
    {
     "cell_type": "code",
     "collapsed": false,
     "input": [
      "\u03b2_cost = 0.0f0\n",
      "\u03b6_discount = 0.5f0\n",
      "for \u03b2_cost in [0.001f0] #[0.0f0, 0.001f0, 0.005f0, 0.01f0, 0.05f0]\n",
      "    Aopt = gaussSeidel!(Qt_list, Vlong, \u03b6_discount, \u03b2_cost); #maxIters = 1, maxTime = 5.*30.);\n",
      "    savePolicy(Aopt, \u03b1, \u03b2_cost)\n",
      "end\n",
      "# unique(Aopt)\n",
      "\n",
      "#zeta = 0.5\n",
      "#1 phase (~500K states) takes 2sec, 12 iterations (or ~0.15s  / iteration)\n",
      "#2 phase (~6M states) takes 18sec, 14 iterations (or ~1.25s  / iteration)\n",
      "#3 phase (~25M states) takes 96sec, 18 iterations (or ~5s  / iteration)\n",
      "#4 phase (~75M states) takes 291sec, 23 iterations (or ~12s  / iteration)\n",
      "#5 phase (~175M states) takes 715sec, 29 iterations (or ~25s / iteration)"
     ],
     "language": "python",
     "metadata": {},
     "outputs": [
      {
       "output_type": "stream",
       "stream": "stdout",
       "text": [
        "At iteration #"
       ]
      },
      {
       "output_type": "stream",
       "stream": "stdout",
       "text": [
        "5: maxVchange = 372.15, nActsChanged = 178824, t = 125.37 sec\n",
        "At iteration #"
       ]
      },
      {
       "output_type": "stream",
       "stream": "stdout",
       "text": [
        "10: maxVchange = 134.40, nActsChanged = 66954, t = 251.35 sec\n",
        "At iteration #"
       ]
      },
      {
       "output_type": "stream",
       "stream": "stdout",
       "text": [
        "15: maxVchange = 36.30, nActsChanged = 35254, t = 374.09 sec\n",
        "At iteration #"
       ]
      },
      {
       "output_type": "stream",
       "stream": "stdout",
       "text": [
        "20: maxVchange = 6.89, nActsChanged = 16038, t = 497.95 sec\n",
        "At iteration #"
       ]
      },
      {
       "output_type": "stream",
       "stream": "stdout",
       "text": [
        "25: maxVchange = 2.14, nActsChanged = 4899, t = 627.53 sec\n",
        "Stopping after "
       ]
      },
      {
       "output_type": "stream",
       "stream": "stdout",
       "text": [
        "29 iterations (maxVchange = 0.85)\n",
        "elapsed time: 728"
       ]
      },
      {
       "output_type": "stream",
       "stream": "stdout",
       "text": [
        ".822153097 seconds (265820 bytes allocated)\n",
        "policies/CTMDPpolicy_n_5_a_1.0_b_0.001.jld"
       ]
      },
      {
       "output_type": "stream",
       "stream": "stdout",
       "text": [
        "\n"
       ]
      }
     ],
     "prompt_number": 10
    },
    {
     "cell_type": "code",
     "collapsed": false,
     "input": [
      "# ProfileView.view()"
     ],
     "language": "python",
     "metadata": {},
     "outputs": [],
     "prompt_number": 11
    },
    {
     "cell_type": "code",
     "collapsed": false,
     "input": [
      "ctmdpPolicy = S -> policy_S2a(S, Aopt)"
     ],
     "language": "python",
     "metadata": {},
     "outputs": [
      {
       "metadata": {},
       "output_type": "pyout",
       "prompt_number": 12,
       "text": [
        "(anonymous function)"
       ]
      }
     ],
     "prompt_number": 12
    },
    {
     "cell_type": "code",
     "collapsed": false,
     "input": [
      "s = [:LD2, :\u03d51_LB1, :RX1, :LX1]; s2 = [:F0,:RX1,:LD2,:RD0];#,:T,:T]#,:LArr];"
     ],
     "language": "python",
     "metadata": {},
     "outputs": [],
     "prompt_number": 13
    },
    {
     "cell_type": "code",
     "collapsed": false,
     "input": [
      "Aopt = loadPolicy(1., 0.5f0);"
     ],
     "language": "python",
     "metadata": {},
     "outputs": [],
     "prompt_number": 38
    },
    {
     "cell_type": "code",
     "collapsed": false,
     "input": [
      "length(find(x-> x != g_nullAct, Aopt))"
     ],
     "language": "python",
     "metadata": {},
     "outputs": [
      {
       "metadata": {},
       "output_type": "pyout",
       "prompt_number": 39,
       "text": [
        "0"
       ]
      }
     ],
     "prompt_number": 39
    },
    {
     "cell_type": "code",
     "collapsed": false,
     "input": [
      "ctmdpPolicy(s2)"
     ],
     "language": "python",
     "metadata": {},
     "outputs": [
      {
       "metadata": {},
       "output_type": "pyout",
       "prompt_number": 28,
       "text": [
        "(3,:LD3)"
       ]
      }
     ],
     "prompt_number": 28
    },
    {
     "cell_type": "code",
     "collapsed": false,
     "input": [
      "ctmdpPolicy(s), ctmdpPolicy(s2)"
     ],
     "language": "python",
     "metadata": {},
     "outputs": [
      {
       "metadata": {},
       "output_type": "pyout",
       "prompt_number": 17,
       "text": [
        "((1,:\u03d51_LD3),(3,:\u03d51_LD3))"
       ]
      }
     ],
     "prompt_number": 17
    },
    {
     "cell_type": "code",
     "collapsed": false,
     "input": [
      "#savePolicy(Aopt, \u03b1, \u03b2_cost)"
     ],
     "language": "python",
     "metadata": {},
     "outputs": [
      {
       "output_type": "stream",
       "stream": "stdout",
       "text": [
        "policies/CTMDPpolicy_n_3_a_1.0_b_0.1.jld\n"
       ]
      }
     ],
     "prompt_number": 33
    },
    {
     "cell_type": "code",
     "collapsed": false,
     "input": [
      "# for cidx in 1:g_nScomp\n",
      "#     S = CIDX2S(cidx) \n",
      "#     a = ctmdpPolicy(S)\n",
      "#     if a != g_noaction\n",
      "#         @printf(\"%s -> %s\\n\",S, a) \n",
      "#     end\n",
      "# end"
     ],
     "language": "python",
     "metadata": {},
     "outputs": [],
     "prompt_number": 17
    },
    {
     "cell_type": "code",
     "collapsed": false,
     "input": [
      "Vlong"
     ],
     "language": "python",
     "metadata": {},
     "outputs": [
      {
       "metadata": {},
       "output_type": "pyout",
       "prompt_number": 40,
       "text": [
        "531441-element Array{Float32,1}:\n",
        " -462.747 \n",
        " -625.543 \n",
        " -387.596 \n",
        " -348.537 \n",
        " -341.041 \n",
        " -343.265 \n",
        " -367.729 \n",
        " -391.745 \n",
        " -348.538 \n",
        " -341.041 \n",
        " -343.266 \n",
        " -367.729 \n",
        " -398.447 \n",
        "    \u22ee     \n",
        "  -44.4631\n",
        "  -53.5833\n",
        "  -59.6346\n",
        "  -59.8809\n",
        "  -88.5788\n",
        " -127.15  \n",
        " -155.036 \n",
        "  -72.931 \n",
        "  -43.8151\n",
        "  -44.9118\n",
        "  -50.1303\n",
        "  -76.934 "
       ]
      }
     ],
     "prompt_number": 40
    },
    {
     "cell_type": "code",
     "collapsed": false,
     "input": [],
     "language": "python",
     "metadata": {},
     "outputs": []
    }
   ],
   "metadata": {}
  }
 ]
}