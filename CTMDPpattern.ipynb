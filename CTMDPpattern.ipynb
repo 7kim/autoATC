{
 "metadata": {
  "language": "Julia",
  "name": "",
  "signature": "sha256:b9add9c7648b191b862d6f380e2728839444873952db454883ed8985bfbf4821"
 },
 "nbformat": 3,
 "nbformat_minor": 0,
 "worksheets": [
  {
   "cells": [
    {
     "cell_type": "code",
     "collapsed": false,
     "input": [
      "include(\"pattern.jl\")"
     ],
     "language": "python",
     "metadata": {},
     "outputs": [],
     "prompt_number": 1
    },
    {
     "cell_type": "code",
     "collapsed": false,
     "input": [
      "include(\"CTMDP.jl\")"
     ],
     "language": "python",
     "metadata": {},
     "outputs": [
      {
       "metadata": {},
       "output_type": "pyout",
       "prompt_number": 2,
       "text": [
        "sample (generic function with 1 method)"
       ]
      }
     ],
     "prompt_number": 2
    },
    {
     "cell_type": "code",
     "collapsed": false,
     "input": [
      "amax = maximum([length( pattern.NextStates[s]) for s in keys(pattern.NextStates)]);\n",
      "A = (Int8)[0:amax];\n",
      "P0 = spzeros(Float32, g_nNodes, g_nNodes);\n",
      "P = (typeof(P0))[copy(P0) for a in A]\n",
      "\n",
      "for a in A\n",
      "    if a == 0\n",
      "        act = pattern.g_nullAct\n",
      "    else\n",
      "        act = Int8[1, a]\n",
      "    end\n",
      "    for x in 1:g_nNodes\n",
      "        s = x2s(x)\n",
      "        for sp in pattern.NextStates[s]\n",
      "            xp = s2x(sp)\n",
      "            P[a+1][x,xp] = pattern.Transition([s], act, [sp])\n",
      "        end\n",
      "    end\n",
      "end\n",
      "M0 = speye(Float32, g_nNodes)\n",
      "for x in 1:g_nNodes\n",
      "    s = x2s(x)\n",
      "    M0[x,x] = 1./(pattern.teaTime[s]/60)\n",
      "end\n",
      "\n",
      "Isp = speye(Float32, g_nNodes);\n",
      "Qt_list = (typeof(M0))[(M0*(P[a+1] - Isp))' for a in A];"
     ],
     "language": "python",
     "metadata": {},
     "outputs": [],
     "prompt_number": 3
    },
    {
     "cell_type": "code",
     "collapsed": false,
     "input": [
      " #g_nScomp \n",
      "Vlong = zeros(Float32,g_nSlong);"
     ],
     "language": "python",
     "metadata": {},
     "outputs": [],
     "prompt_number": 4
    },
    {
     "cell_type": "code",
     "collapsed": false,
     "input": [
      "g_nScomp, g_nSlong / g_nScomp, "
     ],
     "language": "python",
     "metadata": {},
     "outputs": [
      {
       "metadata": {},
       "output_type": "pyout",
       "prompt_number": 5,
       "text": [
        "(15329615,22.980052728003933)"
       ]
      }
     ],
     "prompt_number": 5
    },
    {
     "cell_type": "code",
     "collapsed": false,
     "input": [
      "@printf(\"%f %.1e\\n\",g_nSlong, g_nSlong)"
     ],
     "language": "python",
     "metadata": {},
     "outputs": [
      {
       "output_type": "stream",
       "stream": "stdout",
       "text": [
        "352275361."
       ]
      },
      {
       "output_type": "stream",
       "stream": "stdout",
       "text": [
        "000000 3.5e+08\n"
       ]
      }
     ],
     "prompt_number": 6
    },
    {
     "cell_type": "code",
     "collapsed": false,
     "input": [
      "#data_n1 = load(\"CTMDPpolicy_n_1_a_1.0_b_0.jld\");"
     ],
     "language": "python",
     "metadata": {},
     "outputs": [],
     "prompt_number": 7
    },
    {
     "cell_type": "code",
     "collapsed": false,
     "input": [
      "# @time @CPUtime liftUpPolicy!(Qt_list, Vlong, 0.1f0, data_n1[\"Aopt\"]; maxTime = 60. )"
     ],
     "language": "python",
     "metadata": {},
     "outputs": [],
     "prompt_number": 8
    },
    {
     "cell_type": "code",
     "collapsed": false,
     "input": [
      "# using ProfileView\n",
      "# Profile.init(1000000*10, 0.001)"
     ],
     "language": "python",
     "metadata": {},
     "outputs": [],
     "prompt_number": 9
    },
    {
     "cell_type": "code",
     "collapsed": false,
     "input": [
      "# \u03b6_discount = 0.5f0\n",
      "# for \u03b2_cost in [0.001f0] #[0.0f0, 0.001f0, 0.005f0, 0.01f0, 0.05f0]\n",
      "#     Aopt = gaussSeidel!(Qt_list, Vlong, \u03b6_discount, \u03b2_cost); #maxIters = 1, maxTime = 5.*30.);\n",
      "#     #savePolicy(Aopt, \u03b1, \u03b2_cost)\n",
      "# end\n",
      "# unique(Aopt)\n",
      "\n",
      "#zeta = 0.5\n",
      "#1 phase (~500K states) takes 2sec, 12 iterations (or ~0.15s  / iteration)\n",
      "#2 phase (~6M states) takes 18sec, 14 iterations (or ~1.25s  / iteration)\n",
      "#3 phase (~25M states) takes 96sec, 18 iterations (or ~5s  / iteration)\n",
      "#4 phase (~75M states) takes 291sec, 23 iterations (or ~12s  / iteration)\n",
      "#5 phase (~175M states) takes 715sec, 29 iterations (or ~25s / iteration)"
     ],
     "language": "python",
     "metadata": {},
     "outputs": [],
     "prompt_number": 10
    },
    {
     "cell_type": "code",
     "collapsed": false,
     "input": [
      "# ProfileView.view()"
     ],
     "language": "python",
     "metadata": {},
     "outputs": [],
     "prompt_number": 11
    },
    {
     "cell_type": "code",
     "collapsed": false,
     "input": [
      "pattern.nPhases"
     ],
     "language": "python",
     "metadata": {},
     "outputs": [
      {
       "metadata": {},
       "output_type": "pyout",
       "prompt_number": 12,
       "text": [
        "6"
       ]
      }
     ],
     "prompt_number": 12
    },
    {
     "cell_type": "code",
     "collapsed": false,
     "input": [
      "\u03b6_discount = 0.5f0\n",
      "for \u03b2_cost in [0.0f0, 0.001f0, 0.005f0, 0.01f0, 0.05f0, 0.1f0]\n",
      "    Aopt = greedyRandomRollout!(Qt_list, Vlong, \u03b6_discount, \u03b2_cost); #maxIters = 1, maxTime = 5.*30.);\n",
      "    savePolicy(Aopt, pattern.\u03b1, \u03b2_cost, prefix=\"greedyRandom_\")\n",
      "end"
     ],
     "language": "python",
     "metadata": {},
     "outputs": [
      {
       "output_type": "stream",
       "stream": "stdout",
       "text": [
        "At iteration #5"
       ]
      },
      {
       "output_type": "stream",
       "stream": "stdout",
       "text": [
        ": maxVchange = 373.26, nActsChanged = 0, t = 200"
       ]
      },
      {
       "output_type": "stream",
       "stream": "stdout",
       "text": [
        ".83 sec\n",
        "At iteration #"
       ]
      },
      {
       "output_type": "stream",
       "stream": "stdout",
       "text": [
        "10: maxVchange = 184.29, nActsChanged = 0, t = 364.40 sec\n",
        "At iteration #"
       ]
      },
      {
       "output_type": "stream",
       "stream": "stdout",
       "text": [
        "15: maxVchange = 70.80, nActsChanged = 0, t = 529.23 sec\n",
        "At iteration #"
       ]
      },
      {
       "output_type": "stream",
       "stream": "stdout",
       "text": [
        "20: maxVchange = 13.55, nActsChanged = 0, t = 691.75 sec\n",
        "At iteration #"
       ]
      },
      {
       "output_type": "stream",
       "stream": "stdout",
       "text": [
        "25: maxVchange = 3.35, nActsChanged = 0, t = 862.39 sec\n",
        "At iteration #"
       ]
      },
      {
       "output_type": "stream",
       "stream": "stdout",
       "text": [
        "30: maxVchange = 1.07, nActsChanged = 0, t = 1034.51 sec\n",
        "Stopping after "
       ]
      },
      {
       "output_type": "stream",
       "stream": "stdout",
       "text": [
        "31 iterations (maxVchange = 0.90)\n",
        "elapsed time: 1067"
       ]
      },
      {
       "output_type": "stream",
       "stream": "stdout",
       "text": [
        ".717647824 seconds (245536 bytes allocated)\n",
        "policies/greedyRandom_CTMDPpolicy_n_6_a_1.0_b_0.0.jld"
       ]
      },
      {
       "output_type": "stream",
       "stream": "stdout",
       "text": [
        "\n",
        "Stopping after "
       ]
      },
      {
       "output_type": "stream",
       "stream": "stdout",
       "text": [
        "1 iterations (maxVchange = 0.74)\n",
        "elapsed time: 94.220517518 seconds (15952 bytes allocated)\n",
        "policies/greedyRandom_CTMDPpolicy_n_6_a_1.0_b_0.001.jld"
       ]
      },
      {
       "output_type": "stream",
       "stream": "stdout",
       "text": [
        "\n",
        "Stopping after "
       ]
      },
      {
       "output_type": "stream",
       "stream": "stdout",
       "text": [
        "1 iterations (maxVchange = 0"
       ]
      },
      {
       "output_type": "stream",
       "stream": "stdout",
       "text": [
        ".59)\n",
        "elapsed time: 87.63934773 seconds (28736 bytes allocated)\n",
        "policies/greedyRandom_CTMDPpolicy_n_6_a_1.0_b_0.005.jld"
       ]
      },
      {
       "output_type": "stream",
       "stream": "stdout",
       "text": [
        "\n",
        "Stopping after "
       ]
      },
      {
       "output_type": "stream",
       "stream": "stdout",
       "text": [
        "1 iterations (maxVchange = 0.47)\n",
        "elapsed time: 76.306512751 seconds (15480 bytes allocated)\n",
        "policies/greedyRandom_CTMDPpolicy_n_6_a_1.0_b_0.01.jld"
       ]
      },
      {
       "output_type": "stream",
       "stream": "stdout",
       "text": [
        "\n",
        "Stopping after "
       ]
      },
      {
       "output_type": "stream",
       "stream": "stdout",
       "text": [
        "1 iterations (maxVchange = 0.37)\n",
        "elapsed time: 87.441200661 seconds (15480 bytes allocated)\n",
        "policies/greedyRandom_CTMDPpolicy_n_6_a_1.0_b_0.05.jld"
       ]
      }
     ]
    },
    {
     "cell_type": "code",
     "collapsed": false,
     "input": [
      "ctmdpPolicy = S -> policy_S2a(S, Aopt)"
     ],
     "language": "python",
     "metadata": {},
     "outputs": [
      {
       "metadata": {},
       "output_type": "pyout",
       "prompt_number": 14,
       "text": [
        "(anonymous function)"
       ]
      }
     ],
     "prompt_number": 14
    },
    {
     "cell_type": "code",
     "collapsed": false,
     "input": [
      "s = [:LD2, :LB1, :RX1, :LX1]; s2 = [:F0,:RX1,:LD2,:RD0];#,:T,:T]#,:LArr];"
     ],
     "language": "python",
     "metadata": {},
     "outputs": [],
     "prompt_number": 15
    },
    {
     "cell_type": "code",
     "collapsed": false,
     "input": [
      "#Aopt = loadPolicy(1., 0.5f0);"
     ],
     "language": "python",
     "metadata": {},
     "outputs": [],
     "prompt_number": 16
    },
    {
     "cell_type": "code",
     "collapsed": false,
     "input": [
      "length(find(x-> x != pattern.g_nullAct, Aopt))"
     ],
     "language": "python",
     "metadata": {},
     "outputs": [
      {
       "ename": "LoadError",
       "evalue": "Aopt not defined\nwhile loading In[17], in expression starting on line 1",
       "output_type": "pyerr",
       "traceback": [
        "Aopt not defined\nwhile loading In[17], in expression starting on line 1",
        ""
       ]
      }
     ],
     "prompt_number": 17
    },
    {
     "cell_type": "code",
     "collapsed": false,
     "input": [
      "ctmdpPolicy(s2)"
     ],
     "language": "python",
     "metadata": {},
     "outputs": [
      {
       "ename": "LoadError",
       "evalue": "Aopt not defined\nwhile loading In[18], in expression starting on line 1",
       "output_type": "pyerr",
       "traceback": [
        "Aopt not defined\nwhile loading In[18], in expression starting on line 1",
        "",
        " in anonymous at In[14]:1"
       ]
      }
     ],
     "prompt_number": 18
    },
    {
     "cell_type": "code",
     "collapsed": false,
     "input": [
      "ctmdpPolicy(s), ctmdpPolicy(s2)"
     ],
     "language": "python",
     "metadata": {},
     "outputs": [
      {
       "ename": "LoadError",
       "evalue": "Aopt not defined\nwhile loading In[19], in expression starting on line 1",
       "output_type": "pyerr",
       "traceback": [
        "Aopt not defined\nwhile loading In[19], in expression starting on line 1",
        "",
        " in anonymous at In[14]:1"
       ]
      }
     ],
     "prompt_number": 19
    },
    {
     "cell_type": "code",
     "collapsed": false,
     "input": [
      "#savePolicy(Aopt, \u03b1, \u03b2_cost)"
     ],
     "language": "python",
     "metadata": {},
     "outputs": [],
     "prompt_number": 20
    },
    {
     "cell_type": "code",
     "collapsed": false,
     "input": [
      "# for cidx in 1:g_nScomp\n",
      "#     S = CIDX2S(cidx) \n",
      "#     a = ctmdpPolicy(S)\n",
      "#     if a != g_noaction\n",
      "#         @printf(\"%s -> %s\\n\",S, a) \n",
      "#     end\n",
      "# end"
     ],
     "language": "python",
     "metadata": {},
     "outputs": [],
     "prompt_number": 21
    },
    {
     "cell_type": "code",
     "collapsed": false,
     "input": [
      "Vlong"
     ],
     "language": "python",
     "metadata": {},
     "outputs": [
      {
       "metadata": {},
       "output_type": "pyout",
       "prompt_number": 22,
       "text": [
        "531441-element Array{Float32,1}:\n",
        " -462.748 \n",
        " -625.543 \n",
        " -387.598 \n",
        " -348.543 \n",
        " -341.042 \n",
        " -343.266 \n",
        " -367.73  \n",
        " -391.746 \n",
        " -348.543 \n",
        " -341.043 \n",
        " -343.266 \n",
        " -367.73  \n",
        " -398.449 \n",
        "    \u22ee     \n",
        "  -44.4638\n",
        "  -53.5843\n",
        "  -59.6355\n",
        "  -59.8815\n",
        "  -88.5793\n",
        " -127.15  \n",
        " -155.037 \n",
        "  -72.9314\n",
        "  -43.8155\n",
        "  -44.9121\n",
        "  -50.1306\n",
        "  -76.9341"
       ]
      }
     ],
     "prompt_number": 22
    },
    {
     "cell_type": "code",
     "collapsed": false,
     "input": [],
     "language": "python",
     "metadata": {},
     "outputs": [],
     "prompt_number": 23
    }
   ],
   "metadata": {}
  }
 ]
}