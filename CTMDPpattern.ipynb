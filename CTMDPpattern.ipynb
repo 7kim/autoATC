{
 "metadata": {
  "language": "Julia",
  "name": "",
  "signature": "sha256:d38d3d597c9da3355a6b644b323c71cdd4dcecb158cdf771921fa1f82fbdac3b"
 },
 "nbformat": 3,
 "nbformat_minor": 0,
 "worksheets": [
  {
   "cells": [
    {
     "cell_type": "code",
     "collapsed": false,
     "input": [
      "using pattern"
     ],
     "language": "python",
     "metadata": {},
     "outputs": [],
     "prompt_number": 1
    },
    {
     "cell_type": "code",
     "collapsed": false,
     "input": [
      "using CTMDP_kronsolver"
     ],
     "language": "python",
     "metadata": {},
     "outputs": [],
     "prompt_number": 1
    },
    {
     "cell_type": "code",
     "collapsed": false,
     "input": [
      "CTMDP_kronsolver.solveCTMDP([0.0f0])"
     ],
     "language": "python",
     "metadata": {},
     "outputs": [
      {
       "output_type": "stream",
       "stream": "stdout",
       "text": [
        "Solving for 0"
       ]
      },
      {
       "output_type": "stream",
       "stream": "stdout",
       "text": [
        ".0\n",
        "At iteration #"
       ]
      },
      {
       "output_type": "stream",
       "stream": "stdout",
       "text": [
        "5: maxVchange = 338.83, nActsChanged = 51707, t = 11.58 sec\n",
        "At iteration #"
       ]
      },
      {
       "output_type": "stream",
       "stream": "stdout",
       "text": [
        "10: maxVchange = 79.23, nActsChanged = 10988, t = 23.04 sec\n",
        "At iteration #"
       ]
      },
      {
       "output_type": "stream",
       "stream": "stdout",
       "text": [
        "15: maxVchange = 23.41, nActsChanged = 2707, t = 34.43 sec\n",
        "At iteration #"
       ]
      },
      {
       "output_type": "stream",
       "stream": "stdout",
       "text": [
        "20: maxVchange = 6.88, nActsChanged = 1295, t = 45.76 sec\n",
        "At iteration #"
       ]
      },
      {
       "output_type": "stream",
       "stream": "stdout",
       "text": [
        "25: maxVchange = 3.40, nActsChanged = 316, t = 57.17 sec\n",
        "At iteration #"
       ]
      },
      {
       "output_type": "stream",
       "stream": "stdout",
       "text": [
        "30: maxVchange = 1.29, nActsChanged = 194, t = 68.59 sec\n",
        "Stopping after "
       ]
      },
      {
       "output_type": "stream",
       "stream": "stdout",
       "text": [
        "31 iterations (maxVchange = 0.99)\n",
        "elapsed time: 70.855692901 seconds (814192 bytes allocated)\n",
        "policies/CTMDPpolicy_n_2_a_1.0_b_0.0.jld"
       ]
      },
      {
       "output_type": "stream",
       "stream": "stdout",
       "text": [
        "\n"
       ]
      }
     ],
     "prompt_number": 2
    },
    {
     "cell_type": "code",
     "collapsed": false,
     "input": [
      "amax = maximum([length(pattern.NextStates[s]) for s in keys(pattern.NextStates)]);\n",
      "A = (Int8)[0:amax];\n",
      "P0 = spzeros(Float32, pattern.g_nNodes, pattern.g_nNodes);\n",
      "P = (typeof(P0))[copy(P0) for a in A]\n",
      "\n",
      "for a in A\n",
      "    if a == 0\n",
      "        act = pattern.g_nullAct\n",
      "    else\n",
      "        act = Int8[1, a]\n",
      "    end\n",
      "    for x in 1:pattern.g_nNodes\n",
      "        s = x2s(x)\n",
      "        for sp in pattern.NextStates[s]\n",
      "            xp = s2x(sp)\n",
      "            P[a+1][x,xp] = pattern.Transition([s], act, [sp])\n",
      "        end\n",
      "    end\n",
      "end\n",
      "M0 = speye(Float32, g_nNodes)\n",
      "for x in 1:g_nNodes\n",
      "    s = x2s(x)\n",
      "    M0[x,x] = 1./(pattern.teaTime[s]/60)\n",
      "end\n",
      "\n",
      "Isp = speye(Float32, g_nNodes);\n",
      "Qt_list = (typeof(M0))[(M0*(P[a+1] - Isp))' for a in A];"
     ],
     "language": "python",
     "metadata": {},
     "outputs": [],
     "prompt_number": 3
    },
    {
     "cell_type": "code",
     "collapsed": false,
     "input": [
      " #g_nScomp \n",
      "Vlong = zeros(Float32,CTMDP_kronsolver.g_nSlong);"
     ],
     "language": "python",
     "metadata": {},
     "outputs": [],
     "prompt_number": 4
    },
    {
     "cell_type": "code",
     "collapsed": false,
     "input": [
      "#data_n1 = load(\"CTMDPpolicy_n_1_a_1.0_b_0.jld\");"
     ],
     "language": "python",
     "metadata": {},
     "outputs": [],
     "prompt_number": 5
    },
    {
     "cell_type": "code",
     "collapsed": false,
     "input": [
      "# @time @CPUtime liftUpPolicy!(Qt_list, Vlong, 0.1f0, data_n1[\"Aopt\"]; maxTime = 60. )"
     ],
     "language": "python",
     "metadata": {},
     "outputs": [],
     "prompt_number": 6
    },
    {
     "cell_type": "code",
     "collapsed": false,
     "input": [
      "# using ProfileView\n",
      "# Profile.init(1000000*10, 0.001)"
     ],
     "language": "python",
     "metadata": {},
     "outputs": [],
     "prompt_number": 7
    },
    {
     "cell_type": "code",
     "collapsed": false,
     "input": [
      "\u03b6_discount = 0.5f0\n",
      "for \u03b2_cost in [0.0f0] #[0.0f0, 0.001f0, 0.005f0, 0.01f0, 0.05f0]\n",
      "    Aopt = gaussSeidel!(Qt_list, Vlong, \u03b6_discount, \u03b2_cost); #maxIters = 1, maxTime = 5.*30.);\n",
      "    savePolicy(Aopt, pattern.\u03b1, \u03b2_cost)\n",
      "end\n",
      "#unique(Aopt)\n",
      "\n",
      "# zeta = 0.5\n",
      "# 1 phase (~500K states) takes 2sec, 12 iterations (or ~0.15s  / iteration)\n",
      "# 2 phase (~6M states) takes 18sec, 14 iterations (or ~1.25s  / iteration)\n",
      "# 3 phase (~25M states) takes 96sec, 18 iterations (or ~5s  / iteration)\n",
      "# 4 phase (~75M states) takes 291sec, 23 iterations (or ~12s  / iteration)\n",
      "# 5 phase (~175M states) takes 715sec, 29 iterations (or ~25s / iteration)"
     ],
     "language": "python",
     "metadata": {},
     "outputs": [
      {
       "output_type": "stream",
       "stream": "stdout",
       "text": [
        "Stopping after 1"
       ]
      },
      {
       "output_type": "stream",
       "stream": "stdout",
       "text": [
        " iterations (maxVchange = 0.79)\n",
        "elapsed time: 3.501009209 seconds (16064 bytes allocated)\n",
        "policies/CTMDPpolicy_n_2_a_1.0_b_0.0.jld"
       ]
      },
      {
       "output_type": "stream",
       "stream": "stdout",
       "text": [
        "\n"
       ]
      },
      {
       "ename": "LoadError",
       "evalue": "Aopt not defined\nwhile loading In[11], in expression starting on line 6",
       "output_type": "pyerr",
       "traceback": [
        "Aopt not defined\nwhile loading In[11], in expression starting on line 6",
        ""
       ]
      }
     ],
     "prompt_number": 11
    },
    {
     "cell_type": "code",
     "collapsed": false,
     "input": [
      "# ProfileView.view()"
     ],
     "language": "python",
     "metadata": {},
     "outputs": [],
     "prompt_number": 9
    },
    {
     "cell_type": "code",
     "collapsed": false,
     "input": [
      "# \u03b6_discount = 0.5f0\n",
      "# for \u03b2_cost in [0.0f0, 0.001f0, 0.005f0, 0.01f0, 0.05f0, 0.1f0]\n",
      "#     Aopt = greedyRandomRollout!(Qt_list, Vlong, \u03b6_discount, \u03b2_cost); #maxIters = 1, maxTime = 5.*30.);\n",
      "#     savePolicy(Aopt, pattern.\u03b1, \u03b2_cost, prefix=\"greedyRandom_\")\n",
      "# end"
     ],
     "language": "python",
     "metadata": {},
     "outputs": [],
     "prompt_number": 12
    },
    {
     "cell_type": "code",
     "collapsed": false,
     "input": [
      "s = [:LD2, :LB1, :RX1, :LX1]; s2 = [:F0,:RX1,:LD3,:RD0];#,:T,:T]#,:LArr];"
     ],
     "language": "python",
     "metadata": {},
     "outputs": [],
     "prompt_number": 26
    },
    {
     "cell_type": "code",
     "collapsed": false,
     "input": [
      "ctmdpPolicy(s) , ctmdpPolicy(s2)"
     ],
     "language": "python",
     "metadata": {},
     "outputs": [
      {
       "metadata": {},
       "output_type": "pyout",
       "prompt_number": 27,
       "text": [
        "((1,:\u03d5a_LD3),(0,:\u2205))"
       ]
      }
     ],
     "prompt_number": 27
    },
    {
     "cell_type": "code",
     "collapsed": false,
     "input": [
      "#savePolicy(Aopt, \u03b1, \u03b2_cost)"
     ],
     "language": "python",
     "metadata": {},
     "outputs": [],
     "prompt_number": 20
    },
    {
     "cell_type": "code",
     "collapsed": false,
     "input": [],
     "language": "python",
     "metadata": {},
     "outputs": [],
     "prompt_number": 23
    }
   ],
   "metadata": {}
  }
 ]
}