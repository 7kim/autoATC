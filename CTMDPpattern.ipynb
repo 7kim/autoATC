{
 "metadata": {
  "language": "Julia",
  "name": "",
  "signature": "sha256:c09c80c23af9ec8fd5f0a012a7e06cc34dd939f3a8c70d529e6fa9fa435c2312"
 },
 "nbformat": 3,
 "nbformat_minor": 0,
 "worksheets": [
  {
   "cells": [
    {
     "cell_type": "code",
     "collapsed": false,
     "input": [
      "include(\"pattern.jl\")"
     ],
     "language": "python",
     "metadata": {},
     "outputs": [
      {
       "metadata": {},
       "output_type": "pyout",
       "prompt_number": 1,
       "text": [
        "plotSim (generic function with 1 method)"
       ]
      }
     ],
     "prompt_number": 1
    },
    {
     "cell_type": "code",
     "collapsed": false,
     "input": [
      "include(\"CTMDP.jl\")"
     ],
     "language": "python",
     "metadata": {},
     "outputs": [
      {
       "metadata": {},
       "output_type": "pyout",
       "prompt_number": 2,
       "text": [
        "sample (generic function with 1 method)"
       ]
      }
     ],
     "prompt_number": 2
    },
    {
     "cell_type": "code",
     "collapsed": false,
     "input": [
      "\u03b2_cost = 0.1;"
     ],
     "language": "python",
     "metadata": {},
     "outputs": [],
     "prompt_number": 61
    },
    {
     "cell_type": "code",
     "collapsed": false,
     "input": [
      "legalActions = validCompactActions"
     ],
     "language": "python",
     "metadata": {},
     "outputs": [
      {
       "metadata": {},
       "output_type": "pyout",
       "prompt_number": 29,
       "text": [
        "validCompactActions (generic function with 1 method)"
       ]
      }
     ],
     "prompt_number": 29
    },
    {
     "cell_type": "code",
     "collapsed": false,
     "input": [
      "amax = maximum([length( NextStates[s]) for s in keys(NextStates)]);\n",
      "A = (Int64)[0:amax];\n",
      "Aj = (Vector{Int64})[[a, [0 for i in 1:(g_nVehicles-1)]] for a in A ];"
     ],
     "language": "python",
     "metadata": {},
     "outputs": [],
     "prompt_number": 30
    },
    {
     "cell_type": "code",
     "collapsed": false,
     "input": [
      "P0 = spzeros(g_nNodes, g_nNodes);\n",
      "P = (typeof(P0))[copy(P0) for a in A]\n",
      "\n",
      "for a in A\n",
      "    if a == 0\n",
      "        act = g_nullAct\n",
      "    else\n",
      "        act = Int64[1, a]\n",
      "    end\n",
      "    for x in 1:g_nNodes\n",
      "        s = x2s(x)\n",
      "        for sp in NextStates[s]\n",
      "            xp = s2x(sp)\n",
      "            P[a+1][x,xp] = Transition([s], act, [sp])        \n",
      "        end\n",
      "    end\n",
      "end"
     ],
     "language": "python",
     "metadata": {},
     "outputs": [],
     "prompt_number": 31
    },
    {
     "cell_type": "code",
     "collapsed": false,
     "input": [
      "M0 = speye(g_nNodes)\n",
      "for x in 1:g_nNodes\n",
      "    s = x2s(x)\n",
      "    M0[x,x] = 1./(teaTime[s]/60)\n",
      "end"
     ],
     "language": "python",
     "metadata": {},
     "outputs": [],
     "prompt_number": 32
    },
    {
     "cell_type": "code",
     "collapsed": false,
     "input": [
      "# M = (Symbol => typeof(M0))[a => copy(M0) for a in [:\u2205, :S]];\n",
      "# M[:S] *= 0.5;  #Slower means longer lingering time, i.e. lower reciprocals\n"
     ],
     "language": "python",
     "metadata": {},
     "outputs": [],
     "prompt_number": 33
    },
    {
     "cell_type": "code",
     "collapsed": false,
     "input": [
      "Isp = spdiagm(ones(g_nNodes));"
     ],
     "language": "python",
     "metadata": {},
     "outputs": [],
     "prompt_number": 34
    },
    {
     "cell_type": "code",
     "collapsed": false,
     "input": [
      "#Also notice how we are indexing into P using a+1\n",
      "#the joys of 1-based indexing :(\n",
      "Qlist = (typeof(M0))[(M0*(P[a+1] - Isp)) for a in A];"
     ],
     "language": "python",
     "metadata": {},
     "outputs": [],
     "prompt_number": 35
    },
    {
     "cell_type": "code",
     "collapsed": false,
     "input": [
      "#Note that we are using the TRANSPOSE!!\n",
      "# Qt_joint = (typeof(M0))[kronSum([Qlist[an+1]' for an in a]) for a in Aj];\n",
      "# QVeval_old([3,1],[0,1],Qt_joint,Vshort,.9) #at /home/zouhair/Dropbox/Research/autoATC/CTMDP.jl:182)\n",
      "#QVeval([1,3],[0,1],Qlist,Vshort,.9) #at /home/zouhair/Dropbox/Research/autoATC/CTMDP.jl:182)"
     ],
     "language": "python",
     "metadata": {},
     "outputs": [],
     "prompt_number": 11
    },
    {
     "cell_type": "code",
     "collapsed": false,
     "input": [
      "Vshort = zeros(length(g_Scomp));"
     ],
     "language": "python",
     "metadata": {},
     "outputs": [],
     "prompt_number": 62
    },
    {
     "cell_type": "code",
     "collapsed": false,
     "input": [
      "Aopt = gaussSeidel!(Qlist, Vshort, 0.1);# at /home/zouhair/Dropbox/Research/autoATC/CTMDP.jl:268\n",
      "unique(Aopt)"
     ],
     "language": "python",
     "metadata": {},
     "outputs": [
      {
       "metadata": {},
       "output_type": "pyout",
       "prompt_number": 64,
       "text": [
        "13-element Array{Array{Int64,1},1}:\n",
        " [0,0]\n",
        " [4,1]\n",
        " [4,2]\n",
        " [3,1]\n",
        " [3,2]\n",
        " [3,3]\n",
        " [2,1]\n",
        " [2,2]\n",
        " [4,3]\n",
        " [2,3]\n",
        " [1,1]\n",
        " [1,2]\n",
        " [1,3]"
       ]
      }
     ],
     "prompt_number": 64
    },
    {
     "cell_type": "code",
     "collapsed": false,
     "input": [
      "ctmdpPolicy = S -> policy_S2a(S, Aopt)"
     ],
     "language": "python",
     "metadata": {},
     "outputs": [
      {
       "metadata": {},
       "output_type": "pyout",
       "prompt_number": 38,
       "text": [
        "(anonymous function)"
       ]
      }
     ],
     "prompt_number": 38
    },
    {
     "cell_type": "code",
     "collapsed": false,
     "input": [
      "filename = \"CTMDPpolicy_a_\" * string(\u03b1) * \"_b_\" * string(\u03b2_cost) * \".jld\"\n",
      "save(filename, \"Aopt\", Aopt, \"Vstar\", Vshort, \"\u03b1\", \u03b1, \"\u03b2_cost\", \u03b2_cost);\n",
      "filename"
     ],
     "language": "python",
     "metadata": {},
     "outputs": [
      {
       "metadata": {},
       "output_type": "pyout",
       "prompt_number": 69,
       "text": [
        "\"CTMDPpolicy_a_1.0_b_0.1.jld\""
       ]
      }
     ],
     "prompt_number": 69
    },
    {
     "cell_type": "code",
     "collapsed": false,
     "input": [
      "s = [:RD2,:LD2,:T,:T]#,:LArr];"
     ],
     "language": "python",
     "metadata": {},
     "outputs": [],
     "prompt_number": 67
    },
    {
     "cell_type": "code",
     "collapsed": false,
     "input": [
      "ctmdpPolicy(s)"
     ],
     "language": "python",
     "metadata": {},
     "outputs": [
      {
       "metadata": {},
       "output_type": "pyout",
       "prompt_number": 68,
       "text": [
        "(0,:\u2205)"
       ]
      }
     ],
     "prompt_number": 68
    },
    {
     "cell_type": "code",
     "collapsed": false,
     "input": [
      "P[3][s2x(s[1]),:]"
     ],
     "language": "python",
     "metadata": {},
     "outputs": [
      {
       "metadata": {},
       "output_type": "pyout",
       "prompt_number": 45,
       "text": [
        "1x27 sparse matrix with 1 Float64 entries:\n",
        "\t[1 , 22]  =  1.0"
       ]
      }
     ],
     "prompt_number": 45
    },
    {
     "cell_type": "code",
     "collapsed": false,
     "input": [
      "q1 = Qi(Qlist[1], Qlist[1], g_nVehicles-1, S2LIDX(s))/0.360848\n",
      "q3 = Qi(Qlist[3], Qlist[1], g_nVehicles-1, S2LIDX(s))/0.360848\n",
      "q1, q3"
     ],
     "language": "python",
     "metadata": {},
     "outputs": [
      {
       "metadata": {},
       "output_type": "pyout",
       "prompt_number": 47,
       "text": [
        "(\n",
        "531441x1 sparse matrix with 7 Float64 entries:\n",
        "\t[200476,      1]  =  -2.44424\n",
        "\t[200477,      1]  =  0.722118\n",
        "\t[200503,      1]  =  0.722118\n",
        "\t[201205,      1]  =  0.25\n",
        "\t[208495,      1]  =  0.25\n",
        "\t[220159,      1]  =  0.25\n",
        "\t[416989,      1]  =  0.25,\n",
        "\n",
        "531441x1 sparse matrix with 6 Float64 entries:\n",
        "\t[200476,      1]  =  -2.44424\n",
        "\t[200477,      1]  =  0.722118\n",
        "\t[200503,      1]  =  0.722118\n",
        "\t[201205,      1]  =  0.25\n",
        "\t[208495,      1]  =  0.25\n",
        "\t[416989,      1]  =  0.5)"
       ]
      }
     ],
     "prompt_number": 47
    },
    {
     "cell_type": "code",
     "collapsed": false,
     "input": [
      "[(LIDX2S(lidx),q1[lidx]) for lidx in q1.rowval[q1.colptr[1]:(q1.colptr[2]-1)]]"
     ],
     "language": "python",
     "metadata": {},
     "outputs": [
      {
       "metadata": {},
       "output_type": "pyout",
       "prompt_number": 48,
       "text": [
        "7-element Array{(Array{Symbol,1},Any),1}:\n",
        " ([:RD2,:LD2,:T,:T],-2.4442369006505698)\n",
        " ([:RD2,:LD2,:T,:R],0.7221184603252847) \n",
        " ([:RD2,:LD2,:R,:T],0.7221184603252847) \n",
        " ([:RD2,:LB1,:T,:T],0.24999999500000009)\n",
        " ([:RD2,:LD3,:T,:T],0.24999999500000009)\n",
        " ([:RB1,:LD2,:T,:T],0.24999999500000009)\n",
        " ([:RD3,:LD2,:T,:T],0.24999999500000009)"
       ]
      }
     ],
     "prompt_number": 48
    },
    {
     "cell_type": "code",
     "collapsed": false,
     "input": [
      "[(LIDX2S(lidx),q3[lidx]) for lidx in q3.rowval[q3.colptr[1]:(q3.colptr[2]-1)]]"
     ],
     "language": "python",
     "metadata": {},
     "outputs": [
      {
       "metadata": {},
       "output_type": "pyout",
       "prompt_number": 49,
       "text": [
        "6-element Array{(Array{Symbol,1},Any),1}:\n",
        " ([:RD2,:LD2,:T,:T],-2.4442369006505698)\n",
        " ([:RD2,:LD2,:T,:R],0.7221184603252847) \n",
        " ([:RD2,:LD2,:R,:T],0.7221184603252847) \n",
        " ([:RD2,:LB1,:T,:T],0.24999999500000009)\n",
        " ([:RD2,:LD3,:T,:T],0.24999999500000009)\n",
        " ([:RD3,:LD2,:T,:T],0.49999999000000017)"
       ]
      }
     ],
     "prompt_number": 49
    },
    {
     "cell_type": "code",
     "collapsed": false,
     "input": [
      "s = [:RD2,:LD2]\n",
      "for ac in legalActions(s)\n",
      "    a = compAct2extAct(ac,s)\n",
      "    X =  sort(S2X(s))\n",
      "    @printf(\"a = %s (%s), Q(V,a)=%.2f \\n\",a, ac, QVeval(X,ac, Qlist,Vshort,1e6))\n",
      "    for sp in getNextPerms(s)\n",
      "        tp = Transition(s, a, sp)\n",
      "        for spp in getNextPerms(sp)\n",
      "            @printf(\"%s->%s->%s, p = %.2f, R = %.2f, V=%.2f\\n\",\n",
      "            s, sp, spp,\n",
      "            tp * Transition(sp, g_noaction, spp), Reward(spp, g_nullAct,0.1),\n",
      "            Vshort[S2CIDX(spp)]\n",
      "            )\n",
      "        end\n",
      "    end\n",
      "end"
     ],
     "language": "python",
     "metadata": {},
     "outputs": [
      {
       "ename": "LoadError",
       "evalue": "key not found: [6,11]\nwhile loading In[21], in expression starting on line 2",
       "output_type": "pyerr",
       "traceback": [
        "key not found: [6,11]\nwhile loading In[21], in expression starting on line 2",
        "",
        " in X2CIDX at /home/zouhair/Dropbox/Research/autoATC/CTMDP.jl:75",
        " in QVeval at /home/zouhair/Dropbox/Research/autoATC/CTMDP.jl:232",
        " in anonymous at no file:5"
       ]
      }
     ],
     "prompt_number": 21
    },
    {
     "cell_type": "code",
     "collapsed": false,
     "input": [
      "legalActions(s)"
     ],
     "language": "python",
     "metadata": {},
     "outputs": [
      {
       "metadata": {},
       "output_type": "pyout",
       "prompt_number": 22,
       "text": [
        "5x1 Array{Array{Int64,1},2}:\n",
        " [0,0]\n",
        " [1,1]\n",
        " [1,2]\n",
        " [2,1]\n",
        " [2,2]"
       ]
      }
     ],
     "prompt_number": 22
    },
    {
     "cell_type": "code",
     "collapsed": false,
     "input": [
      "#popo = [CIDX2S(cidx) => policy_S2a(CIDX2S(cidx),Aopt) for cidx in find(x-> x != g_noaction, Aopt)]"
     ],
     "language": "python",
     "metadata": {},
     "outputs": [],
     "prompt_number": 24
    },
    {
     "cell_type": "code",
     "collapsed": false,
     "input": [
      "#using ProfileView\n",
      "#@profile Aopt = gaussSeidel!(Qlist, Vshort,1.2,1)# at /home/zouhair/Dropbox/Research/autoATC/CTMDP.jl:268\n",
      "#ProfileView.view()"
     ],
     "language": "python",
     "metadata": {},
     "outputs": [],
     "prompt_number": 25
    },
    {
     "cell_type": "code",
     "collapsed": false,
     "input": [
      "# for cidx in 1:g_nScomp\n",
      "#     S = CIDX2S(cidx) \n",
      "#     a = ctmdpPolicy(S)\n",
      "#     if a != g_noaction\n",
      "#         @printf(\"%s -> %s\\n\",S, a) \n",
      "#     end\n",
      "# end"
     ],
     "language": "python",
     "metadata": {},
     "outputs": [],
     "prompt_number": 26
    },
    {
     "cell_type": "code",
     "collapsed": false,
     "input": [],
     "language": "python",
     "metadata": {},
     "outputs": [],
     "prompt_number": 27
    }
   ],
   "metadata": {}
  }
 ]
}